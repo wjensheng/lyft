{
  "nbformat": 4,
  "nbformat_minor": 0,
  "metadata": {
    "colab": {
      "name": "lyft_nb.ipynb",
      "version": "0.3.2",
      "provenance": [],
      "collapsed_sections": []
    },
    "kernelspec": {
      "name": "python3",
      "display_name": "Python 3"
    }
  },
  "cells": [
    {
      "cell_type": "code",
      "metadata": {
        "id": "bqwpUZL8s7TH",
        "colab_type": "code",
        "outputId": "f0f33ebd-396a-45b8-a65d-bf51fec208d4",
        "colab": {
          "base_uri": "https://localhost:8080/",
          "height": 55
        }
      },
      "source": [
        "# Load the Drive helper and mount\n",
        "from google.colab import drive\n",
        "\n",
        "# This will prompt for authorization.\n",
        "drive.mount('/content/drive')"
      ],
      "execution_count": 61,
      "outputs": [
        {
          "output_type": "stream",
          "text": [
            "Drive already mounted at /content/drive; to attempt to forcibly remount, call drive.mount(\"/content/drive\", force_remount=True).\n"
          ],
          "name": "stdout"
        }
      ]
    },
    {
      "cell_type": "code",
      "metadata": {
        "id": "d6MuCbuTYv-r",
        "colab_type": "code",
        "colab": {
          "base_uri": "https://localhost:8080/",
          "height": 227
        },
        "outputId": "d7c291a1-c917-4392-a56f-89b680ac2e61"
      },
      "source": [
        "!pip install plotly_express"
      ],
      "execution_count": 62,
      "outputs": [
        {
          "output_type": "stream",
          "text": [
            "Requirement already satisfied: plotly_express in /usr/local/lib/python3.6/dist-packages (0.4.1)\n",
            "Requirement already satisfied: pandas>=0.20.0 in /usr/local/lib/python3.6/dist-packages (from plotly_express) (0.24.2)\n",
            "Requirement already satisfied: plotly>=4.1.0 in /usr/local/lib/python3.6/dist-packages (from plotly_express) (4.1.1)\n",
            "Requirement already satisfied: statsmodels>=0.9.0 in /usr/local/lib/python3.6/dist-packages (from plotly_express) (0.10.1)\n",
            "Requirement already satisfied: numpy>=1.11 in /usr/local/lib/python3.6/dist-packages (from plotly_express) (1.16.5)\n",
            "Requirement already satisfied: scipy>=0.18 in /usr/local/lib/python3.6/dist-packages (from plotly_express) (1.3.1)\n",
            "Requirement already satisfied: patsy>=0.5 in /usr/local/lib/python3.6/dist-packages (from plotly_express) (0.5.1)\n",
            "Requirement already satisfied: pytz>=2011k in /usr/local/lib/python3.6/dist-packages (from pandas>=0.20.0->plotly_express) (2018.9)\n",
            "Requirement already satisfied: python-dateutil>=2.5.0 in /usr/local/lib/python3.6/dist-packages (from pandas>=0.20.0->plotly_express) (2.5.3)\n",
            "Requirement already satisfied: retrying>=1.3.3 in /usr/local/lib/python3.6/dist-packages (from plotly>=4.1.0->plotly_express) (1.3.3)\n",
            "Requirement already satisfied: six in /usr/local/lib/python3.6/dist-packages (from plotly>=4.1.0->plotly_express) (1.12.0)\n"
          ],
          "name": "stdout"
        }
      ]
    },
    {
      "cell_type": "markdown",
      "metadata": {
        "id": "MWBk1DIQHUS5",
        "colab_type": "text"
      },
      "source": [
        "## Goal\n",
        "The goal of this notebook is essentially to recommend a driver's lifetime value (LTV). "
      ]
    },
    {
      "cell_type": "code",
      "metadata": {
        "id": "Sc0b20Quwzh-",
        "colab_type": "code",
        "colab": {}
      },
      "source": [
        "import os\n",
        "\n",
        "# change to path\n",
        "PATH='/content/drive/My Drive/Colab Notebooks/lyft'\n",
        "os.chdir(PATH)\n",
        "\n",
        "DATA_DIR = os.path.join(PATH, 'data')"
      ],
      "execution_count": 0,
      "outputs": []
    },
    {
      "cell_type": "code",
      "metadata": {
        "id": "7MniS3nJ06ZV",
        "colab_type": "code",
        "colab": {}
      },
      "source": [
        "import pandas as pd\n",
        "import numpy as np\n",
        "\n",
        "import matplotlib.pyplot as plt\n",
        "import seaborn as sns\n",
        "\n",
        "import plotly.graph_objects as go\n",
        "import plotly_express as px\n",
        "\n",
        "import umap\n",
        "\n",
        "from datetime import datetime\n",
        "\n",
        "import warnings\n",
        "warnings.simplefilter(action='ignore')"
      ],
      "execution_count": 0,
      "outputs": []
    },
    {
      "cell_type": "markdown",
      "metadata": {
        "id": "lrO7dc5-1y_k",
        "colab_type": "text"
      },
      "source": [
        "## Read in"
      ]
    },
    {
      "cell_type": "code",
      "metadata": {
        "id": "8qhewH_DxNYh",
        "colab_type": "code",
        "colab": {}
      },
      "source": [
        "ride_timestamps = pd.read_csv(os.path.join(DATA_DIR, 'ride_timestamps.csv'))\n",
        "ride_ids = pd.read_csv(os.path.join(DATA_DIR, 'ride_ids.csv'))\n",
        "driver_ids = pd.read_csv(os.path.join(DATA_DIR, 'driver_ids.csv'))"
      ],
      "execution_count": 0,
      "outputs": []
    },
    {
      "cell_type": "code",
      "metadata": {
        "id": "TiQ_yh3Y05ex",
        "colab_type": "code",
        "outputId": "615c5e72-c07f-4b75-f7b8-d5f0b977fc6e",
        "colab": {
          "base_uri": "https://localhost:8080/",
          "height": 198
        }
      },
      "source": [
        "ride_timestamps.head()"
      ],
      "execution_count": 66,
      "outputs": [
        {
          "output_type": "execute_result",
          "data": {
            "text/html": [
              "<div>\n",
              "<style scoped>\n",
              "    .dataframe tbody tr th:only-of-type {\n",
              "        vertical-align: middle;\n",
              "    }\n",
              "\n",
              "    .dataframe tbody tr th {\n",
              "        vertical-align: top;\n",
              "    }\n",
              "\n",
              "    .dataframe thead th {\n",
              "        text-align: right;\n",
              "    }\n",
              "</style>\n",
              "<table border=\"1\" class=\"dataframe\">\n",
              "  <thead>\n",
              "    <tr style=\"text-align: right;\">\n",
              "      <th></th>\n",
              "      <th>ride_id</th>\n",
              "      <th>event</th>\n",
              "      <th>timestamp</th>\n",
              "    </tr>\n",
              "  </thead>\n",
              "  <tbody>\n",
              "    <tr>\n",
              "      <th>0</th>\n",
              "      <td>00003037a262d9ee40e61b5c0718f7f0</td>\n",
              "      <td>requested_at</td>\n",
              "      <td>2016-06-13 09:39:19</td>\n",
              "    </tr>\n",
              "    <tr>\n",
              "      <th>1</th>\n",
              "      <td>00003037a262d9ee40e61b5c0718f7f0</td>\n",
              "      <td>accepted_at</td>\n",
              "      <td>2016-06-13 09:39:51</td>\n",
              "    </tr>\n",
              "    <tr>\n",
              "      <th>2</th>\n",
              "      <td>00003037a262d9ee40e61b5c0718f7f0</td>\n",
              "      <td>arrived_at</td>\n",
              "      <td>2016-06-13 09:44:31</td>\n",
              "    </tr>\n",
              "    <tr>\n",
              "      <th>3</th>\n",
              "      <td>00003037a262d9ee40e61b5c0718f7f0</td>\n",
              "      <td>picked_up_at</td>\n",
              "      <td>2016-06-13 09:44:33</td>\n",
              "    </tr>\n",
              "    <tr>\n",
              "      <th>4</th>\n",
              "      <td>00003037a262d9ee40e61b5c0718f7f0</td>\n",
              "      <td>dropped_off_at</td>\n",
              "      <td>2016-06-13 10:03:05</td>\n",
              "    </tr>\n",
              "  </tbody>\n",
              "</table>\n",
              "</div>"
            ],
            "text/plain": [
              "                            ride_id           event            timestamp\n",
              "0  00003037a262d9ee40e61b5c0718f7f0    requested_at  2016-06-13 09:39:19\n",
              "1  00003037a262d9ee40e61b5c0718f7f0     accepted_at  2016-06-13 09:39:51\n",
              "2  00003037a262d9ee40e61b5c0718f7f0      arrived_at  2016-06-13 09:44:31\n",
              "3  00003037a262d9ee40e61b5c0718f7f0    picked_up_at  2016-06-13 09:44:33\n",
              "4  00003037a262d9ee40e61b5c0718f7f0  dropped_off_at  2016-06-13 10:03:05"
            ]
          },
          "metadata": {
            "tags": []
          },
          "execution_count": 66
        }
      ]
    },
    {
      "cell_type": "code",
      "metadata": {
        "id": "jXyDlDMo07EH",
        "colab_type": "code",
        "outputId": "1c9dbe4c-4251-4bed-f5f1-f4bac74a99a4",
        "colab": {
          "base_uri": "https://localhost:8080/",
          "height": 198
        }
      },
      "source": [
        "ride_ids.head()"
      ],
      "execution_count": 67,
      "outputs": [
        {
          "output_type": "execute_result",
          "data": {
            "text/html": [
              "<div>\n",
              "<style scoped>\n",
              "    .dataframe tbody tr th:only-of-type {\n",
              "        vertical-align: middle;\n",
              "    }\n",
              "\n",
              "    .dataframe tbody tr th {\n",
              "        vertical-align: top;\n",
              "    }\n",
              "\n",
              "    .dataframe thead th {\n",
              "        text-align: right;\n",
              "    }\n",
              "</style>\n",
              "<table border=\"1\" class=\"dataframe\">\n",
              "  <thead>\n",
              "    <tr style=\"text-align: right;\">\n",
              "      <th></th>\n",
              "      <th>driver_id</th>\n",
              "      <th>ride_id</th>\n",
              "      <th>ride_distance</th>\n",
              "      <th>ride_duration</th>\n",
              "      <th>ride_prime_time</th>\n",
              "    </tr>\n",
              "  </thead>\n",
              "  <tbody>\n",
              "    <tr>\n",
              "      <th>0</th>\n",
              "      <td>002be0ffdc997bd5c50703158b7c2491</td>\n",
              "      <td>006d61cf7446e682f7bc50b0f8a5bea5</td>\n",
              "      <td>1811</td>\n",
              "      <td>327</td>\n",
              "      <td>50</td>\n",
              "    </tr>\n",
              "    <tr>\n",
              "      <th>1</th>\n",
              "      <td>002be0ffdc997bd5c50703158b7c2491</td>\n",
              "      <td>01b522c5c3a756fbdb12e95e87507eda</td>\n",
              "      <td>3362</td>\n",
              "      <td>809</td>\n",
              "      <td>0</td>\n",
              "    </tr>\n",
              "    <tr>\n",
              "      <th>2</th>\n",
              "      <td>002be0ffdc997bd5c50703158b7c2491</td>\n",
              "      <td>029227c4c2971ce69ff2274dc798ef43</td>\n",
              "      <td>3282</td>\n",
              "      <td>572</td>\n",
              "      <td>0</td>\n",
              "    </tr>\n",
              "    <tr>\n",
              "      <th>3</th>\n",
              "      <td>002be0ffdc997bd5c50703158b7c2491</td>\n",
              "      <td>034e861343a63ac3c18a9ceb1ce0ac69</td>\n",
              "      <td>65283</td>\n",
              "      <td>3338</td>\n",
              "      <td>25</td>\n",
              "    </tr>\n",
              "    <tr>\n",
              "      <th>4</th>\n",
              "      <td>002be0ffdc997bd5c50703158b7c2491</td>\n",
              "      <td>034f2e614a2f9fc7f1c2f77647d1b981</td>\n",
              "      <td>4115</td>\n",
              "      <td>823</td>\n",
              "      <td>100</td>\n",
              "    </tr>\n",
              "  </tbody>\n",
              "</table>\n",
              "</div>"
            ],
            "text/plain": [
              "                          driver_id  ... ride_prime_time\n",
              "0  002be0ffdc997bd5c50703158b7c2491  ...              50\n",
              "1  002be0ffdc997bd5c50703158b7c2491  ...               0\n",
              "2  002be0ffdc997bd5c50703158b7c2491  ...               0\n",
              "3  002be0ffdc997bd5c50703158b7c2491  ...              25\n",
              "4  002be0ffdc997bd5c50703158b7c2491  ...             100\n",
              "\n",
              "[5 rows x 5 columns]"
            ]
          },
          "metadata": {
            "tags": []
          },
          "execution_count": 67
        }
      ]
    },
    {
      "cell_type": "code",
      "metadata": {
        "id": "6lHN-2Oh1wp_",
        "colab_type": "code",
        "outputId": "2e9619a7-44b1-4baa-c216-a67b2d925d7d",
        "colab": {
          "base_uri": "https://localhost:8080/",
          "height": 198
        }
      },
      "source": [
        "driver_ids.head()"
      ],
      "execution_count": 68,
      "outputs": [
        {
          "output_type": "execute_result",
          "data": {
            "text/html": [
              "<div>\n",
              "<style scoped>\n",
              "    .dataframe tbody tr th:only-of-type {\n",
              "        vertical-align: middle;\n",
              "    }\n",
              "\n",
              "    .dataframe tbody tr th {\n",
              "        vertical-align: top;\n",
              "    }\n",
              "\n",
              "    .dataframe thead th {\n",
              "        text-align: right;\n",
              "    }\n",
              "</style>\n",
              "<table border=\"1\" class=\"dataframe\">\n",
              "  <thead>\n",
              "    <tr style=\"text-align: right;\">\n",
              "      <th></th>\n",
              "      <th>driver_id</th>\n",
              "      <th>driver_onboard_date</th>\n",
              "    </tr>\n",
              "  </thead>\n",
              "  <tbody>\n",
              "    <tr>\n",
              "      <th>0</th>\n",
              "      <td>002be0ffdc997bd5c50703158b7c2491</td>\n",
              "      <td>2016-03-29 00:00:00</td>\n",
              "    </tr>\n",
              "    <tr>\n",
              "      <th>1</th>\n",
              "      <td>007f0389f9c7b03ef97098422f902e62</td>\n",
              "      <td>2016-03-29 00:00:00</td>\n",
              "    </tr>\n",
              "    <tr>\n",
              "      <th>2</th>\n",
              "      <td>011e5c5dfc5c2c92501b8b24d47509bc</td>\n",
              "      <td>2016-04-05 00:00:00</td>\n",
              "    </tr>\n",
              "    <tr>\n",
              "      <th>3</th>\n",
              "      <td>0152a2f305e71d26cc964f8d4411add9</td>\n",
              "      <td>2016-04-23 00:00:00</td>\n",
              "    </tr>\n",
              "    <tr>\n",
              "      <th>4</th>\n",
              "      <td>01674381af7edd264113d4e6ed55ecda</td>\n",
              "      <td>2016-04-29 00:00:00</td>\n",
              "    </tr>\n",
              "  </tbody>\n",
              "</table>\n",
              "</div>"
            ],
            "text/plain": [
              "                          driver_id  driver_onboard_date\n",
              "0  002be0ffdc997bd5c50703158b7c2491  2016-03-29 00:00:00\n",
              "1  007f0389f9c7b03ef97098422f902e62  2016-03-29 00:00:00\n",
              "2  011e5c5dfc5c2c92501b8b24d47509bc  2016-04-05 00:00:00\n",
              "3  0152a2f305e71d26cc964f8d4411add9  2016-04-23 00:00:00\n",
              "4  01674381af7edd264113d4e6ed55ecda  2016-04-29 00:00:00"
            ]
          },
          "metadata": {
            "tags": []
          },
          "execution_count": 68
        }
      ]
    },
    {
      "cell_type": "markdown",
      "metadata": {
        "id": "xb0MLQFf2iOs",
        "colab_type": "text"
      },
      "source": [
        "## EDA"
      ]
    },
    {
      "cell_type": "markdown",
      "metadata": {
        "id": "2jTAlTw521ad",
        "colab_type": "text"
      },
      "source": [
        "### `drivers_ids`"
      ]
    },
    {
      "cell_type": "code",
      "metadata": {
        "id": "4oFPAodY2eB2",
        "colab_type": "code",
        "outputId": "b95d1d0a-6358-4773-d966-4ec42cb52036",
        "colab": {
          "base_uri": "https://localhost:8080/",
          "height": 35
        }
      },
      "source": [
        "driver_ids['driver_id'].nunique() # len(driver_ids)"
      ],
      "execution_count": 69,
      "outputs": [
        {
          "output_type": "execute_result",
          "data": {
            "text/plain": [
              "937"
            ]
          },
          "metadata": {
            "tags": []
          },
          "execution_count": 69
        }
      ]
    },
    {
      "cell_type": "code",
      "metadata": {
        "id": "Xo8o1Wz08x9X",
        "colab_type": "code",
        "outputId": "e62c0c20-162c-478a-e0bb-8759d1d284ca",
        "colab": {
          "base_uri": "https://localhost:8080/",
          "height": 35
        }
      },
      "source": [
        "driver_ids['driver_onboard_date'].min(), driver_ids['driver_onboard_date'].max()"
      ],
      "execution_count": 70,
      "outputs": [
        {
          "output_type": "execute_result",
          "data": {
            "text/plain": [
              "('2016-03-28 00:00:00', '2016-05-15 00:00:00')"
            ]
          },
          "metadata": {
            "tags": []
          },
          "execution_count": 70
        }
      ]
    },
    {
      "cell_type": "markdown",
      "metadata": {
        "id": "ZqQ7iBVy8tXJ",
        "colab_type": "text"
      },
      "source": [
        "The file `driver_ids.csv` consists of drivers who signed up as a driver with Lyft between 2016/03/28 to 2016/05/15."
      ]
    },
    {
      "cell_type": "markdown",
      "metadata": {
        "id": "0JzldygP-ACO",
        "colab_type": "text"
      },
      "source": [
        "### `ride_timestamps`"
      ]
    },
    {
      "cell_type": "markdown",
      "metadata": {
        "id": "H72JF2EC-kv0",
        "colab_type": "text"
      },
      "source": [
        "Check whether do the rides start after all the drivers have registered."
      ]
    },
    {
      "cell_type": "code",
      "metadata": {
        "id": "aig0wTPf-MEf",
        "colab_type": "code",
        "colab": {}
      },
      "source": [
        "# convert timestamp to datetime object\n",
        "ride_timestamps['timestamp'] = pd.to_datetime(ride_timestamps['timestamp'])"
      ],
      "execution_count": 0,
      "outputs": []
    },
    {
      "cell_type": "code",
      "metadata": {
        "id": "FaIHL9lMB5ya",
        "colab_type": "code",
        "outputId": "2e364cbd-6075-44da-af90-40f4aa444cf8",
        "colab": {
          "base_uri": "https://localhost:8080/",
          "height": 35
        }
      },
      "source": [
        "ride_timestamps['timestamp'].min(), ride_timestamps['timestamp'].max()"
      ],
      "execution_count": 72,
      "outputs": [
        {
          "output_type": "execute_result",
          "data": {
            "text/plain": [
              "(Timestamp('2016-03-28 05:48:18'), Timestamp('2016-06-27 00:50:50'))"
            ]
          },
          "metadata": {
            "tags": []
          },
          "execution_count": 72
        }
      ]
    },
    {
      "cell_type": "markdown",
      "metadata": {
        "id": "ZXcp8u_HDdQc",
        "colab_type": "text"
      },
      "source": [
        "The dataset for rides started on 2016/03/28 and ended on 2016/06/27. We proceed to perform feature engineering on the `timestamp` of each ride."
      ]
    },
    {
      "cell_type": "code",
      "metadata": {
        "id": "KLDnMVrqKdzI",
        "colab_type": "code",
        "colab": {}
      },
      "source": [
        "# Feature engineer time features\n",
        "def add_datepart(df, fldname, drop=False, time=True):\n",
        "    \"\"\"\n",
        "    Taken from fast.ai\n",
        "    Helper function that adds columns relevant to a date.\n",
        "    \"\"\"\n",
        "    import re \n",
        "    \n",
        "    fld = df[fldname]\n",
        "    fld_dtype = fld.dtype\n",
        "    if isinstance(fld_dtype, pd.core.dtypes.dtypes.DatetimeTZDtype):\n",
        "        fld_dtype = np.datetime64\n",
        "\n",
        "    if not np.issubdtype(fld_dtype, np.datetime64):\n",
        "        df[fldname] = fld = pd.to_datetime(fld, infer_datetime_format=True)\n",
        "    targ_pre = re.sub('[Dd]ate$', '', fldname)\n",
        "    attr = ['Month', 'Week', 'Day', 'Dayofweek', 'Dayofyear']\n",
        "    if time: attr = attr + ['Hour', 'Minute']\n",
        "    for n in attr: df[targ_pre + n] = getattr(fld.dt, n.lower())\n",
        "    df[targ_pre + 'Elapsed'] = fld.astype(np.int64) // 10 ** 9\n",
        "    if drop: df.drop(fldname, axis=1, inplace=True)"
      ],
      "execution_count": 0,
      "outputs": []
    },
    {
      "cell_type": "code",
      "metadata": {
        "id": "iVYFaGqaKhAx",
        "colab_type": "code",
        "outputId": "9cbdb607-b3b0-4cda-c52e-f7c7212cafd0",
        "colab": {
          "base_uri": "https://localhost:8080/",
          "height": 305
        }
      },
      "source": [
        "add_datepart(ride_timestamps, 'timestamp')\n",
        "\n",
        "ride_timestamps.head()"
      ],
      "execution_count": 74,
      "outputs": [
        {
          "output_type": "execute_result",
          "data": {
            "text/html": [
              "<div>\n",
              "<style scoped>\n",
              "    .dataframe tbody tr th:only-of-type {\n",
              "        vertical-align: middle;\n",
              "    }\n",
              "\n",
              "    .dataframe tbody tr th {\n",
              "        vertical-align: top;\n",
              "    }\n",
              "\n",
              "    .dataframe thead th {\n",
              "        text-align: right;\n",
              "    }\n",
              "</style>\n",
              "<table border=\"1\" class=\"dataframe\">\n",
              "  <thead>\n",
              "    <tr style=\"text-align: right;\">\n",
              "      <th></th>\n",
              "      <th>ride_id</th>\n",
              "      <th>event</th>\n",
              "      <th>timestamp</th>\n",
              "      <th>timestampMonth</th>\n",
              "      <th>timestampWeek</th>\n",
              "      <th>timestampDay</th>\n",
              "      <th>timestampDayofweek</th>\n",
              "      <th>timestampDayofyear</th>\n",
              "      <th>timestampHour</th>\n",
              "      <th>timestampMinute</th>\n",
              "      <th>timestampElapsed</th>\n",
              "    </tr>\n",
              "  </thead>\n",
              "  <tbody>\n",
              "    <tr>\n",
              "      <th>0</th>\n",
              "      <td>00003037a262d9ee40e61b5c0718f7f0</td>\n",
              "      <td>requested_at</td>\n",
              "      <td>2016-06-13 09:39:19</td>\n",
              "      <td>6.0</td>\n",
              "      <td>24.0</td>\n",
              "      <td>13.0</td>\n",
              "      <td>0.0</td>\n",
              "      <td>165.0</td>\n",
              "      <td>9.0</td>\n",
              "      <td>39.0</td>\n",
              "      <td>1465810759</td>\n",
              "    </tr>\n",
              "    <tr>\n",
              "      <th>1</th>\n",
              "      <td>00003037a262d9ee40e61b5c0718f7f0</td>\n",
              "      <td>accepted_at</td>\n",
              "      <td>2016-06-13 09:39:51</td>\n",
              "      <td>6.0</td>\n",
              "      <td>24.0</td>\n",
              "      <td>13.0</td>\n",
              "      <td>0.0</td>\n",
              "      <td>165.0</td>\n",
              "      <td>9.0</td>\n",
              "      <td>39.0</td>\n",
              "      <td>1465810791</td>\n",
              "    </tr>\n",
              "    <tr>\n",
              "      <th>2</th>\n",
              "      <td>00003037a262d9ee40e61b5c0718f7f0</td>\n",
              "      <td>arrived_at</td>\n",
              "      <td>2016-06-13 09:44:31</td>\n",
              "      <td>6.0</td>\n",
              "      <td>24.0</td>\n",
              "      <td>13.0</td>\n",
              "      <td>0.0</td>\n",
              "      <td>165.0</td>\n",
              "      <td>9.0</td>\n",
              "      <td>44.0</td>\n",
              "      <td>1465811071</td>\n",
              "    </tr>\n",
              "    <tr>\n",
              "      <th>3</th>\n",
              "      <td>00003037a262d9ee40e61b5c0718f7f0</td>\n",
              "      <td>picked_up_at</td>\n",
              "      <td>2016-06-13 09:44:33</td>\n",
              "      <td>6.0</td>\n",
              "      <td>24.0</td>\n",
              "      <td>13.0</td>\n",
              "      <td>0.0</td>\n",
              "      <td>165.0</td>\n",
              "      <td>9.0</td>\n",
              "      <td>44.0</td>\n",
              "      <td>1465811073</td>\n",
              "    </tr>\n",
              "    <tr>\n",
              "      <th>4</th>\n",
              "      <td>00003037a262d9ee40e61b5c0718f7f0</td>\n",
              "      <td>dropped_off_at</td>\n",
              "      <td>2016-06-13 10:03:05</td>\n",
              "      <td>6.0</td>\n",
              "      <td>24.0</td>\n",
              "      <td>13.0</td>\n",
              "      <td>0.0</td>\n",
              "      <td>165.0</td>\n",
              "      <td>10.0</td>\n",
              "      <td>3.0</td>\n",
              "      <td>1465812185</td>\n",
              "    </tr>\n",
              "  </tbody>\n",
              "</table>\n",
              "</div>"
            ],
            "text/plain": [
              "                            ride_id  ... timestampElapsed\n",
              "0  00003037a262d9ee40e61b5c0718f7f0  ...       1465810759\n",
              "1  00003037a262d9ee40e61b5c0718f7f0  ...       1465810791\n",
              "2  00003037a262d9ee40e61b5c0718f7f0  ...       1465811071\n",
              "3  00003037a262d9ee40e61b5c0718f7f0  ...       1465811073\n",
              "4  00003037a262d9ee40e61b5c0718f7f0  ...       1465812185\n",
              "\n",
              "[5 rows x 11 columns]"
            ]
          },
          "metadata": {
            "tags": []
          },
          "execution_count": 74
        }
      ]
    },
    {
      "cell_type": "markdown",
      "metadata": {
        "id": "xcDOgl3BrCYm",
        "colab_type": "text"
      },
      "source": [
        "One of the features we deem important later to perform segmenting on drivers is how long does a driver take, on average, to accept a ride. To do so, we have to calculate the time lag between a ride was requested `event == 'requested_at'` to the time the driver accepted the ride `event == 'accepted_at'`.\n",
        "\n",
        "We hypothesize that keen drivers who are more likely to have a short window between those two events. We call this new feature `pickup_window`."
      ]
    },
    {
      "cell_type": "code",
      "metadata": {
        "id": "Qlo4alhCsEFE",
        "colab_type": "code",
        "colab": {}
      },
      "source": [
        "# calculate time lag wrt to `requested_at`\n",
        "def seconds_lag(t):\n",
        "    delta_to_t0 = t - t.iloc[0]\n",
        "    return delta_to_t0"
      ],
      "execution_count": 0,
      "outputs": []
    },
    {
      "cell_type": "code",
      "metadata": {
        "id": "CZIL2Kt7DXqR",
        "colab_type": "code",
        "outputId": "3835d309-28e3-4b41-cba8-76fc40683300",
        "colab": {
          "base_uri": "https://localhost:8080/",
          "height": 52
        }
      },
      "source": [
        "%%time\n",
        "ride_timestamps['pickup_window'] = ride_timestamps.groupby('ride_id')['timestamp'].apply(seconds_lag)\n",
        "\n",
        "ride_timestamps['pickup_window'] = ride_timestamps['pickup_window'].apply(lambda o: o.total_seconds())"
      ],
      "execution_count": 76,
      "outputs": [
        {
          "output_type": "stream",
          "text": [
            "CPU times: user 2min 1s, sys: 2.83 s, total: 2min 4s\n",
            "Wall time: 2min 1s\n"
          ],
          "name": "stdout"
        }
      ]
    },
    {
      "cell_type": "code",
      "metadata": {
        "id": "rC3265liJ1s3",
        "colab_type": "code",
        "outputId": "e0f5fe83-5f4b-4ee5-cc1e-57aeba8f4517",
        "colab": {
          "base_uri": "https://localhost:8080/",
          "height": 305
        }
      },
      "source": [
        "ride_timestamps.head()"
      ],
      "execution_count": 77,
      "outputs": [
        {
          "output_type": "execute_result",
          "data": {
            "text/html": [
              "<div>\n",
              "<style scoped>\n",
              "    .dataframe tbody tr th:only-of-type {\n",
              "        vertical-align: middle;\n",
              "    }\n",
              "\n",
              "    .dataframe tbody tr th {\n",
              "        vertical-align: top;\n",
              "    }\n",
              "\n",
              "    .dataframe thead th {\n",
              "        text-align: right;\n",
              "    }\n",
              "</style>\n",
              "<table border=\"1\" class=\"dataframe\">\n",
              "  <thead>\n",
              "    <tr style=\"text-align: right;\">\n",
              "      <th></th>\n",
              "      <th>ride_id</th>\n",
              "      <th>event</th>\n",
              "      <th>timestamp</th>\n",
              "      <th>timestampMonth</th>\n",
              "      <th>timestampWeek</th>\n",
              "      <th>timestampDay</th>\n",
              "      <th>timestampDayofweek</th>\n",
              "      <th>timestampDayofyear</th>\n",
              "      <th>timestampHour</th>\n",
              "      <th>timestampMinute</th>\n",
              "      <th>timestampElapsed</th>\n",
              "      <th>pickup_window</th>\n",
              "    </tr>\n",
              "  </thead>\n",
              "  <tbody>\n",
              "    <tr>\n",
              "      <th>0</th>\n",
              "      <td>00003037a262d9ee40e61b5c0718f7f0</td>\n",
              "      <td>requested_at</td>\n",
              "      <td>2016-06-13 09:39:19</td>\n",
              "      <td>6.0</td>\n",
              "      <td>24.0</td>\n",
              "      <td>13.0</td>\n",
              "      <td>0.0</td>\n",
              "      <td>165.0</td>\n",
              "      <td>9.0</td>\n",
              "      <td>39.0</td>\n",
              "      <td>1465810759</td>\n",
              "      <td>0.0</td>\n",
              "    </tr>\n",
              "    <tr>\n",
              "      <th>1</th>\n",
              "      <td>00003037a262d9ee40e61b5c0718f7f0</td>\n",
              "      <td>accepted_at</td>\n",
              "      <td>2016-06-13 09:39:51</td>\n",
              "      <td>6.0</td>\n",
              "      <td>24.0</td>\n",
              "      <td>13.0</td>\n",
              "      <td>0.0</td>\n",
              "      <td>165.0</td>\n",
              "      <td>9.0</td>\n",
              "      <td>39.0</td>\n",
              "      <td>1465810791</td>\n",
              "      <td>32.0</td>\n",
              "    </tr>\n",
              "    <tr>\n",
              "      <th>2</th>\n",
              "      <td>00003037a262d9ee40e61b5c0718f7f0</td>\n",
              "      <td>arrived_at</td>\n",
              "      <td>2016-06-13 09:44:31</td>\n",
              "      <td>6.0</td>\n",
              "      <td>24.0</td>\n",
              "      <td>13.0</td>\n",
              "      <td>0.0</td>\n",
              "      <td>165.0</td>\n",
              "      <td>9.0</td>\n",
              "      <td>44.0</td>\n",
              "      <td>1465811071</td>\n",
              "      <td>312.0</td>\n",
              "    </tr>\n",
              "    <tr>\n",
              "      <th>3</th>\n",
              "      <td>00003037a262d9ee40e61b5c0718f7f0</td>\n",
              "      <td>picked_up_at</td>\n",
              "      <td>2016-06-13 09:44:33</td>\n",
              "      <td>6.0</td>\n",
              "      <td>24.0</td>\n",
              "      <td>13.0</td>\n",
              "      <td>0.0</td>\n",
              "      <td>165.0</td>\n",
              "      <td>9.0</td>\n",
              "      <td>44.0</td>\n",
              "      <td>1465811073</td>\n",
              "      <td>314.0</td>\n",
              "    </tr>\n",
              "    <tr>\n",
              "      <th>4</th>\n",
              "      <td>00003037a262d9ee40e61b5c0718f7f0</td>\n",
              "      <td>dropped_off_at</td>\n",
              "      <td>2016-06-13 10:03:05</td>\n",
              "      <td>6.0</td>\n",
              "      <td>24.0</td>\n",
              "      <td>13.0</td>\n",
              "      <td>0.0</td>\n",
              "      <td>165.0</td>\n",
              "      <td>10.0</td>\n",
              "      <td>3.0</td>\n",
              "      <td>1465812185</td>\n",
              "      <td>1426.0</td>\n",
              "    </tr>\n",
              "  </tbody>\n",
              "</table>\n",
              "</div>"
            ],
            "text/plain": [
              "                            ride_id  ... pickup_window\n",
              "0  00003037a262d9ee40e61b5c0718f7f0  ...           0.0\n",
              "1  00003037a262d9ee40e61b5c0718f7f0  ...          32.0\n",
              "2  00003037a262d9ee40e61b5c0718f7f0  ...         312.0\n",
              "3  00003037a262d9ee40e61b5c0718f7f0  ...         314.0\n",
              "4  00003037a262d9ee40e61b5c0718f7f0  ...        1426.0\n",
              "\n",
              "[5 rows x 12 columns]"
            ]
          },
          "metadata": {
            "tags": []
          },
          "execution_count": 77
        }
      ]
    },
    {
      "cell_type": "code",
      "metadata": {
        "id": "J58pHXVorxJE",
        "colab_type": "code",
        "outputId": "c543009a-ac05-421f-9939-11240ab3f5c0",
        "colab": {
          "base_uri": "https://localhost:8080/",
          "height": 198
        }
      },
      "source": [
        "accepted_filter = ride_timestamps[ride_timestamps['event'] == 'accepted_at']\n",
        "\n",
        "driver_accepted_filter = pd.merge(accepted_filter, ride_ids,\n",
        "                                  on='ride_id')\n",
        "\n",
        "window_g = driver_accepted_filter.groupby('driver_id')['pickup_window'].mean()\n",
        "\n",
        "window_g = window_g.reset_index()\n",
        "\n",
        "window_g.head()"
      ],
      "execution_count": 78,
      "outputs": [
        {
          "output_type": "execute_result",
          "data": {
            "text/html": [
              "<div>\n",
              "<style scoped>\n",
              "    .dataframe tbody tr th:only-of-type {\n",
              "        vertical-align: middle;\n",
              "    }\n",
              "\n",
              "    .dataframe tbody tr th {\n",
              "        vertical-align: top;\n",
              "    }\n",
              "\n",
              "    .dataframe thead th {\n",
              "        text-align: right;\n",
              "    }\n",
              "</style>\n",
              "<table border=\"1\" class=\"dataframe\">\n",
              "  <thead>\n",
              "    <tr style=\"text-align: right;\">\n",
              "      <th></th>\n",
              "      <th>driver_id</th>\n",
              "      <th>pickup_window</th>\n",
              "    </tr>\n",
              "  </thead>\n",
              "  <tbody>\n",
              "    <tr>\n",
              "      <th>0</th>\n",
              "      <td>002be0ffdc997bd5c50703158b7c2491</td>\n",
              "      <td>8.407942</td>\n",
              "    </tr>\n",
              "    <tr>\n",
              "      <th>1</th>\n",
              "      <td>007f0389f9c7b03ef97098422f902e62</td>\n",
              "      <td>11.838710</td>\n",
              "    </tr>\n",
              "    <tr>\n",
              "      <th>2</th>\n",
              "      <td>011e5c5dfc5c2c92501b8b24d47509bc</td>\n",
              "      <td>7.294118</td>\n",
              "    </tr>\n",
              "    <tr>\n",
              "      <th>3</th>\n",
              "      <td>0152a2f305e71d26cc964f8d4411add9</td>\n",
              "      <td>14.198953</td>\n",
              "    </tr>\n",
              "    <tr>\n",
              "      <th>4</th>\n",
              "      <td>01674381af7edd264113d4e6ed55ecda</td>\n",
              "      <td>12.528000</td>\n",
              "    </tr>\n",
              "  </tbody>\n",
              "</table>\n",
              "</div>"
            ],
            "text/plain": [
              "                          driver_id  pickup_window\n",
              "0  002be0ffdc997bd5c50703158b7c2491       8.407942\n",
              "1  007f0389f9c7b03ef97098422f902e62      11.838710\n",
              "2  011e5c5dfc5c2c92501b8b24d47509bc       7.294118\n",
              "3  0152a2f305e71d26cc964f8d4411add9      14.198953\n",
              "4  01674381af7edd264113d4e6ed55ecda      12.528000"
            ]
          },
          "metadata": {
            "tags": []
          },
          "execution_count": 78
        }
      ]
    },
    {
      "cell_type": "code",
      "metadata": {
        "id": "AyJjh0sCDMjx",
        "colab_type": "code",
        "outputId": "6ff6ae95-4159-4654-e306-e72fdec49000",
        "colab": {
          "base_uri": "https://localhost:8080/",
          "height": 35
        }
      },
      "source": [
        "len(window_g)"
      ],
      "execution_count": 79,
      "outputs": [
        {
          "output_type": "execute_result",
          "data": {
            "text/plain": [
              "844"
            ]
          },
          "metadata": {
            "tags": []
          },
          "execution_count": 79
        }
      ]
    },
    {
      "cell_type": "code",
      "metadata": {
        "id": "LOoEN3U_ucLX",
        "colab_type": "code",
        "outputId": "d6123944-819c-44c7-c1a1-2c9e060251af",
        "colab": {
          "base_uri": "https://localhost:8080/",
          "height": 35
        }
      },
      "source": [
        "ride_ids['driver_id'].nunique()"
      ],
      "execution_count": 80,
      "outputs": [
        {
          "output_type": "execute_result",
          "data": {
            "text/plain": [
              "937"
            ]
          },
          "metadata": {
            "tags": []
          },
          "execution_count": 80
        }
      ]
    },
    {
      "cell_type": "markdown",
      "metadata": {
        "id": "CkLWOOpKKJ1z",
        "colab_type": "text"
      },
      "source": [
        "There are 93 drivers in `ride_ids` who do not have records in `ride_timestamps`.\n",
        "\n",
        "## `ride_ids`\n",
        "We would like to get an idea of how many rides has a driver completed over the course of the dataset. We call this feature `ride_count`. It will also be a crucial variable to calculate LTV later."
      ]
    },
    {
      "cell_type": "code",
      "metadata": {
        "id": "-DU3_v9UJxQo",
        "colab_type": "code",
        "outputId": "dfaa9a14-5af9-40fb-deb8-3403bae3c801",
        "colab": {
          "base_uri": "https://localhost:8080/",
          "height": 198
        }
      },
      "source": [
        "ride_id_g = ride_ids.groupby('driver_id')['ride_id'].count()\n",
        "\n",
        "ride_id_g = ride_id_g.reset_index()\n",
        "\n",
        "ride_id_g.rename(columns={'ride_id': 'ride_count'}, inplace=True)\n",
        "\n",
        "ride_id_g.sort_values(by='ride_count', ascending=False).head()"
      ],
      "execution_count": 81,
      "outputs": [
        {
          "output_type": "execute_result",
          "data": {
            "text/html": [
              "<div>\n",
              "<style scoped>\n",
              "    .dataframe tbody tr th:only-of-type {\n",
              "        vertical-align: middle;\n",
              "    }\n",
              "\n",
              "    .dataframe tbody tr th {\n",
              "        vertical-align: top;\n",
              "    }\n",
              "\n",
              "    .dataframe thead th {\n",
              "        text-align: right;\n",
              "    }\n",
              "</style>\n",
              "<table border=\"1\" class=\"dataframe\">\n",
              "  <thead>\n",
              "    <tr style=\"text-align: right;\">\n",
              "      <th></th>\n",
              "      <th>driver_id</th>\n",
              "      <th>ride_count</th>\n",
              "    </tr>\n",
              "  </thead>\n",
              "  <tbody>\n",
              "    <tr>\n",
              "      <th>354</th>\n",
              "      <td>5ccc0e6dc9c7475caf785cdce7b8eb7a</td>\n",
              "      <td>919</td>\n",
              "    </tr>\n",
              "    <tr>\n",
              "      <th>308</th>\n",
              "      <td>4eb382d1f7d50fae1294964263d1ce82</td>\n",
              "      <td>831</td>\n",
              "    </tr>\n",
              "    <tr>\n",
              "      <th>509</th>\n",
              "      <td>844e9be5a30d8d9c1f8e9ddb086ff717</td>\n",
              "      <td>821</td>\n",
              "    </tr>\n",
              "    <tr>\n",
              "      <th>401</th>\n",
              "      <td>689bdf87fb2de49f98bf4946cfaa5068</td>\n",
              "      <td>794</td>\n",
              "    </tr>\n",
              "    <tr>\n",
              "      <th>217</th>\n",
              "      <td>3788dc9e91f1548816ce8b5af07ddadc</td>\n",
              "      <td>783</td>\n",
              "    </tr>\n",
              "  </tbody>\n",
              "</table>\n",
              "</div>"
            ],
            "text/plain": [
              "                            driver_id  ride_count\n",
              "354  5ccc0e6dc9c7475caf785cdce7b8eb7a         919\n",
              "308  4eb382d1f7d50fae1294964263d1ce82         831\n",
              "509  844e9be5a30d8d9c1f8e9ddb086ff717         821\n",
              "401  689bdf87fb2de49f98bf4946cfaa5068         794\n",
              "217  3788dc9e91f1548816ce8b5af07ddadc         783"
            ]
          },
          "metadata": {
            "tags": []
          },
          "execution_count": 81
        }
      ]
    },
    {
      "cell_type": "code",
      "metadata": {
        "id": "8Z9mTS9IwQas",
        "colab_type": "code",
        "colab": {
          "base_uri": "https://localhost:8080/",
          "height": 35
        },
        "outputId": "094aa603-bcde-4b25-f0f1-1000e1eba330"
      },
      "source": [
        "driver_ids['driver_id'].nunique(), ride_ids['driver_id'].nunique()"
      ],
      "execution_count": 82,
      "outputs": [
        {
          "output_type": "execute_result",
          "data": {
            "text/plain": [
              "(937, 937)"
            ]
          },
          "metadata": {
            "tags": []
          },
          "execution_count": 82
        }
      ]
    },
    {
      "cell_type": "code",
      "metadata": {
        "id": "KJHPRpeWwVMP",
        "colab_type": "code",
        "colab": {
          "base_uri": "https://localhost:8080/",
          "height": 35
        },
        "outputId": "8d177c0b-812b-4605-df63-4a06daa24df9"
      },
      "source": [
        "len(set(driver_ids['driver_id'].unique().tolist()).intersection(set(ride_ids['driver_id'].unique().tolist())))"
      ],
      "execution_count": 83,
      "outputs": [
        {
          "output_type": "execute_result",
          "data": {
            "text/plain": [
              "854"
            ]
          },
          "metadata": {
            "tags": []
          },
          "execution_count": 83
        }
      ]
    },
    {
      "cell_type": "code",
      "metadata": {
        "id": "LgmZ0Ql1wzHK",
        "colab_type": "code",
        "colab": {
          "base_uri": "https://localhost:8080/",
          "height": 35
        },
        "outputId": "945b93bc-8548-44f1-800e-ffcc1c524e97"
      },
      "source": [
        "len(driver_ids[~driver_ids['driver_id'].isin(ride_ids['driver_id'].unique())])"
      ],
      "execution_count": 84,
      "outputs": [
        {
          "output_type": "execute_result",
          "data": {
            "text/plain": [
              "83"
            ]
          },
          "metadata": {
            "tags": []
          },
          "execution_count": 84
        }
      ]
    },
    {
      "cell_type": "markdown",
      "metadata": {
        "id": "lh4h6KiCwgvg",
        "colab_type": "text"
      },
      "source": [
        "Interestingly, even we have 937 unique `driver_id`s for both `driver_ids` and `ride_ids`, only 854 overlap. That means, 83 drivers that appear in ride_ids do not have any record in `driver_ids`."
      ]
    },
    {
      "cell_type": "code",
      "metadata": {
        "id": "2MN45A72zy89",
        "colab_type": "code",
        "colab": {
          "base_uri": "https://localhost:8080/",
          "height": 35
        },
        "outputId": "04e79eb3-14f2-4008-f71b-730357feb50f"
      },
      "source": [
        "ride_timestamps['ride_id'].nunique(), ride_ids['ride_id'].nunique()"
      ],
      "execution_count": 85,
      "outputs": [
        {
          "output_type": "execute_result",
          "data": {
            "text/plain": [
              "(194081, 193502)"
            ]
          },
          "metadata": {
            "tags": []
          },
          "execution_count": 85
        }
      ]
    },
    {
      "cell_type": "code",
      "metadata": {
        "id": "U1O2xHYrz1uF",
        "colab_type": "code",
        "colab": {
          "base_uri": "https://localhost:8080/",
          "height": 35
        },
        "outputId": "fe516598-1727-4b85-abfd-fe265791b9cb"
      },
      "source": [
        "len(set(ride_timestamps['ride_id'].unique().tolist()).intersection(set(ride_ids['ride_id'].unique().tolist())))"
      ],
      "execution_count": 86,
      "outputs": [
        {
          "output_type": "execute_result",
          "data": {
            "text/plain": [
              "184819"
            ]
          },
          "metadata": {
            "tags": []
          },
          "execution_count": 86
        }
      ]
    },
    {
      "cell_type": "markdown",
      "metadata": {
        "id": "FjBJdgDnz0jp",
        "colab_type": "text"
      },
      "source": [
        "Only 184,819 unique `ride_id`s exist in `ride_timestamps` and `ride_ids`.\n",
        "\n",
        "To calculate the fare, we first convert the `ride_distance` from metres to mile and convert the `ride_duration` from seconds to minutes."
      ]
    },
    {
      "cell_type": "code",
      "metadata": {
        "id": "_TBlYfSjKMPg",
        "colab_type": "code",
        "colab": {}
      },
      "source": [
        "ride_ids['ride_distance'] = ride_ids['ride_distance'] / 1609.34\n",
        "\n",
        "ride_ids['ride_duration'] = ride_ids['ride_duration'] / 60"
      ],
      "execution_count": 0,
      "outputs": []
    },
    {
      "cell_type": "markdown",
      "metadata": {
        "id": "vC5Z7Tp-v2iA",
        "colab_type": "text"
      },
      "source": [
        "To calculate the fare, we employed the assumptions about the Lyft rate card in the prompt. The formula we use is as follows:\n",
        "\n",
        "(2 + 1.15 * total distance traveled + 0.22 * total time traveled) * (1 + (prime time / 100)) + 1.75\n",
        "\n",
        "After calculating the fare, we limited the lower bound of the fare to \\$5 and the upper of the fare to \\$400."
      ]
    },
    {
      "cell_type": "code",
      "metadata": {
        "id": "QOHxvBXULKev",
        "colab_type": "code",
        "outputId": "3dba09f4-4ef9-492e-ac80-c5cdf7a4b64d",
        "colab": {
          "base_uri": "https://localhost:8080/",
          "height": 173
        }
      },
      "source": [
        "ride_ids['fare'] = (2 + \n",
        "                     ride_ids['ride_distance'] * 1.15 + \n",
        "                     ride_ids['ride_duration'] * 0.22) * \\\n",
        "                    ((ride_ids['ride_prime_time'] + 100) / 100) \\\n",
        "                    + 1.75 \n",
        "\n",
        "ride_ids['fare'].describe()\n",
        "\n",
        "def limit_bound(fare):\n",
        "    return min(max(5, fare), 400)\n",
        "\n",
        "ride_ids['fare'] = ride_ids['fare'].apply(limit_bound)\n",
        "\n",
        "ride_ids['fare'].describe()"
      ],
      "execution_count": 88,
      "outputs": [
        {
          "output_type": "execute_result",
          "data": {
            "text/plain": [
              "count    193502.000000\n",
              "mean         13.536544\n",
              "std           9.881417\n",
              "min           5.000000\n",
              "25%           8.036033\n",
              "50%          10.571234\n",
              "75%          15.115603\n",
              "max         400.000000\n",
              "Name: fare, dtype: float64"
            ]
          },
          "metadata": {
            "tags": []
          },
          "execution_count": 88
        }
      ]
    },
    {
      "cell_type": "code",
      "metadata": {
        "id": "7ougAvOzBDLR",
        "colab_type": "code",
        "outputId": "3e708155-3b6e-4738-eac6-6637b6976c43",
        "colab": {
          "base_uri": "https://localhost:8080/",
          "height": 198
        }
      },
      "source": [
        "fare_g = ride_ids.groupby('driver_id')['fare'].sum()\n",
        "\n",
        "fare_g = fare_g.reset_index()\n",
        "\n",
        "fare_g.sort_values(by='fare', ascending=False).head()"
      ],
      "execution_count": 89,
      "outputs": [
        {
          "output_type": "execute_result",
          "data": {
            "text/html": [
              "<div>\n",
              "<style scoped>\n",
              "    .dataframe tbody tr th:only-of-type {\n",
              "        vertical-align: middle;\n",
              "    }\n",
              "\n",
              "    .dataframe tbody tr th {\n",
              "        vertical-align: top;\n",
              "    }\n",
              "\n",
              "    .dataframe thead th {\n",
              "        text-align: right;\n",
              "    }\n",
              "</style>\n",
              "<table border=\"1\" class=\"dataframe\">\n",
              "  <thead>\n",
              "    <tr style=\"text-align: right;\">\n",
              "      <th></th>\n",
              "      <th>driver_id</th>\n",
              "      <th>fare</th>\n",
              "    </tr>\n",
              "  </thead>\n",
              "  <tbody>\n",
              "    <tr>\n",
              "      <th>354</th>\n",
              "      <td>5ccc0e6dc9c7475caf785cdce7b8eb7a</td>\n",
              "      <td>12350.288077</td>\n",
              "    </tr>\n",
              "    <tr>\n",
              "      <th>217</th>\n",
              "      <td>3788dc9e91f1548816ce8b5af07ddadc</td>\n",
              "      <td>12304.887351</td>\n",
              "    </tr>\n",
              "    <tr>\n",
              "      <th>308</th>\n",
              "      <td>4eb382d1f7d50fae1294964263d1ce82</td>\n",
              "      <td>10781.942344</td>\n",
              "    </tr>\n",
              "    <tr>\n",
              "      <th>412</th>\n",
              "      <td>6b65c06851e944351dd285a1eb729499</td>\n",
              "      <td>10708.943770</td>\n",
              "    </tr>\n",
              "    <tr>\n",
              "      <th>509</th>\n",
              "      <td>844e9be5a30d8d9c1f8e9ddb086ff717</td>\n",
              "      <td>10613.901682</td>\n",
              "    </tr>\n",
              "  </tbody>\n",
              "</table>\n",
              "</div>"
            ],
            "text/plain": [
              "                            driver_id          fare\n",
              "354  5ccc0e6dc9c7475caf785cdce7b8eb7a  12350.288077\n",
              "217  3788dc9e91f1548816ce8b5af07ddadc  12304.887351\n",
              "308  4eb382d1f7d50fae1294964263d1ce82  10781.942344\n",
              "412  6b65c06851e944351dd285a1eb729499  10708.943770\n",
              "509  844e9be5a30d8d9c1f8e9ddb086ff717  10613.901682"
            ]
          },
          "metadata": {
            "tags": []
          },
          "execution_count": 89
        }
      ]
    },
    {
      "cell_type": "markdown",
      "metadata": {
        "id": "W_yheZxbvurs",
        "colab_type": "text"
      },
      "source": [
        "We then calculated the sum of the fare for each driver. This will be the total income generated by the driver.\n",
        "\n",
        "The higher a driver's `ride_prime_time`, the more her or she is valuable to Lyft since they help to meet passengers' demand. This could be another important feature for segmenting drivers. Since we are only interested in the mean of the nonzero `ride_prime_time` values and we do not want 0 values to distort the `ride_prime_time` lower, we replace all zeros with `NaN`."
      ]
    },
    {
      "cell_type": "code",
      "metadata": {
        "id": "LMx_o5hyLJ9N",
        "colab_type": "code",
        "outputId": "034a3aad-fa2c-4a3d-d395-46e234952da9",
        "colab": {
          "base_uri": "https://localhost:8080/",
          "height": 198
        }
      },
      "source": [
        "# make the variable NaN to calculate mean\n",
        "ride_ids['ride_prime_time'].replace(0, np.nan, inplace=True)\n",
        "\n",
        "ride_prime_time_g = ride_ids.groupby('driver_id')['ride_prime_time'].mean()\n",
        "\n",
        "ride_prime_time_g = ride_prime_time_g.reset_index()\n",
        "\n",
        "ride_prime_time_g.sort_values(by='ride_prime_time', ascending=False).head()"
      ],
      "execution_count": 90,
      "outputs": [
        {
          "output_type": "execute_result",
          "data": {
            "text/html": [
              "<div>\n",
              "<style scoped>\n",
              "    .dataframe tbody tr th:only-of-type {\n",
              "        vertical-align: middle;\n",
              "    }\n",
              "\n",
              "    .dataframe tbody tr th {\n",
              "        vertical-align: top;\n",
              "    }\n",
              "\n",
              "    .dataframe thead th {\n",
              "        text-align: right;\n",
              "    }\n",
              "</style>\n",
              "<table border=\"1\" class=\"dataframe\">\n",
              "  <thead>\n",
              "    <tr style=\"text-align: right;\">\n",
              "      <th></th>\n",
              "      <th>driver_id</th>\n",
              "      <th>ride_prime_time</th>\n",
              "    </tr>\n",
              "  </thead>\n",
              "  <tbody>\n",
              "    <tr>\n",
              "      <th>807</th>\n",
              "      <td>dae249fc394c9bdf02f7d8bb1ff55733</td>\n",
              "      <td>146.875000</td>\n",
              "    </tr>\n",
              "    <tr>\n",
              "      <th>676</th>\n",
              "      <td>b2d3f2fb171a12cac427107690c10089</td>\n",
              "      <td>105.000000</td>\n",
              "    </tr>\n",
              "    <tr>\n",
              "      <th>420</th>\n",
              "      <td>6cb35e276085548f3f095a85aa63af7b</td>\n",
              "      <td>98.076923</td>\n",
              "    </tr>\n",
              "    <tr>\n",
              "      <th>443</th>\n",
              "      <td>7419cd5c573ff9994c0f8ff5d92b4408</td>\n",
              "      <td>91.071429</td>\n",
              "    </tr>\n",
              "    <tr>\n",
              "      <th>655</th>\n",
              "      <td>acd7dc6118befb6724aa3752d1cdbea1</td>\n",
              "      <td>90.277778</td>\n",
              "    </tr>\n",
              "  </tbody>\n",
              "</table>\n",
              "</div>"
            ],
            "text/plain": [
              "                            driver_id  ride_prime_time\n",
              "807  dae249fc394c9bdf02f7d8bb1ff55733       146.875000\n",
              "676  b2d3f2fb171a12cac427107690c10089       105.000000\n",
              "420  6cb35e276085548f3f095a85aa63af7b        98.076923\n",
              "443  7419cd5c573ff9994c0f8ff5d92b4408        91.071429\n",
              "655  acd7dc6118befb6724aa3752d1cdbea1        90.277778"
            ]
          },
          "metadata": {
            "tags": []
          },
          "execution_count": 90
        }
      ]
    },
    {
      "cell_type": "code",
      "metadata": {
        "id": "zQxmmNc73i-3",
        "colab_type": "code",
        "colab": {}
      },
      "source": [
        "# change back to original value\n",
        "ride_prime_time_g['ride_prime_time'].fillna(0, inplace=True)"
      ],
      "execution_count": 0,
      "outputs": []
    },
    {
      "cell_type": "markdown",
      "metadata": {
        "id": "1Fn1Y_IaHt2Q",
        "colab_type": "text"
      },
      "source": [
        "Merge both `driver_ids` and `driver_timestamps`."
      ]
    },
    {
      "cell_type": "code",
      "metadata": {
        "id": "GwEFjfENEOkf",
        "colab_type": "code",
        "outputId": "05fd4060-4887-4168-d7ca-58b6a23895ed",
        "colab": {
          "base_uri": "https://localhost:8080/",
          "height": 305
        }
      },
      "source": [
        "ids_timestamps = pd.merge(ride_ids, ride_timestamps,\n",
        "                          left_on='ride_id',\n",
        "                          right_on='ride_id',\n",
        "                          how='outer')\n",
        "\n",
        "ids_timestamps = ids_timestamps.sort_values(by=['driver_id', 'timestamp'])\n",
        "\n",
        "ids_timestamps.head()"
      ],
      "execution_count": 92,
      "outputs": [
        {
          "output_type": "execute_result",
          "data": {
            "text/html": [
              "<div>\n",
              "<style scoped>\n",
              "    .dataframe tbody tr th:only-of-type {\n",
              "        vertical-align: middle;\n",
              "    }\n",
              "\n",
              "    .dataframe tbody tr th {\n",
              "        vertical-align: top;\n",
              "    }\n",
              "\n",
              "    .dataframe thead th {\n",
              "        text-align: right;\n",
              "    }\n",
              "</style>\n",
              "<table border=\"1\" class=\"dataframe\">\n",
              "  <thead>\n",
              "    <tr style=\"text-align: right;\">\n",
              "      <th></th>\n",
              "      <th>driver_id</th>\n",
              "      <th>ride_id</th>\n",
              "      <th>ride_distance</th>\n",
              "      <th>ride_duration</th>\n",
              "      <th>ride_prime_time</th>\n",
              "      <th>fare</th>\n",
              "      <th>event</th>\n",
              "      <th>timestamp</th>\n",
              "      <th>timestampMonth</th>\n",
              "      <th>timestampWeek</th>\n",
              "      <th>timestampDay</th>\n",
              "      <th>timestampDayofweek</th>\n",
              "      <th>timestampDayofyear</th>\n",
              "      <th>timestampHour</th>\n",
              "      <th>timestampMinute</th>\n",
              "      <th>timestampElapsed</th>\n",
              "      <th>pickup_window</th>\n",
              "    </tr>\n",
              "  </thead>\n",
              "  <tbody>\n",
              "    <tr>\n",
              "      <th>1235</th>\n",
              "      <td>002be0ffdc997bd5c50703158b7c2491</td>\n",
              "      <td>e228d93dc13a2a9d83661321992cd48e</td>\n",
              "      <td>1.541004</td>\n",
              "      <td>5.766667</td>\n",
              "      <td>NaN</td>\n",
              "      <td>6.790822</td>\n",
              "      <td>requested_at</td>\n",
              "      <td>2016-03-29 18:46:50</td>\n",
              "      <td>3.0</td>\n",
              "      <td>13.0</td>\n",
              "      <td>29.0</td>\n",
              "      <td>1.0</td>\n",
              "      <td>89.0</td>\n",
              "      <td>18.0</td>\n",
              "      <td>46.0</td>\n",
              "      <td>1.459277e+09</td>\n",
              "      <td>0.0</td>\n",
              "    </tr>\n",
              "    <tr>\n",
              "      <th>1236</th>\n",
              "      <td>002be0ffdc997bd5c50703158b7c2491</td>\n",
              "      <td>e228d93dc13a2a9d83661321992cd48e</td>\n",
              "      <td>1.541004</td>\n",
              "      <td>5.766667</td>\n",
              "      <td>NaN</td>\n",
              "      <td>6.790822</td>\n",
              "      <td>accepted_at</td>\n",
              "      <td>2016-03-29 18:47:01</td>\n",
              "      <td>3.0</td>\n",
              "      <td>13.0</td>\n",
              "      <td>29.0</td>\n",
              "      <td>1.0</td>\n",
              "      <td>89.0</td>\n",
              "      <td>18.0</td>\n",
              "      <td>47.0</td>\n",
              "      <td>1.459277e+09</td>\n",
              "      <td>11.0</td>\n",
              "    </tr>\n",
              "    <tr>\n",
              "      <th>1237</th>\n",
              "      <td>002be0ffdc997bd5c50703158b7c2491</td>\n",
              "      <td>e228d93dc13a2a9d83661321992cd48e</td>\n",
              "      <td>1.541004</td>\n",
              "      <td>5.766667</td>\n",
              "      <td>NaN</td>\n",
              "      <td>6.790822</td>\n",
              "      <td>arrived_at</td>\n",
              "      <td>2016-03-29 18:50:00</td>\n",
              "      <td>3.0</td>\n",
              "      <td>13.0</td>\n",
              "      <td>29.0</td>\n",
              "      <td>1.0</td>\n",
              "      <td>89.0</td>\n",
              "      <td>18.0</td>\n",
              "      <td>50.0</td>\n",
              "      <td>1.459277e+09</td>\n",
              "      <td>190.0</td>\n",
              "    </tr>\n",
              "    <tr>\n",
              "      <th>1238</th>\n",
              "      <td>002be0ffdc997bd5c50703158b7c2491</td>\n",
              "      <td>e228d93dc13a2a9d83661321992cd48e</td>\n",
              "      <td>1.541004</td>\n",
              "      <td>5.766667</td>\n",
              "      <td>NaN</td>\n",
              "      <td>6.790822</td>\n",
              "      <td>picked_up_at</td>\n",
              "      <td>2016-03-29 18:50:01</td>\n",
              "      <td>3.0</td>\n",
              "      <td>13.0</td>\n",
              "      <td>29.0</td>\n",
              "      <td>1.0</td>\n",
              "      <td>89.0</td>\n",
              "      <td>18.0</td>\n",
              "      <td>50.0</td>\n",
              "      <td>1.459277e+09</td>\n",
              "      <td>191.0</td>\n",
              "    </tr>\n",
              "    <tr>\n",
              "      <th>1239</th>\n",
              "      <td>002be0ffdc997bd5c50703158b7c2491</td>\n",
              "      <td>e228d93dc13a2a9d83661321992cd48e</td>\n",
              "      <td>1.541004</td>\n",
              "      <td>5.766667</td>\n",
              "      <td>NaN</td>\n",
              "      <td>6.790822</td>\n",
              "      <td>dropped_off_at</td>\n",
              "      <td>2016-03-29 18:55:47</td>\n",
              "      <td>3.0</td>\n",
              "      <td>13.0</td>\n",
              "      <td>29.0</td>\n",
              "      <td>1.0</td>\n",
              "      <td>89.0</td>\n",
              "      <td>18.0</td>\n",
              "      <td>55.0</td>\n",
              "      <td>1.459278e+09</td>\n",
              "      <td>537.0</td>\n",
              "    </tr>\n",
              "  </tbody>\n",
              "</table>\n",
              "</div>"
            ],
            "text/plain": [
              "                             driver_id  ... pickup_window\n",
              "1235  002be0ffdc997bd5c50703158b7c2491  ...           0.0\n",
              "1236  002be0ffdc997bd5c50703158b7c2491  ...          11.0\n",
              "1237  002be0ffdc997bd5c50703158b7c2491  ...         190.0\n",
              "1238  002be0ffdc997bd5c50703158b7c2491  ...         191.0\n",
              "1239  002be0ffdc997bd5c50703158b7c2491  ...         537.0\n",
              "\n",
              "[5 rows x 17 columns]"
            ]
          },
          "metadata": {
            "tags": []
          },
          "execution_count": 92
        }
      ]
    },
    {
      "cell_type": "markdown",
      "metadata": {
        "id": "BRTQSlCIQnA6",
        "colab_type": "text"
      },
      "source": [
        "Since part-time drivers should have a lower LTV compared to full-time drivers, we hypothesize that drivers who drive mainly on weekends are part-time drivers."
      ]
    },
    {
      "cell_type": "code",
      "metadata": {
        "id": "IUJi-EnCQsV1",
        "colab_type": "code",
        "outputId": "492ba800-eed0-4aa1-90bb-7449df37254d",
        "colab": {
          "base_uri": "https://localhost:8080/",
          "height": 198
        }
      },
      "source": [
        "# Monday 0, Sunday 6\n",
        "ids_timestamps['is_weekday'] = 0 \n",
        "ids_timestamps.loc[ids_timestamps['timestampDayofweek'] < 5, 'is_weekday'] = 1\n",
        "\n",
        "weekday_drivers_g = ids_timestamps.groupby('driver_id')['is_weekday'].mean()\n",
        "\n",
        "weekday_drivers_g = weekday_drivers_g.reset_index()\n",
        "\n",
        "weekday_drivers_g.sort_values(by='is_weekday').head()"
      ],
      "execution_count": 93,
      "outputs": [
        {
          "output_type": "execute_result",
          "data": {
            "text/html": [
              "<div>\n",
              "<style scoped>\n",
              "    .dataframe tbody tr th:only-of-type {\n",
              "        vertical-align: middle;\n",
              "    }\n",
              "\n",
              "    .dataframe tbody tr th {\n",
              "        vertical-align: top;\n",
              "    }\n",
              "\n",
              "    .dataframe thead th {\n",
              "        text-align: right;\n",
              "    }\n",
              "</style>\n",
              "<table border=\"1\" class=\"dataframe\">\n",
              "  <thead>\n",
              "    <tr style=\"text-align: right;\">\n",
              "      <th></th>\n",
              "      <th>driver_id</th>\n",
              "      <th>is_weekday</th>\n",
              "    </tr>\n",
              "  </thead>\n",
              "  <tbody>\n",
              "    <tr>\n",
              "      <th>870</th>\n",
              "      <td>ea71f79a86672486e018deeb47a545ec</td>\n",
              "      <td>0.0</td>\n",
              "    </tr>\n",
              "    <tr>\n",
              "      <th>296</th>\n",
              "      <td>4bbf15c7280e29c1df6edd7bf6dfa56a</td>\n",
              "      <td>0.0</td>\n",
              "    </tr>\n",
              "    <tr>\n",
              "      <th>108</th>\n",
              "      <td>1cf6fa07dcec364af2acf257b2d3731e</td>\n",
              "      <td>0.0</td>\n",
              "    </tr>\n",
              "    <tr>\n",
              "      <th>732</th>\n",
              "      <td>c64e642876910be4a1f0b57404dc9710</td>\n",
              "      <td>0.0</td>\n",
              "    </tr>\n",
              "    <tr>\n",
              "      <th>210</th>\n",
              "      <td>364c929f1d6535aa17df83ebcb349e87</td>\n",
              "      <td>0.0</td>\n",
              "    </tr>\n",
              "  </tbody>\n",
              "</table>\n",
              "</div>"
            ],
            "text/plain": [
              "                            driver_id  is_weekday\n",
              "870  ea71f79a86672486e018deeb47a545ec         0.0\n",
              "296  4bbf15c7280e29c1df6edd7bf6dfa56a         0.0\n",
              "108  1cf6fa07dcec364af2acf257b2d3731e         0.0\n",
              "732  c64e642876910be4a1f0b57404dc9710         0.0\n",
              "210  364c929f1d6535aa17df83ebcb349e87         0.0"
            ]
          },
          "metadata": {
            "tags": []
          },
          "execution_count": 93
        }
      ]
    },
    {
      "cell_type": "code",
      "metadata": {
        "id": "u5lTsBKnQ0so",
        "colab_type": "code",
        "outputId": "6ed416df-ca14-43b0-b307-432ebc3be2f3",
        "colab": {
          "base_uri": "https://localhost:8080/",
          "height": 35
        }
      },
      "source": [
        "ids_timestamps[ids_timestamps['driver_id'] == 'ea71f79a86672486e018deeb47a545ec']['ride_id'].nunique()"
      ],
      "execution_count": 94,
      "outputs": [
        {
          "output_type": "execute_result",
          "data": {
            "text/plain": [
              "72"
            ]
          },
          "metadata": {
            "tags": []
          },
          "execution_count": 94
        }
      ]
    },
    {
      "cell_type": "markdown",
      "metadata": {
        "id": "7lWNA4fV6gro",
        "colab_type": "text"
      },
      "source": [
        "Driver `ea71f79a86672486e018deeb47a545ec` made 72 rides in the entire dataset and all rides only happen on weekends.\n",
        "\n",
        "Next, we look into drivers who prefer to drive in the morning v.s. drivers who prefer to drive at night. We define `is_late_ride` as rides that happen between 11:00 PM and 6:00 AM."
      ]
    },
    {
      "cell_type": "code",
      "metadata": {
        "id": "Uy3ObQ-iRadF",
        "colab_type": "code",
        "outputId": "0b1891f4-0765-4a82-ced1-b5f1bafb7d81",
        "colab": {
          "base_uri": "https://localhost:8080/",
          "height": 198
        }
      },
      "source": [
        "ids_timestamps['is_late_ride'] = 0 \n",
        "ids_timestamps.loc[(ids_timestamps['timestampHour'] >= 23) |\n",
        "                   (ids_timestamps['timestampHour'] <= 6), \n",
        "                   'is_late_ride'] = 1\n",
        "\n",
        "is_late_ride_g = ids_timestamps.groupby('driver_id')['is_late_ride'].mean()\n",
        "\n",
        "is_late_ride_g = is_late_ride_g.reset_index()\n",
        "\n",
        "is_late_ride_g.sort_values(by='is_late_ride', ascending=False).head()"
      ],
      "execution_count": 95,
      "outputs": [
        {
          "output_type": "execute_result",
          "data": {
            "text/html": [
              "<div>\n",
              "<style scoped>\n",
              "    .dataframe tbody tr th:only-of-type {\n",
              "        vertical-align: middle;\n",
              "    }\n",
              "\n",
              "    .dataframe tbody tr th {\n",
              "        vertical-align: top;\n",
              "    }\n",
              "\n",
              "    .dataframe thead th {\n",
              "        text-align: right;\n",
              "    }\n",
              "</style>\n",
              "<table border=\"1\" class=\"dataframe\">\n",
              "  <thead>\n",
              "    <tr style=\"text-align: right;\">\n",
              "      <th></th>\n",
              "      <th>driver_id</th>\n",
              "      <th>is_late_ride</th>\n",
              "    </tr>\n",
              "  </thead>\n",
              "  <tbody>\n",
              "    <tr>\n",
              "      <th>523</th>\n",
              "      <td>8969d175c4676642b245af55d2dba19b</td>\n",
              "      <td>0.903448</td>\n",
              "    </tr>\n",
              "    <tr>\n",
              "      <th>222</th>\n",
              "      <td>3857da988688981b67c878fc179eb0dc</td>\n",
              "      <td>0.898947</td>\n",
              "    </tr>\n",
              "    <tr>\n",
              "      <th>551</th>\n",
              "      <td>905f8007cd46415eba8b9dce088b4395</td>\n",
              "      <td>0.891892</td>\n",
              "    </tr>\n",
              "    <tr>\n",
              "      <th>466</th>\n",
              "      <td>793e2072826ee96904a5f03ae2357e96</td>\n",
              "      <td>0.873927</td>\n",
              "    </tr>\n",
              "    <tr>\n",
              "      <th>77</th>\n",
              "      <td>175540c364f94b6adbc0ce3541a3254a</td>\n",
              "      <td>0.870370</td>\n",
              "    </tr>\n",
              "  </tbody>\n",
              "</table>\n",
              "</div>"
            ],
            "text/plain": [
              "                            driver_id  is_late_ride\n",
              "523  8969d175c4676642b245af55d2dba19b      0.903448\n",
              "222  3857da988688981b67c878fc179eb0dc      0.898947\n",
              "551  905f8007cd46415eba8b9dce088b4395      0.891892\n",
              "466  793e2072826ee96904a5f03ae2357e96      0.873927\n",
              "77   175540c364f94b6adbc0ce3541a3254a      0.870370"
            ]
          },
          "metadata": {
            "tags": []
          },
          "execution_count": 95
        }
      ]
    },
    {
      "cell_type": "code",
      "metadata": {
        "id": "DKRKDmi8ScnP",
        "colab_type": "code",
        "outputId": "98b3eafa-7c4d-4846-a6a0-d4d496f8e15d",
        "colab": {
          "base_uri": "https://localhost:8080/",
          "height": 35
        }
      },
      "source": [
        "ids_timestamps[ids_timestamps['driver_id'] == '3857da988688981b67c878fc179eb0dc']['ride_id'].nunique()"
      ],
      "execution_count": 96,
      "outputs": [
        {
          "output_type": "execute_result",
          "data": {
            "text/plain": [
              "190"
            ]
          },
          "metadata": {
            "tags": []
          },
          "execution_count": 96
        }
      ]
    },
    {
      "cell_type": "markdown",
      "metadata": {
        "id": "OupfKn02RZ1U",
        "colab_type": "text"
      },
      "source": [
        "Driver `3857da988688981b67c878fc179eb0dc` completed 190 rides in the entire dataset and on most of the rides are completed at night.\n",
        "\n",
        "Next, we create a feature `drop_requested_lag` to measure how fast do drivers pick up the next ride after they drop off passengers. The feature `drop_requested_lag` only considers same day pickups. So there exists a condition that a driver only picks up a passenger a day and this might lead to low `drop_requested_lag` value."
      ]
    },
    {
      "cell_type": "code",
      "metadata": {
        "id": "t3tq5PjsIPbV",
        "colab_type": "code",
        "outputId": "20cc1f6c-9c00-4d67-e210-11a98af27d71",
        "colab": {
          "base_uri": "https://localhost:8080/",
          "height": 446
        }
      },
      "source": [
        "# shift the timestamp down 1 row\n",
        "# and subtract the timestamp_shift from timestamp\n",
        "# to measure the lag between a dropoff and request time\n",
        "# since most request time is relatively close to pickup time\n",
        "# this can be a good proxy\n",
        "ids_timestamps['timestamp_shift'] = ids_timestamps.groupby('driver_id')['timestamp'].apply(lambda o: o.shift())\n",
        "\n",
        "ids_timestamps['delta_timestamp'] = ids_timestamps['timestamp'] - ids_timestamps['timestamp_shift']\n",
        "\n",
        "ids_timestamps.head(8)"
      ],
      "execution_count": 97,
      "outputs": [
        {
          "output_type": "execute_result",
          "data": {
            "text/html": [
              "<div>\n",
              "<style scoped>\n",
              "    .dataframe tbody tr th:only-of-type {\n",
              "        vertical-align: middle;\n",
              "    }\n",
              "\n",
              "    .dataframe tbody tr th {\n",
              "        vertical-align: top;\n",
              "    }\n",
              "\n",
              "    .dataframe thead th {\n",
              "        text-align: right;\n",
              "    }\n",
              "</style>\n",
              "<table border=\"1\" class=\"dataframe\">\n",
              "  <thead>\n",
              "    <tr style=\"text-align: right;\">\n",
              "      <th></th>\n",
              "      <th>driver_id</th>\n",
              "      <th>ride_id</th>\n",
              "      <th>ride_distance</th>\n",
              "      <th>ride_duration</th>\n",
              "      <th>ride_prime_time</th>\n",
              "      <th>fare</th>\n",
              "      <th>event</th>\n",
              "      <th>timestamp</th>\n",
              "      <th>timestampMonth</th>\n",
              "      <th>timestampWeek</th>\n",
              "      <th>timestampDay</th>\n",
              "      <th>timestampDayofweek</th>\n",
              "      <th>timestampDayofyear</th>\n",
              "      <th>timestampHour</th>\n",
              "      <th>timestampMinute</th>\n",
              "      <th>timestampElapsed</th>\n",
              "      <th>pickup_window</th>\n",
              "      <th>is_weekday</th>\n",
              "      <th>is_late_ride</th>\n",
              "      <th>timestamp_shift</th>\n",
              "      <th>delta_timestamp</th>\n",
              "    </tr>\n",
              "  </thead>\n",
              "  <tbody>\n",
              "    <tr>\n",
              "      <th>1235</th>\n",
              "      <td>002be0ffdc997bd5c50703158b7c2491</td>\n",
              "      <td>e228d93dc13a2a9d83661321992cd48e</td>\n",
              "      <td>1.541004</td>\n",
              "      <td>5.766667</td>\n",
              "      <td>NaN</td>\n",
              "      <td>6.790822</td>\n",
              "      <td>requested_at</td>\n",
              "      <td>2016-03-29 18:46:50</td>\n",
              "      <td>3.0</td>\n",
              "      <td>13.0</td>\n",
              "      <td>29.0</td>\n",
              "      <td>1.0</td>\n",
              "      <td>89.0</td>\n",
              "      <td>18.0</td>\n",
              "      <td>46.0</td>\n",
              "      <td>1.459277e+09</td>\n",
              "      <td>0.0</td>\n",
              "      <td>1</td>\n",
              "      <td>0</td>\n",
              "      <td>NaT</td>\n",
              "      <td>NaT</td>\n",
              "    </tr>\n",
              "    <tr>\n",
              "      <th>1236</th>\n",
              "      <td>002be0ffdc997bd5c50703158b7c2491</td>\n",
              "      <td>e228d93dc13a2a9d83661321992cd48e</td>\n",
              "      <td>1.541004</td>\n",
              "      <td>5.766667</td>\n",
              "      <td>NaN</td>\n",
              "      <td>6.790822</td>\n",
              "      <td>accepted_at</td>\n",
              "      <td>2016-03-29 18:47:01</td>\n",
              "      <td>3.0</td>\n",
              "      <td>13.0</td>\n",
              "      <td>29.0</td>\n",
              "      <td>1.0</td>\n",
              "      <td>89.0</td>\n",
              "      <td>18.0</td>\n",
              "      <td>47.0</td>\n",
              "      <td>1.459277e+09</td>\n",
              "      <td>11.0</td>\n",
              "      <td>1</td>\n",
              "      <td>0</td>\n",
              "      <td>2016-03-29 18:46:50</td>\n",
              "      <td>00:00:11</td>\n",
              "    </tr>\n",
              "    <tr>\n",
              "      <th>1237</th>\n",
              "      <td>002be0ffdc997bd5c50703158b7c2491</td>\n",
              "      <td>e228d93dc13a2a9d83661321992cd48e</td>\n",
              "      <td>1.541004</td>\n",
              "      <td>5.766667</td>\n",
              "      <td>NaN</td>\n",
              "      <td>6.790822</td>\n",
              "      <td>arrived_at</td>\n",
              "      <td>2016-03-29 18:50:00</td>\n",
              "      <td>3.0</td>\n",
              "      <td>13.0</td>\n",
              "      <td>29.0</td>\n",
              "      <td>1.0</td>\n",
              "      <td>89.0</td>\n",
              "      <td>18.0</td>\n",
              "      <td>50.0</td>\n",
              "      <td>1.459277e+09</td>\n",
              "      <td>190.0</td>\n",
              "      <td>1</td>\n",
              "      <td>0</td>\n",
              "      <td>2016-03-29 18:47:01</td>\n",
              "      <td>00:02:59</td>\n",
              "    </tr>\n",
              "    <tr>\n",
              "      <th>1238</th>\n",
              "      <td>002be0ffdc997bd5c50703158b7c2491</td>\n",
              "      <td>e228d93dc13a2a9d83661321992cd48e</td>\n",
              "      <td>1.541004</td>\n",
              "      <td>5.766667</td>\n",
              "      <td>NaN</td>\n",
              "      <td>6.790822</td>\n",
              "      <td>picked_up_at</td>\n",
              "      <td>2016-03-29 18:50:01</td>\n",
              "      <td>3.0</td>\n",
              "      <td>13.0</td>\n",
              "      <td>29.0</td>\n",
              "      <td>1.0</td>\n",
              "      <td>89.0</td>\n",
              "      <td>18.0</td>\n",
              "      <td>50.0</td>\n",
              "      <td>1.459277e+09</td>\n",
              "      <td>191.0</td>\n",
              "      <td>1</td>\n",
              "      <td>0</td>\n",
              "      <td>2016-03-29 18:50:00</td>\n",
              "      <td>00:00:01</td>\n",
              "    </tr>\n",
              "    <tr>\n",
              "      <th>1239</th>\n",
              "      <td>002be0ffdc997bd5c50703158b7c2491</td>\n",
              "      <td>e228d93dc13a2a9d83661321992cd48e</td>\n",
              "      <td>1.541004</td>\n",
              "      <td>5.766667</td>\n",
              "      <td>NaN</td>\n",
              "      <td>6.790822</td>\n",
              "      <td>dropped_off_at</td>\n",
              "      <td>2016-03-29 18:55:47</td>\n",
              "      <td>3.0</td>\n",
              "      <td>13.0</td>\n",
              "      <td>29.0</td>\n",
              "      <td>1.0</td>\n",
              "      <td>89.0</td>\n",
              "      <td>18.0</td>\n",
              "      <td>55.0</td>\n",
              "      <td>1.459278e+09</td>\n",
              "      <td>537.0</td>\n",
              "      <td>1</td>\n",
              "      <td>0</td>\n",
              "      <td>2016-03-29 18:50:01</td>\n",
              "      <td>00:05:46</td>\n",
              "    </tr>\n",
              "    <tr>\n",
              "      <th>5</th>\n",
              "      <td>002be0ffdc997bd5c50703158b7c2491</td>\n",
              "      <td>01b522c5c3a756fbdb12e95e87507eda</td>\n",
              "      <td>2.089055</td>\n",
              "      <td>13.483333</td>\n",
              "      <td>NaN</td>\n",
              "      <td>9.118747</td>\n",
              "      <td>requested_at</td>\n",
              "      <td>2016-03-29 19:00:49</td>\n",
              "      <td>3.0</td>\n",
              "      <td>13.0</td>\n",
              "      <td>29.0</td>\n",
              "      <td>1.0</td>\n",
              "      <td>89.0</td>\n",
              "      <td>19.0</td>\n",
              "      <td>0.0</td>\n",
              "      <td>1.459278e+09</td>\n",
              "      <td>0.0</td>\n",
              "      <td>1</td>\n",
              "      <td>0</td>\n",
              "      <td>2016-03-29 18:55:47</td>\n",
              "      <td>00:05:02</td>\n",
              "    </tr>\n",
              "    <tr>\n",
              "      <th>6</th>\n",
              "      <td>002be0ffdc997bd5c50703158b7c2491</td>\n",
              "      <td>01b522c5c3a756fbdb12e95e87507eda</td>\n",
              "      <td>2.089055</td>\n",
              "      <td>13.483333</td>\n",
              "      <td>NaN</td>\n",
              "      <td>9.118747</td>\n",
              "      <td>accepted_at</td>\n",
              "      <td>2016-03-29 19:00:52</td>\n",
              "      <td>3.0</td>\n",
              "      <td>13.0</td>\n",
              "      <td>29.0</td>\n",
              "      <td>1.0</td>\n",
              "      <td>89.0</td>\n",
              "      <td>19.0</td>\n",
              "      <td>0.0</td>\n",
              "      <td>1.459278e+09</td>\n",
              "      <td>3.0</td>\n",
              "      <td>1</td>\n",
              "      <td>0</td>\n",
              "      <td>2016-03-29 19:00:49</td>\n",
              "      <td>00:00:03</td>\n",
              "    </tr>\n",
              "    <tr>\n",
              "      <th>7</th>\n",
              "      <td>002be0ffdc997bd5c50703158b7c2491</td>\n",
              "      <td>01b522c5c3a756fbdb12e95e87507eda</td>\n",
              "      <td>2.089055</td>\n",
              "      <td>13.483333</td>\n",
              "      <td>NaN</td>\n",
              "      <td>9.118747</td>\n",
              "      <td>arrived_at</td>\n",
              "      <td>2016-03-29 19:03:57</td>\n",
              "      <td>3.0</td>\n",
              "      <td>13.0</td>\n",
              "      <td>29.0</td>\n",
              "      <td>1.0</td>\n",
              "      <td>89.0</td>\n",
              "      <td>19.0</td>\n",
              "      <td>3.0</td>\n",
              "      <td>1.459278e+09</td>\n",
              "      <td>188.0</td>\n",
              "      <td>1</td>\n",
              "      <td>0</td>\n",
              "      <td>2016-03-29 19:00:52</td>\n",
              "      <td>00:03:05</td>\n",
              "    </tr>\n",
              "  </tbody>\n",
              "</table>\n",
              "</div>"
            ],
            "text/plain": [
              "                             driver_id  ... delta_timestamp\n",
              "1235  002be0ffdc997bd5c50703158b7c2491  ...             NaT\n",
              "1236  002be0ffdc997bd5c50703158b7c2491  ...        00:00:11\n",
              "1237  002be0ffdc997bd5c50703158b7c2491  ...        00:02:59\n",
              "1238  002be0ffdc997bd5c50703158b7c2491  ...        00:00:01\n",
              "1239  002be0ffdc997bd5c50703158b7c2491  ...        00:05:46\n",
              "5     002be0ffdc997bd5c50703158b7c2491  ...        00:05:02\n",
              "6     002be0ffdc997bd5c50703158b7c2491  ...        00:00:03\n",
              "7     002be0ffdc997bd5c50703158b7c2491  ...        00:03:05\n",
              "\n",
              "[8 rows x 21 columns]"
            ]
          },
          "metadata": {
            "tags": []
          },
          "execution_count": 97
        }
      ]
    },
    {
      "cell_type": "code",
      "metadata": {
        "id": "2mv33H6M5MPb",
        "colab_type": "code",
        "colab": {}
      },
      "source": [
        "ids_timestamps.loc[(ids_timestamps['event'] == 'requested_at') &\n",
        "                   (~ids_timestamps['delta_timestamp'].isna()), 'drop_requested_lag'] = 1\n",
        "\n",
        "ids_timestamps['drop_requested_lag'].fillna(0, inplace=True)\n",
        "\n",
        "ids_timestamps['drop_requested_lag'] = ids_timestamps['drop_requested_lag'] * ids_timestamps['delta_timestamp']\n",
        "\n",
        "ids_timestamps['drop_requested_lag'] = ids_timestamps['drop_requested_lag'].apply(lambda o: o.total_seconds())\n",
        "\n",
        "ids_timestamps.loc[ids_timestamps['delta_timestamp'].dt.days > 0, 'drop_requested_lag'] = np.nan"
      ],
      "execution_count": 0,
      "outputs": []
    },
    {
      "cell_type": "code",
      "metadata": {
        "id": "23A8mKhbvIVw",
        "colab_type": "code",
        "outputId": "90ae2390-a6a2-4715-b637-6f7d59ca5a0c",
        "colab": {
          "base_uri": "https://localhost:8080/",
          "height": 198
        }
      },
      "source": [
        "filtered_requested_at = ids_timestamps[ids_timestamps['event'] == 'requested_at']\n",
        "\n",
        "drop_requested_lag_g = filtered_requested_at.groupby('driver_id')['drop_requested_lag'].mean()\n",
        "\n",
        "drop_requested_lag_g = drop_requested_lag_g.reset_index()\n",
        "\n",
        "drop_requested_lag_g.sort_values(by='drop_requested_lag').head()"
      ],
      "execution_count": 99,
      "outputs": [
        {
          "output_type": "execute_result",
          "data": {
            "text/html": [
              "<div>\n",
              "<style scoped>\n",
              "    .dataframe tbody tr th:only-of-type {\n",
              "        vertical-align: middle;\n",
              "    }\n",
              "\n",
              "    .dataframe tbody tr th {\n",
              "        vertical-align: top;\n",
              "    }\n",
              "\n",
              "    .dataframe thead th {\n",
              "        text-align: right;\n",
              "    }\n",
              "</style>\n",
              "<table border=\"1\" class=\"dataframe\">\n",
              "  <thead>\n",
              "    <tr style=\"text-align: right;\">\n",
              "      <th></th>\n",
              "      <th>driver_id</th>\n",
              "      <th>drop_requested_lag</th>\n",
              "    </tr>\n",
              "  </thead>\n",
              "  <tbody>\n",
              "    <tr>\n",
              "      <th>441</th>\n",
              "      <td>7ff85c5c0e9324e28d1e0d0589c364bd</td>\n",
              "      <td>181.000000</td>\n",
              "    </tr>\n",
              "    <tr>\n",
              "      <th>526</th>\n",
              "      <td>9a54684a69721c1075c2af5fc077665b</td>\n",
              "      <td>754.351351</td>\n",
              "    </tr>\n",
              "    <tr>\n",
              "      <th>495</th>\n",
              "      <td>905f8007cd46415eba8b9dce088b4395</td>\n",
              "      <td>936.774194</td>\n",
              "    </tr>\n",
              "    <tr>\n",
              "      <th>226</th>\n",
              "      <td>42256e33936dfa69088f540a720edc97</td>\n",
              "      <td>942.870968</td>\n",
              "    </tr>\n",
              "    <tr>\n",
              "      <th>313</th>\n",
              "      <td>5cf93f7d1d3a8f0cf395c84053c31b1b</td>\n",
              "      <td>976.818182</td>\n",
              "    </tr>\n",
              "  </tbody>\n",
              "</table>\n",
              "</div>"
            ],
            "text/plain": [
              "                            driver_id  drop_requested_lag\n",
              "441  7ff85c5c0e9324e28d1e0d0589c364bd          181.000000\n",
              "526  9a54684a69721c1075c2af5fc077665b          754.351351\n",
              "495  905f8007cd46415eba8b9dce088b4395          936.774194\n",
              "226  42256e33936dfa69088f540a720edc97          942.870968\n",
              "313  5cf93f7d1d3a8f0cf395c84053c31b1b          976.818182"
            ]
          },
          "metadata": {
            "tags": []
          },
          "execution_count": 99
        }
      ]
    },
    {
      "cell_type": "markdown",
      "metadata": {
        "id": "HGpx-5u03PK1",
        "colab_type": "text"
      },
      "source": [
        "Merge `ids_timestamps` with `driver_id`."
      ]
    },
    {
      "cell_type": "code",
      "metadata": {
        "id": "VPt21fowyAoe",
        "colab_type": "code",
        "colab": {}
      },
      "source": [
        "df = pd.merge(ids_timestamps, driver_ids,\n",
        "              left_on='driver_id', right_on='driver_id')"
      ],
      "execution_count": 0,
      "outputs": []
    },
    {
      "cell_type": "markdown",
      "metadata": {
        "id": "YjEL_RGl7H7X",
        "colab_type": "text"
      },
      "source": [
        "To calculate how many actual days did the driver drive, we calculate the number of unique days the driver has activity."
      ]
    },
    {
      "cell_type": "code",
      "metadata": {
        "id": "cE45wQs6Zc7f",
        "colab_type": "code",
        "outputId": "92c6a769-a9af-491b-cfee-8b2a6ff1fdb8",
        "colab": {
          "base_uri": "https://localhost:8080/",
          "height": 198
        }
      },
      "source": [
        "df['date'] = df['timestamp'].dt.date\n",
        "\n",
        "unique_dates_g = df.groupby('driver_id')['date'].nunique()\n",
        "\n",
        "unique_dates_g = unique_dates_g.reset_index()\n",
        "\n",
        "unique_dates_g.rename(columns={'date': 'unique_days'}, inplace=True)\n",
        "\n",
        "unique_dates_g.head()"
      ],
      "execution_count": 101,
      "outputs": [
        {
          "output_type": "execute_result",
          "data": {
            "text/html": [
              "<div>\n",
              "<style scoped>\n",
              "    .dataframe tbody tr th:only-of-type {\n",
              "        vertical-align: middle;\n",
              "    }\n",
              "\n",
              "    .dataframe tbody tr th {\n",
              "        vertical-align: top;\n",
              "    }\n",
              "\n",
              "    .dataframe thead th {\n",
              "        text-align: right;\n",
              "    }\n",
              "</style>\n",
              "<table border=\"1\" class=\"dataframe\">\n",
              "  <thead>\n",
              "    <tr style=\"text-align: right;\">\n",
              "      <th></th>\n",
              "      <th>driver_id</th>\n",
              "      <th>unique_days</th>\n",
              "    </tr>\n",
              "  </thead>\n",
              "  <tbody>\n",
              "    <tr>\n",
              "      <th>0</th>\n",
              "      <td>002be0ffdc997bd5c50703158b7c2491</td>\n",
              "      <td>56</td>\n",
              "    </tr>\n",
              "    <tr>\n",
              "      <th>1</th>\n",
              "      <td>007f0389f9c7b03ef97098422f902e62</td>\n",
              "      <td>12</td>\n",
              "    </tr>\n",
              "    <tr>\n",
              "      <th>2</th>\n",
              "      <td>011e5c5dfc5c2c92501b8b24d47509bc</td>\n",
              "      <td>12</td>\n",
              "    </tr>\n",
              "    <tr>\n",
              "      <th>3</th>\n",
              "      <td>0152a2f305e71d26cc964f8d4411add9</td>\n",
              "      <td>42</td>\n",
              "    </tr>\n",
              "    <tr>\n",
              "      <th>4</th>\n",
              "      <td>01674381af7edd264113d4e6ed55ecda</td>\n",
              "      <td>40</td>\n",
              "    </tr>\n",
              "  </tbody>\n",
              "</table>\n",
              "</div>"
            ],
            "text/plain": [
              "                          driver_id  unique_days\n",
              "0  002be0ffdc997bd5c50703158b7c2491           56\n",
              "1  007f0389f9c7b03ef97098422f902e62           12\n",
              "2  011e5c5dfc5c2c92501b8b24d47509bc           12\n",
              "3  0152a2f305e71d26cc964f8d4411add9           42\n",
              "4  01674381af7edd264113d4e6ed55ecda           40"
            ]
          },
          "metadata": {
            "tags": []
          },
          "execution_count": 101
        }
      ]
    },
    {
      "cell_type": "markdown",
      "metadata": {
        "id": "pKoSRwy92Nlf",
        "colab_type": "text"
      },
      "source": [
        "Next, we create the feature `driving_period` to account for the duration between the last trip a driver made and the day the driver was onboard. "
      ]
    },
    {
      "cell_type": "code",
      "metadata": {
        "id": "AZ07lfwShLNr",
        "colab_type": "code",
        "colab": {}
      },
      "source": [
        "df['driving_period'] = (df.groupby('driver_id')['timestamp'].tail(1) - pd.to_datetime(df['driver_onboard_date'])).dt.days"
      ],
      "execution_count": 0,
      "outputs": []
    },
    {
      "cell_type": "markdown",
      "metadata": {
        "id": "7T4eVUdS2Py1",
        "colab_type": "text"
      },
      "source": [
        "To calculate the average churn rate, we first get the driver's last activity based on `timestamp` in `ride_timestamps`. Since the last day of the `timestamp` in `ride_timestamps` was 2016/06/27, we calculate the number of days since the driver's last activity respect to the last day of the dataset. We assume drivers who have more than 14 days of inactivity have churned."
      ]
    },
    {
      "cell_type": "code",
      "metadata": {
        "id": "72iJkFp72RJo",
        "colab_type": "code",
        "colab": {}
      },
      "source": [
        "df['last_activity'] = (df['timestamp'].max() - df.groupby('driver_id')['timestamp'].tail(1)).dt.days\n",
        "\n",
        "last_activity_df = df.groupby('driver_id').tail(1)"
      ],
      "execution_count": 0,
      "outputs": []
    },
    {
      "cell_type": "code",
      "metadata": {
        "id": "_24Psh333ZOH",
        "colab_type": "code",
        "outputId": "f318774c-5170-4129-bb20-beca54576a01",
        "colab": {
          "base_uri": "https://localhost:8080/",
          "height": 35
        }
      },
      "source": [
        "churn_rate = len(last_activity_df[last_activity_df['last_activity'] > 14]) / len(last_activity_df)\n",
        "\n",
        "churn_rate"
      ],
      "execution_count": 104,
      "outputs": [
        {
          "output_type": "execute_result",
          "data": {
            "text/plain": [
              "0.28805620608899296"
            ]
          },
          "metadata": {
            "tags": []
          },
          "execution_count": 104
        }
      ]
    },
    {
      "cell_type": "code",
      "metadata": {
        "id": "wHrpXhjr29Eh",
        "colab_type": "code",
        "colab": {
          "base_uri": "https://localhost:8080/",
          "height": 198
        },
        "outputId": "91eda63f-0b98-46af-d8f8-6e385455fce8"
      },
      "source": [
        "onboard_period = df[~df['driving_period'].isna()]\n",
        "\n",
        "onboard_period = onboard_period[['driver_id', 'driving_period']].copy()\n",
        "\n",
        "onboard_period.sort_values('driving_period').head()"
      ],
      "execution_count": 105,
      "outputs": [
        {
          "output_type": "execute_result",
          "data": {
            "text/html": [
              "<div>\n",
              "<style scoped>\n",
              "    .dataframe tbody tr th:only-of-type {\n",
              "        vertical-align: middle;\n",
              "    }\n",
              "\n",
              "    .dataframe tbody tr th {\n",
              "        vertical-align: top;\n",
              "    }\n",
              "\n",
              "    .dataframe thead th {\n",
              "        text-align: right;\n",
              "    }\n",
              "</style>\n",
              "<table border=\"1\" class=\"dataframe\">\n",
              "  <thead>\n",
              "    <tr style=\"text-align: right;\">\n",
              "      <th></th>\n",
              "      <th>driver_id</th>\n",
              "      <th>driving_period</th>\n",
              "    </tr>\n",
              "  </thead>\n",
              "  <tbody>\n",
              "    <tr>\n",
              "      <th>715947</th>\n",
              "      <td>bd057e02f75c92917389d90bb215fe91</td>\n",
              "      <td>1.0</td>\n",
              "    </tr>\n",
              "    <tr>\n",
              "      <th>404840</th>\n",
              "      <td>68b546b2f4102641d6774c1ce4f57457</td>\n",
              "      <td>1.0</td>\n",
              "    </tr>\n",
              "    <tr>\n",
              "      <th>429430</th>\n",
              "      <td>6eb2e0f41fc9f1fbb70e7751035fdf87</td>\n",
              "      <td>1.0</td>\n",
              "    </tr>\n",
              "    <tr>\n",
              "      <th>609573</th>\n",
              "      <td>a2334fdb829cf96fbae920df0cce1587</td>\n",
              "      <td>2.0</td>\n",
              "    </tr>\n",
              "    <tr>\n",
              "      <th>841116</th>\n",
              "      <td>e4f3a9d5cf57b9b518136afd9757f76d</td>\n",
              "      <td>3.0</td>\n",
              "    </tr>\n",
              "  </tbody>\n",
              "</table>\n",
              "</div>"
            ],
            "text/plain": [
              "                               driver_id  driving_period\n",
              "715947  bd057e02f75c92917389d90bb215fe91             1.0\n",
              "404840  68b546b2f4102641d6774c1ce4f57457             1.0\n",
              "429430  6eb2e0f41fc9f1fbb70e7751035fdf87             1.0\n",
              "609573  a2334fdb829cf96fbae920df0cce1587             2.0\n",
              "841116  e4f3a9d5cf57b9b518136afd9757f76d             3.0"
            ]
          },
          "metadata": {
            "tags": []
          },
          "execution_count": 105
        }
      ]
    },
    {
      "cell_type": "markdown",
      "metadata": {
        "id": "dGhl7Yfj2cKc",
        "colab_type": "text"
      },
      "source": [
        "## LTV\n",
        "We next calculate the LTV for drivers."
      ]
    },
    {
      "cell_type": "code",
      "metadata": {
        "id": "6ZUEkP8R3i9q",
        "colab_type": "code",
        "colab": {}
      },
      "source": [
        "ltv = ride_id_g\n",
        "\n",
        "to_merge = (drop_requested_lag_g, ride_prime_time_g, fare_g, \n",
        "            onboard_period, window_g, unique_dates_g,\n",
        "            weekday_drivers_g, is_late_ride_g)\n",
        "\n",
        "for ser in to_merge:\n",
        "    ltv = pd.merge(ltv, ser, on='driver_id', how='outer')"
      ],
      "execution_count": 0,
      "outputs": []
    },
    {
      "cell_type": "code",
      "metadata": {
        "id": "TYhRRdkTCBlt",
        "colab_type": "code",
        "outputId": "da9f9c29-90a0-4c7a-ceca-1b08925dbff9",
        "colab": {
          "base_uri": "https://localhost:8080/",
          "height": 207
        }
      },
      "source": [
        "ltv.isna().sum()"
      ],
      "execution_count": 107,
      "outputs": [
        {
          "output_type": "execute_result",
          "data": {
            "text/plain": [
              "driver_id               0\n",
              "ride_count              0\n",
              "drop_requested_lag     94\n",
              "ride_prime_time         0\n",
              "fare                    0\n",
              "driving_period        101\n",
              "pickup_window          93\n",
              "unique_days            83\n",
              "is_weekday              0\n",
              "is_late_ride            0\n",
              "dtype: int64"
            ]
          },
          "metadata": {
            "tags": []
          },
          "execution_count": 107
        }
      ]
    },
    {
      "cell_type": "markdown",
      "metadata": {
        "id": "bJvQidifHuep",
        "colab_type": "text"
      },
      "source": [
        "It is hard to decide a driver's `drop_requested_lag` if there is he or she does not have any record of ride in `ride_timestamps`. Hence, we decide to impute the `drop_requested_lag`'s `NaN`s as the mean of all `drop_requested_lag`. Same goes for all features that require entries in `ride_timestamps` for calculation."
      ]
    },
    {
      "cell_type": "code",
      "metadata": {
        "id": "0loZNjfLFzDf",
        "colab_type": "code",
        "colab": {}
      },
      "source": [
        "ltv['driving_period'].fillna(ltv['driving_period'], inplace=True)\n",
        "\n",
        "ltv['drop_requested_lag'].fillna(ltv['drop_requested_lag'], inplace=True)\n",
        "\n",
        "ltv['pickup_window'].fillna(ltv['pickup_window'], inplace=True)\n",
        "\n",
        "ltv['unique_days'].fillna(ltv['unique_days'].mean(), inplace=True)\n",
        "ltv['unique_days'].replace(0, ltv['unique_days'].mean(), inplace=True)\n",
        "\n",
        "ltv['drop_requested_lag'].fillna(ltv['drop_requested_lag'].mean(), inplace=True)\n",
        "\n",
        "ltv['driving_period'].fillna(ltv['driving_period'].mean(), inplace=True)\n",
        "\n",
        "ltv['pickup_window'].fillna(ltv['pickup_window'].mean(), inplace=True)"
      ],
      "execution_count": 0,
      "outputs": []
    },
    {
      "cell_type": "code",
      "metadata": {
        "id": "dv05oHGQIaKv",
        "colab_type": "code",
        "outputId": "03ee82ae-09f5-4e03-f126-51ec06ca92bc",
        "colab": {
          "base_uri": "https://localhost:8080/",
          "height": 218
        }
      },
      "source": [
        "ltv.head()"
      ],
      "execution_count": 109,
      "outputs": [
        {
          "output_type": "execute_result",
          "data": {
            "text/html": [
              "<div>\n",
              "<style scoped>\n",
              "    .dataframe tbody tr th:only-of-type {\n",
              "        vertical-align: middle;\n",
              "    }\n",
              "\n",
              "    .dataframe tbody tr th {\n",
              "        vertical-align: top;\n",
              "    }\n",
              "\n",
              "    .dataframe thead th {\n",
              "        text-align: right;\n",
              "    }\n",
              "</style>\n",
              "<table border=\"1\" class=\"dataframe\">\n",
              "  <thead>\n",
              "    <tr style=\"text-align: right;\">\n",
              "      <th></th>\n",
              "      <th>driver_id</th>\n",
              "      <th>ride_count</th>\n",
              "      <th>drop_requested_lag</th>\n",
              "      <th>ride_prime_time</th>\n",
              "      <th>fare</th>\n",
              "      <th>driving_period</th>\n",
              "      <th>pickup_window</th>\n",
              "      <th>unique_days</th>\n",
              "      <th>is_weekday</th>\n",
              "      <th>is_late_ride</th>\n",
              "    </tr>\n",
              "  </thead>\n",
              "  <tbody>\n",
              "    <tr>\n",
              "      <th>0</th>\n",
              "      <td>002be0ffdc997bd5c50703158b7c2491</td>\n",
              "      <td>277</td>\n",
              "      <td>6594.516129</td>\n",
              "      <td>48.863636</td>\n",
              "      <td>3560.926071</td>\n",
              "      <td>86.0</td>\n",
              "      <td>8.407942</td>\n",
              "      <td>56.0</td>\n",
              "      <td>0.769675</td>\n",
              "      <td>0.238989</td>\n",
              "    </tr>\n",
              "    <tr>\n",
              "      <th>1</th>\n",
              "      <td>007f0389f9c7b03ef97098422f902e62</td>\n",
              "      <td>31</td>\n",
              "      <td>4615.550000</td>\n",
              "      <td>52.083333</td>\n",
              "      <td>321.494948</td>\n",
              "      <td>85.0</td>\n",
              "      <td>11.838710</td>\n",
              "      <td>12.0</td>\n",
              "      <td>0.709677</td>\n",
              "      <td>0.000000</td>\n",
              "    </tr>\n",
              "    <tr>\n",
              "      <th>2</th>\n",
              "      <td>011e5c5dfc5c2c92501b8b24d47509bc</td>\n",
              "      <td>34</td>\n",
              "      <td>7185.041667</td>\n",
              "      <td>42.187500</td>\n",
              "      <td>482.428390</td>\n",
              "      <td>68.0</td>\n",
              "      <td>7.294118</td>\n",
              "      <td>12.0</td>\n",
              "      <td>0.529412</td>\n",
              "      <td>0.058824</td>\n",
              "    </tr>\n",
              "    <tr>\n",
              "      <th>3</th>\n",
              "      <td>0152a2f305e71d26cc964f8d4411add9</td>\n",
              "      <td>191</td>\n",
              "      <td>10028.796610</td>\n",
              "      <td>42.708333</td>\n",
              "      <td>2610.871561</td>\n",
              "      <td>64.0</td>\n",
              "      <td>14.198953</td>\n",
              "      <td>42.0</td>\n",
              "      <td>0.796859</td>\n",
              "      <td>0.459686</td>\n",
              "    </tr>\n",
              "    <tr>\n",
              "      <th>4</th>\n",
              "      <td>01674381af7edd264113d4e6ed55ecda</td>\n",
              "      <td>375</td>\n",
              "      <td>6633.404372</td>\n",
              "      <td>47.474747</td>\n",
              "      <td>5381.097539</td>\n",
              "      <td>56.0</td>\n",
              "      <td>12.528000</td>\n",
              "      <td>40.0</td>\n",
              "      <td>1.000000</td>\n",
              "      <td>0.054933</td>\n",
              "    </tr>\n",
              "  </tbody>\n",
              "</table>\n",
              "</div>"
            ],
            "text/plain": [
              "                          driver_id  ride_count  ...  is_weekday  is_late_ride\n",
              "0  002be0ffdc997bd5c50703158b7c2491         277  ...    0.769675      0.238989\n",
              "1  007f0389f9c7b03ef97098422f902e62          31  ...    0.709677      0.000000\n",
              "2  011e5c5dfc5c2c92501b8b24d47509bc          34  ...    0.529412      0.058824\n",
              "3  0152a2f305e71d26cc964f8d4411add9         191  ...    0.796859      0.459686\n",
              "4  01674381af7edd264113d4e6ed55ecda         375  ...    1.000000      0.054933\n",
              "\n",
              "[5 rows x 10 columns]"
            ]
          },
          "metadata": {
            "tags": []
          },
          "execution_count": 109
        }
      ]
    },
    {
      "cell_type": "markdown",
      "metadata": {
        "id": "ruGWlve4I1zA",
        "colab_type": "text"
      },
      "source": [
        "## Questions\n",
        "* What are the main factors that affect a driver's lifetime value?\n",
        "* What is the average projected lifetime of a driver? That is, once a driver is\n",
        "onboarded, how long do they typically continue driving with Lyft?\n",
        "* Do all drivers act alike? Are there specific segments of drivers that generate more\n",
        "value for Lyft than the average driver?\n",
        "* What actionable recommendations are there for the business?"
      ]
    },
    {
      "cell_type": "code",
      "metadata": {
        "id": "CuKEFGL7MCCe",
        "colab_type": "code",
        "colab": {}
      },
      "source": [
        "# https://blog.hubspot.com/service/how-to-calculate-customer-lifetime-value\n",
        "ltv['average_ride_val'] = ltv['fare'] / ltv['ride_count']\n",
        "\n",
        "ltv['average_ride_freq'] = ltv['ride_count'] / ltv['unique_days']\n",
        "\n",
        "ltv['average_val'] = ltv['average_ride_val'] * ltv['average_ride_freq']\n",
        "\n",
        "ltv['ltv'] = ltv['average_val'] * 365 / churn_rate"
      ],
      "execution_count": 0,
      "outputs": []
    },
    {
      "cell_type": "code",
      "metadata": {
        "id": "_cO93Rokd9Ml",
        "colab_type": "code",
        "outputId": "756b610e-0945-466c-b4e7-775e28e975e0",
        "colab": {
          "base_uri": "https://localhost:8080/",
          "height": 198
        }
      },
      "source": [
        "base_metrics = ['ride_count', 'fare', 'unique_days', 'ltv']\n",
        "\n",
        "ltv[['driver_id'] + base_metrics].sort_values(by='ltv', ascending=False).head()"
      ],
      "execution_count": 111,
      "outputs": [
        {
          "output_type": "execute_result",
          "data": {
            "text/html": [
              "<div>\n",
              "<style scoped>\n",
              "    .dataframe tbody tr th:only-of-type {\n",
              "        vertical-align: middle;\n",
              "    }\n",
              "\n",
              "    .dataframe tbody tr th {\n",
              "        vertical-align: top;\n",
              "    }\n",
              "\n",
              "    .dataframe thead th {\n",
              "        text-align: right;\n",
              "    }\n",
              "</style>\n",
              "<table border=\"1\" class=\"dataframe\">\n",
              "  <thead>\n",
              "    <tr style=\"text-align: right;\">\n",
              "      <th></th>\n",
              "      <th>driver_id</th>\n",
              "      <th>ride_count</th>\n",
              "      <th>fare</th>\n",
              "      <th>unique_days</th>\n",
              "      <th>ltv</th>\n",
              "    </tr>\n",
              "  </thead>\n",
              "  <tbody>\n",
              "    <tr>\n",
              "      <th>412</th>\n",
              "      <td>6b65c06851e944351dd285a1eb729499</td>\n",
              "      <td>718</td>\n",
              "      <td>10708.943770</td>\n",
              "      <td>45.0</td>\n",
              "      <td>301543.348024</td>\n",
              "    </tr>\n",
              "    <tr>\n",
              "      <th>217</th>\n",
              "      <td>3788dc9e91f1548816ce8b5af07ddadc</td>\n",
              "      <td>783</td>\n",
              "      <td>12304.887351</td>\n",
              "      <td>56.0</td>\n",
              "      <td>278423.086246</td>\n",
              "    </tr>\n",
              "    <tr>\n",
              "      <th>156</th>\n",
              "      <td>297e507cc9f1da096e51c2223657255b</td>\n",
              "      <td>588</td>\n",
              "      <td>8657.558363</td>\n",
              "      <td>40.0</td>\n",
              "      <td>274252.796465</td>\n",
              "    </tr>\n",
              "    <tr>\n",
              "      <th>318</th>\n",
              "      <td>51b528390e8e7780595f6009b1f4cf72</td>\n",
              "      <td>240</td>\n",
              "      <td>3018.980483</td>\n",
              "      <td>14.0</td>\n",
              "      <td>273242.278251</td>\n",
              "    </tr>\n",
              "    <tr>\n",
              "      <th>426</th>\n",
              "      <td>6eb2e0f41fc9f1fbb70e7751035fdf87</td>\n",
              "      <td>35</td>\n",
              "      <td>421.815299</td>\n",
              "      <td>2.0</td>\n",
              "      <td>267243.997669</td>\n",
              "    </tr>\n",
              "  </tbody>\n",
              "</table>\n",
              "</div>"
            ],
            "text/plain": [
              "                            driver_id  ride_count  ...  unique_days            ltv\n",
              "412  6b65c06851e944351dd285a1eb729499         718  ...         45.0  301543.348024\n",
              "217  3788dc9e91f1548816ce8b5af07ddadc         783  ...         56.0  278423.086246\n",
              "156  297e507cc9f1da096e51c2223657255b         588  ...         40.0  274252.796465\n",
              "318  51b528390e8e7780595f6009b1f4cf72         240  ...         14.0  273242.278251\n",
              "426  6eb2e0f41fc9f1fbb70e7751035fdf87          35  ...          2.0  267243.997669\n",
              "\n",
              "[5 rows x 5 columns]"
            ]
          },
          "metadata": {
            "tags": []
          },
          "execution_count": 111
        }
      ]
    },
    {
      "cell_type": "markdown",
      "metadata": {
        "id": "BdM5hvFVfo2Q",
        "colab_type": "text"
      },
      "source": [
        "The main factors that affect lifetime value (LTV) are the number of rides a driver has completed, `ride_count`, total revenue generated by the driver, `fare` and the number of days the driver worked, `unique_days`."
      ]
    },
    {
      "cell_type": "code",
      "metadata": {
        "id": "8v-jsg8NceFR",
        "colab_type": "code",
        "outputId": "e4f2aa9f-d3ec-42cf-807f-82f86214125f",
        "colab": {
          "base_uri": "https://localhost:8080/",
          "height": 35
        }
      },
      "source": [
        "1 / churn_rate"
      ],
      "execution_count": 112,
      "outputs": [
        {
          "output_type": "execute_result",
          "data": {
            "text/plain": [
              "3.4715447154471546"
            ]
          },
          "metadata": {
            "tags": []
          },
          "execution_count": 112
        }
      ]
    },
    {
      "cell_type": "markdown",
      "metadata": {
        "id": "IYK2gpdmnYSN",
        "colab_type": "text"
      },
      "source": [
        "We take average lifetime as the inverse of churn rate. Hence, we predict the average lifetime for drivers is approximately 3.5 years.\n",
        "\n",
        "## KMeans Clustering\n",
        "We performing KMeans Clustering to segment the drivers. Silhoutte score is then used to find the optimal K, in our case, where K=3 produces the best result. To test whether do our engineered features, such as `is_weekday`, `is_late_ride`, and others work later, we only fit KMeans to the `base_metrics`, which are `ride_count`, `fare`, `unique_days`, and `ltv`."
      ]
    },
    {
      "cell_type": "code",
      "metadata": {
        "id": "6rREyPj-BEby",
        "colab_type": "code",
        "colab": {}
      },
      "source": [
        "from sklearn.cluster import KMeans\n",
        "from sklearn.metrics import silhouette_score"
      ],
      "execution_count": 0,
      "outputs": []
    },
    {
      "cell_type": "code",
      "metadata": {
        "id": "tV_5ubkShCCu",
        "colab_type": "code",
        "outputId": "d3da227f-4d9d-43d9-83f7-034ae2570d7e",
        "colab": {
          "base_uri": "https://localhost:8080/",
          "height": 35
        }
      },
      "source": [
        "# only fit base_metrics for KMeans\n",
        "lvt_matrix = ltv[base_metrics].values\n",
        "\n",
        "CLUSTERS = 3\n",
        "\n",
        "kmeans = KMeans(n_clusters=CLUSTERS, init='k-means++', n_init=40)\n",
        "kmeans.fit(lvt_matrix)\n",
        "\n",
        "clusters = kmeans.predict(lvt_matrix)\n",
        "\n",
        "print(\"The average silhouette_score is: {:.4f}\".format(silhouette_score(lvt_matrix, clusters)))"
      ],
      "execution_count": 114,
      "outputs": [
        {
          "output_type": "stream",
          "text": [
            "The average silhouette_score is: 0.5659\n"
          ],
          "name": "stdout"
        }
      ]
    },
    {
      "cell_type": "code",
      "metadata": {
        "id": "C6VQ5JpVBWJR",
        "colab_type": "code",
        "outputId": "50efc6b5-42b7-42a7-ceb3-9e16a50a29e8",
        "colab": {
          "base_uri": "https://localhost:8080/",
          "height": 86
        }
      },
      "source": [
        "pd.Series(clusters).value_counts()"
      ],
      "execution_count": 115,
      "outputs": [
        {
          "output_type": "execute_result",
          "data": {
            "text/plain": [
              "1    401\n",
              "0    375\n",
              "2    161\n",
              "dtype: int64"
            ]
          },
          "metadata": {
            "tags": []
          },
          "execution_count": 115
        }
      ]
    },
    {
      "cell_type": "markdown",
      "metadata": {
        "id": "dF1YjdmAWhJK",
        "colab_type": "text"
      },
      "source": [
        "To further perform an anlysis on the other features we created, we create a list of `metrics` as follows."
      ]
    },
    {
      "cell_type": "code",
      "metadata": {
        "id": "9H-u3pUSVrv1",
        "colab_type": "code",
        "colab": {
          "base_uri": "https://localhost:8080/",
          "height": 190
        },
        "outputId": "5bfac79f-bac8-4eb8-db7c-5e8c80e50e98"
      },
      "source": [
        "exclude = ['driver_id', 'ride_count', 'unique_days', 'average_val']\n",
        "metrics = [col for col in ltv.columns if col not in exclude]\n",
        "\n",
        "metrics"
      ],
      "execution_count": 116,
      "outputs": [
        {
          "output_type": "execute_result",
          "data": {
            "text/plain": [
              "['drop_requested_lag',\n",
              " 'ride_prime_time',\n",
              " 'fare',\n",
              " 'driving_period',\n",
              " 'pickup_window',\n",
              " 'is_weekday',\n",
              " 'is_late_ride',\n",
              " 'average_ride_val',\n",
              " 'average_ride_freq',\n",
              " 'ltv']"
            ]
          },
          "metadata": {
            "tags": []
          },
          "execution_count": 116
        }
      ]
    },
    {
      "cell_type": "markdown",
      "metadata": {
        "id": "38A7-wAAU-o3",
        "colab_type": "text"
      },
      "source": [
        "## Radar chart\n",
        "The maximum value for each feature is calculated to scale our radar chart."
      ]
    },
    {
      "cell_type": "code",
      "metadata": {
        "id": "2pg9QZLVdWdz",
        "colab_type": "code",
        "outputId": "0755580d-6724-4b27-9ee6-02aef5c1da24",
        "colab": {
          "base_uri": "https://localhost:8080/",
          "height": 69
        }
      },
      "source": [
        "ltv['clusters'] = clusters\n",
        "\n",
        "scale_max = ltv[metrics].max().values\n",
        "\n",
        "scale_max"
      ],
      "execution_count": 117,
      "outputs": [
        {
          "output_type": "execute_result",
          "data": {
            "text/plain": [
              "array([3.85809615e+04, 1.46875000e+02, 1.23502881e+04, 9.00000000e+01,\n",
              "       4.12500000e+01, 1.00000000e+00, 9.03448276e-01, 2.59015036e+01,\n",
              "       1.75000000e+01, 3.01543348e+05])"
            ]
          },
          "metadata": {
            "tags": []
          },
          "execution_count": 117
        }
      ]
    },
    {
      "cell_type": "code",
      "metadata": {
        "id": "5BVx9EW3SNfL",
        "colab_type": "code",
        "colab": {}
      },
      "source": [
        "def radar_cluster(i):\n",
        "    radar = pd.DataFrame(ltv[ltv['clusters'] == i][metrics].mean()).reset_index()\n",
        "\n",
        "    radar['r'] = radar.loc[:, 0] / scale_max\n",
        "\n",
        "    radar.rename(columns={'index': 'theta'}, inplace=True)\n",
        "\n",
        "    return radar"
      ],
      "execution_count": 0,
      "outputs": []
    },
    {
      "cell_type": "markdown",
      "metadata": {
        "id": "fPsrAYvIXDUS",
        "colab_type": "text"
      },
      "source": [
        "Plot the radar chart."
      ]
    },
    {
      "cell_type": "code",
      "metadata": {
        "id": "ufO9cHrONcbt",
        "colab_type": "code",
        "colab": {
          "base_uri": "https://localhost:8080/",
          "height": 542
        },
        "outputId": "9f52b72e-c44a-4e93-e3e8-078faca362e4"
      },
      "source": [
        "fig = go.Figure()\n",
        "\n",
        "fig.add_trace(go.Scatterpolar(\n",
        "      r=radar_cluster(0)['r'],\n",
        "      theta=radar_cluster(0)['theta'],\n",
        "      fill='toself',\n",
        "      name='Cluster 0'\n",
        "))\n",
        "fig.add_trace(go.Scatterpolar(\n",
        "      r=radar_cluster(1)['r'],\n",
        "      theta=radar_cluster(1)['theta'],\n",
        "      fill='toself',\n",
        "      name='Cluster 1'\n",
        "))\n",
        "fig.add_trace(go.Scatterpolar(\n",
        "      r=radar_cluster(2)['r'],\n",
        "      theta=radar_cluster(2)['theta'],\n",
        "      fill='toself',\n",
        "      name='Cluster 2'\n",
        "))\n",
        "\n",
        "\n",
        "fig.update_layout(\n",
        "  polar=dict(\n",
        "    radialaxis=dict(\n",
        "      visible=True,\n",
        "      range=[0, 0.8]\n",
        "    )),\n",
        "  showlegend=False\n",
        ")\n",
        "\n",
        "fig.show()"
      ],
      "execution_count": 119,
      "outputs": [
        {
          "output_type": "display_data",
          "data": {
            "text/html": [
              "<html>\n",
              "<head><meta charset=\"utf-8\" /></head>\n",
              "<body>\n",
              "    <div>\n",
              "            <script src=\"https://cdnjs.cloudflare.com/ajax/libs/mathjax/2.7.5/MathJax.js?config=TeX-AMS-MML_SVG\"></script><script type=\"text/javascript\">if (window.MathJax) {MathJax.Hub.Config({SVG: {font: \"STIX-Web\"}});}</script>\n",
              "                <script type=\"text/javascript\">window.PlotlyConfig = {MathJaxConfig: 'local'};</script>\n",
              "        <script src=\"https://cdn.plot.ly/plotly-latest.min.js\"></script>    \n",
              "            <div id=\"98f81f0a-623e-4f94-bc14-47d2c883035a\" class=\"plotly-graph-div\" style=\"height:525px; width:100%;\"></div>\n",
              "            <script type=\"text/javascript\">\n",
              "                \n",
              "                    window.PLOTLYENV=window.PLOTLYENV || {};\n",
              "                    \n",
              "                if (document.getElementById(\"98f81f0a-623e-4f94-bc14-47d2c883035a\")) {\n",
              "                    Plotly.newPlot(\n",
              "                        '98f81f0a-623e-4f94-bc14-47d2c883035a',\n",
              "                        [{\"fill\": \"toself\", \"name\": \"Cluster 0\", \"r\": [0.19020455530727048, 0.3341012793446954, 0.2761255800251974, 0.662152117667907, 0.2850406811582237, 0.7025847518441483, 0.17711420066284259, 0.5258359567927369, 0.3865664102900483, 0.38158075959716764], \"theta\": [\"drop_requested_lag\", \"ride_prime_time\", \"fare\", \"driving_period\", \"pickup_window\", \"is_weekday\", \"is_late_ride\", \"average_ride_val\", \"average_ride_freq\", \"ltv\"], \"type\": \"scatterpolar\"}, {\"fill\": \"toself\", \"name\": \"Cluster 1\", \"r\": [0.2625274621359687, 0.3298891146346294, 0.08589783875138497, 0.564925803513544, 0.29563437713288204, 0.5563217569752564, 0.13527806653522087, 0.5207874904826814, 0.1993894581002244, 0.19509733866632664], \"theta\": [\"drop_requested_lag\", \"ride_prime_time\", \"fare\", \"driving_period\", \"pickup_window\", \"is_weekday\", \"is_late_ride\", \"average_ride_val\", \"average_ride_freq\", \"ltv\"], \"type\": \"scatterpolar\"}, {\"fill\": \"toself\", \"name\": \"Cluster 2\", \"r\": [0.14362997369542482, 0.3359684176801301, 0.4602230762465475, 0.6154589371980677, 0.27810488068816575, 0.7007401524098498, 0.18525345349160116, 0.5358789278380374, 0.5950815519337361, 0.5997969334826255], \"theta\": [\"drop_requested_lag\", \"ride_prime_time\", \"fare\", \"driving_period\", \"pickup_window\", \"is_weekday\", \"is_late_ride\", \"average_ride_val\", \"average_ride_freq\", \"ltv\"], \"type\": \"scatterpolar\"}],\n",
              "                        {\"polar\": {\"radialaxis\": {\"range\": [0, 0.8], \"visible\": true}}, \"showlegend\": false, \"template\": {\"data\": {\"bar\": [{\"error_x\": {\"color\": \"#2a3f5f\"}, \"error_y\": {\"color\": \"#2a3f5f\"}, \"marker\": {\"line\": {\"color\": \"#E5ECF6\", \"width\": 0.5}}, \"type\": \"bar\"}], \"barpolar\": [{\"marker\": {\"line\": {\"color\": \"#E5ECF6\", \"width\": 0.5}}, \"type\": \"barpolar\"}], \"carpet\": [{\"aaxis\": {\"endlinecolor\": \"#2a3f5f\", \"gridcolor\": \"white\", \"linecolor\": \"white\", \"minorgridcolor\": \"white\", \"startlinecolor\": \"#2a3f5f\"}, \"baxis\": {\"endlinecolor\": \"#2a3f5f\", \"gridcolor\": \"white\", \"linecolor\": \"white\", \"minorgridcolor\": \"white\", \"startlinecolor\": \"#2a3f5f\"}, \"type\": \"carpet\"}], \"choropleth\": [{\"colorbar\": {\"outlinewidth\": 0, \"ticks\": \"\"}, \"type\": \"choropleth\"}], \"contour\": [{\"colorbar\": {\"outlinewidth\": 0, \"ticks\": \"\"}, \"colorscale\": [[0.0, \"#0d0887\"], [0.1111111111111111, \"#46039f\"], [0.2222222222222222, \"#7201a8\"], [0.3333333333333333, \"#9c179e\"], [0.4444444444444444, \"#bd3786\"], [0.5555555555555556, \"#d8576b\"], [0.6666666666666666, \"#ed7953\"], [0.7777777777777778, \"#fb9f3a\"], [0.8888888888888888, \"#fdca26\"], [1.0, \"#f0f921\"]], \"type\": \"contour\"}], \"contourcarpet\": [{\"colorbar\": {\"outlinewidth\": 0, \"ticks\": \"\"}, \"type\": \"contourcarpet\"}], \"heatmap\": [{\"colorbar\": {\"outlinewidth\": 0, \"ticks\": \"\"}, \"colorscale\": [[0.0, \"#0d0887\"], [0.1111111111111111, \"#46039f\"], [0.2222222222222222, \"#7201a8\"], [0.3333333333333333, \"#9c179e\"], [0.4444444444444444, \"#bd3786\"], [0.5555555555555556, \"#d8576b\"], [0.6666666666666666, \"#ed7953\"], [0.7777777777777778, \"#fb9f3a\"], [0.8888888888888888, \"#fdca26\"], [1.0, \"#f0f921\"]], \"type\": \"heatmap\"}], \"heatmapgl\": [{\"colorbar\": {\"outlinewidth\": 0, \"ticks\": \"\"}, \"colorscale\": [[0.0, \"#0d0887\"], [0.1111111111111111, \"#46039f\"], [0.2222222222222222, \"#7201a8\"], [0.3333333333333333, \"#9c179e\"], [0.4444444444444444, \"#bd3786\"], [0.5555555555555556, \"#d8576b\"], [0.6666666666666666, \"#ed7953\"], [0.7777777777777778, \"#fb9f3a\"], [0.8888888888888888, \"#fdca26\"], [1.0, \"#f0f921\"]], \"type\": \"heatmapgl\"}], \"histogram\": [{\"marker\": {\"colorbar\": {\"outlinewidth\": 0, \"ticks\": \"\"}}, \"type\": \"histogram\"}], \"histogram2d\": [{\"colorbar\": {\"outlinewidth\": 0, \"ticks\": \"\"}, \"colorscale\": [[0.0, \"#0d0887\"], [0.1111111111111111, \"#46039f\"], [0.2222222222222222, \"#7201a8\"], [0.3333333333333333, \"#9c179e\"], [0.4444444444444444, \"#bd3786\"], [0.5555555555555556, \"#d8576b\"], [0.6666666666666666, \"#ed7953\"], [0.7777777777777778, \"#fb9f3a\"], [0.8888888888888888, \"#fdca26\"], [1.0, \"#f0f921\"]], \"type\": \"histogram2d\"}], \"histogram2dcontour\": [{\"colorbar\": {\"outlinewidth\": 0, \"ticks\": \"\"}, \"colorscale\": [[0.0, \"#0d0887\"], [0.1111111111111111, \"#46039f\"], [0.2222222222222222, \"#7201a8\"], [0.3333333333333333, \"#9c179e\"], [0.4444444444444444, \"#bd3786\"], [0.5555555555555556, \"#d8576b\"], [0.6666666666666666, \"#ed7953\"], [0.7777777777777778, \"#fb9f3a\"], [0.8888888888888888, \"#fdca26\"], [1.0, \"#f0f921\"]], \"type\": \"histogram2dcontour\"}], \"mesh3d\": [{\"colorbar\": {\"outlinewidth\": 0, \"ticks\": \"\"}, \"type\": \"mesh3d\"}], \"parcoords\": [{\"line\": {\"colorbar\": {\"outlinewidth\": 0, \"ticks\": \"\"}}, \"type\": \"parcoords\"}], \"scatter\": [{\"marker\": {\"colorbar\": {\"outlinewidth\": 0, \"ticks\": \"\"}}, \"type\": \"scatter\"}], \"scatter3d\": [{\"line\": {\"colorbar\": {\"outlinewidth\": 0, \"ticks\": \"\"}}, \"marker\": {\"colorbar\": {\"outlinewidth\": 0, \"ticks\": \"\"}}, \"type\": \"scatter3d\"}], \"scattercarpet\": [{\"marker\": {\"colorbar\": {\"outlinewidth\": 0, \"ticks\": \"\"}}, \"type\": \"scattercarpet\"}], \"scattergeo\": [{\"marker\": {\"colorbar\": {\"outlinewidth\": 0, \"ticks\": \"\"}}, \"type\": \"scattergeo\"}], \"scattergl\": [{\"marker\": {\"colorbar\": {\"outlinewidth\": 0, \"ticks\": \"\"}}, \"type\": \"scattergl\"}], \"scattermapbox\": [{\"marker\": {\"colorbar\": {\"outlinewidth\": 0, \"ticks\": \"\"}}, \"type\": \"scattermapbox\"}], \"scatterpolar\": [{\"marker\": {\"colorbar\": {\"outlinewidth\": 0, \"ticks\": \"\"}}, \"type\": \"scatterpolar\"}], \"scatterpolargl\": [{\"marker\": {\"colorbar\": {\"outlinewidth\": 0, \"ticks\": \"\"}}, \"type\": \"scatterpolargl\"}], \"scatterternary\": [{\"marker\": {\"colorbar\": {\"outlinewidth\": 0, \"ticks\": \"\"}}, \"type\": \"scatterternary\"}], \"surface\": [{\"colorbar\": {\"outlinewidth\": 0, \"ticks\": \"\"}, \"colorscale\": [[0.0, \"#0d0887\"], [0.1111111111111111, \"#46039f\"], [0.2222222222222222, \"#7201a8\"], [0.3333333333333333, \"#9c179e\"], [0.4444444444444444, \"#bd3786\"], [0.5555555555555556, \"#d8576b\"], [0.6666666666666666, \"#ed7953\"], [0.7777777777777778, \"#fb9f3a\"], [0.8888888888888888, \"#fdca26\"], [1.0, \"#f0f921\"]], \"type\": \"surface\"}], \"table\": [{\"cells\": {\"fill\": {\"color\": \"#EBF0F8\"}, \"line\": {\"color\": \"white\"}}, \"header\": {\"fill\": {\"color\": \"#C8D4E3\"}, \"line\": {\"color\": \"white\"}}, \"type\": \"table\"}]}, \"layout\": {\"annotationdefaults\": {\"arrowcolor\": \"#2a3f5f\", \"arrowhead\": 0, \"arrowwidth\": 1}, \"colorscale\": {\"diverging\": [[0, \"#8e0152\"], [0.1, \"#c51b7d\"], [0.2, \"#de77ae\"], [0.3, \"#f1b6da\"], [0.4, \"#fde0ef\"], [0.5, \"#f7f7f7\"], [0.6, \"#e6f5d0\"], [0.7, \"#b8e186\"], [0.8, \"#7fbc41\"], [0.9, \"#4d9221\"], [1, \"#276419\"]], \"sequential\": [[0.0, \"#0d0887\"], [0.1111111111111111, \"#46039f\"], [0.2222222222222222, \"#7201a8\"], [0.3333333333333333, \"#9c179e\"], [0.4444444444444444, \"#bd3786\"], [0.5555555555555556, \"#d8576b\"], [0.6666666666666666, \"#ed7953\"], [0.7777777777777778, \"#fb9f3a\"], [0.8888888888888888, \"#fdca26\"], [1.0, \"#f0f921\"]], \"sequentialminus\": [[0.0, \"#0d0887\"], [0.1111111111111111, \"#46039f\"], [0.2222222222222222, \"#7201a8\"], [0.3333333333333333, \"#9c179e\"], [0.4444444444444444, \"#bd3786\"], [0.5555555555555556, \"#d8576b\"], [0.6666666666666666, \"#ed7953\"], [0.7777777777777778, \"#fb9f3a\"], [0.8888888888888888, \"#fdca26\"], [1.0, \"#f0f921\"]]}, \"colorway\": [\"#636efa\", \"#EF553B\", \"#00cc96\", \"#ab63fa\", \"#FFA15A\", \"#19d3f3\", \"#FF6692\", \"#B6E880\", \"#FF97FF\", \"#FECB52\"], \"font\": {\"color\": \"#2a3f5f\"}, \"geo\": {\"bgcolor\": \"white\", \"lakecolor\": \"white\", \"landcolor\": \"#E5ECF6\", \"showlakes\": true, \"showland\": true, \"subunitcolor\": \"white\"}, \"hoverlabel\": {\"align\": \"left\"}, \"hovermode\": \"closest\", \"mapbox\": {\"style\": \"light\"}, \"paper_bgcolor\": \"white\", \"plot_bgcolor\": \"#E5ECF6\", \"polar\": {\"angularaxis\": {\"gridcolor\": \"white\", \"linecolor\": \"white\", \"ticks\": \"\"}, \"bgcolor\": \"#E5ECF6\", \"radialaxis\": {\"gridcolor\": \"white\", \"linecolor\": \"white\", \"ticks\": \"\"}}, \"scene\": {\"xaxis\": {\"backgroundcolor\": \"#E5ECF6\", \"gridcolor\": \"white\", \"gridwidth\": 2, \"linecolor\": \"white\", \"showbackground\": true, \"ticks\": \"\", \"zerolinecolor\": \"white\"}, \"yaxis\": {\"backgroundcolor\": \"#E5ECF6\", \"gridcolor\": \"white\", \"gridwidth\": 2, \"linecolor\": \"white\", \"showbackground\": true, \"ticks\": \"\", \"zerolinecolor\": \"white\"}, \"zaxis\": {\"backgroundcolor\": \"#E5ECF6\", \"gridcolor\": \"white\", \"gridwidth\": 2, \"linecolor\": \"white\", \"showbackground\": true, \"ticks\": \"\", \"zerolinecolor\": \"white\"}}, \"shapedefaults\": {\"line\": {\"color\": \"#2a3f5f\"}}, \"ternary\": {\"aaxis\": {\"gridcolor\": \"white\", \"linecolor\": \"white\", \"ticks\": \"\"}, \"baxis\": {\"gridcolor\": \"white\", \"linecolor\": \"white\", \"ticks\": \"\"}, \"bgcolor\": \"#E5ECF6\", \"caxis\": {\"gridcolor\": \"white\", \"linecolor\": \"white\", \"ticks\": \"\"}}, \"title\": {\"x\": 0.05}, \"xaxis\": {\"automargin\": true, \"gridcolor\": \"white\", \"linecolor\": \"white\", \"ticks\": \"\", \"zerolinecolor\": \"white\", \"zerolinewidth\": 2}, \"yaxis\": {\"automargin\": true, \"gridcolor\": \"white\", \"linecolor\": \"white\", \"ticks\": \"\", \"zerolinecolor\": \"white\", \"zerolinewidth\": 2}}}},\n",
              "                        {\"responsive\": true}\n",
              "                    ).then(function(){\n",
              "                            \n",
              "var gd = document.getElementById('98f81f0a-623e-4f94-bc14-47d2c883035a');\n",
              "var x = new MutationObserver(function (mutations, observer) {{\n",
              "        var display = window.getComputedStyle(gd).display;\n",
              "        if (!display || display === 'none') {{\n",
              "            console.log([gd, 'removed!']);\n",
              "            Plotly.purge(gd);\n",
              "            observer.disconnect();\n",
              "        }}\n",
              "}});\n",
              "\n",
              "// Listen for the removal of the full notebook cells\n",
              "var notebookContainer = gd.closest('#notebook-container');\n",
              "if (notebookContainer) {{\n",
              "    x.observe(notebookContainer, {childList: true});\n",
              "}}\n",
              "\n",
              "// Listen for the clearing of the current output cell\n",
              "var outputEl = gd.closest('.output');\n",
              "if (outputEl) {{\n",
              "    x.observe(outputEl, {childList: true});\n",
              "}}\n",
              "\n",
              "                        })\n",
              "                };\n",
              "                \n",
              "            </script>\n",
              "        </div>\n",
              "</body>\n",
              "</html>"
            ]
          },
          "metadata": {
            "tags": []
          }
        }
      ]
    },
    {
      "cell_type": "markdown",
      "metadata": {
        "id": "ydrSWB-nXISI",
        "colab_type": "text"
      },
      "source": [
        "From this radar chart, we observe that even we only fitted KMeans with the 4 base metrics: `ride_count`, `fare`, `unique_days`, and `ltv` to get 3 clusters, other feature such as `is_weekday` is fairly distinct for the clusters above. We then conclude that `is_weekday` might be a useful feature to help segmenting drivers."
      ]
    },
    {
      "cell_type": "markdown",
      "metadata": {
        "id": "A7sFLNvRW722",
        "colab_type": "text"
      },
      "source": [
        "## UMAP\n",
        "We also attempted to perform UMAP on the metrices. It seems like we are able to separate each cluster out distinctly."
      ]
    },
    {
      "cell_type": "code",
      "metadata": {
        "id": "i8zX-SaSRqIi",
        "colab_type": "code",
        "colab": {
          "base_uri": "https://localhost:8080/",
          "height": 283
        },
        "outputId": "3e066853-28d6-4f23-8865-6a9badb900ea"
      },
      "source": [
        "reducer = umap.UMAP()\n",
        "\n",
        "embedding = reducer.fit_transform(ltv[metrics])\n",
        "\n",
        "plt.title('UMAP on Metrics', fontsize=14)\n",
        "sns.scatterplot(x=embedding[:, 0], y=embedding[:, 1],\n",
        "                hue=ltv['clusters'])\n",
        "plt.show()"
      ],
      "execution_count": 120,
      "outputs": [
        {
          "output_type": "display_data",
          "data": {
            "image/png": "[encoded data removed]",
            "text/plain": [
              "<Figure size 432x288 with 1 Axes>"
            ]
          },
          "metadata": {
            "tags": []
          }
        }
      ]
    },
    {
      "cell_type": "code",
      "metadata": {
        "id": "0VgBWjNiX9Ef",
        "colab_type": "code",
        "colab": {}
      },
      "source": [
        ""
      ],
      "execution_count": 0,
      "outputs": []
    }
  ]
}