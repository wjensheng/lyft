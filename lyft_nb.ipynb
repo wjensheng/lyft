{
  "nbformat": 4,
  "nbformat_minor": 0,
  "metadata": {
    "colab": {
      "name": "recent_lyft_nb.ipynb",
      "version": "0.3.2",
      "provenance": [],
      "collapsed_sections": []
    },
    "kernelspec": {
      "name": "python3",
      "display_name": "Python 3"
    }
  },
  "cells": [
    {
      "cell_type": "code",
      "metadata": {
        "id": "bqwpUZL8s7TH",
        "colab_type": "code",
        "outputId": "ee48b7e6-8749-4bd5-d270-a1e519dd1f00",
        "colab": {
          "base_uri": "https://localhost:8080/",
          "height": 55
        }
      },
      "source": [
        "# Load the Drive helper and mount\n",
        "from google.colab import drive\n",
        "\n",
        "# This will prompt for authorization.\n",
        "drive.mount('/content/drive')"
      ],
      "execution_count": 2,
      "outputs": [
        {
          "output_type": "stream",
          "text": [
            "Drive already mounted at /content/drive; to attempt to forcibly remount, call drive.mount(\"/content/drive\", force_remount=True).\n"
          ],
          "name": "stdout"
        }
      ]
    },
    {
      "cell_type": "code",
      "metadata": {
        "id": "d6MuCbuTYv-r",
        "colab_type": "code",
        "outputId": "96d3fe17-ee9d-42e6-e2ee-9d8c763ef79a",
        "colab": {
          "base_uri": "https://localhost:8080/",
          "height": 279
        }
      },
      "source": [
        "!pip install plotly_express"
      ],
      "execution_count": 3,
      "outputs": [
        {
          "output_type": "stream",
          "text": [
            "Collecting plotly_express\n",
            "  Downloading https://files.pythonhosted.org/packages/d4/d6/8a2906f51e073a4be80cab35cfa10e7a34853e60f3ed5304ac470852a08d/plotly_express-0.4.1-py2.py3-none-any.whl\n",
            "Requirement already satisfied: scipy>=0.18 in /usr/local/lib/python3.6/dist-packages (from plotly_express) (1.3.1)\n",
            "Requirement already satisfied: statsmodels>=0.9.0 in /usr/local/lib/python3.6/dist-packages (from plotly_express) (0.10.1)\n",
            "Requirement already satisfied: plotly>=4.1.0 in /usr/local/lib/python3.6/dist-packages (from plotly_express) (4.1.1)\n",
            "Requirement already satisfied: pandas>=0.20.0 in /usr/local/lib/python3.6/dist-packages (from plotly_express) (0.24.2)\n",
            "Requirement already satisfied: patsy>=0.5 in /usr/local/lib/python3.6/dist-packages (from plotly_express) (0.5.1)\n",
            "Requirement already satisfied: numpy>=1.11 in /usr/local/lib/python3.6/dist-packages (from plotly_express) (1.16.5)\n",
            "Requirement already satisfied: retrying>=1.3.3 in /usr/local/lib/python3.6/dist-packages (from plotly>=4.1.0->plotly_express) (1.3.3)\n",
            "Requirement already satisfied: six in /usr/local/lib/python3.6/dist-packages (from plotly>=4.1.0->plotly_express) (1.12.0)\n",
            "Requirement already satisfied: pytz>=2011k in /usr/local/lib/python3.6/dist-packages (from pandas>=0.20.0->plotly_express) (2018.9)\n",
            "Requirement already satisfied: python-dateutil>=2.5.0 in /usr/local/lib/python3.6/dist-packages (from pandas>=0.20.0->plotly_express) (2.5.3)\n",
            "Installing collected packages: plotly-express\n",
            "Successfully installed plotly-express-0.4.1\n"
          ],
          "name": "stdout"
        }
      ]
    },
    {
      "cell_type": "markdown",
      "metadata": {
        "id": "MWBk1DIQHUS5",
        "colab_type": "text"
      },
      "source": [
        "## Goal\n",
        "The goal of this notebook is essentially to recommend a driver's lifetime value (LTV). "
      ]
    },
    {
      "cell_type": "code",
      "metadata": {
        "id": "Sc0b20Quwzh-",
        "colab_type": "code",
        "colab": {}
      },
      "source": [
        "import os\n",
        "\n",
        "# change to path\n",
        "PATH='/content/drive/My Drive/Colab Notebooks/lyft'\n",
        "os.chdir(PATH)\n",
        "\n",
        "DATA_DIR = os.path.join(PATH, 'data')"
      ],
      "execution_count": 0,
      "outputs": []
    },
    {
      "cell_type": "code",
      "metadata": {
        "id": "7MniS3nJ06ZV",
        "colab_type": "code",
        "colab": {}
      },
      "source": [
        "import pandas as pd\n",
        "import numpy as np\n",
        "\n",
        "import matplotlib.pyplot as plt\n",
        "import seaborn as sns\n",
        "\n",
        "import plotly.graph_objects as go\n",
        "import plotly_express as px\n",
        "\n",
        "import umap\n",
        "\n",
        "from datetime import datetime\n",
        "\n",
        "import warnings\n",
        "warnings.simplefilter(action='ignore')"
      ],
      "execution_count": 0,
      "outputs": []
    },
    {
      "cell_type": "markdown",
      "metadata": {
        "id": "lrO7dc5-1y_k",
        "colab_type": "text"
      },
      "source": [
        "## Read in"
      ]
    },
    {
      "cell_type": "code",
      "metadata": {
        "id": "8qhewH_DxNYh",
        "colab_type": "code",
        "colab": {}
      },
      "source": [
        "ride_timestamps = pd.read_csv(os.path.join(DATA_DIR, 'ride_timestamps.csv'))\n",
        "ride_ids = pd.read_csv(os.path.join(DATA_DIR, 'ride_ids.csv'))\n",
        "driver_ids = pd.read_csv(os.path.join(DATA_DIR, 'driver_ids.csv'))"
      ],
      "execution_count": 0,
      "outputs": []
    },
    {
      "cell_type": "code",
      "metadata": {
        "id": "TiQ_yh3Y05ex",
        "colab_type": "code",
        "outputId": "57cde88e-fb4d-4208-a4d5-c20eb369075d",
        "colab": {
          "base_uri": "https://localhost:8080/",
          "height": 198
        }
      },
      "source": [
        "ride_timestamps.head()"
      ],
      "execution_count": 7,
      "outputs": [
        {
          "output_type": "execute_result",
          "data": {
            "text/html": [
              "<div>\n",
              "<style scoped>\n",
              "    .dataframe tbody tr th:only-of-type {\n",
              "        vertical-align: middle;\n",
              "    }\n",
              "\n",
              "    .dataframe tbody tr th {\n",
              "        vertical-align: top;\n",
              "    }\n",
              "\n",
              "    .dataframe thead th {\n",
              "        text-align: right;\n",
              "    }\n",
              "</style>\n",
              "<table border=\"1\" class=\"dataframe\">\n",
              "  <thead>\n",
              "    <tr style=\"text-align: right;\">\n",
              "      <th></th>\n",
              "      <th>ride_id</th>\n",
              "      <th>event</th>\n",
              "      <th>timestamp</th>\n",
              "    </tr>\n",
              "  </thead>\n",
              "  <tbody>\n",
              "    <tr>\n",
              "      <th>0</th>\n",
              "      <td>00003037a262d9ee40e61b5c0718f7f0</td>\n",
              "      <td>requested_at</td>\n",
              "      <td>2016-06-13 09:39:19</td>\n",
              "    </tr>\n",
              "    <tr>\n",
              "      <th>1</th>\n",
              "      <td>00003037a262d9ee40e61b5c0718f7f0</td>\n",
              "      <td>accepted_at</td>\n",
              "      <td>2016-06-13 09:39:51</td>\n",
              "    </tr>\n",
              "    <tr>\n",
              "      <th>2</th>\n",
              "      <td>00003037a262d9ee40e61b5c0718f7f0</td>\n",
              "      <td>arrived_at</td>\n",
              "      <td>2016-06-13 09:44:31</td>\n",
              "    </tr>\n",
              "    <tr>\n",
              "      <th>3</th>\n",
              "      <td>00003037a262d9ee40e61b5c0718f7f0</td>\n",
              "      <td>picked_up_at</td>\n",
              "      <td>2016-06-13 09:44:33</td>\n",
              "    </tr>\n",
              "    <tr>\n",
              "      <th>4</th>\n",
              "      <td>00003037a262d9ee40e61b5c0718f7f0</td>\n",
              "      <td>dropped_off_at</td>\n",
              "      <td>2016-06-13 10:03:05</td>\n",
              "    </tr>\n",
              "  </tbody>\n",
              "</table>\n",
              "</div>"
            ],
            "text/plain": [
              "                            ride_id           event            timestamp\n",
              "0  00003037a262d9ee40e61b5c0718f7f0    requested_at  2016-06-13 09:39:19\n",
              "1  00003037a262d9ee40e61b5c0718f7f0     accepted_at  2016-06-13 09:39:51\n",
              "2  00003037a262d9ee40e61b5c0718f7f0      arrived_at  2016-06-13 09:44:31\n",
              "3  00003037a262d9ee40e61b5c0718f7f0    picked_up_at  2016-06-13 09:44:33\n",
              "4  00003037a262d9ee40e61b5c0718f7f0  dropped_off_at  2016-06-13 10:03:05"
            ]
          },
          "metadata": {
            "tags": []
          },
          "execution_count": 7
        }
      ]
    },
    {
      "cell_type": "code",
      "metadata": {
        "id": "jXyDlDMo07EH",
        "colab_type": "code",
        "outputId": "1bcc3462-ccac-442c-c2a8-acdaeeae7b1e",
        "colab": {
          "base_uri": "https://localhost:8080/",
          "height": 198
        }
      },
      "source": [
        "ride_ids.head()"
      ],
      "execution_count": 8,
      "outputs": [
        {
          "output_type": "execute_result",
          "data": {
            "text/html": [
              "<div>\n",
              "<style scoped>\n",
              "    .dataframe tbody tr th:only-of-type {\n",
              "        vertical-align: middle;\n",
              "    }\n",
              "\n",
              "    .dataframe tbody tr th {\n",
              "        vertical-align: top;\n",
              "    }\n",
              "\n",
              "    .dataframe thead th {\n",
              "        text-align: right;\n",
              "    }\n",
              "</style>\n",
              "<table border=\"1\" class=\"dataframe\">\n",
              "  <thead>\n",
              "    <tr style=\"text-align: right;\">\n",
              "      <th></th>\n",
              "      <th>driver_id</th>\n",
              "      <th>ride_id</th>\n",
              "      <th>ride_distance</th>\n",
              "      <th>ride_duration</th>\n",
              "      <th>ride_prime_time</th>\n",
              "    </tr>\n",
              "  </thead>\n",
              "  <tbody>\n",
              "    <tr>\n",
              "      <th>0</th>\n",
              "      <td>002be0ffdc997bd5c50703158b7c2491</td>\n",
              "      <td>006d61cf7446e682f7bc50b0f8a5bea5</td>\n",
              "      <td>1811</td>\n",
              "      <td>327</td>\n",
              "      <td>50</td>\n",
              "    </tr>\n",
              "    <tr>\n",
              "      <th>1</th>\n",
              "      <td>002be0ffdc997bd5c50703158b7c2491</td>\n",
              "      <td>01b522c5c3a756fbdb12e95e87507eda</td>\n",
              "      <td>3362</td>\n",
              "      <td>809</td>\n",
              "      <td>0</td>\n",
              "    </tr>\n",
              "    <tr>\n",
              "      <th>2</th>\n",
              "      <td>002be0ffdc997bd5c50703158b7c2491</td>\n",
              "      <td>029227c4c2971ce69ff2274dc798ef43</td>\n",
              "      <td>3282</td>\n",
              "      <td>572</td>\n",
              "      <td>0</td>\n",
              "    </tr>\n",
              "    <tr>\n",
              "      <th>3</th>\n",
              "      <td>002be0ffdc997bd5c50703158b7c2491</td>\n",
              "      <td>034e861343a63ac3c18a9ceb1ce0ac69</td>\n",
              "      <td>65283</td>\n",
              "      <td>3338</td>\n",
              "      <td>25</td>\n",
              "    </tr>\n",
              "    <tr>\n",
              "      <th>4</th>\n",
              "      <td>002be0ffdc997bd5c50703158b7c2491</td>\n",
              "      <td>034f2e614a2f9fc7f1c2f77647d1b981</td>\n",
              "      <td>4115</td>\n",
              "      <td>823</td>\n",
              "      <td>100</td>\n",
              "    </tr>\n",
              "  </tbody>\n",
              "</table>\n",
              "</div>"
            ],
            "text/plain": [
              "                          driver_id  ... ride_prime_time\n",
              "0  002be0ffdc997bd5c50703158b7c2491  ...              50\n",
              "1  002be0ffdc997bd5c50703158b7c2491  ...               0\n",
              "2  002be0ffdc997bd5c50703158b7c2491  ...               0\n",
              "3  002be0ffdc997bd5c50703158b7c2491  ...              25\n",
              "4  002be0ffdc997bd5c50703158b7c2491  ...             100\n",
              "\n",
              "[5 rows x 5 columns]"
            ]
          },
          "metadata": {
            "tags": []
          },
          "execution_count": 8
        }
      ]
    },
    {
      "cell_type": "code",
      "metadata": {
        "id": "6lHN-2Oh1wp_",
        "colab_type": "code",
        "outputId": "14650ad1-416c-4a57-fa39-9e61733fddcc",
        "colab": {
          "base_uri": "https://localhost:8080/",
          "height": 198
        }
      },
      "source": [
        "driver_ids.head()"
      ],
      "execution_count": 9,
      "outputs": [
        {
          "output_type": "execute_result",
          "data": {
            "text/html": [
              "<div>\n",
              "<style scoped>\n",
              "    .dataframe tbody tr th:only-of-type {\n",
              "        vertical-align: middle;\n",
              "    }\n",
              "\n",
              "    .dataframe tbody tr th {\n",
              "        vertical-align: top;\n",
              "    }\n",
              "\n",
              "    .dataframe thead th {\n",
              "        text-align: right;\n",
              "    }\n",
              "</style>\n",
              "<table border=\"1\" class=\"dataframe\">\n",
              "  <thead>\n",
              "    <tr style=\"text-align: right;\">\n",
              "      <th></th>\n",
              "      <th>driver_id</th>\n",
              "      <th>driver_onboard_date</th>\n",
              "    </tr>\n",
              "  </thead>\n",
              "  <tbody>\n",
              "    <tr>\n",
              "      <th>0</th>\n",
              "      <td>002be0ffdc997bd5c50703158b7c2491</td>\n",
              "      <td>2016-03-29 00:00:00</td>\n",
              "    </tr>\n",
              "    <tr>\n",
              "      <th>1</th>\n",
              "      <td>007f0389f9c7b03ef97098422f902e62</td>\n",
              "      <td>2016-03-29 00:00:00</td>\n",
              "    </tr>\n",
              "    <tr>\n",
              "      <th>2</th>\n",
              "      <td>011e5c5dfc5c2c92501b8b24d47509bc</td>\n",
              "      <td>2016-04-05 00:00:00</td>\n",
              "    </tr>\n",
              "    <tr>\n",
              "      <th>3</th>\n",
              "      <td>0152a2f305e71d26cc964f8d4411add9</td>\n",
              "      <td>2016-04-23 00:00:00</td>\n",
              "    </tr>\n",
              "    <tr>\n",
              "      <th>4</th>\n",
              "      <td>01674381af7edd264113d4e6ed55ecda</td>\n",
              "      <td>2016-04-29 00:00:00</td>\n",
              "    </tr>\n",
              "  </tbody>\n",
              "</table>\n",
              "</div>"
            ],
            "text/plain": [
              "                          driver_id  driver_onboard_date\n",
              "0  002be0ffdc997bd5c50703158b7c2491  2016-03-29 00:00:00\n",
              "1  007f0389f9c7b03ef97098422f902e62  2016-03-29 00:00:00\n",
              "2  011e5c5dfc5c2c92501b8b24d47509bc  2016-04-05 00:00:00\n",
              "3  0152a2f305e71d26cc964f8d4411add9  2016-04-23 00:00:00\n",
              "4  01674381af7edd264113d4e6ed55ecda  2016-04-29 00:00:00"
            ]
          },
          "metadata": {
            "tags": []
          },
          "execution_count": 9
        }
      ]
    },
    {
      "cell_type": "markdown",
      "metadata": {
        "id": "xb0MLQFf2iOs",
        "colab_type": "text"
      },
      "source": [
        "## EDA"
      ]
    },
    {
      "cell_type": "markdown",
      "metadata": {
        "id": "2jTAlTw521ad",
        "colab_type": "text"
      },
      "source": [
        "### `drivers_ids`"
      ]
    },
    {
      "cell_type": "code",
      "metadata": {
        "id": "4oFPAodY2eB2",
        "colab_type": "code",
        "outputId": "6a0f72a8-e0cd-494b-ddb2-1fe3a3d4de6d",
        "colab": {
          "base_uri": "https://localhost:8080/",
          "height": 35
        }
      },
      "source": [
        "driver_ids['driver_id'].nunique() # len(driver_ids)"
      ],
      "execution_count": 10,
      "outputs": [
        {
          "output_type": "execute_result",
          "data": {
            "text/plain": [
              "937"
            ]
          },
          "metadata": {
            "tags": []
          },
          "execution_count": 10
        }
      ]
    },
    {
      "cell_type": "code",
      "metadata": {
        "id": "Xo8o1Wz08x9X",
        "colab_type": "code",
        "outputId": "741c15b4-c2d5-4a4f-9734-34a9d6808104",
        "colab": {
          "base_uri": "https://localhost:8080/",
          "height": 35
        }
      },
      "source": [
        "driver_ids['driver_onboard_date'].min(), driver_ids['driver_onboard_date'].max()"
      ],
      "execution_count": 11,
      "outputs": [
        {
          "output_type": "execute_result",
          "data": {
            "text/plain": [
              "('2016-03-28 00:00:00', '2016-05-15 00:00:00')"
            ]
          },
          "metadata": {
            "tags": []
          },
          "execution_count": 11
        }
      ]
    },
    {
      "cell_type": "markdown",
      "metadata": {
        "id": "ZqQ7iBVy8tXJ",
        "colab_type": "text"
      },
      "source": [
        "The file `driver_ids.csv` consists of drivers who signed up as a driver with Lyft between 2016/03/28 to 2016/05/15."
      ]
    },
    {
      "cell_type": "markdown",
      "metadata": {
        "id": "0JzldygP-ACO",
        "colab_type": "text"
      },
      "source": [
        "### `ride_timestamps`"
      ]
    },
    {
      "cell_type": "markdown",
      "metadata": {
        "id": "H72JF2EC-kv0",
        "colab_type": "text"
      },
      "source": [
        "Check whether do the rides start after all the drivers have registered."
      ]
    },
    {
      "cell_type": "code",
      "metadata": {
        "id": "aig0wTPf-MEf",
        "colab_type": "code",
        "outputId": "0ca2dd51-5338-4b6c-ef24-a7b3c28652f4",
        "colab": {
          "base_uri": "https://localhost:8080/",
          "height": 35
        }
      },
      "source": [
        "# convert timestamp to datetime object\n",
        "ride_timestamps['timestamp'] = pd.to_datetime(ride_timestamps['timestamp'])\n",
        "\n",
        "# check the min and max\n",
        "ride_timestamps['timestamp'].min(), ride_timestamps['timestamp'].max()"
      ],
      "execution_count": 12,
      "outputs": [
        {
          "output_type": "execute_result",
          "data": {
            "text/plain": [
              "(Timestamp('2016-03-28 05:48:18'), Timestamp('2016-06-27 00:50:50'))"
            ]
          },
          "metadata": {
            "tags": []
          },
          "execution_count": 12
        }
      ]
    },
    {
      "cell_type": "markdown",
      "metadata": {
        "id": "ZXcp8u_HDdQc",
        "colab_type": "text"
      },
      "source": [
        "The dataset for rides started on 2016/03/28 and ended on 2016/06/27. We proceed to perform feature engineering on the `timestamp` of each ride."
      ]
    },
    {
      "cell_type": "code",
      "metadata": {
        "id": "KLDnMVrqKdzI",
        "colab_type": "code",
        "colab": {}
      },
      "source": [
        "# Feature engineer time features\n",
        "def add_datepart(df, fldname, drop=False, time=True):\n",
        "    \"\"\"\n",
        "    Taken from fast.ai\n",
        "    Helper function that adds columns relevant to a date.\n",
        "    \"\"\"\n",
        "    import re \n",
        "    \n",
        "    fld = df[fldname]\n",
        "    fld_dtype = fld.dtype\n",
        "    if isinstance(fld_dtype, pd.core.dtypes.dtypes.DatetimeTZDtype):\n",
        "        fld_dtype = np.datetime64\n",
        "\n",
        "    if not np.issubdtype(fld_dtype, np.datetime64):\n",
        "        df[fldname] = fld = pd.to_datetime(fld, infer_datetime_format=True)\n",
        "    targ_pre = re.sub('[Dd]ate$', '', fldname)\n",
        "    attr = ['Month', 'Week', 'Day', 'Dayofweek', 'Dayofyear']\n",
        "    if time: attr = attr + ['Hour', 'Minute']\n",
        "    for n in attr: df[targ_pre + n] = getattr(fld.dt, n.lower())\n",
        "    df[targ_pre + 'Elapsed'] = fld.astype(np.int64) // 10 ** 9\n",
        "    if drop: df.drop(fldname, axis=1, inplace=True)"
      ],
      "execution_count": 0,
      "outputs": []
    },
    {
      "cell_type": "code",
      "metadata": {
        "id": "iVYFaGqaKhAx",
        "colab_type": "code",
        "outputId": "88596e76-3aa2-4a2e-c46f-ec9adfbc3e07",
        "colab": {
          "base_uri": "https://localhost:8080/",
          "height": 305
        }
      },
      "source": [
        "add_datepart(ride_timestamps, 'timestamp')\n",
        "\n",
        "ride_timestamps.head()"
      ],
      "execution_count": 14,
      "outputs": [
        {
          "output_type": "execute_result",
          "data": {
            "text/html": [
              "<div>\n",
              "<style scoped>\n",
              "    .dataframe tbody tr th:only-of-type {\n",
              "        vertical-align: middle;\n",
              "    }\n",
              "\n",
              "    .dataframe tbody tr th {\n",
              "        vertical-align: top;\n",
              "    }\n",
              "\n",
              "    .dataframe thead th {\n",
              "        text-align: right;\n",
              "    }\n",
              "</style>\n",
              "<table border=\"1\" class=\"dataframe\">\n",
              "  <thead>\n",
              "    <tr style=\"text-align: right;\">\n",
              "      <th></th>\n",
              "      <th>ride_id</th>\n",
              "      <th>event</th>\n",
              "      <th>timestamp</th>\n",
              "      <th>timestampMonth</th>\n",
              "      <th>timestampWeek</th>\n",
              "      <th>timestampDay</th>\n",
              "      <th>timestampDayofweek</th>\n",
              "      <th>timestampDayofyear</th>\n",
              "      <th>timestampHour</th>\n",
              "      <th>timestampMinute</th>\n",
              "      <th>timestampElapsed</th>\n",
              "    </tr>\n",
              "  </thead>\n",
              "  <tbody>\n",
              "    <tr>\n",
              "      <th>0</th>\n",
              "      <td>00003037a262d9ee40e61b5c0718f7f0</td>\n",
              "      <td>requested_at</td>\n",
              "      <td>2016-06-13 09:39:19</td>\n",
              "      <td>6.0</td>\n",
              "      <td>24.0</td>\n",
              "      <td>13.0</td>\n",
              "      <td>0.0</td>\n",
              "      <td>165.0</td>\n",
              "      <td>9.0</td>\n",
              "      <td>39.0</td>\n",
              "      <td>1465810759</td>\n",
              "    </tr>\n",
              "    <tr>\n",
              "      <th>1</th>\n",
              "      <td>00003037a262d9ee40e61b5c0718f7f0</td>\n",
              "      <td>accepted_at</td>\n",
              "      <td>2016-06-13 09:39:51</td>\n",
              "      <td>6.0</td>\n",
              "      <td>24.0</td>\n",
              "      <td>13.0</td>\n",
              "      <td>0.0</td>\n",
              "      <td>165.0</td>\n",
              "      <td>9.0</td>\n",
              "      <td>39.0</td>\n",
              "      <td>1465810791</td>\n",
              "    </tr>\n",
              "    <tr>\n",
              "      <th>2</th>\n",
              "      <td>00003037a262d9ee40e61b5c0718f7f0</td>\n",
              "      <td>arrived_at</td>\n",
              "      <td>2016-06-13 09:44:31</td>\n",
              "      <td>6.0</td>\n",
              "      <td>24.0</td>\n",
              "      <td>13.0</td>\n",
              "      <td>0.0</td>\n",
              "      <td>165.0</td>\n",
              "      <td>9.0</td>\n",
              "      <td>44.0</td>\n",
              "      <td>1465811071</td>\n",
              "    </tr>\n",
              "    <tr>\n",
              "      <th>3</th>\n",
              "      <td>00003037a262d9ee40e61b5c0718f7f0</td>\n",
              "      <td>picked_up_at</td>\n",
              "      <td>2016-06-13 09:44:33</td>\n",
              "      <td>6.0</td>\n",
              "      <td>24.0</td>\n",
              "      <td>13.0</td>\n",
              "      <td>0.0</td>\n",
              "      <td>165.0</td>\n",
              "      <td>9.0</td>\n",
              "      <td>44.0</td>\n",
              "      <td>1465811073</td>\n",
              "    </tr>\n",
              "    <tr>\n",
              "      <th>4</th>\n",
              "      <td>00003037a262d9ee40e61b5c0718f7f0</td>\n",
              "      <td>dropped_off_at</td>\n",
              "      <td>2016-06-13 10:03:05</td>\n",
              "      <td>6.0</td>\n",
              "      <td>24.0</td>\n",
              "      <td>13.0</td>\n",
              "      <td>0.0</td>\n",
              "      <td>165.0</td>\n",
              "      <td>10.0</td>\n",
              "      <td>3.0</td>\n",
              "      <td>1465812185</td>\n",
              "    </tr>\n",
              "  </tbody>\n",
              "</table>\n",
              "</div>"
            ],
            "text/plain": [
              "                            ride_id  ... timestampElapsed\n",
              "0  00003037a262d9ee40e61b5c0718f7f0  ...       1465810759\n",
              "1  00003037a262d9ee40e61b5c0718f7f0  ...       1465810791\n",
              "2  00003037a262d9ee40e61b5c0718f7f0  ...       1465811071\n",
              "3  00003037a262d9ee40e61b5c0718f7f0  ...       1465811073\n",
              "4  00003037a262d9ee40e61b5c0718f7f0  ...       1465812185\n",
              "\n",
              "[5 rows x 11 columns]"
            ]
          },
          "metadata": {
            "tags": []
          },
          "execution_count": 14
        }
      ]
    },
    {
      "cell_type": "markdown",
      "metadata": {
        "id": "xcDOgl3BrCYm",
        "colab_type": "text"
      },
      "source": [
        "One of the features we deem important later to perform segmenting on drivers is how long does a driver take, on average, to accept a ride. To do so, we have to calculate the time lag between a ride was requested `event == 'requested_at'` to the time the driver accepted the ride `event == 'accepted_at'`.\n",
        "\n",
        "We hypothesize that keen drivers who are more likely to have a short window between those two events. We call this new feature `pickup_window`."
      ]
    },
    {
      "cell_type": "code",
      "metadata": {
        "id": "Qlo4alhCsEFE",
        "colab_type": "code",
        "colab": {}
      },
      "source": [
        "# calculate time lag wrt to `requested_at`\n",
        "def seconds_lag(t):\n",
        "    delta_to_t0 = t - t.iloc[0]\n",
        "    return delta_to_t0"
      ],
      "execution_count": 0,
      "outputs": []
    },
    {
      "cell_type": "code",
      "metadata": {
        "id": "CZIL2Kt7DXqR",
        "colab_type": "code",
        "outputId": "81b7de71-4428-469c-d32b-f6cd819c9617",
        "colab": {
          "base_uri": "https://localhost:8080/",
          "height": 52
        }
      },
      "source": [
        "%%time\n",
        "ride_timestamps['pickup_window'] = ride_timestamps.groupby('ride_id')['timestamp'].apply(seconds_lag)\n",
        "\n",
        "ride_timestamps['pickup_window'] = ride_timestamps['pickup_window'].apply(lambda o: o.total_seconds())"
      ],
      "execution_count": 16,
      "outputs": [
        {
          "output_type": "stream",
          "text": [
            "CPU times: user 2min 1s, sys: 3.79 s, total: 2min 4s\n",
            "Wall time: 1min 59s\n"
          ],
          "name": "stdout"
        }
      ]
    },
    {
      "cell_type": "code",
      "metadata": {
        "id": "rC3265liJ1s3",
        "colab_type": "code",
        "outputId": "7ce9e6e7-5bd8-42c2-d84e-9d412be58aa3",
        "colab": {
          "base_uri": "https://localhost:8080/",
          "height": 305
        }
      },
      "source": [
        "ride_timestamps.head()"
      ],
      "execution_count": 17,
      "outputs": [
        {
          "output_type": "execute_result",
          "data": {
            "text/html": [
              "<div>\n",
              "<style scoped>\n",
              "    .dataframe tbody tr th:only-of-type {\n",
              "        vertical-align: middle;\n",
              "    }\n",
              "\n",
              "    .dataframe tbody tr th {\n",
              "        vertical-align: top;\n",
              "    }\n",
              "\n",
              "    .dataframe thead th {\n",
              "        text-align: right;\n",
              "    }\n",
              "</style>\n",
              "<table border=\"1\" class=\"dataframe\">\n",
              "  <thead>\n",
              "    <tr style=\"text-align: right;\">\n",
              "      <th></th>\n",
              "      <th>ride_id</th>\n",
              "      <th>event</th>\n",
              "      <th>timestamp</th>\n",
              "      <th>timestampMonth</th>\n",
              "      <th>timestampWeek</th>\n",
              "      <th>timestampDay</th>\n",
              "      <th>timestampDayofweek</th>\n",
              "      <th>timestampDayofyear</th>\n",
              "      <th>timestampHour</th>\n",
              "      <th>timestampMinute</th>\n",
              "      <th>timestampElapsed</th>\n",
              "      <th>pickup_window</th>\n",
              "    </tr>\n",
              "  </thead>\n",
              "  <tbody>\n",
              "    <tr>\n",
              "      <th>0</th>\n",
              "      <td>00003037a262d9ee40e61b5c0718f7f0</td>\n",
              "      <td>requested_at</td>\n",
              "      <td>2016-06-13 09:39:19</td>\n",
              "      <td>6.0</td>\n",
              "      <td>24.0</td>\n",
              "      <td>13.0</td>\n",
              "      <td>0.0</td>\n",
              "      <td>165.0</td>\n",
              "      <td>9.0</td>\n",
              "      <td>39.0</td>\n",
              "      <td>1465810759</td>\n",
              "      <td>0.0</td>\n",
              "    </tr>\n",
              "    <tr>\n",
              "      <th>1</th>\n",
              "      <td>00003037a262d9ee40e61b5c0718f7f0</td>\n",
              "      <td>accepted_at</td>\n",
              "      <td>2016-06-13 09:39:51</td>\n",
              "      <td>6.0</td>\n",
              "      <td>24.0</td>\n",
              "      <td>13.0</td>\n",
              "      <td>0.0</td>\n",
              "      <td>165.0</td>\n",
              "      <td>9.0</td>\n",
              "      <td>39.0</td>\n",
              "      <td>1465810791</td>\n",
              "      <td>32.0</td>\n",
              "    </tr>\n",
              "    <tr>\n",
              "      <th>2</th>\n",
              "      <td>00003037a262d9ee40e61b5c0718f7f0</td>\n",
              "      <td>arrived_at</td>\n",
              "      <td>2016-06-13 09:44:31</td>\n",
              "      <td>6.0</td>\n",
              "      <td>24.0</td>\n",
              "      <td>13.0</td>\n",
              "      <td>0.0</td>\n",
              "      <td>165.0</td>\n",
              "      <td>9.0</td>\n",
              "      <td>44.0</td>\n",
              "      <td>1465811071</td>\n",
              "      <td>312.0</td>\n",
              "    </tr>\n",
              "    <tr>\n",
              "      <th>3</th>\n",
              "      <td>00003037a262d9ee40e61b5c0718f7f0</td>\n",
              "      <td>picked_up_at</td>\n",
              "      <td>2016-06-13 09:44:33</td>\n",
              "      <td>6.0</td>\n",
              "      <td>24.0</td>\n",
              "      <td>13.0</td>\n",
              "      <td>0.0</td>\n",
              "      <td>165.0</td>\n",
              "      <td>9.0</td>\n",
              "      <td>44.0</td>\n",
              "      <td>1465811073</td>\n",
              "      <td>314.0</td>\n",
              "    </tr>\n",
              "    <tr>\n",
              "      <th>4</th>\n",
              "      <td>00003037a262d9ee40e61b5c0718f7f0</td>\n",
              "      <td>dropped_off_at</td>\n",
              "      <td>2016-06-13 10:03:05</td>\n",
              "      <td>6.0</td>\n",
              "      <td>24.0</td>\n",
              "      <td>13.0</td>\n",
              "      <td>0.0</td>\n",
              "      <td>165.0</td>\n",
              "      <td>10.0</td>\n",
              "      <td>3.0</td>\n",
              "      <td>1465812185</td>\n",
              "      <td>1426.0</td>\n",
              "    </tr>\n",
              "  </tbody>\n",
              "</table>\n",
              "</div>"
            ],
            "text/plain": [
              "                            ride_id  ... pickup_window\n",
              "0  00003037a262d9ee40e61b5c0718f7f0  ...           0.0\n",
              "1  00003037a262d9ee40e61b5c0718f7f0  ...          32.0\n",
              "2  00003037a262d9ee40e61b5c0718f7f0  ...         312.0\n",
              "3  00003037a262d9ee40e61b5c0718f7f0  ...         314.0\n",
              "4  00003037a262d9ee40e61b5c0718f7f0  ...        1426.0\n",
              "\n",
              "[5 rows x 12 columns]"
            ]
          },
          "metadata": {
            "tags": []
          },
          "execution_count": 17
        }
      ]
    },
    {
      "cell_type": "code",
      "metadata": {
        "id": "J58pHXVorxJE",
        "colab_type": "code",
        "outputId": "23d90945-ab25-4cfd-800f-eebe6e6b898b",
        "colab": {
          "base_uri": "https://localhost:8080/",
          "height": 198
        }
      },
      "source": [
        "# filter only `event == 'accepted_at'`\n",
        "accepted_filter = ride_timestamps[ride_timestamps['event'] == 'accepted_at']\n",
        "\n",
        "# merge to `ride_ids` to get `driver_id`\n",
        "driver_accepted_filter = pd.merge(accepted_filter, ride_ids,\n",
        "                                  on='ride_id')\n",
        "\n",
        "# calculate mean based on `driver_id`\n",
        "window_g = driver_accepted_filter.groupby('driver_id')['pickup_window'].mean()\n",
        "\n",
        "window_g = window_g.reset_index()\n",
        "\n",
        "window_g.head()"
      ],
      "execution_count": 18,
      "outputs": [
        {
          "output_type": "execute_result",
          "data": {
            "text/html": [
              "<div>\n",
              "<style scoped>\n",
              "    .dataframe tbody tr th:only-of-type {\n",
              "        vertical-align: middle;\n",
              "    }\n",
              "\n",
              "    .dataframe tbody tr th {\n",
              "        vertical-align: top;\n",
              "    }\n",
              "\n",
              "    .dataframe thead th {\n",
              "        text-align: right;\n",
              "    }\n",
              "</style>\n",
              "<table border=\"1\" class=\"dataframe\">\n",
              "  <thead>\n",
              "    <tr style=\"text-align: right;\">\n",
              "      <th></th>\n",
              "      <th>driver_id</th>\n",
              "      <th>pickup_window</th>\n",
              "    </tr>\n",
              "  </thead>\n",
              "  <tbody>\n",
              "    <tr>\n",
              "      <th>0</th>\n",
              "      <td>002be0ffdc997bd5c50703158b7c2491</td>\n",
              "      <td>8.407942</td>\n",
              "    </tr>\n",
              "    <tr>\n",
              "      <th>1</th>\n",
              "      <td>007f0389f9c7b03ef97098422f902e62</td>\n",
              "      <td>11.838710</td>\n",
              "    </tr>\n",
              "    <tr>\n",
              "      <th>2</th>\n",
              "      <td>011e5c5dfc5c2c92501b8b24d47509bc</td>\n",
              "      <td>7.294118</td>\n",
              "    </tr>\n",
              "    <tr>\n",
              "      <th>3</th>\n",
              "      <td>0152a2f305e71d26cc964f8d4411add9</td>\n",
              "      <td>14.198953</td>\n",
              "    </tr>\n",
              "    <tr>\n",
              "      <th>4</th>\n",
              "      <td>01674381af7edd264113d4e6ed55ecda</td>\n",
              "      <td>12.528000</td>\n",
              "    </tr>\n",
              "  </tbody>\n",
              "</table>\n",
              "</div>"
            ],
            "text/plain": [
              "                          driver_id  pickup_window\n",
              "0  002be0ffdc997bd5c50703158b7c2491       8.407942\n",
              "1  007f0389f9c7b03ef97098422f902e62      11.838710\n",
              "2  011e5c5dfc5c2c92501b8b24d47509bc       7.294118\n",
              "3  0152a2f305e71d26cc964f8d4411add9      14.198953\n",
              "4  01674381af7edd264113d4e6ed55ecda      12.528000"
            ]
          },
          "metadata": {
            "tags": []
          },
          "execution_count": 18
        }
      ]
    },
    {
      "cell_type": "code",
      "metadata": {
        "id": "AyJjh0sCDMjx",
        "colab_type": "code",
        "outputId": "ab471eab-bdf2-4570-89e1-25311f5d7ae4",
        "colab": {
          "base_uri": "https://localhost:8080/",
          "height": 35
        }
      },
      "source": [
        "# d = pd.merge(ride_ids, ride_timestamps, on='ride_id', how='inner')\n",
        "# d['driver_id'].nunique() # check that the values do not match\n",
        "\n",
        "len(window_g), ride_ids['driver_id'].nunique()"
      ],
      "execution_count": 19,
      "outputs": [
        {
          "output_type": "execute_result",
          "data": {
            "text/plain": [
              "(844, 937)"
            ]
          },
          "metadata": {
            "tags": []
          },
          "execution_count": 19
        }
      ]
    },
    {
      "cell_type": "markdown",
      "metadata": {
        "id": "CkLWOOpKKJ1z",
        "colab_type": "text"
      },
      "source": [
        "There are 93 drivers in `ride_ids` who do not have records in `ride_timestamps`.\n",
        "\n",
        "## `ride_ids`\n",
        "We would like to get an idea of how many rides has a driver completed over the course of the dataset. We call this feature `ride_count`. It will also be a crucial variable to calculate LTV later."
      ]
    },
    {
      "cell_type": "code",
      "metadata": {
        "id": "-DU3_v9UJxQo",
        "colab_type": "code",
        "outputId": "022163d7-eb9e-49f5-ed19-3eeda44f7515",
        "colab": {
          "base_uri": "https://localhost:8080/",
          "height": 198
        }
      },
      "source": [
        "# calculate the total rides a driver has completed\n",
        "ride_id_g = ride_ids.groupby('driver_id')['ride_id'].count()\n",
        "\n",
        "ride_id_g = ride_id_g.reset_index()\n",
        "\n",
        "ride_id_g.rename(columns={'ride_id': 'ride_count'}, inplace=True)\n",
        "\n",
        "ride_id_g.sort_values(by='ride_count', ascending=False).head()"
      ],
      "execution_count": 20,
      "outputs": [
        {
          "output_type": "execute_result",
          "data": {
            "text/html": [
              "<div>\n",
              "<style scoped>\n",
              "    .dataframe tbody tr th:only-of-type {\n",
              "        vertical-align: middle;\n",
              "    }\n",
              "\n",
              "    .dataframe tbody tr th {\n",
              "        vertical-align: top;\n",
              "    }\n",
              "\n",
              "    .dataframe thead th {\n",
              "        text-align: right;\n",
              "    }\n",
              "</style>\n",
              "<table border=\"1\" class=\"dataframe\">\n",
              "  <thead>\n",
              "    <tr style=\"text-align: right;\">\n",
              "      <th></th>\n",
              "      <th>driver_id</th>\n",
              "      <th>ride_count</th>\n",
              "    </tr>\n",
              "  </thead>\n",
              "  <tbody>\n",
              "    <tr>\n",
              "      <th>354</th>\n",
              "      <td>5ccc0e6dc9c7475caf785cdce7b8eb7a</td>\n",
              "      <td>919</td>\n",
              "    </tr>\n",
              "    <tr>\n",
              "      <th>308</th>\n",
              "      <td>4eb382d1f7d50fae1294964263d1ce82</td>\n",
              "      <td>831</td>\n",
              "    </tr>\n",
              "    <tr>\n",
              "      <th>509</th>\n",
              "      <td>844e9be5a30d8d9c1f8e9ddb086ff717</td>\n",
              "      <td>821</td>\n",
              "    </tr>\n",
              "    <tr>\n",
              "      <th>401</th>\n",
              "      <td>689bdf87fb2de49f98bf4946cfaa5068</td>\n",
              "      <td>794</td>\n",
              "    </tr>\n",
              "    <tr>\n",
              "      <th>217</th>\n",
              "      <td>3788dc9e91f1548816ce8b5af07ddadc</td>\n",
              "      <td>783</td>\n",
              "    </tr>\n",
              "  </tbody>\n",
              "</table>\n",
              "</div>"
            ],
            "text/plain": [
              "                            driver_id  ride_count\n",
              "354  5ccc0e6dc9c7475caf785cdce7b8eb7a         919\n",
              "308  4eb382d1f7d50fae1294964263d1ce82         831\n",
              "509  844e9be5a30d8d9c1f8e9ddb086ff717         821\n",
              "401  689bdf87fb2de49f98bf4946cfaa5068         794\n",
              "217  3788dc9e91f1548816ce8b5af07ddadc         783"
            ]
          },
          "metadata": {
            "tags": []
          },
          "execution_count": 20
        }
      ]
    },
    {
      "cell_type": "code",
      "metadata": {
        "id": "8Z9mTS9IwQas",
        "colab_type": "code",
        "outputId": "2b03b9fc-b2cf-4264-9f53-c3229cdca4c2",
        "colab": {
          "base_uri": "https://localhost:8080/",
          "height": 35
        }
      },
      "source": [
        "# check how many `driver_id` are there in both dataframes\n",
        "driver_ids['driver_id'].nunique(), ride_ids['driver_id'].nunique()"
      ],
      "execution_count": 21,
      "outputs": [
        {
          "output_type": "execute_result",
          "data": {
            "text/plain": [
              "(937, 937)"
            ]
          },
          "metadata": {
            "tags": []
          },
          "execution_count": 21
        }
      ]
    },
    {
      "cell_type": "code",
      "metadata": {
        "id": "KJHPRpeWwVMP",
        "colab_type": "code",
        "outputId": "7f7cb79d-72f7-43a1-a7c6-4941a475a7ce",
        "colab": {
          "base_uri": "https://localhost:8080/",
          "height": 35
        }
      },
      "source": [
        "len(set(driver_ids['driver_id'].unique().tolist()).intersection(set(ride_ids['driver_id'].unique().tolist())))"
      ],
      "execution_count": 22,
      "outputs": [
        {
          "output_type": "execute_result",
          "data": {
            "text/plain": [
              "854"
            ]
          },
          "metadata": {
            "tags": []
          },
          "execution_count": 22
        }
      ]
    },
    {
      "cell_type": "code",
      "metadata": {
        "id": "DWQNUmX0uvD9",
        "colab_type": "code",
        "outputId": "cb4d69d7-90db-45e8-a28c-97354a4113ed",
        "colab": {
          "base_uri": "https://localhost:8080/",
          "height": 198
        }
      },
      "source": [
        "ride_ids.head()"
      ],
      "execution_count": 23,
      "outputs": [
        {
          "output_type": "execute_result",
          "data": {
            "text/html": [
              "<div>\n",
              "<style scoped>\n",
              "    .dataframe tbody tr th:only-of-type {\n",
              "        vertical-align: middle;\n",
              "    }\n",
              "\n",
              "    .dataframe tbody tr th {\n",
              "        vertical-align: top;\n",
              "    }\n",
              "\n",
              "    .dataframe thead th {\n",
              "        text-align: right;\n",
              "    }\n",
              "</style>\n",
              "<table border=\"1\" class=\"dataframe\">\n",
              "  <thead>\n",
              "    <tr style=\"text-align: right;\">\n",
              "      <th></th>\n",
              "      <th>driver_id</th>\n",
              "      <th>ride_id</th>\n",
              "      <th>ride_distance</th>\n",
              "      <th>ride_duration</th>\n",
              "      <th>ride_prime_time</th>\n",
              "    </tr>\n",
              "  </thead>\n",
              "  <tbody>\n",
              "    <tr>\n",
              "      <th>0</th>\n",
              "      <td>002be0ffdc997bd5c50703158b7c2491</td>\n",
              "      <td>006d61cf7446e682f7bc50b0f8a5bea5</td>\n",
              "      <td>1811</td>\n",
              "      <td>327</td>\n",
              "      <td>50</td>\n",
              "    </tr>\n",
              "    <tr>\n",
              "      <th>1</th>\n",
              "      <td>002be0ffdc997bd5c50703158b7c2491</td>\n",
              "      <td>01b522c5c3a756fbdb12e95e87507eda</td>\n",
              "      <td>3362</td>\n",
              "      <td>809</td>\n",
              "      <td>0</td>\n",
              "    </tr>\n",
              "    <tr>\n",
              "      <th>2</th>\n",
              "      <td>002be0ffdc997bd5c50703158b7c2491</td>\n",
              "      <td>029227c4c2971ce69ff2274dc798ef43</td>\n",
              "      <td>3282</td>\n",
              "      <td>572</td>\n",
              "      <td>0</td>\n",
              "    </tr>\n",
              "    <tr>\n",
              "      <th>3</th>\n",
              "      <td>002be0ffdc997bd5c50703158b7c2491</td>\n",
              "      <td>034e861343a63ac3c18a9ceb1ce0ac69</td>\n",
              "      <td>65283</td>\n",
              "      <td>3338</td>\n",
              "      <td>25</td>\n",
              "    </tr>\n",
              "    <tr>\n",
              "      <th>4</th>\n",
              "      <td>002be0ffdc997bd5c50703158b7c2491</td>\n",
              "      <td>034f2e614a2f9fc7f1c2f77647d1b981</td>\n",
              "      <td>4115</td>\n",
              "      <td>823</td>\n",
              "      <td>100</td>\n",
              "    </tr>\n",
              "  </tbody>\n",
              "</table>\n",
              "</div>"
            ],
            "text/plain": [
              "                          driver_id  ... ride_prime_time\n",
              "0  002be0ffdc997bd5c50703158b7c2491  ...              50\n",
              "1  002be0ffdc997bd5c50703158b7c2491  ...               0\n",
              "2  002be0ffdc997bd5c50703158b7c2491  ...               0\n",
              "3  002be0ffdc997bd5c50703158b7c2491  ...              25\n",
              "4  002be0ffdc997bd5c50703158b7c2491  ...             100\n",
              "\n",
              "[5 rows x 5 columns]"
            ]
          },
          "metadata": {
            "tags": []
          },
          "execution_count": 23
        }
      ]
    },
    {
      "cell_type": "code",
      "metadata": {
        "id": "LgmZ0Ql1wzHK",
        "colab_type": "code",
        "outputId": "8cfbd05f-6601-4e4f-fdf2-f7a49e1908d8",
        "colab": {
          "base_uri": "https://localhost:8080/",
          "height": 35
        }
      },
      "source": [
        "# how many unique `driver_id`s appear in `driver_ids`\n",
        "num_missing_drivers = len(driver_ids[~driver_ids['driver_id'].isin(ride_ids['driver_id'].unique())])\n",
        "\n",
        "num_missing_drivers"
      ],
      "execution_count": 24,
      "outputs": [
        {
          "output_type": "execute_result",
          "data": {
            "text/plain": [
              "83"
            ]
          },
          "metadata": {
            "tags": []
          },
          "execution_count": 24
        }
      ]
    },
    {
      "cell_type": "markdown",
      "metadata": {
        "id": "lh4h6KiCwgvg",
        "colab_type": "text"
      },
      "source": [
        "Interestingly, even we have 937 unique `driver_id`s for both `driver_ids` and `ride_ids`, only 854 overlap. That means, 83 drivers that appear in `ride_ids` do not have any record in `driver_ids`. We suspect that those drivers registered earlier than the start of the dataset. For the 83 drivers that appear in `driver_ids` but not in `ride_ids`, we suspect they registered but did not drive. They shall be removed from our analysis."
      ]
    },
    {
      "cell_type": "code",
      "metadata": {
        "id": "2MN45A72zy89",
        "colab_type": "code",
        "outputId": "49c6471f-e97f-4c37-e20b-c20ff0ad0639",
        "colab": {
          "base_uri": "https://localhost:8080/",
          "height": 35
        }
      },
      "source": [
        "ride_timestamps['ride_id'].nunique(), ride_ids['ride_id'].nunique()"
      ],
      "execution_count": 25,
      "outputs": [
        {
          "output_type": "execute_result",
          "data": {
            "text/plain": [
              "(194081, 193502)"
            ]
          },
          "metadata": {
            "tags": []
          },
          "execution_count": 25
        }
      ]
    },
    {
      "cell_type": "code",
      "metadata": {
        "id": "U1O2xHYrz1uF",
        "colab_type": "code",
        "outputId": "55b86a58-7c54-42f8-ba9b-f709f64af9ba",
        "colab": {
          "base_uri": "https://localhost:8080/",
          "height": 35
        }
      },
      "source": [
        "# check how many rides actually appear in both dataframes\n",
        "len(set(ride_timestamps['ride_id'].unique().tolist()).intersection(set(ride_ids['ride_id'].unique().tolist())))"
      ],
      "execution_count": 26,
      "outputs": [
        {
          "output_type": "execute_result",
          "data": {
            "text/plain": [
              "184819"
            ]
          },
          "metadata": {
            "tags": []
          },
          "execution_count": 26
        }
      ]
    },
    {
      "cell_type": "markdown",
      "metadata": {
        "id": "FjBJdgDnz0jp",
        "colab_type": "text"
      },
      "source": [
        "Only 184,819 unique `ride_id`s exist in `ride_timestamps` and `ride_ids`.\n",
        "\n",
        "To calculate the fare, we first convert the `ride_distance` from metres to mile and convert the `ride_duration` from seconds to minutes."
      ]
    },
    {
      "cell_type": "code",
      "metadata": {
        "id": "_TBlYfSjKMPg",
        "colab_type": "code",
        "colab": {}
      },
      "source": [
        "# convert metres to miles\n",
        "ride_ids['ride_distance'] = ride_ids['ride_distance'] / 1609.34\n",
        "\n",
        "# convert seconds to minutes\n",
        "ride_ids['ride_duration'] = ride_ids['ride_duration'] / 60"
      ],
      "execution_count": 0,
      "outputs": []
    },
    {
      "cell_type": "markdown",
      "metadata": {
        "id": "vC5Z7Tp-v2iA",
        "colab_type": "text"
      },
      "source": [
        "To calculate the fare, we employed the assumptions about the Lyft rate card in the prompt. The formula we use is as follows:\n",
        "\n",
        "\\begin{equation}\n",
        "\\begin{aligned}\n",
        "\\text{Fare} \n",
        "& = (\\text{base fare} + \n",
        "\\text{cost per mile}  \\times  \\text{miles traveled} + \n",
        "\\text{cost per min} \\times \\text{mins traveled}) (1 + \\frac{\\text{prime time}}{100}) + \\text{service fee} \\\\\n",
        "& = (2 + \n",
        "1.15 \\times  \\text{miles traveled} + \n",
        "0.22 \\times \\text{mins traveled})  (1 + \\frac{\\text{prime time}}{100}) + 1.75 \n",
        "\\end{aligned}\n",
        "\\end{equation}\n",
        "\n",
        "After calculating the fare, we limited the lower bound of the fare to 5 USD and the upper of the fare to 400 USD.\n",
        "\n",
        "\\begin{equation}\n",
        "\\text{Fare} = \\text{min}\\{400, \\text{max}\\{5,\\text{fare}\\}\\}\n",
        "\\end{equation}"
      ]
    },
    {
      "cell_type": "code",
      "metadata": {
        "id": "QOHxvBXULKev",
        "colab_type": "code",
        "outputId": "c1c2db81-6ba3-4cd8-996c-c4643a0af330",
        "colab": {
          "base_uri": "https://localhost:8080/",
          "height": 173
        }
      },
      "source": [
        "ride_ids['fare'] = (2 + \n",
        "                     ride_ids['ride_distance'] * 1.15 + \n",
        "                     ride_ids['ride_duration'] * 0.22) * \\\n",
        "                    ((ride_ids['ride_prime_time'] + 100) / 100) \\\n",
        "                    + 1.75 \n",
        "\n",
        "def limit_bound(fare):\n",
        "    return min(max(5, fare), 400)\n",
        "\n",
        "ride_ids['fare'] = ride_ids['fare'].apply(limit_bound)\n",
        "\n",
        "ride_ids['fare'].describe()"
      ],
      "execution_count": 28,
      "outputs": [
        {
          "output_type": "execute_result",
          "data": {
            "text/plain": [
              "count    193502.000000\n",
              "mean         13.536544\n",
              "std           9.881417\n",
              "min           5.000000\n",
              "25%           8.036033\n",
              "50%          10.571234\n",
              "75%          15.115603\n",
              "max         400.000000\n",
              "Name: fare, dtype: float64"
            ]
          },
          "metadata": {
            "tags": []
          },
          "execution_count": 28
        }
      ]
    },
    {
      "cell_type": "code",
      "metadata": {
        "id": "7ougAvOzBDLR",
        "colab_type": "code",
        "outputId": "552810fd-5718-402c-dcc2-cbf0e9e11f8c",
        "colab": {
          "base_uri": "https://localhost:8080/",
          "height": 198
        }
      },
      "source": [
        "fare_g = ride_ids.groupby('driver_id')['fare'].sum()\n",
        "\n",
        "fare_g = fare_g.reset_index()\n",
        "\n",
        "fare_g.sort_values(by='fare', ascending=False).head()"
      ],
      "execution_count": 29,
      "outputs": [
        {
          "output_type": "execute_result",
          "data": {
            "text/html": [
              "<div>\n",
              "<style scoped>\n",
              "    .dataframe tbody tr th:only-of-type {\n",
              "        vertical-align: middle;\n",
              "    }\n",
              "\n",
              "    .dataframe tbody tr th {\n",
              "        vertical-align: top;\n",
              "    }\n",
              "\n",
              "    .dataframe thead th {\n",
              "        text-align: right;\n",
              "    }\n",
              "</style>\n",
              "<table border=\"1\" class=\"dataframe\">\n",
              "  <thead>\n",
              "    <tr style=\"text-align: right;\">\n",
              "      <th></th>\n",
              "      <th>driver_id</th>\n",
              "      <th>fare</th>\n",
              "    </tr>\n",
              "  </thead>\n",
              "  <tbody>\n",
              "    <tr>\n",
              "      <th>354</th>\n",
              "      <td>5ccc0e6dc9c7475caf785cdce7b8eb7a</td>\n",
              "      <td>12350.288077</td>\n",
              "    </tr>\n",
              "    <tr>\n",
              "      <th>217</th>\n",
              "      <td>3788dc9e91f1548816ce8b5af07ddadc</td>\n",
              "      <td>12304.887351</td>\n",
              "    </tr>\n",
              "    <tr>\n",
              "      <th>308</th>\n",
              "      <td>4eb382d1f7d50fae1294964263d1ce82</td>\n",
              "      <td>10781.942344</td>\n",
              "    </tr>\n",
              "    <tr>\n",
              "      <th>412</th>\n",
              "      <td>6b65c06851e944351dd285a1eb729499</td>\n",
              "      <td>10708.943770</td>\n",
              "    </tr>\n",
              "    <tr>\n",
              "      <th>509</th>\n",
              "      <td>844e9be5a30d8d9c1f8e9ddb086ff717</td>\n",
              "      <td>10613.901682</td>\n",
              "    </tr>\n",
              "  </tbody>\n",
              "</table>\n",
              "</div>"
            ],
            "text/plain": [
              "                            driver_id          fare\n",
              "354  5ccc0e6dc9c7475caf785cdce7b8eb7a  12350.288077\n",
              "217  3788dc9e91f1548816ce8b5af07ddadc  12304.887351\n",
              "308  4eb382d1f7d50fae1294964263d1ce82  10781.942344\n",
              "412  6b65c06851e944351dd285a1eb729499  10708.943770\n",
              "509  844e9be5a30d8d9c1f8e9ddb086ff717  10613.901682"
            ]
          },
          "metadata": {
            "tags": []
          },
          "execution_count": 29
        }
      ]
    },
    {
      "cell_type": "markdown",
      "metadata": {
        "id": "W_yheZxbvurs",
        "colab_type": "text"
      },
      "source": [
        "We then calculated the sum of the fare for each driver. This will be the total income generated by the driver.\n",
        "\n",
        "Next, we think that the higher a driver's `ride_prime_time`, the more her or she is valuable to Lyft since they help to meet passengers' demand. This could be another important feature for segmenting drivers. Since we are only interested in the mean of the nonzero `ride_prime_time` values and we do not want 0 values to distort the `ride_prime_time` lower, we replace all zeros with `NaN`."
      ]
    },
    {
      "cell_type": "code",
      "metadata": {
        "id": "LMx_o5hyLJ9N",
        "colab_type": "code",
        "outputId": "a3748a57-b3e4-462e-84c2-cd0a298e25ca",
        "colab": {
          "base_uri": "https://localhost:8080/",
          "height": 198
        }
      },
      "source": [
        "# make the variable NaN to calculate mean\n",
        "ride_ids['ride_prime_time'].replace(0, np.nan, inplace=True)\n",
        "\n",
        "ride_prime_time_g = ride_ids.groupby('driver_id')['ride_prime_time'].mean()\n",
        "\n",
        "ride_prime_time_g = ride_prime_time_g.reset_index()\n",
        "\n",
        "ride_prime_time_g.sort_values(by='ride_prime_time', ascending=False).head()"
      ],
      "execution_count": 30,
      "outputs": [
        {
          "output_type": "execute_result",
          "data": {
            "text/html": [
              "<div>\n",
              "<style scoped>\n",
              "    .dataframe tbody tr th:only-of-type {\n",
              "        vertical-align: middle;\n",
              "    }\n",
              "\n",
              "    .dataframe tbody tr th {\n",
              "        vertical-align: top;\n",
              "    }\n",
              "\n",
              "    .dataframe thead th {\n",
              "        text-align: right;\n",
              "    }\n",
              "</style>\n",
              "<table border=\"1\" class=\"dataframe\">\n",
              "  <thead>\n",
              "    <tr style=\"text-align: right;\">\n",
              "      <th></th>\n",
              "      <th>driver_id</th>\n",
              "      <th>ride_prime_time</th>\n",
              "    </tr>\n",
              "  </thead>\n",
              "  <tbody>\n",
              "    <tr>\n",
              "      <th>807</th>\n",
              "      <td>dae249fc394c9bdf02f7d8bb1ff55733</td>\n",
              "      <td>146.875000</td>\n",
              "    </tr>\n",
              "    <tr>\n",
              "      <th>676</th>\n",
              "      <td>b2d3f2fb171a12cac427107690c10089</td>\n",
              "      <td>105.000000</td>\n",
              "    </tr>\n",
              "    <tr>\n",
              "      <th>420</th>\n",
              "      <td>6cb35e276085548f3f095a85aa63af7b</td>\n",
              "      <td>98.076923</td>\n",
              "    </tr>\n",
              "    <tr>\n",
              "      <th>443</th>\n",
              "      <td>7419cd5c573ff9994c0f8ff5d92b4408</td>\n",
              "      <td>91.071429</td>\n",
              "    </tr>\n",
              "    <tr>\n",
              "      <th>655</th>\n",
              "      <td>acd7dc6118befb6724aa3752d1cdbea1</td>\n",
              "      <td>90.277778</td>\n",
              "    </tr>\n",
              "  </tbody>\n",
              "</table>\n",
              "</div>"
            ],
            "text/plain": [
              "                            driver_id  ride_prime_time\n",
              "807  dae249fc394c9bdf02f7d8bb1ff55733       146.875000\n",
              "676  b2d3f2fb171a12cac427107690c10089       105.000000\n",
              "420  6cb35e276085548f3f095a85aa63af7b        98.076923\n",
              "443  7419cd5c573ff9994c0f8ff5d92b4408        91.071429\n",
              "655  acd7dc6118befb6724aa3752d1cdbea1        90.277778"
            ]
          },
          "metadata": {
            "tags": []
          },
          "execution_count": 30
        }
      ]
    },
    {
      "cell_type": "code",
      "metadata": {
        "id": "zQxmmNc73i-3",
        "colab_type": "code",
        "colab": {}
      },
      "source": [
        "# change back to original value\n",
        "ride_prime_time_g['ride_prime_time'].fillna(0, inplace=True)"
      ],
      "execution_count": 0,
      "outputs": []
    },
    {
      "cell_type": "markdown",
      "metadata": {
        "id": "1Fn1Y_IaHt2Q",
        "colab_type": "text"
      },
      "source": [
        "Merge both `driver_ids` and `driver_timestamps`."
      ]
    },
    {
      "cell_type": "code",
      "metadata": {
        "id": "GwEFjfENEOkf",
        "colab_type": "code",
        "outputId": "799e5e4f-8162-423d-c657-de4b94f64b60",
        "colab": {
          "base_uri": "https://localhost:8080/",
          "height": 305
        }
      },
      "source": [
        "ids_timestamps = pd.merge(ride_ids, ride_timestamps,\n",
        "                          left_on='ride_id',\n",
        "                          right_on='ride_id',\n",
        "                          how='outer')\n",
        "\n",
        "ids_timestamps = ids_timestamps.sort_values(by=['driver_id', 'timestamp'])\n",
        "\n",
        "ids_timestamps.head()"
      ],
      "execution_count": 32,
      "outputs": [
        {
          "output_type": "execute_result",
          "data": {
            "text/html": [
              "<div>\n",
              "<style scoped>\n",
              "    .dataframe tbody tr th:only-of-type {\n",
              "        vertical-align: middle;\n",
              "    }\n",
              "\n",
              "    .dataframe tbody tr th {\n",
              "        vertical-align: top;\n",
              "    }\n",
              "\n",
              "    .dataframe thead th {\n",
              "        text-align: right;\n",
              "    }\n",
              "</style>\n",
              "<table border=\"1\" class=\"dataframe\">\n",
              "  <thead>\n",
              "    <tr style=\"text-align: right;\">\n",
              "      <th></th>\n",
              "      <th>driver_id</th>\n",
              "      <th>ride_id</th>\n",
              "      <th>ride_distance</th>\n",
              "      <th>ride_duration</th>\n",
              "      <th>ride_prime_time</th>\n",
              "      <th>fare</th>\n",
              "      <th>event</th>\n",
              "      <th>timestamp</th>\n",
              "      <th>timestampMonth</th>\n",
              "      <th>timestampWeek</th>\n",
              "      <th>timestampDay</th>\n",
              "      <th>timestampDayofweek</th>\n",
              "      <th>timestampDayofyear</th>\n",
              "      <th>timestampHour</th>\n",
              "      <th>timestampMinute</th>\n",
              "      <th>timestampElapsed</th>\n",
              "      <th>pickup_window</th>\n",
              "    </tr>\n",
              "  </thead>\n",
              "  <tbody>\n",
              "    <tr>\n",
              "      <th>1235</th>\n",
              "      <td>002be0ffdc997bd5c50703158b7c2491</td>\n",
              "      <td>e228d93dc13a2a9d83661321992cd48e</td>\n",
              "      <td>1.541004</td>\n",
              "      <td>5.766667</td>\n",
              "      <td>NaN</td>\n",
              "      <td>6.790822</td>\n",
              "      <td>requested_at</td>\n",
              "      <td>2016-03-29 18:46:50</td>\n",
              "      <td>3.0</td>\n",
              "      <td>13.0</td>\n",
              "      <td>29.0</td>\n",
              "      <td>1.0</td>\n",
              "      <td>89.0</td>\n",
              "      <td>18.0</td>\n",
              "      <td>46.0</td>\n",
              "      <td>1.459277e+09</td>\n",
              "      <td>0.0</td>\n",
              "    </tr>\n",
              "    <tr>\n",
              "      <th>1236</th>\n",
              "      <td>002be0ffdc997bd5c50703158b7c2491</td>\n",
              "      <td>e228d93dc13a2a9d83661321992cd48e</td>\n",
              "      <td>1.541004</td>\n",
              "      <td>5.766667</td>\n",
              "      <td>NaN</td>\n",
              "      <td>6.790822</td>\n",
              "      <td>accepted_at</td>\n",
              "      <td>2016-03-29 18:47:01</td>\n",
              "      <td>3.0</td>\n",
              "      <td>13.0</td>\n",
              "      <td>29.0</td>\n",
              "      <td>1.0</td>\n",
              "      <td>89.0</td>\n",
              "      <td>18.0</td>\n",
              "      <td>47.0</td>\n",
              "      <td>1.459277e+09</td>\n",
              "      <td>11.0</td>\n",
              "    </tr>\n",
              "    <tr>\n",
              "      <th>1237</th>\n",
              "      <td>002be0ffdc997bd5c50703158b7c2491</td>\n",
              "      <td>e228d93dc13a2a9d83661321992cd48e</td>\n",
              "      <td>1.541004</td>\n",
              "      <td>5.766667</td>\n",
              "      <td>NaN</td>\n",
              "      <td>6.790822</td>\n",
              "      <td>arrived_at</td>\n",
              "      <td>2016-03-29 18:50:00</td>\n",
              "      <td>3.0</td>\n",
              "      <td>13.0</td>\n",
              "      <td>29.0</td>\n",
              "      <td>1.0</td>\n",
              "      <td>89.0</td>\n",
              "      <td>18.0</td>\n",
              "      <td>50.0</td>\n",
              "      <td>1.459277e+09</td>\n",
              "      <td>190.0</td>\n",
              "    </tr>\n",
              "    <tr>\n",
              "      <th>1238</th>\n",
              "      <td>002be0ffdc997bd5c50703158b7c2491</td>\n",
              "      <td>e228d93dc13a2a9d83661321992cd48e</td>\n",
              "      <td>1.541004</td>\n",
              "      <td>5.766667</td>\n",
              "      <td>NaN</td>\n",
              "      <td>6.790822</td>\n",
              "      <td>picked_up_at</td>\n",
              "      <td>2016-03-29 18:50:01</td>\n",
              "      <td>3.0</td>\n",
              "      <td>13.0</td>\n",
              "      <td>29.0</td>\n",
              "      <td>1.0</td>\n",
              "      <td>89.0</td>\n",
              "      <td>18.0</td>\n",
              "      <td>50.0</td>\n",
              "      <td>1.459277e+09</td>\n",
              "      <td>191.0</td>\n",
              "    </tr>\n",
              "    <tr>\n",
              "      <th>1239</th>\n",
              "      <td>002be0ffdc997bd5c50703158b7c2491</td>\n",
              "      <td>e228d93dc13a2a9d83661321992cd48e</td>\n",
              "      <td>1.541004</td>\n",
              "      <td>5.766667</td>\n",
              "      <td>NaN</td>\n",
              "      <td>6.790822</td>\n",
              "      <td>dropped_off_at</td>\n",
              "      <td>2016-03-29 18:55:47</td>\n",
              "      <td>3.0</td>\n",
              "      <td>13.0</td>\n",
              "      <td>29.0</td>\n",
              "      <td>1.0</td>\n",
              "      <td>89.0</td>\n",
              "      <td>18.0</td>\n",
              "      <td>55.0</td>\n",
              "      <td>1.459278e+09</td>\n",
              "      <td>537.0</td>\n",
              "    </tr>\n",
              "  </tbody>\n",
              "</table>\n",
              "</div>"
            ],
            "text/plain": [
              "                             driver_id  ... pickup_window\n",
              "1235  002be0ffdc997bd5c50703158b7c2491  ...           0.0\n",
              "1236  002be0ffdc997bd5c50703158b7c2491  ...          11.0\n",
              "1237  002be0ffdc997bd5c50703158b7c2491  ...         190.0\n",
              "1238  002be0ffdc997bd5c50703158b7c2491  ...         191.0\n",
              "1239  002be0ffdc997bd5c50703158b7c2491  ...         537.0\n",
              "\n",
              "[5 rows x 17 columns]"
            ]
          },
          "metadata": {
            "tags": []
          },
          "execution_count": 32
        }
      ]
    },
    {
      "cell_type": "markdown",
      "metadata": {
        "id": "BRTQSlCIQnA6",
        "colab_type": "text"
      },
      "source": [
        "Since part-time drivers should have a lower LTV compared to full-time drivers, we hypothesize that drivers who drive mainly on weekends are part-time drivers."
      ]
    },
    {
      "cell_type": "code",
      "metadata": {
        "id": "IUJi-EnCQsV1",
        "colab_type": "code",
        "outputId": "6fafa253-7f8d-4b68-8044-e3944842e6dc",
        "colab": {
          "base_uri": "https://localhost:8080/",
          "height": 198
        }
      },
      "source": [
        "# Monday 0, Sunday 6\n",
        "# create variable `is_weekday`\n",
        "ids_timestamps['is_weekday'] = 0 \n",
        "\n",
        "# assign values < 5 to 1 for all weekdays\n",
        "ids_timestamps.loc[ids_timestamps['timestampDayofweek'] < 5, 'is_weekday'] = 1\n",
        "\n",
        "weekday_drivers_g = ids_timestamps.groupby('driver_id')['is_weekday'].mean()\n",
        "\n",
        "weekday_drivers_g = weekday_drivers_g.reset_index()\n",
        "\n",
        "weekday_drivers_g.sort_values(by='is_weekday').head()"
      ],
      "execution_count": 33,
      "outputs": [
        {
          "output_type": "execute_result",
          "data": {
            "text/html": [
              "<div>\n",
              "<style scoped>\n",
              "    .dataframe tbody tr th:only-of-type {\n",
              "        vertical-align: middle;\n",
              "    }\n",
              "\n",
              "    .dataframe tbody tr th {\n",
              "        vertical-align: top;\n",
              "    }\n",
              "\n",
              "    .dataframe thead th {\n",
              "        text-align: right;\n",
              "    }\n",
              "</style>\n",
              "<table border=\"1\" class=\"dataframe\">\n",
              "  <thead>\n",
              "    <tr style=\"text-align: right;\">\n",
              "      <th></th>\n",
              "      <th>driver_id</th>\n",
              "      <th>is_weekday</th>\n",
              "    </tr>\n",
              "  </thead>\n",
              "  <tbody>\n",
              "    <tr>\n",
              "      <th>870</th>\n",
              "      <td>ea71f79a86672486e018deeb47a545ec</td>\n",
              "      <td>0.0</td>\n",
              "    </tr>\n",
              "    <tr>\n",
              "      <th>296</th>\n",
              "      <td>4bbf15c7280e29c1df6edd7bf6dfa56a</td>\n",
              "      <td>0.0</td>\n",
              "    </tr>\n",
              "    <tr>\n",
              "      <th>108</th>\n",
              "      <td>1cf6fa07dcec364af2acf257b2d3731e</td>\n",
              "      <td>0.0</td>\n",
              "    </tr>\n",
              "    <tr>\n",
              "      <th>732</th>\n",
              "      <td>c64e642876910be4a1f0b57404dc9710</td>\n",
              "      <td>0.0</td>\n",
              "    </tr>\n",
              "    <tr>\n",
              "      <th>210</th>\n",
              "      <td>364c929f1d6535aa17df83ebcb349e87</td>\n",
              "      <td>0.0</td>\n",
              "    </tr>\n",
              "  </tbody>\n",
              "</table>\n",
              "</div>"
            ],
            "text/plain": [
              "                            driver_id  is_weekday\n",
              "870  ea71f79a86672486e018deeb47a545ec         0.0\n",
              "296  4bbf15c7280e29c1df6edd7bf6dfa56a         0.0\n",
              "108  1cf6fa07dcec364af2acf257b2d3731e         0.0\n",
              "732  c64e642876910be4a1f0b57404dc9710         0.0\n",
              "210  364c929f1d6535aa17df83ebcb349e87         0.0"
            ]
          },
          "metadata": {
            "tags": []
          },
          "execution_count": 33
        }
      ]
    },
    {
      "cell_type": "code",
      "metadata": {
        "id": "u5lTsBKnQ0so",
        "colab_type": "code",
        "outputId": "6ce61fbc-8d78-4241-dc2a-5b76cdebfe51",
        "colab": {
          "base_uri": "https://localhost:8080/",
          "height": 35
        }
      },
      "source": [
        "# check for an example\n",
        "ids_timestamps[ids_timestamps['driver_id'] == 'ea71f79a86672486e018deeb47a545ec']['ride_id'].nunique()"
      ],
      "execution_count": 34,
      "outputs": [
        {
          "output_type": "execute_result",
          "data": {
            "text/plain": [
              "72"
            ]
          },
          "metadata": {
            "tags": []
          },
          "execution_count": 34
        }
      ]
    },
    {
      "cell_type": "markdown",
      "metadata": {
        "id": "7lWNA4fV6gro",
        "colab_type": "text"
      },
      "source": [
        "Driver `ea71f79a86672486e018deeb47a545ec` made 72 rides in the entire dataset and all rides only happen on weekends.\n",
        "\n",
        "Next, we look into drivers who prefer to drive in the morning v.s. drivers who prefer to drive at night. We define `is_late_ride` as rides that happen between 11:00 PM and 6:00 AM."
      ]
    },
    {
      "cell_type": "code",
      "metadata": {
        "id": "Uy3ObQ-iRadF",
        "colab_type": "code",
        "outputId": "4afcfdfb-1aae-4387-d143-1871aa09dbc8",
        "colab": {
          "base_uri": "https://localhost:8080/",
          "height": 198
        }
      },
      "source": [
        "ids_timestamps['is_late_ride'] = 0 \n",
        "\n",
        "# if time is after 11 PM and before 6 AM,\n",
        "# assign value `is_late_ride` to 1\n",
        "ids_timestamps.loc[(ids_timestamps['timestampHour'] >= 23) |\n",
        "                   (ids_timestamps['timestampHour'] <= 6), \n",
        "                   'is_late_ride'] = 1\n",
        "\n",
        "# calculate the mean based on drivers\n",
        "# to compute how often they drive at late night\n",
        "is_late_ride_g = ids_timestamps.groupby('driver_id')['is_late_ride'].mean()\n",
        "\n",
        "is_late_ride_g = is_late_ride_g.reset_index()\n",
        "\n",
        "is_late_ride_g.sort_values(by='is_late_ride', ascending=False).head()"
      ],
      "execution_count": 35,
      "outputs": [
        {
          "output_type": "execute_result",
          "data": {
            "text/html": [
              "<div>\n",
              "<style scoped>\n",
              "    .dataframe tbody tr th:only-of-type {\n",
              "        vertical-align: middle;\n",
              "    }\n",
              "\n",
              "    .dataframe tbody tr th {\n",
              "        vertical-align: top;\n",
              "    }\n",
              "\n",
              "    .dataframe thead th {\n",
              "        text-align: right;\n",
              "    }\n",
              "</style>\n",
              "<table border=\"1\" class=\"dataframe\">\n",
              "  <thead>\n",
              "    <tr style=\"text-align: right;\">\n",
              "      <th></th>\n",
              "      <th>driver_id</th>\n",
              "      <th>is_late_ride</th>\n",
              "    </tr>\n",
              "  </thead>\n",
              "  <tbody>\n",
              "    <tr>\n",
              "      <th>523</th>\n",
              "      <td>8969d175c4676642b245af55d2dba19b</td>\n",
              "      <td>0.903448</td>\n",
              "    </tr>\n",
              "    <tr>\n",
              "      <th>222</th>\n",
              "      <td>3857da988688981b67c878fc179eb0dc</td>\n",
              "      <td>0.898947</td>\n",
              "    </tr>\n",
              "    <tr>\n",
              "      <th>551</th>\n",
              "      <td>905f8007cd46415eba8b9dce088b4395</td>\n",
              "      <td>0.891892</td>\n",
              "    </tr>\n",
              "    <tr>\n",
              "      <th>466</th>\n",
              "      <td>793e2072826ee96904a5f03ae2357e96</td>\n",
              "      <td>0.873927</td>\n",
              "    </tr>\n",
              "    <tr>\n",
              "      <th>77</th>\n",
              "      <td>175540c364f94b6adbc0ce3541a3254a</td>\n",
              "      <td>0.870370</td>\n",
              "    </tr>\n",
              "  </tbody>\n",
              "</table>\n",
              "</div>"
            ],
            "text/plain": [
              "                            driver_id  is_late_ride\n",
              "523  8969d175c4676642b245af55d2dba19b      0.903448\n",
              "222  3857da988688981b67c878fc179eb0dc      0.898947\n",
              "551  905f8007cd46415eba8b9dce088b4395      0.891892\n",
              "466  793e2072826ee96904a5f03ae2357e96      0.873927\n",
              "77   175540c364f94b6adbc0ce3541a3254a      0.870370"
            ]
          },
          "metadata": {
            "tags": []
          },
          "execution_count": 35
        }
      ]
    },
    {
      "cell_type": "code",
      "metadata": {
        "id": "DKRKDmi8ScnP",
        "colab_type": "code",
        "outputId": "c796d027-b3df-42a2-86ac-4d406e1055d1",
        "colab": {
          "base_uri": "https://localhost:8080/",
          "height": 35
        }
      },
      "source": [
        "# check an example\n",
        "ids_timestamps[ids_timestamps['driver_id'] == '3857da988688981b67c878fc179eb0dc']['ride_id'].nunique()"
      ],
      "execution_count": 36,
      "outputs": [
        {
          "output_type": "execute_result",
          "data": {
            "text/plain": [
              "190"
            ]
          },
          "metadata": {
            "tags": []
          },
          "execution_count": 36
        }
      ]
    },
    {
      "cell_type": "markdown",
      "metadata": {
        "id": "OupfKn02RZ1U",
        "colab_type": "text"
      },
      "source": [
        "Driver `3857da988688981b67c878fc179eb0dc` completed 190 rides in the entire dataset and on most of the rides are completed at night.\n",
        "\n",
        "Next, we create a feature `drop_requested_lag` to measure how fast do drivers pick up the next ride after they drop off passengers. The feature `drop_requested_lag` only considers same day pickups. So there exists a condition that a driver only picks up a passenger a day and this might lead to low `drop_requested_lag` value."
      ]
    },
    {
      "cell_type": "code",
      "metadata": {
        "id": "t3tq5PjsIPbV",
        "colab_type": "code",
        "outputId": "74ca9fe4-95e7-4cc2-c545-63b9bbbc026b",
        "colab": {
          "base_uri": "https://localhost:8080/",
          "height": 446
        }
      },
      "source": [
        "# Shift the `timestamp` down 1 row\n",
        "# and subtract the `timestamp_shift` from `timestamp`\n",
        "# to measure the lag between a `dropped_off_at` and request time.\n",
        "# Since most request time is relatively close to pickup time,\n",
        "# this can be a good proxy.\n",
        "ids_timestamps['timestamp_shift'] = ids_timestamps.groupby('driver_id')['timestamp'].apply(lambda o: o.shift())\n",
        "\n",
        "ids_timestamps['delta_timestamp'] = ids_timestamps['timestamp'] - ids_timestamps['timestamp_shift']\n",
        "\n",
        "ids_timestamps.head(8)"
      ],
      "execution_count": 37,
      "outputs": [
        {
          "output_type": "execute_result",
          "data": {
            "text/html": [
              "<div>\n",
              "<style scoped>\n",
              "    .dataframe tbody tr th:only-of-type {\n",
              "        vertical-align: middle;\n",
              "    }\n",
              "\n",
              "    .dataframe tbody tr th {\n",
              "        vertical-align: top;\n",
              "    }\n",
              "\n",
              "    .dataframe thead th {\n",
              "        text-align: right;\n",
              "    }\n",
              "</style>\n",
              "<table border=\"1\" class=\"dataframe\">\n",
              "  <thead>\n",
              "    <tr style=\"text-align: right;\">\n",
              "      <th></th>\n",
              "      <th>driver_id</th>\n",
              "      <th>ride_id</th>\n",
              "      <th>ride_distance</th>\n",
              "      <th>ride_duration</th>\n",
              "      <th>ride_prime_time</th>\n",
              "      <th>fare</th>\n",
              "      <th>event</th>\n",
              "      <th>timestamp</th>\n",
              "      <th>timestampMonth</th>\n",
              "      <th>timestampWeek</th>\n",
              "      <th>timestampDay</th>\n",
              "      <th>timestampDayofweek</th>\n",
              "      <th>timestampDayofyear</th>\n",
              "      <th>timestampHour</th>\n",
              "      <th>timestampMinute</th>\n",
              "      <th>timestampElapsed</th>\n",
              "      <th>pickup_window</th>\n",
              "      <th>is_weekday</th>\n",
              "      <th>is_late_ride</th>\n",
              "      <th>timestamp_shift</th>\n",
              "      <th>delta_timestamp</th>\n",
              "    </tr>\n",
              "  </thead>\n",
              "  <tbody>\n",
              "    <tr>\n",
              "      <th>1235</th>\n",
              "      <td>002be0ffdc997bd5c50703158b7c2491</td>\n",
              "      <td>e228d93dc13a2a9d83661321992cd48e</td>\n",
              "      <td>1.541004</td>\n",
              "      <td>5.766667</td>\n",
              "      <td>NaN</td>\n",
              "      <td>6.790822</td>\n",
              "      <td>requested_at</td>\n",
              "      <td>2016-03-29 18:46:50</td>\n",
              "      <td>3.0</td>\n",
              "      <td>13.0</td>\n",
              "      <td>29.0</td>\n",
              "      <td>1.0</td>\n",
              "      <td>89.0</td>\n",
              "      <td>18.0</td>\n",
              "      <td>46.0</td>\n",
              "      <td>1.459277e+09</td>\n",
              "      <td>0.0</td>\n",
              "      <td>1</td>\n",
              "      <td>0</td>\n",
              "      <td>NaT</td>\n",
              "      <td>NaT</td>\n",
              "    </tr>\n",
              "    <tr>\n",
              "      <th>1236</th>\n",
              "      <td>002be0ffdc997bd5c50703158b7c2491</td>\n",
              "      <td>e228d93dc13a2a9d83661321992cd48e</td>\n",
              "      <td>1.541004</td>\n",
              "      <td>5.766667</td>\n",
              "      <td>NaN</td>\n",
              "      <td>6.790822</td>\n",
              "      <td>accepted_at</td>\n",
              "      <td>2016-03-29 18:47:01</td>\n",
              "      <td>3.0</td>\n",
              "      <td>13.0</td>\n",
              "      <td>29.0</td>\n",
              "      <td>1.0</td>\n",
              "      <td>89.0</td>\n",
              "      <td>18.0</td>\n",
              "      <td>47.0</td>\n",
              "      <td>1.459277e+09</td>\n",
              "      <td>11.0</td>\n",
              "      <td>1</td>\n",
              "      <td>0</td>\n",
              "      <td>2016-03-29 18:46:50</td>\n",
              "      <td>00:00:11</td>\n",
              "    </tr>\n",
              "    <tr>\n",
              "      <th>1237</th>\n",
              "      <td>002be0ffdc997bd5c50703158b7c2491</td>\n",
              "      <td>e228d93dc13a2a9d83661321992cd48e</td>\n",
              "      <td>1.541004</td>\n",
              "      <td>5.766667</td>\n",
              "      <td>NaN</td>\n",
              "      <td>6.790822</td>\n",
              "      <td>arrived_at</td>\n",
              "      <td>2016-03-29 18:50:00</td>\n",
              "      <td>3.0</td>\n",
              "      <td>13.0</td>\n",
              "      <td>29.0</td>\n",
              "      <td>1.0</td>\n",
              "      <td>89.0</td>\n",
              "      <td>18.0</td>\n",
              "      <td>50.0</td>\n",
              "      <td>1.459277e+09</td>\n",
              "      <td>190.0</td>\n",
              "      <td>1</td>\n",
              "      <td>0</td>\n",
              "      <td>2016-03-29 18:47:01</td>\n",
              "      <td>00:02:59</td>\n",
              "    </tr>\n",
              "    <tr>\n",
              "      <th>1238</th>\n",
              "      <td>002be0ffdc997bd5c50703158b7c2491</td>\n",
              "      <td>e228d93dc13a2a9d83661321992cd48e</td>\n",
              "      <td>1.541004</td>\n",
              "      <td>5.766667</td>\n",
              "      <td>NaN</td>\n",
              "      <td>6.790822</td>\n",
              "      <td>picked_up_at</td>\n",
              "      <td>2016-03-29 18:50:01</td>\n",
              "      <td>3.0</td>\n",
              "      <td>13.0</td>\n",
              "      <td>29.0</td>\n",
              "      <td>1.0</td>\n",
              "      <td>89.0</td>\n",
              "      <td>18.0</td>\n",
              "      <td>50.0</td>\n",
              "      <td>1.459277e+09</td>\n",
              "      <td>191.0</td>\n",
              "      <td>1</td>\n",
              "      <td>0</td>\n",
              "      <td>2016-03-29 18:50:00</td>\n",
              "      <td>00:00:01</td>\n",
              "    </tr>\n",
              "    <tr>\n",
              "      <th>1239</th>\n",
              "      <td>002be0ffdc997bd5c50703158b7c2491</td>\n",
              "      <td>e228d93dc13a2a9d83661321992cd48e</td>\n",
              "      <td>1.541004</td>\n",
              "      <td>5.766667</td>\n",
              "      <td>NaN</td>\n",
              "      <td>6.790822</td>\n",
              "      <td>dropped_off_at</td>\n",
              "      <td>2016-03-29 18:55:47</td>\n",
              "      <td>3.0</td>\n",
              "      <td>13.0</td>\n",
              "      <td>29.0</td>\n",
              "      <td>1.0</td>\n",
              "      <td>89.0</td>\n",
              "      <td>18.0</td>\n",
              "      <td>55.0</td>\n",
              "      <td>1.459278e+09</td>\n",
              "      <td>537.0</td>\n",
              "      <td>1</td>\n",
              "      <td>0</td>\n",
              "      <td>2016-03-29 18:50:01</td>\n",
              "      <td>00:05:46</td>\n",
              "    </tr>\n",
              "    <tr>\n",
              "      <th>5</th>\n",
              "      <td>002be0ffdc997bd5c50703158b7c2491</td>\n",
              "      <td>01b522c5c3a756fbdb12e95e87507eda</td>\n",
              "      <td>2.089055</td>\n",
              "      <td>13.483333</td>\n",
              "      <td>NaN</td>\n",
              "      <td>9.118747</td>\n",
              "      <td>requested_at</td>\n",
              "      <td>2016-03-29 19:00:49</td>\n",
              "      <td>3.0</td>\n",
              "      <td>13.0</td>\n",
              "      <td>29.0</td>\n",
              "      <td>1.0</td>\n",
              "      <td>89.0</td>\n",
              "      <td>19.0</td>\n",
              "      <td>0.0</td>\n",
              "      <td>1.459278e+09</td>\n",
              "      <td>0.0</td>\n",
              "      <td>1</td>\n",
              "      <td>0</td>\n",
              "      <td>2016-03-29 18:55:47</td>\n",
              "      <td>00:05:02</td>\n",
              "    </tr>\n",
              "    <tr>\n",
              "      <th>6</th>\n",
              "      <td>002be0ffdc997bd5c50703158b7c2491</td>\n",
              "      <td>01b522c5c3a756fbdb12e95e87507eda</td>\n",
              "      <td>2.089055</td>\n",
              "      <td>13.483333</td>\n",
              "      <td>NaN</td>\n",
              "      <td>9.118747</td>\n",
              "      <td>accepted_at</td>\n",
              "      <td>2016-03-29 19:00:52</td>\n",
              "      <td>3.0</td>\n",
              "      <td>13.0</td>\n",
              "      <td>29.0</td>\n",
              "      <td>1.0</td>\n",
              "      <td>89.0</td>\n",
              "      <td>19.0</td>\n",
              "      <td>0.0</td>\n",
              "      <td>1.459278e+09</td>\n",
              "      <td>3.0</td>\n",
              "      <td>1</td>\n",
              "      <td>0</td>\n",
              "      <td>2016-03-29 19:00:49</td>\n",
              "      <td>00:00:03</td>\n",
              "    </tr>\n",
              "    <tr>\n",
              "      <th>7</th>\n",
              "      <td>002be0ffdc997bd5c50703158b7c2491</td>\n",
              "      <td>01b522c5c3a756fbdb12e95e87507eda</td>\n",
              "      <td>2.089055</td>\n",
              "      <td>13.483333</td>\n",
              "      <td>NaN</td>\n",
              "      <td>9.118747</td>\n",
              "      <td>arrived_at</td>\n",
              "      <td>2016-03-29 19:03:57</td>\n",
              "      <td>3.0</td>\n",
              "      <td>13.0</td>\n",
              "      <td>29.0</td>\n",
              "      <td>1.0</td>\n",
              "      <td>89.0</td>\n",
              "      <td>19.0</td>\n",
              "      <td>3.0</td>\n",
              "      <td>1.459278e+09</td>\n",
              "      <td>188.0</td>\n",
              "      <td>1</td>\n",
              "      <td>0</td>\n",
              "      <td>2016-03-29 19:00:52</td>\n",
              "      <td>00:03:05</td>\n",
              "    </tr>\n",
              "  </tbody>\n",
              "</table>\n",
              "</div>"
            ],
            "text/plain": [
              "                             driver_id  ... delta_timestamp\n",
              "1235  002be0ffdc997bd5c50703158b7c2491  ...             NaT\n",
              "1236  002be0ffdc997bd5c50703158b7c2491  ...        00:00:11\n",
              "1237  002be0ffdc997bd5c50703158b7c2491  ...        00:02:59\n",
              "1238  002be0ffdc997bd5c50703158b7c2491  ...        00:00:01\n",
              "1239  002be0ffdc997bd5c50703158b7c2491  ...        00:05:46\n",
              "5     002be0ffdc997bd5c50703158b7c2491  ...        00:05:02\n",
              "6     002be0ffdc997bd5c50703158b7c2491  ...        00:00:03\n",
              "7     002be0ffdc997bd5c50703158b7c2491  ...        00:03:05\n",
              "\n",
              "[8 rows x 21 columns]"
            ]
          },
          "metadata": {
            "tags": []
          },
          "execution_count": 37
        }
      ]
    },
    {
      "cell_type": "code",
      "metadata": {
        "id": "2mv33H6M5MPb",
        "colab_type": "code",
        "colab": {}
      },
      "source": [
        "# If the `event == 'request_at'` and the `delta_timestamp` is not null, \n",
        "# this indicates that this is not the first ride of the day.\n",
        "# Assign boolean value of 1 to `drop_requested_lag`. \n",
        "ids_timestamps.loc[(ids_timestamps['event'] == 'requested_at') &\n",
        "                   (~ids_timestamps['delta_timestamp'].isna()), 'drop_requested_lag'] = 1\n",
        "\n",
        "ids_timestamps['drop_requested_lag'].fillna(0, inplace=True)\n",
        "\n",
        "# Since `drop_requested_lag` for all the second rides onwards \n",
        "# of a particular day has value = 1, we can directly \"transfer\" the values\n",
        "# of `delta_timestamp` over. \n",
        "# `drop_requested_lag` only has values for all the second rides onwards \n",
        "# as a time lag from the previous `dropoff_at`\n",
        "ids_timestamps['drop_requested_lag'] = ids_timestamps['drop_requested_lag'] * ids_timestamps['delta_timestamp']\n",
        "\n",
        "# convert the time to seconds\n",
        "ids_timestamps['drop_requested_lag'] = ids_timestamps['drop_requested_lag'].apply(lambda o: o.total_seconds())\n",
        "\n",
        "# only consider same day lags\n",
        "ids_timestamps.loc[ids_timestamps['delta_timestamp'].dt.days > 0, 'drop_requested_lag'] = np.nan"
      ],
      "execution_count": 0,
      "outputs": []
    },
    {
      "cell_type": "code",
      "metadata": {
        "id": "23A8mKhbvIVw",
        "colab_type": "code",
        "outputId": "96e742f3-66cf-40bd-c618-ee40f7bb4e44",
        "colab": {
          "base_uri": "https://localhost:8080/",
          "height": 198
        }
      },
      "source": [
        "# filter only `event == 'requested_at'` \n",
        "filtered_requested_at = ids_timestamps[ids_timestamps['event'] == 'requested_at']\n",
        "\n",
        "# calculate the mean\n",
        "drop_requested_lag_g = filtered_requested_at.groupby('driver_id')['drop_requested_lag'].mean()\n",
        "\n",
        "drop_requested_lag_g = drop_requested_lag_g.reset_index()\n",
        "\n",
        "drop_requested_lag_g.sort_values(by='drop_requested_lag').head()"
      ],
      "execution_count": 39,
      "outputs": [
        {
          "output_type": "execute_result",
          "data": {
            "text/html": [
              "<div>\n",
              "<style scoped>\n",
              "    .dataframe tbody tr th:only-of-type {\n",
              "        vertical-align: middle;\n",
              "    }\n",
              "\n",
              "    .dataframe tbody tr th {\n",
              "        vertical-align: top;\n",
              "    }\n",
              "\n",
              "    .dataframe thead th {\n",
              "        text-align: right;\n",
              "    }\n",
              "</style>\n",
              "<table border=\"1\" class=\"dataframe\">\n",
              "  <thead>\n",
              "    <tr style=\"text-align: right;\">\n",
              "      <th></th>\n",
              "      <th>driver_id</th>\n",
              "      <th>drop_requested_lag</th>\n",
              "    </tr>\n",
              "  </thead>\n",
              "  <tbody>\n",
              "    <tr>\n",
              "      <th>441</th>\n",
              "      <td>7ff85c5c0e9324e28d1e0d0589c364bd</td>\n",
              "      <td>181.000000</td>\n",
              "    </tr>\n",
              "    <tr>\n",
              "      <th>526</th>\n",
              "      <td>9a54684a69721c1075c2af5fc077665b</td>\n",
              "      <td>754.351351</td>\n",
              "    </tr>\n",
              "    <tr>\n",
              "      <th>495</th>\n",
              "      <td>905f8007cd46415eba8b9dce088b4395</td>\n",
              "      <td>936.774194</td>\n",
              "    </tr>\n",
              "    <tr>\n",
              "      <th>226</th>\n",
              "      <td>42256e33936dfa69088f540a720edc97</td>\n",
              "      <td>942.870968</td>\n",
              "    </tr>\n",
              "    <tr>\n",
              "      <th>313</th>\n",
              "      <td>5cf93f7d1d3a8f0cf395c84053c31b1b</td>\n",
              "      <td>976.818182</td>\n",
              "    </tr>\n",
              "  </tbody>\n",
              "</table>\n",
              "</div>"
            ],
            "text/plain": [
              "                            driver_id  drop_requested_lag\n",
              "441  7ff85c5c0e9324e28d1e0d0589c364bd          181.000000\n",
              "526  9a54684a69721c1075c2af5fc077665b          754.351351\n",
              "495  905f8007cd46415eba8b9dce088b4395          936.774194\n",
              "226  42256e33936dfa69088f540a720edc97          942.870968\n",
              "313  5cf93f7d1d3a8f0cf395c84053c31b1b          976.818182"
            ]
          },
          "metadata": {
            "tags": []
          },
          "execution_count": 39
        }
      ]
    },
    {
      "cell_type": "markdown",
      "metadata": {
        "id": "HGpx-5u03PK1",
        "colab_type": "text"
      },
      "source": [
        "Merge `ids_timestamps` with `driver_id`."
      ]
    },
    {
      "cell_type": "code",
      "metadata": {
        "id": "VPt21fowyAoe",
        "colab_type": "code",
        "colab": {}
      },
      "source": [
        "df = pd.merge(ids_timestamps, driver_ids,\n",
        "              left_on='driver_id', right_on='driver_id',\n",
        "              how='outer')"
      ],
      "execution_count": 0,
      "outputs": []
    },
    {
      "cell_type": "markdown",
      "metadata": {
        "id": "YjEL_RGl7H7X",
        "colab_type": "text"
      },
      "source": [
        "To calculate how many actual days did the driver drive, we calculate the number of unique days the driver has activity."
      ]
    },
    {
      "cell_type": "code",
      "metadata": {
        "id": "cE45wQs6Zc7f",
        "colab_type": "code",
        "outputId": "18837299-cda3-4145-893a-940cb95f3354",
        "colab": {
          "base_uri": "https://localhost:8080/",
          "height": 198
        }
      },
      "source": [
        "# only get the date from timestamp\n",
        "df['date'] = df['timestamp'].dt.date\n",
        "\n",
        "# calculate how many unique dates are there\n",
        "unique_dates_g = df.groupby('driver_id')['date'].nunique()\n",
        "\n",
        "unique_dates_g = unique_dates_g.reset_index()\n",
        "\n",
        "unique_dates_g.rename(columns={'date': 'unique_days'}, inplace=True)\n",
        "\n",
        "unique_dates_g.head()"
      ],
      "execution_count": 41,
      "outputs": [
        {
          "output_type": "execute_result",
          "data": {
            "text/html": [
              "<div>\n",
              "<style scoped>\n",
              "    .dataframe tbody tr th:only-of-type {\n",
              "        vertical-align: middle;\n",
              "    }\n",
              "\n",
              "    .dataframe tbody tr th {\n",
              "        vertical-align: top;\n",
              "    }\n",
              "\n",
              "    .dataframe thead th {\n",
              "        text-align: right;\n",
              "    }\n",
              "</style>\n",
              "<table border=\"1\" class=\"dataframe\">\n",
              "  <thead>\n",
              "    <tr style=\"text-align: right;\">\n",
              "      <th></th>\n",
              "      <th>driver_id</th>\n",
              "      <th>unique_days</th>\n",
              "    </tr>\n",
              "  </thead>\n",
              "  <tbody>\n",
              "    <tr>\n",
              "      <th>0</th>\n",
              "      <td>002be0ffdc997bd5c50703158b7c2491</td>\n",
              "      <td>56</td>\n",
              "    </tr>\n",
              "    <tr>\n",
              "      <th>1</th>\n",
              "      <td>007f0389f9c7b03ef97098422f902e62</td>\n",
              "      <td>12</td>\n",
              "    </tr>\n",
              "    <tr>\n",
              "      <th>2</th>\n",
              "      <td>011e5c5dfc5c2c92501b8b24d47509bc</td>\n",
              "      <td>12</td>\n",
              "    </tr>\n",
              "    <tr>\n",
              "      <th>3</th>\n",
              "      <td>0152a2f305e71d26cc964f8d4411add9</td>\n",
              "      <td>42</td>\n",
              "    </tr>\n",
              "    <tr>\n",
              "      <th>4</th>\n",
              "      <td>01674381af7edd264113d4e6ed55ecda</td>\n",
              "      <td>40</td>\n",
              "    </tr>\n",
              "  </tbody>\n",
              "</table>\n",
              "</div>"
            ],
            "text/plain": [
              "                          driver_id  unique_days\n",
              "0  002be0ffdc997bd5c50703158b7c2491           56\n",
              "1  007f0389f9c7b03ef97098422f902e62           12\n",
              "2  011e5c5dfc5c2c92501b8b24d47509bc           12\n",
              "3  0152a2f305e71d26cc964f8d4411add9           42\n",
              "4  01674381af7edd264113d4e6ed55ecda           40"
            ]
          },
          "metadata": {
            "tags": []
          },
          "execution_count": 41
        }
      ]
    },
    {
      "cell_type": "code",
      "metadata": {
        "id": "VhqoIacahBxZ",
        "colab_type": "code",
        "colab": {
          "base_uri": "https://localhost:8080/",
          "height": 35
        },
        "outputId": "06dbb10c-ef0b-4dfa-909b-6081398b0db9"
      },
      "source": [
        "t = pd.merge(ids_timestamps, driver_ids,\n",
        "              left_on='driver_id', right_on='driver_id', how='outer')\n",
        "\n",
        "# for all the entries that do not have a `driver_id`\n",
        "# check how many unique `ride_id`s are there\n",
        "t[t['driver_id'].isna()]['ride_id'].nunique()"
      ],
      "execution_count": 42,
      "outputs": [
        {
          "output_type": "execute_result",
          "data": {
            "text/plain": [
              "9262"
            ]
          },
          "metadata": {
            "tags": []
          },
          "execution_count": 42
        }
      ]
    },
    {
      "cell_type": "markdown",
      "metadata": {
        "id": "saL-sUtwgxyl",
        "colab_type": "text"
      },
      "source": [
        "Since the `unique_days` is dependent on activities from `ride_timestamps`, we decide to fill the 0 values with the mean because these drivers altogether complete 9,262 rides."
      ]
    },
    {
      "cell_type": "code",
      "metadata": {
        "id": "H8AYzT_YguHu",
        "colab_type": "code",
        "colab": {}
      },
      "source": [
        "unique_dates_g['unique_days'].replace(0, unique_dates_g['unique_days'].mean(), inplace=True)"
      ],
      "execution_count": 0,
      "outputs": []
    },
    {
      "cell_type": "markdown",
      "metadata": {
        "id": "pKoSRwy92Nlf",
        "colab_type": "text"
      },
      "source": [
        "Next, we create the feature `driving_period` to account for the duration between the last trip a driver made and the day the driver was onboard. "
      ]
    },
    {
      "cell_type": "code",
      "metadata": {
        "id": "AZ07lfwShLNr",
        "colab_type": "code",
        "colab": {}
      },
      "source": [
        "# tail(1) gets the last activity\n",
        "# we subtract the onboard date with the last activity\n",
        "df['driving_period'] = (df.groupby('driver_id')['timestamp'].tail(1) - pd.to_datetime(df['driver_onboard_date'])).dt.days"
      ],
      "execution_count": 0,
      "outputs": []
    },
    {
      "cell_type": "markdown",
      "metadata": {
        "id": "7T4eVUdS2Py1",
        "colab_type": "text"
      },
      "source": [
        "To calculate the average churn rate, we first get the driver's last activity based on `timestamp` in `ride_timestamps`. Since the last day of the `timestamp` in `ride_timestamps` was 2016/06/27, we calculate the number of days since the driver's last activity with respect to the last day of the dataset. We assume drivers who have more than 7 days of inactivity have churned."
      ]
    },
    {
      "cell_type": "code",
      "metadata": {
        "id": "72iJkFp72RJo",
        "colab_type": "code",
        "colab": {}
      },
      "source": [
        "# we now take the last date of the dataset\n",
        "# and subtract the last activity from it\n",
        "df['last_activity'] = (df['timestamp'].max() - df.groupby('driver_id')['timestamp'].tail(1)).dt.days\n",
        "\n",
        "last_activity_df = df.groupby('driver_id').tail(1)"
      ],
      "execution_count": 0,
      "outputs": []
    },
    {
      "cell_type": "code",
      "metadata": {
        "id": "dFbKva6fsoP6",
        "colab_type": "code",
        "outputId": "1c1d2ce5-0d32-490b-fc9a-070ff4864dba",
        "colab": {
          "base_uri": "https://localhost:8080/",
          "height": 35
        }
      },
      "source": [
        "# check how many drivers have a `last_activity` of > 7\n",
        "len(last_activity_df[last_activity_df['last_activity'] > 7])"
      ],
      "execution_count": 46,
      "outputs": [
        {
          "output_type": "execute_result",
          "data": {
            "text/plain": [
              "309"
            ]
          },
          "metadata": {
            "tags": []
          },
          "execution_count": 46
        }
      ]
    },
    {
      "cell_type": "markdown",
      "metadata": {
        "id": "9oEOvPqIu0Db",
        "colab_type": "text"
      },
      "source": [
        "There are 309 drivers whose last activity was more than 7 days. Meanwhile, for the 93 drivers who have no record in `ride_timestamps`, all of them together completed 9,262 trips. We assume that they have not churned."
      ]
    },
    {
      "cell_type": "code",
      "metadata": {
        "id": "_24Psh333ZOH",
        "colab_type": "code",
        "outputId": "8ae742e1-13d6-47b3-c8bf-0e63d0224684",
        "colab": {
          "base_uri": "https://localhost:8080/",
          "height": 35
        }
      },
      "source": [
        "# since the drivers have completed 9,262 rides,\n",
        "# we assume they have not churned\n",
        "churn_rate = len(last_activity_df[last_activity_df['last_activity'] > 7]) / len(driver_ids)\n",
        "\n",
        "churn_rate"
      ],
      "execution_count": 47,
      "outputs": [
        {
          "output_type": "execute_result",
          "data": {
            "text/plain": [
              "0.3297758804695838"
            ]
          },
          "metadata": {
            "tags": []
          },
          "execution_count": 47
        }
      ]
    },
    {
      "cell_type": "markdown",
      "metadata": {
        "id": "lv0pJvb-Monh",
        "colab_type": "text"
      },
      "source": [
        "We proceed to create a bar plot of number of active drivers."
      ]
    },
    {
      "cell_type": "code",
      "metadata": {
        "id": "VFkTlpCFHOpQ",
        "colab_type": "code",
        "colab": {}
      },
      "source": [
        "# get the earliest timestamp of a driver's activity\n",
        "first_day = ids_timestamps.groupby('driver_id')['timestamp'].min().reset_index()\n",
        "first_day.rename(columns={'timestamp': 'first_day'}, inplace=True)\n",
        "\n",
        "# get the latest timestamp of a driver's activity\n",
        "last_day = ids_timestamps.groupby('driver_id')['timestamp'].max().reset_index()\n",
        "last_day.rename(columns={'timestamp': 'last_day'}, inplace=True)\n",
        "\n",
        "# create a dataframe that includes both first and last day\n",
        "first_last_day = pd.merge(first_day, last_day, on='driver_id')\n",
        "\n",
        "# if the last day of activity is less than 7 days of the\n",
        "# last day of the dataset, change the last day to the last \n",
        "# day of the dataset \n",
        "first_last_day.loc[((df['timestamp'].max() - first_last_day['last_day']).dt.days <= 7),\n",
        "                   'last_day'] = df['timestamp'].max()"
      ],
      "execution_count": 0,
      "outputs": []
    },
    {
      "cell_type": "code",
      "metadata": {
        "id": "PElwwrL1K97B",
        "colab_type": "code",
        "outputId": "1baa2a04-381b-4c4c-d4b1-0fa1ab9e88f3",
        "colab": {
          "base_uri": "https://localhost:8080/",
          "height": 198
        }
      },
      "source": [
        "first_last_day.head()"
      ],
      "execution_count": 49,
      "outputs": [
        {
          "output_type": "execute_result",
          "data": {
            "text/html": [
              "<div>\n",
              "<style scoped>\n",
              "    .dataframe tbody tr th:only-of-type {\n",
              "        vertical-align: middle;\n",
              "    }\n",
              "\n",
              "    .dataframe tbody tr th {\n",
              "        vertical-align: top;\n",
              "    }\n",
              "\n",
              "    .dataframe thead th {\n",
              "        text-align: right;\n",
              "    }\n",
              "</style>\n",
              "<table border=\"1\" class=\"dataframe\">\n",
              "  <thead>\n",
              "    <tr style=\"text-align: right;\">\n",
              "      <th></th>\n",
              "      <th>driver_id</th>\n",
              "      <th>first_day</th>\n",
              "      <th>last_day</th>\n",
              "    </tr>\n",
              "  </thead>\n",
              "  <tbody>\n",
              "    <tr>\n",
              "      <th>0</th>\n",
              "      <td>002be0ffdc997bd5c50703158b7c2491</td>\n",
              "      <td>2016-03-29 18:46:50</td>\n",
              "      <td>2016-06-27 00:50:50</td>\n",
              "    </tr>\n",
              "    <tr>\n",
              "      <th>1</th>\n",
              "      <td>007f0389f9c7b03ef97098422f902e62</td>\n",
              "      <td>2016-03-29 22:28:28</td>\n",
              "      <td>2016-06-27 00:50:50</td>\n",
              "    </tr>\n",
              "    <tr>\n",
              "      <th>2</th>\n",
              "      <td>011e5c5dfc5c2c92501b8b24d47509bc</td>\n",
              "      <td>2016-04-05 10:54:51</td>\n",
              "      <td>2016-06-12 20:30:38</td>\n",
              "    </tr>\n",
              "    <tr>\n",
              "      <th>3</th>\n",
              "      <td>0152a2f305e71d26cc964f8d4411add9</td>\n",
              "      <td>2016-04-25 15:59:20</td>\n",
              "      <td>2016-06-27 00:50:50</td>\n",
              "    </tr>\n",
              "    <tr>\n",
              "      <th>4</th>\n",
              "      <td>01674381af7edd264113d4e6ed55ecda</td>\n",
              "      <td>2016-04-29 07:50:40</td>\n",
              "      <td>2016-06-27 00:50:50</td>\n",
              "    </tr>\n",
              "  </tbody>\n",
              "</table>\n",
              "</div>"
            ],
            "text/plain": [
              "                          driver_id           first_day            last_day\n",
              "0  002be0ffdc997bd5c50703158b7c2491 2016-03-29 18:46:50 2016-06-27 00:50:50\n",
              "1  007f0389f9c7b03ef97098422f902e62 2016-03-29 22:28:28 2016-06-27 00:50:50\n",
              "2  011e5c5dfc5c2c92501b8b24d47509bc 2016-04-05 10:54:51 2016-06-12 20:30:38\n",
              "3  0152a2f305e71d26cc964f8d4411add9 2016-04-25 15:59:20 2016-06-27 00:50:50\n",
              "4  01674381af7edd264113d4e6ed55ecda 2016-04-29 07:50:40 2016-06-27 00:50:50"
            ]
          },
          "metadata": {
            "tags": []
          },
          "execution_count": 49
        }
      ]
    },
    {
      "cell_type": "code",
      "metadata": {
        "id": "sfwKcuYNJUDj",
        "colab_type": "code",
        "colab": {}
      },
      "source": [
        "from datetime import timedelta, date\n",
        "\n",
        "def daterange(start_date, end_date):\n",
        "    for n in range(int((end_date - start_date).days)):\n",
        "        yield start_date + timedelta(n)\n",
        "\n",
        "date_count = {}\n",
        "\n",
        "# for each day between the first and last day\n",
        "# calculate how many drivers' activities are there\n",
        "for day in daterange(first_last_day['first_day'].min(), first_last_day['last_day'].max()):\n",
        "    between = first_last_day[(first_last_day['first_day'] <= day) & (first_last_day['last_day'] >= day)]\n",
        "    date_count[day] = len(between)"
      ],
      "execution_count": 0,
      "outputs": []
    },
    {
      "cell_type": "code",
      "metadata": {
        "id": "A0IjqFY4JhwU",
        "colab_type": "code",
        "outputId": "582110b7-34d7-462f-c040-e60f1c821bd8",
        "colab": {
          "base_uri": "https://localhost:8080/",
          "height": 198
        }
      },
      "source": [
        "# create a dataframe from the dict we saved\n",
        "retention = pd.DataFrame(date_count.items())\n",
        "\n",
        "# rename the variables\n",
        "retention.rename(columns={0: 'date',\n",
        "                          1: 'num_drivers_onboard'}, inplace=True)\n",
        "\n",
        "# keep only the month and day\n",
        "retention['date'] = retention['date'].apply(lambda o: o.strftime('%m-%d'))\n",
        "\n",
        "retention.head()"
      ],
      "execution_count": 51,
      "outputs": [
        {
          "output_type": "execute_result",
          "data": {
            "text/html": [
              "<div>\n",
              "<style scoped>\n",
              "    .dataframe tbody tr th:only-of-type {\n",
              "        vertical-align: middle;\n",
              "    }\n",
              "\n",
              "    .dataframe tbody tr th {\n",
              "        vertical-align: top;\n",
              "    }\n",
              "\n",
              "    .dataframe thead th {\n",
              "        text-align: right;\n",
              "    }\n",
              "</style>\n",
              "<table border=\"1\" class=\"dataframe\">\n",
              "  <thead>\n",
              "    <tr style=\"text-align: right;\">\n",
              "      <th></th>\n",
              "      <th>date</th>\n",
              "      <th>num_drivers_onboard</th>\n",
              "    </tr>\n",
              "  </thead>\n",
              "  <tbody>\n",
              "    <tr>\n",
              "      <th>0</th>\n",
              "      <td>03-28</td>\n",
              "      <td>1</td>\n",
              "    </tr>\n",
              "    <tr>\n",
              "      <th>1</th>\n",
              "      <td>03-29</td>\n",
              "      <td>21</td>\n",
              "    </tr>\n",
              "    <tr>\n",
              "      <th>2</th>\n",
              "      <td>03-30</td>\n",
              "      <td>48</td>\n",
              "    </tr>\n",
              "    <tr>\n",
              "      <th>3</th>\n",
              "      <td>03-31</td>\n",
              "      <td>70</td>\n",
              "    </tr>\n",
              "    <tr>\n",
              "      <th>4</th>\n",
              "      <td>04-01</td>\n",
              "      <td>92</td>\n",
              "    </tr>\n",
              "  </tbody>\n",
              "</table>\n",
              "</div>"
            ],
            "text/plain": [
              "    date  num_drivers_onboard\n",
              "0  03-28                    1\n",
              "1  03-29                   21\n",
              "2  03-30                   48\n",
              "3  03-31                   70\n",
              "4  04-01                   92"
            ]
          },
          "metadata": {
            "tags": []
          },
          "execution_count": 51
        }
      ]
    },
    {
      "cell_type": "code",
      "metadata": {
        "id": "9NJGSSH6NCsN",
        "colab_type": "code",
        "outputId": "e655f277-5a1b-4527-831d-cb89f25b673d",
        "colab": {
          "base_uri": "https://localhost:8080/",
          "height": 424
        }
      },
      "source": [
        "plt.figure(figsize=(16,6))\n",
        "plt.title('Number of Active Drivers vs Day')\n",
        "sns.barplot(x=retention['date'],\n",
        "            y=retention['num_drivers_onboard'])\n",
        "plt.xticks(rotation=90)\n",
        "plt.show()"
      ],
      "execution_count": 52,
      "outputs": [
        {
          "output_type": "display_data",
          "data": {
            "image/png": "[encoded data removed]",
            "text/plain": [
              "<Figure size 1152x432 with 1 Axes>"
            ]
          },
          "metadata": {
            "tags": []
          }
        }
      ]
    },
    {
      "cell_type": "markdown",
      "metadata": {
        "id": "Bm1mEyj0M4wV",
        "colab_type": "text"
      },
      "source": [
        "The graph flattens out because we assumed drivers who have less than 7 days of inactivity have not churned, but rather, are taking a break.\n",
        "\n",
        "Since having days on the x-axis would be too compact, we also create a plot with week on the x-axis."
      ]
    },
    {
      "cell_type": "code",
      "metadata": {
        "id": "jB5hiEGfMGYU",
        "colab_type": "code",
        "colab": {}
      },
      "source": [
        "N = 7\n",
        "weekly_retention = retention.groupby(retention.index // N).mean()"
      ],
      "execution_count": 0,
      "outputs": []
    },
    {
      "cell_type": "code",
      "metadata": {
        "id": "AF4mHXSaJ50f",
        "colab_type": "code",
        "outputId": "c55f41dc-8d4c-459f-f630-75574cc300ed",
        "colab": {
          "base_uri": "https://localhost:8080/",
          "height": 281
        }
      },
      "source": [
        "plt.figure(figsize=(8,4))\n",
        "plt.title('Average Number of Drivers vs Week')\n",
        "sns.barplot(x=np.arange(len(weekly_retention)),\n",
        "            y=weekly_retention['num_drivers_onboard'])\n",
        "plt.show()"
      ],
      "execution_count": 54,
      "outputs": [
        {
          "output_type": "display_data",
          "data": {
            "image/png": "[encoded data removed]",
            "text/plain": [
              "<Figure size 576x288 with 1 Axes>"
            ]
          },
          "metadata": {
            "tags": []
          }
        }
      ]
    },
    {
      "cell_type": "code",
      "metadata": {
        "id": "wHrpXhjr29Eh",
        "colab_type": "code",
        "outputId": "3c2d007d-61a4-4219-ce42-07bb865b885e",
        "colab": {
          "base_uri": "https://localhost:8080/",
          "height": 198
        }
      },
      "source": [
        "# saves the driver who has the last timestamp\n",
        "# present in `df`\n",
        "onboard_period = df[~df['driving_period'].isna()]\n",
        "\n",
        "onboard_period = onboard_period[['driver_id', 'driving_period']].copy()\n",
        "\n",
        "onboard_period.sort_values('driving_period').head()"
      ],
      "execution_count": 55,
      "outputs": [
        {
          "output_type": "execute_result",
          "data": {
            "text/html": [
              "<div>\n",
              "<style scoped>\n",
              "    .dataframe tbody tr th:only-of-type {\n",
              "        vertical-align: middle;\n",
              "    }\n",
              "\n",
              "    .dataframe tbody tr th {\n",
              "        vertical-align: top;\n",
              "    }\n",
              "\n",
              "    .dataframe thead th {\n",
              "        text-align: right;\n",
              "    }\n",
              "</style>\n",
              "<table border=\"1\" class=\"dataframe\">\n",
              "  <thead>\n",
              "    <tr style=\"text-align: right;\">\n",
              "      <th></th>\n",
              "      <th>driver_id</th>\n",
              "      <th>driving_period</th>\n",
              "    </tr>\n",
              "  </thead>\n",
              "  <tbody>\n",
              "    <tr>\n",
              "      <th>722279</th>\n",
              "      <td>bd057e02f75c92917389d90bb215fe91</td>\n",
              "      <td>1.0</td>\n",
              "    </tr>\n",
              "    <tr>\n",
              "      <th>409829</th>\n",
              "      <td>68b546b2f4102641d6774c1ce4f57457</td>\n",
              "      <td>1.0</td>\n",
              "    </tr>\n",
              "    <tr>\n",
              "      <th>434419</th>\n",
              "      <td>6eb2e0f41fc9f1fbb70e7751035fdf87</td>\n",
              "      <td>1.0</td>\n",
              "    </tr>\n",
              "    <tr>\n",
              "      <th>615520</th>\n",
              "      <td>a2334fdb829cf96fbae920df0cce1587</td>\n",
              "      <td>2.0</td>\n",
              "    </tr>\n",
              "    <tr>\n",
              "      <th>849382</th>\n",
              "      <td>e4f3a9d5cf57b9b518136afd9757f76d</td>\n",
              "      <td>3.0</td>\n",
              "    </tr>\n",
              "  </tbody>\n",
              "</table>\n",
              "</div>"
            ],
            "text/plain": [
              "                               driver_id  driving_period\n",
              "722279  bd057e02f75c92917389d90bb215fe91             1.0\n",
              "409829  68b546b2f4102641d6774c1ce4f57457             1.0\n",
              "434419  6eb2e0f41fc9f1fbb70e7751035fdf87             1.0\n",
              "615520  a2334fdb829cf96fbae920df0cce1587             2.0\n",
              "849382  e4f3a9d5cf57b9b518136afd9757f76d             3.0"
            ]
          },
          "metadata": {
            "tags": []
          },
          "execution_count": 55
        }
      ]
    },
    {
      "cell_type": "markdown",
      "metadata": {
        "id": "5KRP3NPE7gT1",
        "colab_type": "text"
      },
      "source": [
        "We then calculated the number of rides based on drivers per week."
      ]
    },
    {
      "cell_type": "code",
      "metadata": {
        "id": "4jIBQ11rw7S2",
        "colab_type": "code",
        "colab": {}
      },
      "source": [
        "df = df[~df['driver_onboard_date'].isna()]\n",
        "\n",
        "# filter `event == 'dropped_off_at'` \n",
        "drop_off = df[df['event'] == 'dropped_off_at']\n",
        "\n",
        "# bin the date into weeks\n",
        "# based on every 7-day\n",
        "drop_off['week'] = ((drop_off['timestamp'] - pd.to_datetime(drop_off['driver_onboard_date'])).dt.days / 7).astype(int)"
      ],
      "execution_count": 0,
      "outputs": []
    },
    {
      "cell_type": "code",
      "metadata": {
        "id": "sqPlSjU0w7sm",
        "colab_type": "code",
        "outputId": "73954a47-a871-4bfa-ac00-cb9c09456eb8",
        "colab": {
          "base_uri": "https://localhost:8080/",
          "height": 198
        }
      },
      "source": [
        "drop_off.groupby('driver_id')['week'].value_counts().unstack().reset_index().fillna(0).head()"
      ],
      "execution_count": 57,
      "outputs": [
        {
          "output_type": "execute_result",
          "data": {
            "text/html": [
              "<div>\n",
              "<style scoped>\n",
              "    .dataframe tbody tr th:only-of-type {\n",
              "        vertical-align: middle;\n",
              "    }\n",
              "\n",
              "    .dataframe tbody tr th {\n",
              "        vertical-align: top;\n",
              "    }\n",
              "\n",
              "    .dataframe thead th {\n",
              "        text-align: right;\n",
              "    }\n",
              "</style>\n",
              "<table border=\"1\" class=\"dataframe\">\n",
              "  <thead>\n",
              "    <tr style=\"text-align: right;\">\n",
              "      <th>week</th>\n",
              "      <th>driver_id</th>\n",
              "      <th>0</th>\n",
              "      <th>1</th>\n",
              "      <th>2</th>\n",
              "      <th>3</th>\n",
              "      <th>4</th>\n",
              "      <th>5</th>\n",
              "      <th>6</th>\n",
              "      <th>7</th>\n",
              "      <th>8</th>\n",
              "      <th>9</th>\n",
              "      <th>10</th>\n",
              "      <th>11</th>\n",
              "      <th>12</th>\n",
              "    </tr>\n",
              "  </thead>\n",
              "  <tbody>\n",
              "    <tr>\n",
              "      <th>0</th>\n",
              "      <td>002be0ffdc997bd5c50703158b7c2491</td>\n",
              "      <td>26.0</td>\n",
              "      <td>13.0</td>\n",
              "      <td>41.0</td>\n",
              "      <td>29.0</td>\n",
              "      <td>3.0</td>\n",
              "      <td>10.0</td>\n",
              "      <td>3.0</td>\n",
              "      <td>26.0</td>\n",
              "      <td>14.0</td>\n",
              "      <td>42.0</td>\n",
              "      <td>37.0</td>\n",
              "      <td>16.0</td>\n",
              "      <td>17.0</td>\n",
              "    </tr>\n",
              "    <tr>\n",
              "      <th>1</th>\n",
              "      <td>007f0389f9c7b03ef97098422f902e62</td>\n",
              "      <td>1.0</td>\n",
              "      <td>1.0</td>\n",
              "      <td>0.0</td>\n",
              "      <td>5.0</td>\n",
              "      <td>6.0</td>\n",
              "      <td>3.0</td>\n",
              "      <td>0.0</td>\n",
              "      <td>6.0</td>\n",
              "      <td>0.0</td>\n",
              "      <td>5.0</td>\n",
              "      <td>0.0</td>\n",
              "      <td>2.0</td>\n",
              "      <td>2.0</td>\n",
              "    </tr>\n",
              "    <tr>\n",
              "      <th>2</th>\n",
              "      <td>011e5c5dfc5c2c92501b8b24d47509bc</td>\n",
              "      <td>7.0</td>\n",
              "      <td>4.0</td>\n",
              "      <td>0.0</td>\n",
              "      <td>1.0</td>\n",
              "      <td>5.0</td>\n",
              "      <td>2.0</td>\n",
              "      <td>5.0</td>\n",
              "      <td>5.0</td>\n",
              "      <td>0.0</td>\n",
              "      <td>5.0</td>\n",
              "      <td>0.0</td>\n",
              "      <td>0.0</td>\n",
              "      <td>0.0</td>\n",
              "    </tr>\n",
              "    <tr>\n",
              "      <th>3</th>\n",
              "      <td>0152a2f305e71d26cc964f8d4411add9</td>\n",
              "      <td>23.0</td>\n",
              "      <td>14.0</td>\n",
              "      <td>15.0</td>\n",
              "      <td>4.0</td>\n",
              "      <td>15.0</td>\n",
              "      <td>31.0</td>\n",
              "      <td>19.0</td>\n",
              "      <td>28.0</td>\n",
              "      <td>32.0</td>\n",
              "      <td>10.0</td>\n",
              "      <td>0.0</td>\n",
              "      <td>0.0</td>\n",
              "      <td>0.0</td>\n",
              "    </tr>\n",
              "    <tr>\n",
              "      <th>4</th>\n",
              "      <td>01674381af7edd264113d4e6ed55ecda</td>\n",
              "      <td>45.0</td>\n",
              "      <td>48.0</td>\n",
              "      <td>30.0</td>\n",
              "      <td>53.0</td>\n",
              "      <td>43.0</td>\n",
              "      <td>42.0</td>\n",
              "      <td>52.0</td>\n",
              "      <td>53.0</td>\n",
              "      <td>9.0</td>\n",
              "      <td>0.0</td>\n",
              "      <td>0.0</td>\n",
              "      <td>0.0</td>\n",
              "      <td>0.0</td>\n",
              "    </tr>\n",
              "  </tbody>\n",
              "</table>\n",
              "</div>"
            ],
            "text/plain": [
              "week                         driver_id     0     1  ...    10    11    12\n",
              "0     002be0ffdc997bd5c50703158b7c2491  26.0  13.0  ...  37.0  16.0  17.0\n",
              "1     007f0389f9c7b03ef97098422f902e62   1.0   1.0  ...   0.0   2.0   2.0\n",
              "2     011e5c5dfc5c2c92501b8b24d47509bc   7.0   4.0  ...   0.0   0.0   0.0\n",
              "3     0152a2f305e71d26cc964f8d4411add9  23.0  14.0  ...   0.0   0.0   0.0\n",
              "4     01674381af7edd264113d4e6ed55ecda  45.0  48.0  ...   0.0   0.0   0.0\n",
              "\n",
              "[5 rows x 14 columns]"
            ]
          },
          "metadata": {
            "tags": []
          },
          "execution_count": 57
        }
      ]
    },
    {
      "cell_type": "markdown",
      "metadata": {
        "id": "KBBIUH3o7uOh",
        "colab_type": "text"
      },
      "source": [
        "The table above shows the `driver_id` and its correponding rides given from week 0 to week 12."
      ]
    },
    {
      "cell_type": "markdown",
      "metadata": {
        "id": "dGhl7Yfj2cKc",
        "colab_type": "text"
      },
      "source": [
        "## LTV\n",
        "We next calculate the LTV for drivers."
      ]
    },
    {
      "cell_type": "code",
      "metadata": {
        "id": "6ZUEkP8R3i9q",
        "colab_type": "code",
        "colab": {}
      },
      "source": [
        "# copy over the dataframe of `driver_id` and the number of rides completed\n",
        "ltv = ride_id_g\n",
        "\n",
        "# features we created\n",
        "to_merge = (drop_requested_lag_g, ride_prime_time_g, fare_g, \n",
        "            onboard_period, window_g, unique_dates_g,\n",
        "            weekday_drivers_g, is_late_ride_g)\n",
        "\n",
        "# combine all features together\n",
        "for ser in to_merge:\n",
        "    ltv = pd.merge(ltv, ser, on='driver_id', how='outer')"
      ],
      "execution_count": 0,
      "outputs": []
    },
    {
      "cell_type": "code",
      "metadata": {
        "id": "TYhRRdkTCBlt",
        "colab_type": "code",
        "outputId": "2035678f-55c0-4d31-a270-e39827c6e46e",
        "colab": {
          "base_uri": "https://localhost:8080/",
          "height": 207
        }
      },
      "source": [
        "ltv.isna().sum()"
      ],
      "execution_count": 59,
      "outputs": [
        {
          "output_type": "execute_result",
          "data": {
            "text/plain": [
              "driver_id               0\n",
              "ride_count             83\n",
              "drop_requested_lag    177\n",
              "ride_prime_time        83\n",
              "fare                   83\n",
              "driving_period        184\n",
              "pickup_window         176\n",
              "unique_days             0\n",
              "is_weekday             83\n",
              "is_late_ride           83\n",
              "dtype: int64"
            ]
          },
          "metadata": {
            "tags": []
          },
          "execution_count": 59
        }
      ]
    },
    {
      "cell_type": "markdown",
      "metadata": {
        "id": "yGLvgoYGfi23",
        "colab_type": "text"
      },
      "source": [
        "If `driver_id` exists but `ride_id` does not exist, we assume the drivers registered but did not give any ride. From the above, we can tell they are the 83 drivers do not have `ride_count`. Hence, we remove these drivers from our analysis."
      ]
    },
    {
      "cell_type": "code",
      "metadata": {
        "id": "4PfIWhgbfbtm",
        "colab_type": "code",
        "colab": {}
      },
      "source": [
        "ltv = ltv[~ltv['ride_count'].isna()]"
      ],
      "execution_count": 0,
      "outputs": []
    },
    {
      "cell_type": "markdown",
      "metadata": {
        "id": "bJvQidifHuep",
        "colab_type": "text"
      },
      "source": [
        "It is hard to decide a driver's `drop_requested_lag` if he or she does not have any record of ride in `ride_timestamps`. Hence, we decide to impute the `drop_requested_lag`'s `NaN`s as the mean of all `drop_requested_lag`. Same goes for all features that require entries in `ride_timestamps` for calculation."
      ]
    },
    {
      "cell_type": "code",
      "metadata": {
        "id": "0loZNjfLFzDf",
        "colab_type": "code",
        "colab": {}
      },
      "source": [
        "ltv['unique_days'].fillna(ltv['unique_days'].mean(), inplace=True)\n",
        "ltv['unique_days'].replace(0, ltv['unique_days'].mean(), inplace=True)\n",
        "\n",
        "ltv['drop_requested_lag'].fillna(ltv['drop_requested_lag'].mean(), inplace=True)\n",
        "\n",
        "ltv['driving_period'].fillna(ltv['driving_period'].mean(), inplace=True)\n",
        "\n",
        "ltv['pickup_window'].fillna(ltv['pickup_window'].mean(), inplace=True)"
      ],
      "execution_count": 0,
      "outputs": []
    },
    {
      "cell_type": "code",
      "metadata": {
        "id": "hYfGpx8ah6CD",
        "colab_type": "code",
        "colab": {
          "base_uri": "https://localhost:8080/",
          "height": 207
        },
        "outputId": "c64ecf14-e106-4a7e-884b-26ae6f56086e"
      },
      "source": [
        "ltv.isna().sum()"
      ],
      "execution_count": 62,
      "outputs": [
        {
          "output_type": "execute_result",
          "data": {
            "text/plain": [
              "driver_id             0\n",
              "ride_count            0\n",
              "drop_requested_lag    0\n",
              "ride_prime_time       0\n",
              "fare                  0\n",
              "driving_period        0\n",
              "pickup_window         0\n",
              "unique_days           0\n",
              "is_weekday            0\n",
              "is_late_ride          0\n",
              "dtype: int64"
            ]
          },
          "metadata": {
            "tags": []
          },
          "execution_count": 62
        }
      ]
    },
    {
      "cell_type": "code",
      "metadata": {
        "id": "dv05oHGQIaKv",
        "colab_type": "code",
        "outputId": "86e31ab4-111c-4dc2-dd80-dfdae6b1aa7e",
        "colab": {
          "base_uri": "https://localhost:8080/",
          "height": 218
        }
      },
      "source": [
        "ltv.head()"
      ],
      "execution_count": 63,
      "outputs": [
        {
          "output_type": "execute_result",
          "data": {
            "text/html": [
              "<div>\n",
              "<style scoped>\n",
              "    .dataframe tbody tr th:only-of-type {\n",
              "        vertical-align: middle;\n",
              "    }\n",
              "\n",
              "    .dataframe tbody tr th {\n",
              "        vertical-align: top;\n",
              "    }\n",
              "\n",
              "    .dataframe thead th {\n",
              "        text-align: right;\n",
              "    }\n",
              "</style>\n",
              "<table border=\"1\" class=\"dataframe\">\n",
              "  <thead>\n",
              "    <tr style=\"text-align: right;\">\n",
              "      <th></th>\n",
              "      <th>driver_id</th>\n",
              "      <th>ride_count</th>\n",
              "      <th>drop_requested_lag</th>\n",
              "      <th>ride_prime_time</th>\n",
              "      <th>fare</th>\n",
              "      <th>driving_period</th>\n",
              "      <th>pickup_window</th>\n",
              "      <th>unique_days</th>\n",
              "      <th>is_weekday</th>\n",
              "      <th>is_late_ride</th>\n",
              "    </tr>\n",
              "  </thead>\n",
              "  <tbody>\n",
              "    <tr>\n",
              "      <th>0</th>\n",
              "      <td>002be0ffdc997bd5c50703158b7c2491</td>\n",
              "      <td>277.0</td>\n",
              "      <td>6594.516129</td>\n",
              "      <td>48.863636</td>\n",
              "      <td>3560.926071</td>\n",
              "      <td>86.0</td>\n",
              "      <td>8.407942</td>\n",
              "      <td>56.0</td>\n",
              "      <td>0.769675</td>\n",
              "      <td>0.238989</td>\n",
              "    </tr>\n",
              "    <tr>\n",
              "      <th>1</th>\n",
              "      <td>007f0389f9c7b03ef97098422f902e62</td>\n",
              "      <td>31.0</td>\n",
              "      <td>4615.550000</td>\n",
              "      <td>52.083333</td>\n",
              "      <td>321.494948</td>\n",
              "      <td>85.0</td>\n",
              "      <td>11.838710</td>\n",
              "      <td>12.0</td>\n",
              "      <td>0.709677</td>\n",
              "      <td>0.000000</td>\n",
              "    </tr>\n",
              "    <tr>\n",
              "      <th>2</th>\n",
              "      <td>011e5c5dfc5c2c92501b8b24d47509bc</td>\n",
              "      <td>34.0</td>\n",
              "      <td>7185.041667</td>\n",
              "      <td>42.187500</td>\n",
              "      <td>482.428390</td>\n",
              "      <td>68.0</td>\n",
              "      <td>7.294118</td>\n",
              "      <td>12.0</td>\n",
              "      <td>0.529412</td>\n",
              "      <td>0.058824</td>\n",
              "    </tr>\n",
              "    <tr>\n",
              "      <th>3</th>\n",
              "      <td>0152a2f305e71d26cc964f8d4411add9</td>\n",
              "      <td>191.0</td>\n",
              "      <td>10028.796610</td>\n",
              "      <td>42.708333</td>\n",
              "      <td>2610.871561</td>\n",
              "      <td>64.0</td>\n",
              "      <td>14.198953</td>\n",
              "      <td>42.0</td>\n",
              "      <td>0.796859</td>\n",
              "      <td>0.459686</td>\n",
              "    </tr>\n",
              "    <tr>\n",
              "      <th>4</th>\n",
              "      <td>01674381af7edd264113d4e6ed55ecda</td>\n",
              "      <td>375.0</td>\n",
              "      <td>6633.404372</td>\n",
              "      <td>47.474747</td>\n",
              "      <td>5381.097539</td>\n",
              "      <td>56.0</td>\n",
              "      <td>12.528000</td>\n",
              "      <td>40.0</td>\n",
              "      <td>1.000000</td>\n",
              "      <td>0.054933</td>\n",
              "    </tr>\n",
              "  </tbody>\n",
              "</table>\n",
              "</div>"
            ],
            "text/plain": [
              "                          driver_id  ride_count  ...  is_weekday  is_late_ride\n",
              "0  002be0ffdc997bd5c50703158b7c2491       277.0  ...    0.769675      0.238989\n",
              "1  007f0389f9c7b03ef97098422f902e62        31.0  ...    0.709677      0.000000\n",
              "2  011e5c5dfc5c2c92501b8b24d47509bc        34.0  ...    0.529412      0.058824\n",
              "3  0152a2f305e71d26cc964f8d4411add9       191.0  ...    0.796859      0.459686\n",
              "4  01674381af7edd264113d4e6ed55ecda       375.0  ...    1.000000      0.054933\n",
              "\n",
              "[5 rows x 10 columns]"
            ]
          },
          "metadata": {
            "tags": []
          },
          "execution_count": 63
        }
      ]
    },
    {
      "cell_type": "markdown",
      "metadata": {
        "id": "ruGWlve4I1zA",
        "colab_type": "text"
      },
      "source": [
        "## Questions\n",
        "* What are the main factors that affect a driver's lifetime value?\n",
        "* What is the average projected lifetime of a driver? That is, once a driver is\n",
        "onboarded, how long do they typically continue driving with Lyft?\n",
        "* Do all drivers act alike? Are there specific segments of drivers that generate more\n",
        "value for Lyft than the average driver?\n",
        "* What actionable recommendations are there for the business?"
      ]
    },
    {
      "cell_type": "markdown",
      "metadata": {
        "id": "lzL7UVjdYBQ4",
        "colab_type": "text"
      },
      "source": [
        "To calculate LTV, we referred to https://blog.hubspot.com/service/how-to-calculate-customer-lifetime-value. We define the variables as follows:\n",
        "\n",
        "\\begin{equation}\\text{LTV} = \\frac{\\text{Average Income Generated by Driver}}{\\text{Churn Rate}} \\times 365 \n",
        "\\end{equation}\n",
        "\n",
        "\n",
        "\\begin{equation}\n",
        "\\text{Average Income Generated by a Driver} = \\frac{\\text{Total income generated by a driver}}{\\text{Number of days the driver drove}}\n",
        "\\end{equation}\n",
        "\n",
        "\n",
        "\\begin{equation}\n",
        "\\text{Churn Rate} = \\frac{\\text{Number of drivers who have stopped driving}}{\\text{Total number of drivers}} \\times 100\\%\n",
        "\\end{equation}\n",
        "\n"
      ]
    },
    {
      "cell_type": "code",
      "metadata": {
        "id": "CuKEFGL7MCCe",
        "colab_type": "code",
        "colab": {}
      },
      "source": [
        "ltv['average_ride_val'] = ltv['fare'] / ltv['ride_count']\n",
        "\n",
        "ltv['average_ride_freq'] = ltv['ride_count'] / ltv['unique_days']\n",
        "\n",
        "ltv['average_val'] = ltv['average_ride_val'] * ltv['average_ride_freq']\n",
        "\n",
        "ltv['ltv'] = ltv['average_val'] * 365 / churn_rate"
      ],
      "execution_count": 0,
      "outputs": []
    },
    {
      "cell_type": "code",
      "metadata": {
        "id": "_cO93Rokd9Ml",
        "colab_type": "code",
        "outputId": "fad14bc6-d0f3-443e-8e71-532b94411a55",
        "colab": {
          "base_uri": "https://localhost:8080/",
          "height": 198
        }
      },
      "source": [
        "base_metrics = ['ride_count', 'fare', 'unique_days', 'ltv']\n",
        "\n",
        "ltv[['driver_id'] + base_metrics].sort_values(by='ltv', ascending=False).head()"
      ],
      "execution_count": 65,
      "outputs": [
        {
          "output_type": "execute_result",
          "data": {
            "text/html": [
              "<div>\n",
              "<style scoped>\n",
              "    .dataframe tbody tr th:only-of-type {\n",
              "        vertical-align: middle;\n",
              "    }\n",
              "\n",
              "    .dataframe tbody tr th {\n",
              "        vertical-align: top;\n",
              "    }\n",
              "\n",
              "    .dataframe thead th {\n",
              "        text-align: right;\n",
              "    }\n",
              "</style>\n",
              "<table border=\"1\" class=\"dataframe\">\n",
              "  <thead>\n",
              "    <tr style=\"text-align: right;\">\n",
              "      <th></th>\n",
              "      <th>driver_id</th>\n",
              "      <th>ride_count</th>\n",
              "      <th>fare</th>\n",
              "      <th>unique_days</th>\n",
              "      <th>ltv</th>\n",
              "    </tr>\n",
              "  </thead>\n",
              "  <tbody>\n",
              "    <tr>\n",
              "      <th>412</th>\n",
              "      <td>6b65c06851e944351dd285a1eb729499</td>\n",
              "      <td>718.0</td>\n",
              "      <td>10708.943770</td>\n",
              "      <td>45.0</td>\n",
              "      <td>263395.348015</td>\n",
              "    </tr>\n",
              "    <tr>\n",
              "      <th>217</th>\n",
              "      <td>3788dc9e91f1548816ce8b5af07ddadc</td>\n",
              "      <td>783.0</td>\n",
              "      <td>12304.887351</td>\n",
              "      <td>56.0</td>\n",
              "      <td>243200.011467</td>\n",
              "    </tr>\n",
              "    <tr>\n",
              "      <th>156</th>\n",
              "      <td>297e507cc9f1da096e51c2223657255b</td>\n",
              "      <td>588.0</td>\n",
              "      <td>8657.558363</td>\n",
              "      <td>40.0</td>\n",
              "      <td>239557.301603</td>\n",
              "    </tr>\n",
              "    <tr>\n",
              "      <th>318</th>\n",
              "      <td>51b528390e8e7780595f6009b1f4cf72</td>\n",
              "      <td>240.0</td>\n",
              "      <td>3018.980483</td>\n",
              "      <td>14.0</td>\n",
              "      <td>238674.623214</td>\n",
              "    </tr>\n",
              "    <tr>\n",
              "      <th>426</th>\n",
              "      <td>6eb2e0f41fc9f1fbb70e7751035fdf87</td>\n",
              "      <td>35.0</td>\n",
              "      <td>421.815299</td>\n",
              "      <td>2.0</td>\n",
              "      <td>233435.180156</td>\n",
              "    </tr>\n",
              "  </tbody>\n",
              "</table>\n",
              "</div>"
            ],
            "text/plain": [
              "                            driver_id  ride_count  ...  unique_days            ltv\n",
              "412  6b65c06851e944351dd285a1eb729499       718.0  ...         45.0  263395.348015\n",
              "217  3788dc9e91f1548816ce8b5af07ddadc       783.0  ...         56.0  243200.011467\n",
              "156  297e507cc9f1da096e51c2223657255b       588.0  ...         40.0  239557.301603\n",
              "318  51b528390e8e7780595f6009b1f4cf72       240.0  ...         14.0  238674.623214\n",
              "426  6eb2e0f41fc9f1fbb70e7751035fdf87        35.0  ...          2.0  233435.180156\n",
              "\n",
              "[5 rows x 5 columns]"
            ]
          },
          "metadata": {
            "tags": []
          },
          "execution_count": 65
        }
      ]
    },
    {
      "cell_type": "markdown",
      "metadata": {
        "id": "BdM5hvFVfo2Q",
        "colab_type": "text"
      },
      "source": [
        "The main factors that affect lifetime value (LTV) are the number of rides a driver has completed, `ride_count`, total revenue generated by the driver, `fare` and the number of days the driver worked, `unique_days`."
      ]
    },
    {
      "cell_type": "code",
      "metadata": {
        "id": "8v-jsg8NceFR",
        "colab_type": "code",
        "outputId": "a6a46fd9-46e1-490c-9cb7-52d4df52f8cf",
        "colab": {
          "base_uri": "https://localhost:8080/",
          "height": 35
        }
      },
      "source": [
        "1 / churn_rate"
      ],
      "execution_count": 66,
      "outputs": [
        {
          "output_type": "execute_result",
          "data": {
            "text/plain": [
              "3.0323624595469254"
            ]
          },
          "metadata": {
            "tags": []
          },
          "execution_count": 66
        }
      ]
    },
    {
      "cell_type": "markdown",
      "metadata": {
        "id": "IYK2gpdmnYSN",
        "colab_type": "text"
      },
      "source": [
        "We take average lifetime as the inverse of churn rate. Hence, we predict the average lifetime for drivers is approximately 3.03 years.\n",
        "\n",
        "## KMeans Clustering\n",
        "We performing KMeans Clustering to segment the drivers. Silhoutte score is then used to find the optimal K, in our case, where K=3 produces the best result. To test whether do our engineered features, such as `is_weekday`, `is_late_ride`, and others work later, we only fit KMeans to the `base_metrics`, which are `ride_count`, `fare`, `unique_days`, and `ltv`."
      ]
    },
    {
      "cell_type": "code",
      "metadata": {
        "id": "6rREyPj-BEby",
        "colab_type": "code",
        "colab": {}
      },
      "source": [
        "from sklearn.cluster import KMeans\n",
        "from sklearn.metrics import silhouette_score"
      ],
      "execution_count": 0,
      "outputs": []
    },
    {
      "cell_type": "code",
      "metadata": {
        "id": "tV_5ubkShCCu",
        "colab_type": "code",
        "outputId": "131b08a3-7158-49d7-f91e-966f2e5a63f5",
        "colab": {
          "base_uri": "https://localhost:8080/",
          "height": 35
        }
      },
      "source": [
        "# only fit base_metrics for KMeans\n",
        "lvt_matrix = ltv[base_metrics].values\n",
        "\n",
        "CLUSTERS = 3\n",
        "\n",
        "kmeans = KMeans(n_clusters=CLUSTERS, init='k-means++', n_init=40, \n",
        "                random_state=937)\n",
        "kmeans.fit(lvt_matrix)\n",
        "\n",
        "clusters = kmeans.predict(lvt_matrix)\n",
        "\n",
        "print(\"The average silhouette_score is: {:.4f}\".format(silhouette_score(lvt_matrix, clusters)))"
      ],
      "execution_count": 68,
      "outputs": [
        {
          "output_type": "stream",
          "text": [
            "The average silhouette_score is: 0.5633\n"
          ],
          "name": "stdout"
        }
      ]
    },
    {
      "cell_type": "code",
      "metadata": {
        "id": "C6VQ5JpVBWJR",
        "colab_type": "code",
        "colab": {}
      },
      "source": [
        "clusters_df = pd.Series(clusters).value_counts().reset_index()\n",
        "\n",
        "clusters_df.rename(columns={'index': 'cluster', 0: 'count'}, inplace=True)"
      ],
      "execution_count": 0,
      "outputs": []
    },
    {
      "cell_type": "code",
      "metadata": {
        "id": "HgJTRm320lQV",
        "colab_type": "code",
        "outputId": "07870a9d-a541-446f-975a-724aacbd79da",
        "colab": {
          "base_uri": "https://localhost:8080/",
          "height": 295
        }
      },
      "source": [
        "plt.figure(figsize=(6,4))\n",
        "sns.barplot(x=clusters_df['cluster'], y=clusters_df['count'])\n",
        "plt.title('Count vs Cluster')\n",
        "plt.show()"
      ],
      "execution_count": 70,
      "outputs": [
        {
          "output_type": "display_data",
          "data": {
            "image/png": "[encoded data removed]",
            "text/plain": [
              "<Figure size 432x288 with 1 Axes>"
            ]
          },
          "metadata": {
            "tags": []
          }
        }
      ]
    },
    {
      "cell_type": "markdown",
      "metadata": {
        "id": "dF1YjdmAWhJK",
        "colab_type": "text"
      },
      "source": [
        "To further perform an anlysis on the other features we created, we create a list of `metrics` as follows."
      ]
    },
    {
      "cell_type": "code",
      "metadata": {
        "id": "9H-u3pUSVrv1",
        "colab_type": "code",
        "colab": {}
      },
      "source": [
        "exclude = ['driver_id', 'ride_count', 'driving_period', 'average_val']\n",
        "metrics = [col for col in ltv.columns if col not in exclude]\n",
        "\n",
        "metrics = [ 'fare',\n",
        "            'average_ride_freq',\n",
        "            'is_weekday',\n",
        "            'drop_requested_lag',\n",
        "            'ride_prime_time',           \n",
        "            'pickup_window',\n",
        "            'unique_days',\n",
        "            'is_late_ride',\n",
        "            'average_ride_val',\n",
        "            'ltv']"
      ],
      "execution_count": 0,
      "outputs": []
    },
    {
      "cell_type": "markdown",
      "metadata": {
        "id": "38A7-wAAU-o3",
        "colab_type": "text"
      },
      "source": [
        "## Radar chart\n",
        "The maximum value for each feature is calculated to scale our radar chart."
      ]
    },
    {
      "cell_type": "code",
      "metadata": {
        "id": "2pg9QZLVdWdz",
        "colab_type": "code",
        "outputId": "bcabe4b8-4aa3-4ae7-af30-2efb7f3e77fc",
        "colab": {
          "base_uri": "https://localhost:8080/",
          "height": 69
        }
      },
      "source": [
        "ltv['clusters'] = clusters\n",
        "\n",
        "scale_max = ltv[metrics].max().values\n",
        "\n",
        "scale_max"
      ],
      "execution_count": 72,
      "outputs": [
        {
          "output_type": "execute_result",
          "data": {
            "text/plain": [
              "array([1.23502881e+04, 1.75000000e+01, 1.00000000e+00, 3.85809615e+04,\n",
              "       1.46875000e+02, 4.12500000e+01, 8.20000000e+01, 9.03448276e-01,\n",
              "       2.59015036e+01, 2.63395348e+05])"
            ]
          },
          "metadata": {
            "tags": []
          },
          "execution_count": 72
        }
      ]
    },
    {
      "cell_type": "code",
      "metadata": {
        "id": "xWZA-bi4-3n0",
        "colab_type": "code",
        "outputId": "1a637d78-fe42-4a5b-d4e6-be4dce3265c4",
        "colab": {
          "base_uri": "https://localhost:8080/",
          "height": 295
        }
      },
      "source": [
        "plt.title('Distribution of LTV')\n",
        "sns.distplot(ltv['ltv'])\n",
        "\n",
        "# fig = plt.subplot()\n",
        "# sns.distplot(ltv[ltv['clusters']==0]['ltv'],color ='blue')\n",
        "# sns.distplot(ltv[ltv['clusters']==1]['ltv'],color ='red')\n",
        "# sns.distplot(ltv[ltv['clusters']==2]['ltv'],color ='green')    \n",
        "# fig.legend(labels=['mid','high', 'low'])\n",
        "plt.show()"
      ],
      "execution_count": 73,
      "outputs": [
        {
          "output_type": "display_data",
          "data": {
            "image/png": "[encoded data removed]",
            "text/plain": [
              "<Figure size 432x288 with 1 Axes>"
            ]
          },
          "metadata": {
            "tags": []
          }
        }
      ]
    },
    {
      "cell_type": "code",
      "metadata": {
        "id": "RcgR0r10RXsm",
        "colab_type": "code",
        "colab": {
          "base_uri": "https://localhost:8080/",
          "height": 35
        },
        "outputId": "44a5d467-b8d6-41d4-f6ad-2d61ffb68a7f"
      },
      "source": [
        "ltv['ltv'].mean()"
      ],
      "execution_count": 85,
      "outputs": [
        {
          "output_type": "execute_result",
          "data": {
            "text/plain": [
              "90141.93245511132"
            ]
          },
          "metadata": {
            "tags": []
          },
          "execution_count": 85
        }
      ]
    },
    {
      "cell_type": "code",
      "metadata": {
        "id": "5BVx9EW3SNfL",
        "colab_type": "code",
        "colab": {}
      },
      "source": [
        "def radar_cluster(i):\n",
        "    radar = pd.DataFrame(ltv[ltv['clusters'] == i][metrics].mean()).reset_index()\n",
        "\n",
        "    radar['r'] = radar.loc[:, 0] / scale_max\n",
        "\n",
        "    radar.rename(columns={'index': 'theta'}, inplace=True)\n",
        "\n",
        "    return radar"
      ],
      "execution_count": 0,
      "outputs": []
    },
    {
      "cell_type": "markdown",
      "metadata": {
        "id": "fPsrAYvIXDUS",
        "colab_type": "text"
      },
      "source": [
        "Plot the radar chart."
      ]
    },
    {
      "cell_type": "code",
      "metadata": {
        "id": "ufO9cHrONcbt",
        "colab_type": "code",
        "outputId": "52ee3b25-e41f-4db5-e7eb-3d6beda349c6",
        "colab": {
          "base_uri": "https://localhost:8080/",
          "height": 542
        }
      },
      "source": [
        "fig = go.Figure()\n",
        "\n",
        "fig.add_trace(go.Scatterpolar(\n",
        "      r=radar_cluster(0)['r'],\n",
        "      theta=radar_cluster(0)['theta'],\n",
        "      fill='toself',\n",
        "    #     fillcolor = '#8A2BE2',\n",
        "    #    line =  dict(\n",
        "    #         color = '#8A2BE2',            \n",
        "    #   ),\n",
        "    #   opacity=0.7, \n",
        "      name='Cluster 0'\n",
        "))\n",
        "fig.add_trace(go.Scatterpolar(\n",
        "      r=radar_cluster(1)['r'],\n",
        "      theta=radar_cluster(1)['theta'],\n",
        "      fill='toself',\n",
        "    #     fillcolor = '#FF0000',\n",
        "    #   line =  dict(\n",
        "    #         color = '#FF0000'\n",
        "    #   ),\n",
        "    #   opacity=0.7,          \n",
        "      name='Cluster 1'\n",
        "))\n",
        "fig.add_trace(go.Scatterpolar(\n",
        "      r=radar_cluster(2)['r'],\n",
        "      theta=radar_cluster(2)['theta'],\n",
        "      fill='toself',\n",
        "    #   fillcolor = '#00FA9A',\n",
        "    #   line =  dict(\n",
        "    #         color = '#00FA9A',            \n",
        "    #   ),\n",
        "    #   opacity=0.5,\n",
        "      name='Cluster 2'\n",
        "))\n",
        "\n",
        "\n",
        "fig.update_layout(\n",
        "  polar=dict(\n",
        "    radialaxis=dict(\n",
        "      visible=True,\n",
        "      range=[0, 0.8]\n",
        "    )),\n",
        "  showlegend=True,\n",
        "  title='Segment of drivers'\n",
        ")\n",
        "\n",
        "fig.show()"
      ],
      "execution_count": 75,
      "outputs": [
        {
          "output_type": "display_data",
          "data": {
            "text/html": [
              "<html>\n",
              "<head><meta charset=\"utf-8\" /></head>\n",
              "<body>\n",
              "    <div>\n",
              "            <script src=\"https://cdnjs.cloudflare.com/ajax/libs/mathjax/2.7.5/MathJax.js?config=TeX-AMS-MML_SVG\"></script><script type=\"text/javascript\">if (window.MathJax) {MathJax.Hub.Config({SVG: {font: \"STIX-Web\"}});}</script>\n",
              "                <script type=\"text/javascript\">window.PlotlyConfig = {MathJaxConfig: 'local'};</script>\n",
              "        <script src=\"https://cdn.plot.ly/plotly-latest.min.js\"></script>    \n",
              "            <div id=\"17b2546f-e5cd-4b0a-8a6b-48fa3a3dc81f\" class=\"plotly-graph-div\" style=\"height:525px; width:100%;\"></div>\n",
              "            <script type=\"text/javascript\">\n",
              "                \n",
              "                    window.PLOTLYENV=window.PLOTLYENV || {};\n",
              "                    \n",
              "                if (document.getElementById(\"17b2546f-e5cd-4b0a-8a6b-48fa3a3dc81f\")) {\n",
              "                    Plotly.newPlot(\n",
              "                        '17b2546f-e5cd-4b0a-8a6b-48fa3a3dc81f',\n",
              "                        [{\"fill\": \"toself\", \"name\": \"Cluster 0\", \"r\": [0.08374229318722891, 0.2050837105369069, 0.5767554729288796, 0.2632246836095953, 0.3280251003850432, 0.29552197136153624, 0.2562252034960327, 0.13913316349854848, 0.5196964201237184, 0.19982764490877064], \"theta\": [\"fare\", \"average_ride_freq\", \"is_weekday\", \"drop_requested_lag\", \"ride_prime_time\", \"pickup_window\", \"unique_days\", \"is_late_ride\", \"average_ride_val\", \"ltv\"], \"type\": \"scatterpolar\"}, {\"fill\": \"toself\", \"name\": \"Cluster 1\", \"r\": [0.4600910631148706, 0.5915091250406769, 0.701693430634136, 0.14530171201394948, 0.3361171188664083, 0.279311260341374, 0.49271267102914934, 0.1827034092338662, 0.5366187729294492, 0.5969040684327345], \"theta\": [\"fare\", \"average_ride_freq\", \"is_weekday\", \"drop_requested_lag\", \"ride_prime_time\", \"pickup_window\", \"unique_days\", \"is_late_ride\", \"average_ride_val\", \"ltv\"], \"type\": \"scatterpolar\"}, {\"fill\": \"toself\", \"name\": \"Cluster 2\", \"r\": [0.27245702846250935, 0.38360305461612054, 0.6777102441325464, 0.1908427547938693, 0.33584090058850447, 0.28494190809896786, 0.44869293597984605, 0.17319311479147573, 0.526441730744956, 0.3791215562071749], \"theta\": [\"fare\", \"average_ride_freq\", \"is_weekday\", \"drop_requested_lag\", \"ride_prime_time\", \"pickup_window\", \"unique_days\", \"is_late_ride\", \"average_ride_val\", \"ltv\"], \"type\": \"scatterpolar\"}],\n",
              "                        {\"polar\": {\"radialaxis\": {\"range\": [0, 0.8], \"visible\": true}}, \"showlegend\": true, \"template\": {\"data\": {\"bar\": [{\"error_x\": {\"color\": \"#2a3f5f\"}, \"error_y\": {\"color\": \"#2a3f5f\"}, \"marker\": {\"line\": {\"color\": \"#E5ECF6\", \"width\": 0.5}}, \"type\": \"bar\"}], \"barpolar\": [{\"marker\": {\"line\": {\"color\": \"#E5ECF6\", \"width\": 0.5}}, \"type\": \"barpolar\"}], \"carpet\": [{\"aaxis\": {\"endlinecolor\": \"#2a3f5f\", \"gridcolor\": \"white\", \"linecolor\": \"white\", \"minorgridcolor\": \"white\", \"startlinecolor\": \"#2a3f5f\"}, \"baxis\": {\"endlinecolor\": \"#2a3f5f\", \"gridcolor\": \"white\", \"linecolor\": \"white\", \"minorgridcolor\": \"white\", \"startlinecolor\": \"#2a3f5f\"}, \"type\": \"carpet\"}], \"choropleth\": [{\"colorbar\": {\"outlinewidth\": 0, \"ticks\": \"\"}, \"type\": \"choropleth\"}], \"contour\": [{\"colorbar\": {\"outlinewidth\": 0, \"ticks\": \"\"}, \"colorscale\": [[0.0, \"#0d0887\"], [0.1111111111111111, \"#46039f\"], [0.2222222222222222, \"#7201a8\"], [0.3333333333333333, \"#9c179e\"], [0.4444444444444444, \"#bd3786\"], [0.5555555555555556, \"#d8576b\"], [0.6666666666666666, \"#ed7953\"], [0.7777777777777778, \"#fb9f3a\"], [0.8888888888888888, \"#fdca26\"], [1.0, \"#f0f921\"]], \"type\": \"contour\"}], \"contourcarpet\": [{\"colorbar\": {\"outlinewidth\": 0, \"ticks\": \"\"}, \"type\": \"contourcarpet\"}], \"heatmap\": [{\"colorbar\": {\"outlinewidth\": 0, \"ticks\": \"\"}, \"colorscale\": [[0.0, \"#0d0887\"], [0.1111111111111111, \"#46039f\"], [0.2222222222222222, \"#7201a8\"], [0.3333333333333333, \"#9c179e\"], [0.4444444444444444, \"#bd3786\"], [0.5555555555555556, \"#d8576b\"], [0.6666666666666666, \"#ed7953\"], [0.7777777777777778, \"#fb9f3a\"], [0.8888888888888888, \"#fdca26\"], [1.0, \"#f0f921\"]], \"type\": \"heatmap\"}], \"heatmapgl\": [{\"colorbar\": {\"outlinewidth\": 0, \"ticks\": \"\"}, \"colorscale\": [[0.0, \"#0d0887\"], [0.1111111111111111, \"#46039f\"], [0.2222222222222222, \"#7201a8\"], [0.3333333333333333, \"#9c179e\"], [0.4444444444444444, \"#bd3786\"], [0.5555555555555556, \"#d8576b\"], [0.6666666666666666, \"#ed7953\"], [0.7777777777777778, \"#fb9f3a\"], [0.8888888888888888, \"#fdca26\"], [1.0, \"#f0f921\"]], \"type\": \"heatmapgl\"}], \"histogram\": [{\"marker\": {\"colorbar\": {\"outlinewidth\": 0, \"ticks\": \"\"}}, \"type\": \"histogram\"}], \"histogram2d\": [{\"colorbar\": {\"outlinewidth\": 0, \"ticks\": \"\"}, \"colorscale\": [[0.0, \"#0d0887\"], [0.1111111111111111, \"#46039f\"], [0.2222222222222222, \"#7201a8\"], [0.3333333333333333, \"#9c179e\"], [0.4444444444444444, \"#bd3786\"], [0.5555555555555556, \"#d8576b\"], [0.6666666666666666, \"#ed7953\"], [0.7777777777777778, \"#fb9f3a\"], [0.8888888888888888, \"#fdca26\"], [1.0, \"#f0f921\"]], \"type\": \"histogram2d\"}], \"histogram2dcontour\": [{\"colorbar\": {\"outlinewidth\": 0, \"ticks\": \"\"}, \"colorscale\": [[0.0, \"#0d0887\"], [0.1111111111111111, \"#46039f\"], [0.2222222222222222, \"#7201a8\"], [0.3333333333333333, \"#9c179e\"], [0.4444444444444444, \"#bd3786\"], [0.5555555555555556, \"#d8576b\"], [0.6666666666666666, \"#ed7953\"], [0.7777777777777778, \"#fb9f3a\"], [0.8888888888888888, \"#fdca26\"], [1.0, \"#f0f921\"]], \"type\": \"histogram2dcontour\"}], \"mesh3d\": [{\"colorbar\": {\"outlinewidth\": 0, \"ticks\": \"\"}, \"type\": \"mesh3d\"}], \"parcoords\": [{\"line\": {\"colorbar\": {\"outlinewidth\": 0, \"ticks\": \"\"}}, \"type\": \"parcoords\"}], \"scatter\": [{\"marker\": {\"colorbar\": {\"outlinewidth\": 0, \"ticks\": \"\"}}, \"type\": \"scatter\"}], \"scatter3d\": [{\"line\": {\"colorbar\": {\"outlinewidth\": 0, \"ticks\": \"\"}}, \"marker\": {\"colorbar\": {\"outlinewidth\": 0, \"ticks\": \"\"}}, \"type\": \"scatter3d\"}], \"scattercarpet\": [{\"marker\": {\"colorbar\": {\"outlinewidth\": 0, \"ticks\": \"\"}}, \"type\": \"scattercarpet\"}], \"scattergeo\": [{\"marker\": {\"colorbar\": {\"outlinewidth\": 0, \"ticks\": \"\"}}, \"type\": \"scattergeo\"}], \"scattergl\": [{\"marker\": {\"colorbar\": {\"outlinewidth\": 0, \"ticks\": \"\"}}, \"type\": \"scattergl\"}], \"scattermapbox\": [{\"marker\": {\"colorbar\": {\"outlinewidth\": 0, \"ticks\": \"\"}}, \"type\": \"scattermapbox\"}], \"scatterpolar\": [{\"marker\": {\"colorbar\": {\"outlinewidth\": 0, \"ticks\": \"\"}}, \"type\": \"scatterpolar\"}], \"scatterpolargl\": [{\"marker\": {\"colorbar\": {\"outlinewidth\": 0, \"ticks\": \"\"}}, \"type\": \"scatterpolargl\"}], \"scatterternary\": [{\"marker\": {\"colorbar\": {\"outlinewidth\": 0, \"ticks\": \"\"}}, \"type\": \"scatterternary\"}], \"surface\": [{\"colorbar\": {\"outlinewidth\": 0, \"ticks\": \"\"}, \"colorscale\": [[0.0, \"#0d0887\"], [0.1111111111111111, \"#46039f\"], [0.2222222222222222, \"#7201a8\"], [0.3333333333333333, \"#9c179e\"], [0.4444444444444444, \"#bd3786\"], [0.5555555555555556, \"#d8576b\"], [0.6666666666666666, \"#ed7953\"], [0.7777777777777778, \"#fb9f3a\"], [0.8888888888888888, \"#fdca26\"], [1.0, \"#f0f921\"]], \"type\": \"surface\"}], \"table\": [{\"cells\": {\"fill\": {\"color\": \"#EBF0F8\"}, \"line\": {\"color\": \"white\"}}, \"header\": {\"fill\": {\"color\": \"#C8D4E3\"}, \"line\": {\"color\": \"white\"}}, \"type\": \"table\"}]}, \"layout\": {\"annotationdefaults\": {\"arrowcolor\": \"#2a3f5f\", \"arrowhead\": 0, \"arrowwidth\": 1}, \"colorscale\": {\"diverging\": [[0, \"#8e0152\"], [0.1, \"#c51b7d\"], [0.2, \"#de77ae\"], [0.3, \"#f1b6da\"], [0.4, \"#fde0ef\"], [0.5, \"#f7f7f7\"], [0.6, \"#e6f5d0\"], [0.7, \"#b8e186\"], [0.8, \"#7fbc41\"], [0.9, \"#4d9221\"], [1, \"#276419\"]], \"sequential\": [[0.0, \"#0d0887\"], [0.1111111111111111, \"#46039f\"], [0.2222222222222222, \"#7201a8\"], [0.3333333333333333, \"#9c179e\"], [0.4444444444444444, \"#bd3786\"], [0.5555555555555556, \"#d8576b\"], [0.6666666666666666, \"#ed7953\"], [0.7777777777777778, \"#fb9f3a\"], [0.8888888888888888, \"#fdca26\"], [1.0, \"#f0f921\"]], \"sequentialminus\": [[0.0, \"#0d0887\"], [0.1111111111111111, \"#46039f\"], [0.2222222222222222, \"#7201a8\"], [0.3333333333333333, \"#9c179e\"], [0.4444444444444444, \"#bd3786\"], [0.5555555555555556, \"#d8576b\"], [0.6666666666666666, \"#ed7953\"], [0.7777777777777778, \"#fb9f3a\"], [0.8888888888888888, \"#fdca26\"], [1.0, \"#f0f921\"]]}, \"colorway\": [\"#636efa\", \"#EF553B\", \"#00cc96\", \"#ab63fa\", \"#FFA15A\", \"#19d3f3\", \"#FF6692\", \"#B6E880\", \"#FF97FF\", \"#FECB52\"], \"font\": {\"color\": \"#2a3f5f\"}, \"geo\": {\"bgcolor\": \"white\", \"lakecolor\": \"white\", \"landcolor\": \"#E5ECF6\", \"showlakes\": true, \"showland\": true, \"subunitcolor\": \"white\"}, \"hoverlabel\": {\"align\": \"left\"}, \"hovermode\": \"closest\", \"mapbox\": {\"style\": \"light\"}, \"paper_bgcolor\": \"white\", \"plot_bgcolor\": \"#E5ECF6\", \"polar\": {\"angularaxis\": {\"gridcolor\": \"white\", \"linecolor\": \"white\", \"ticks\": \"\"}, \"bgcolor\": \"#E5ECF6\", \"radialaxis\": {\"gridcolor\": \"white\", \"linecolor\": \"white\", \"ticks\": \"\"}}, \"scene\": {\"xaxis\": {\"backgroundcolor\": \"#E5ECF6\", \"gridcolor\": \"white\", \"gridwidth\": 2, \"linecolor\": \"white\", \"showbackground\": true, \"ticks\": \"\", \"zerolinecolor\": \"white\"}, \"yaxis\": {\"backgroundcolor\": \"#E5ECF6\", \"gridcolor\": \"white\", \"gridwidth\": 2, \"linecolor\": \"white\", \"showbackground\": true, \"ticks\": \"\", \"zerolinecolor\": \"white\"}, \"zaxis\": {\"backgroundcolor\": \"#E5ECF6\", \"gridcolor\": \"white\", \"gridwidth\": 2, \"linecolor\": \"white\", \"showbackground\": true, \"ticks\": \"\", \"zerolinecolor\": \"white\"}}, \"shapedefaults\": {\"line\": {\"color\": \"#2a3f5f\"}}, \"ternary\": {\"aaxis\": {\"gridcolor\": \"white\", \"linecolor\": \"white\", \"ticks\": \"\"}, \"baxis\": {\"gridcolor\": \"white\", \"linecolor\": \"white\", \"ticks\": \"\"}, \"bgcolor\": \"#E5ECF6\", \"caxis\": {\"gridcolor\": \"white\", \"linecolor\": \"white\", \"ticks\": \"\"}}, \"title\": {\"x\": 0.05}, \"xaxis\": {\"automargin\": true, \"gridcolor\": \"white\", \"linecolor\": \"white\", \"ticks\": \"\", \"zerolinecolor\": \"white\", \"zerolinewidth\": 2}, \"yaxis\": {\"automargin\": true, \"gridcolor\": \"white\", \"linecolor\": \"white\", \"ticks\": \"\", \"zerolinecolor\": \"white\", \"zerolinewidth\": 2}}}, \"title\": {\"text\": \"Segment of drivers\"}},\n",
              "                        {\"responsive\": true}\n",
              "                    ).then(function(){\n",
              "                            \n",
              "var gd = document.getElementById('17b2546f-e5cd-4b0a-8a6b-48fa3a3dc81f');\n",
              "var x = new MutationObserver(function (mutations, observer) {{\n",
              "        var display = window.getComputedStyle(gd).display;\n",
              "        if (!display || display === 'none') {{\n",
              "            console.log([gd, 'removed!']);\n",
              "            Plotly.purge(gd);\n",
              "            observer.disconnect();\n",
              "        }}\n",
              "}});\n",
              "\n",
              "// Listen for the removal of the full notebook cells\n",
              "var notebookContainer = gd.closest('#notebook-container');\n",
              "if (notebookContainer) {{\n",
              "    x.observe(notebookContainer, {childList: true});\n",
              "}}\n",
              "\n",
              "// Listen for the clearing of the current output cell\n",
              "var outputEl = gd.closest('.output');\n",
              "if (outputEl) {{\n",
              "    x.observe(outputEl, {childList: true});\n",
              "}}\n",
              "\n",
              "                        })\n",
              "                };\n",
              "                \n",
              "            </script>\n",
              "        </div>\n",
              "</body>\n",
              "</html>"
            ]
          },
          "metadata": {
            "tags": []
          }
        }
      ]
    },
    {
      "cell_type": "markdown",
      "metadata": {
        "id": "ydrSWB-nXISI",
        "colab_type": "text"
      },
      "source": [
        "From this radar chart, we observe that even we only fitted KMeans with the 4 base metrics: `ride_count`, `fare`, `unique_days`, and `ltv` to get 3 clusters, other feature such as `is_weekday` is fairly distinct for the clusters above. We then conclude that `is_weekday` might be a useful feature to help segmenting drivers.\n",
        "\n",
        "## Other metrics\n",
        "Showing that using `base_metrics` already allows other features to help us predict which segment a driver will fall into, we proceed to fit the `metrics` to the KMeans algorithm."
      ]
    },
    {
      "cell_type": "code",
      "metadata": {
        "id": "m1jlskemuOzf",
        "colab_type": "code",
        "outputId": "9ebafde9-1e8e-45ec-ceb6-c03524041294",
        "colab": {
          "base_uri": "https://localhost:8080/",
          "height": 218
        }
      },
      "source": [
        "from sklearn.preprocessing import MinMaxScaler\n",
        "\n",
        "scaler = MinMaxScaler()\n",
        "\n",
        "scaled_ltv = ltv.copy()\n",
        "\n",
        "scaled_ltv[metrics] = scaler.fit_transform(ltv[metrics])\n",
        "\n",
        "scaled_ltv.head()"
      ],
      "execution_count": 76,
      "outputs": [
        {
          "output_type": "execute_result",
          "data": {
            "text/html": [
              "<div>\n",
              "<style scoped>\n",
              "    .dataframe tbody tr th:only-of-type {\n",
              "        vertical-align: middle;\n",
              "    }\n",
              "\n",
              "    .dataframe tbody tr th {\n",
              "        vertical-align: top;\n",
              "    }\n",
              "\n",
              "    .dataframe thead th {\n",
              "        text-align: right;\n",
              "    }\n",
              "</style>\n",
              "<table border=\"1\" class=\"dataframe\">\n",
              "  <thead>\n",
              "    <tr style=\"text-align: right;\">\n",
              "      <th></th>\n",
              "      <th>driver_id</th>\n",
              "      <th>ride_count</th>\n",
              "      <th>drop_requested_lag</th>\n",
              "      <th>ride_prime_time</th>\n",
              "      <th>fare</th>\n",
              "      <th>driving_period</th>\n",
              "      <th>pickup_window</th>\n",
              "      <th>unique_days</th>\n",
              "      <th>is_weekday</th>\n",
              "      <th>is_late_ride</th>\n",
              "      <th>average_ride_val</th>\n",
              "      <th>average_ride_freq</th>\n",
              "      <th>average_val</th>\n",
              "      <th>ltv</th>\n",
              "      <th>clusters</th>\n",
              "    </tr>\n",
              "  </thead>\n",
              "  <tbody>\n",
              "    <tr>\n",
              "      <th>0</th>\n",
              "      <td>002be0ffdc997bd5c50703158b7c2491</td>\n",
              "      <td>277.0</td>\n",
              "      <td>0.167019</td>\n",
              "      <td>0.332689</td>\n",
              "      <td>0.286844</td>\n",
              "      <td>86.0</td>\n",
              "      <td>0.092900</td>\n",
              "      <td>0.675</td>\n",
              "      <td>0.769675</td>\n",
              "      <td>0.264530</td>\n",
              "      <td>0.247527</td>\n",
              "      <td>0.239177</td>\n",
              "      <td>63.587966</td>\n",
              "      <td>0.239848</td>\n",
              "      <td>0</td>\n",
              "    </tr>\n",
              "    <tr>\n",
              "      <th>1</th>\n",
              "      <td>007f0389f9c7b03ef97098422f902e62</td>\n",
              "      <td>31.0</td>\n",
              "      <td>0.115483</td>\n",
              "      <td>0.354610</td>\n",
              "      <td>0.024001</td>\n",
              "      <td>85.0</td>\n",
              "      <td>0.187658</td>\n",
              "      <td>0.125</td>\n",
              "      <td>0.709677</td>\n",
              "      <td>0.000000</td>\n",
              "      <td>0.104225</td>\n",
              "      <td>0.095960</td>\n",
              "      <td>26.791246</td>\n",
              "      <td>0.079453</td>\n",
              "      <td>0</td>\n",
              "    </tr>\n",
              "    <tr>\n",
              "      <th>2</th>\n",
              "      <td>011e5c5dfc5c2c92501b8b24d47509bc</td>\n",
              "      <td>34.0</td>\n",
              "      <td>0.182397</td>\n",
              "      <td>0.287234</td>\n",
              "      <td>0.037059</td>\n",
              "      <td>68.0</td>\n",
              "      <td>0.062136</td>\n",
              "      <td>0.125</td>\n",
              "      <td>0.529412</td>\n",
              "      <td>0.065110</td>\n",
              "      <td>0.324454</td>\n",
              "      <td>0.111111</td>\n",
              "      <td>40.202366</td>\n",
              "      <td>0.137911</td>\n",
              "      <td>0</td>\n",
              "    </tr>\n",
              "    <tr>\n",
              "      <th>3</th>\n",
              "      <td>0152a2f305e71d26cc964f8d4411add9</td>\n",
              "      <td>191.0</td>\n",
              "      <td>0.256453</td>\n",
              "      <td>0.290780</td>\n",
              "      <td>0.209758</td>\n",
              "      <td>64.0</td>\n",
              "      <td>0.252848</td>\n",
              "      <td>0.500</td>\n",
              "      <td>0.796859</td>\n",
              "      <td>0.508813</td>\n",
              "      <td>0.294486</td>\n",
              "      <td>0.215007</td>\n",
              "      <td>62.163609</td>\n",
              "      <td>0.233639</td>\n",
              "      <td>0</td>\n",
              "    </tr>\n",
              "    <tr>\n",
              "      <th>4</th>\n",
              "      <td>01674381af7edd264113d4e6ed55ecda</td>\n",
              "      <td>375.0</td>\n",
              "      <td>0.168032</td>\n",
              "      <td>0.323232</td>\n",
              "      <td>0.434530</td>\n",
              "      <td>56.0</td>\n",
              "      <td>0.206696</td>\n",
              "      <td>0.475</td>\n",
              "      <td>1.000000</td>\n",
              "      <td>0.060804</td>\n",
              "      <td>0.333713</td>\n",
              "      <td>0.507576</td>\n",
              "      <td>134.527438</td>\n",
              "      <td>0.549070</td>\n",
              "      <td>1</td>\n",
              "    </tr>\n",
              "  </tbody>\n",
              "</table>\n",
              "</div>"
            ],
            "text/plain": [
              "                          driver_id  ride_count  ...       ltv  clusters\n",
              "0  002be0ffdc997bd5c50703158b7c2491       277.0  ...  0.239848         0\n",
              "1  007f0389f9c7b03ef97098422f902e62        31.0  ...  0.079453         0\n",
              "2  011e5c5dfc5c2c92501b8b24d47509bc        34.0  ...  0.137911         0\n",
              "3  0152a2f305e71d26cc964f8d4411add9       191.0  ...  0.233639         0\n",
              "4  01674381af7edd264113d4e6ed55ecda       375.0  ...  0.549070         1\n",
              "\n",
              "[5 rows x 15 columns]"
            ]
          },
          "metadata": {
            "tags": []
          },
          "execution_count": 76
        }
      ]
    },
    {
      "cell_type": "code",
      "metadata": {
        "id": "zig1h5XAtBHV",
        "colab_type": "code",
        "outputId": "ad408432-0504-4a11-b073-012a8de59d89",
        "colab": {
          "base_uri": "https://localhost:8080/",
          "height": 35
        }
      },
      "source": [
        "CLUSTERS = 3\n",
        "\n",
        "matrix = scaled_ltv[metrics].values\n",
        "\n",
        "kmeans = KMeans(n_clusters=CLUSTERS, init='k-means++', n_init=40)\n",
        "kmeans.fit(matrix)\n",
        "\n",
        "clusters = kmeans.predict(matrix)\n",
        "\n",
        "print(\"The average silhouette_score is: {:.4f}\".format(silhouette_score(matrix, clusters)))"
      ],
      "execution_count": 77,
      "outputs": [
        {
          "output_type": "stream",
          "text": [
            "The average silhouette_score is: 0.3448\n"
          ],
          "name": "stdout"
        }
      ]
    },
    {
      "cell_type": "markdown",
      "metadata": {
        "id": "n-hXk7MGwEcg",
        "colab_type": "text"
      },
      "source": [
        "## Indexing\n",
        "Credits to Françoise Provencher's talk at Montréal-Python 71."
      ]
    },
    {
      "cell_type": "code",
      "metadata": {
        "id": "R6EOQoS0tHee",
        "colab_type": "code",
        "outputId": "553d099c-e2b2-4cc9-adf7-818f95e3d5b2",
        "colab": {
          "base_uri": "https://localhost:8080/",
          "height": 188
        }
      },
      "source": [
        "scaled_ltv['all_feats_clusters'] = clusters\n",
        "\n",
        "# map back to original clusters\n",
        "scaled_ltv['all_feats_clusters'] = scaled_ltv['all_feats_clusters'].map({0: 0,\n",
        "                                                                         1: 1, \n",
        "                                                                         2: 2})\n",
        "\n",
        "indexed = scaled_ltv.groupby('all_feats_clusters').mean()\n",
        "\n",
        "indexed = indexed[metrics].copy()\n",
        "\n",
        "indexed"
      ],
      "execution_count": 78,
      "outputs": [
        {
          "output_type": "execute_result",
          "data": {
            "text/html": [
              "<div>\n",
              "<style scoped>\n",
              "    .dataframe tbody tr th:only-of-type {\n",
              "        vertical-align: middle;\n",
              "    }\n",
              "\n",
              "    .dataframe tbody tr th {\n",
              "        vertical-align: top;\n",
              "    }\n",
              "\n",
              "    .dataframe thead th {\n",
              "        text-align: right;\n",
              "    }\n",
              "</style>\n",
              "<table border=\"1\" class=\"dataframe\">\n",
              "  <thead>\n",
              "    <tr style=\"text-align: right;\">\n",
              "      <th></th>\n",
              "      <th>fare</th>\n",
              "      <th>average_ride_freq</th>\n",
              "      <th>is_weekday</th>\n",
              "      <th>drop_requested_lag</th>\n",
              "      <th>ride_prime_time</th>\n",
              "      <th>pickup_window</th>\n",
              "      <th>unique_days</th>\n",
              "      <th>is_late_ride</th>\n",
              "      <th>average_ride_val</th>\n",
              "      <th>ltv</th>\n",
              "    </tr>\n",
              "    <tr>\n",
              "      <th>all_feats_clusters</th>\n",
              "      <th></th>\n",
              "      <th></th>\n",
              "      <th></th>\n",
              "      <th></th>\n",
              "      <th></th>\n",
              "      <th></th>\n",
              "      <th></th>\n",
              "      <th></th>\n",
              "      <th></th>\n",
              "      <th></th>\n",
              "    </tr>\n",
              "  </thead>\n",
              "  <tbody>\n",
              "    <tr>\n",
              "      <th>0</th>\n",
              "      <td>0.050963</td>\n",
              "      <td>0.199472</td>\n",
              "      <td>0.761929</td>\n",
              "      <td>0.244341</td>\n",
              "      <td>0.331357</td>\n",
              "      <td>0.194928</td>\n",
              "      <td>0.131740</td>\n",
              "      <td>0.148694</td>\n",
              "      <td>0.294527</td>\n",
              "      <td>0.213359</td>\n",
              "    </tr>\n",
              "    <tr>\n",
              "      <th>1</th>\n",
              "      <td>0.375135</td>\n",
              "      <td>0.409723</td>\n",
              "      <td>0.712563</td>\n",
              "      <td>0.190533</td>\n",
              "      <td>0.331705</td>\n",
              "      <td>0.183868</td>\n",
              "      <td>0.540343</td>\n",
              "      <td>0.188587</td>\n",
              "      <td>0.286590</td>\n",
              "      <td>0.418355</td>\n",
              "    </tr>\n",
              "    <tr>\n",
              "      <th>2</th>\n",
              "      <td>0.086568</td>\n",
              "      <td>0.175368</td>\n",
              "      <td>0.066056</td>\n",
              "      <td>0.194805</td>\n",
              "      <td>0.339148</td>\n",
              "      <td>0.195409</td>\n",
              "      <td>0.245112</td>\n",
              "      <td>0.084820</td>\n",
              "      <td>0.298742</td>\n",
              "      <td>0.195723</td>\n",
              "    </tr>\n",
              "  </tbody>\n",
              "</table>\n",
              "</div>"
            ],
            "text/plain": [
              "                        fare  average_ride_freq  ...  average_ride_val       ltv\n",
              "all_feats_clusters                               ...                            \n",
              "0                   0.050963           0.199472  ...          0.294527  0.213359\n",
              "1                   0.375135           0.409723  ...          0.286590  0.418355\n",
              "2                   0.086568           0.175368  ...          0.298742  0.195723\n",
              "\n",
              "[3 rows x 10 columns]"
            ]
          },
          "metadata": {
            "tags": []
          },
          "execution_count": 78
        }
      ]
    },
    {
      "cell_type": "code",
      "metadata": {
        "id": "YMqS14XWtb_g",
        "colab_type": "code",
        "colab": {}
      },
      "source": [
        "for metric in metrics:\n",
        "    indexed[metric] = indexed[metric] - scaled_ltv[metric].mean()\n",
        "    indexed[metric] = indexed[metric] / indexed[metric].abs().max()"
      ],
      "execution_count": 0,
      "outputs": []
    },
    {
      "cell_type": "code",
      "metadata": {
        "id": "kSEICz7UtuRl",
        "colab_type": "code",
        "outputId": "87f61eb3-d852-442a-b433-847482409cf0",
        "colab": {
          "base_uri": "https://localhost:8080/",
          "height": 249
        }
      },
      "source": [
        "def coloring(val):\n",
        "    if val < -0.5:\n",
        "        color = '#d65f5f'\n",
        "    elif val > 0.5:\n",
        "        color = '#5fba7d'\n",
        "    else:\n",
        "        color = 'white'\n",
        "    return 'background: %s' % color\n",
        "\n",
        "table = indexed.T.style.applymap(coloring)\n",
        "\n",
        "table"
      ],
      "execution_count": 80,
      "outputs": [
        {
          "output_type": "execute_result",
          "data": {
            "text/html": [
              "<style  type=\"text/css\" >\n",
              "    #T_6babd7e4_d74b_11e9_96d3_0242ac1c0002row0_col0 {\n",
              "            background:  #d65f5f;\n",
              "        }    #T_6babd7e4_d74b_11e9_96d3_0242ac1c0002row0_col1 {\n",
              "            background:  #5fba7d;\n",
              "        }    #T_6babd7e4_d74b_11e9_96d3_0242ac1c0002row0_col2 {\n",
              "            background:  #d65f5f;\n",
              "        }    #T_6babd7e4_d74b_11e9_96d3_0242ac1c0002row1_col0 {\n",
              "            background:  #d65f5f;\n",
              "        }    #T_6babd7e4_d74b_11e9_96d3_0242ac1c0002row1_col1 {\n",
              "            background:  #5fba7d;\n",
              "        }    #T_6babd7e4_d74b_11e9_96d3_0242ac1c0002row1_col2 {\n",
              "            background:  #d65f5f;\n",
              "        }    #T_6babd7e4_d74b_11e9_96d3_0242ac1c0002row2_col0 {\n",
              "            background:  white;\n",
              "        }    #T_6babd7e4_d74b_11e9_96d3_0242ac1c0002row2_col1 {\n",
              "            background:  white;\n",
              "        }    #T_6babd7e4_d74b_11e9_96d3_0242ac1c0002row2_col2 {\n",
              "            background:  #d65f5f;\n",
              "        }    #T_6babd7e4_d74b_11e9_96d3_0242ac1c0002row3_col0 {\n",
              "            background:  #5fba7d;\n",
              "        }    #T_6babd7e4_d74b_11e9_96d3_0242ac1c0002row3_col1 {\n",
              "            background:  #d65f5f;\n",
              "        }    #T_6babd7e4_d74b_11e9_96d3_0242ac1c0002row3_col2 {\n",
              "            background:  white;\n",
              "        }    #T_6babd7e4_d74b_11e9_96d3_0242ac1c0002row4_col0 {\n",
              "            background:  white;\n",
              "        }    #T_6babd7e4_d74b_11e9_96d3_0242ac1c0002row4_col1 {\n",
              "            background:  white;\n",
              "        }    #T_6babd7e4_d74b_11e9_96d3_0242ac1c0002row4_col2 {\n",
              "            background:  #5fba7d;\n",
              "        }    #T_6babd7e4_d74b_11e9_96d3_0242ac1c0002row5_col0 {\n",
              "            background:  #5fba7d;\n",
              "        }    #T_6babd7e4_d74b_11e9_96d3_0242ac1c0002row5_col1 {\n",
              "            background:  #d65f5f;\n",
              "        }    #T_6babd7e4_d74b_11e9_96d3_0242ac1c0002row5_col2 {\n",
              "            background:  #5fba7d;\n",
              "        }    #T_6babd7e4_d74b_11e9_96d3_0242ac1c0002row6_col0 {\n",
              "            background:  #d65f5f;\n",
              "        }    #T_6babd7e4_d74b_11e9_96d3_0242ac1c0002row6_col1 {\n",
              "            background:  #5fba7d;\n",
              "        }    #T_6babd7e4_d74b_11e9_96d3_0242ac1c0002row6_col2 {\n",
              "            background:  #d65f5f;\n",
              "        }    #T_6babd7e4_d74b_11e9_96d3_0242ac1c0002row7_col0 {\n",
              "            background:  white;\n",
              "        }    #T_6babd7e4_d74b_11e9_96d3_0242ac1c0002row7_col1 {\n",
              "            background:  white;\n",
              "        }    #T_6babd7e4_d74b_11e9_96d3_0242ac1c0002row7_col2 {\n",
              "            background:  #d65f5f;\n",
              "        }    #T_6babd7e4_d74b_11e9_96d3_0242ac1c0002row8_col0 {\n",
              "            background:  white;\n",
              "        }    #T_6babd7e4_d74b_11e9_96d3_0242ac1c0002row8_col1 {\n",
              "            background:  #d65f5f;\n",
              "        }    #T_6babd7e4_d74b_11e9_96d3_0242ac1c0002row8_col2 {\n",
              "            background:  #5fba7d;\n",
              "        }    #T_6babd7e4_d74b_11e9_96d3_0242ac1c0002row9_col0 {\n",
              "            background:  #d65f5f;\n",
              "        }    #T_6babd7e4_d74b_11e9_96d3_0242ac1c0002row9_col1 {\n",
              "            background:  #5fba7d;\n",
              "        }    #T_6babd7e4_d74b_11e9_96d3_0242ac1c0002row9_col2 {\n",
              "            background:  #d65f5f;\n",
              "        }</style><table id=\"T_6babd7e4_d74b_11e9_96d3_0242ac1c0002\" ><thead>    <tr>        <th class=\"index_name level0\" >all_feats_clusters</th>        <th class=\"col_heading level0 col0\" >0</th>        <th class=\"col_heading level0 col1\" >1</th>        <th class=\"col_heading level0 col2\" >2</th>    </tr></thead><tbody>\n",
              "                <tr>\n",
              "                        <th id=\"T_6babd7e4_d74b_11e9_96d3_0242ac1c0002level0_row0\" class=\"row_heading level0 row0\" >fare</th>\n",
              "                        <td id=\"T_6babd7e4_d74b_11e9_96d3_0242ac1c0002row0_col0\" class=\"data row0 col0\" >-1</td>\n",
              "                        <td id=\"T_6babd7e4_d74b_11e9_96d3_0242ac1c0002row0_col1\" class=\"data row0 col1\" >0.8655</td>\n",
              "                        <td id=\"T_6babd7e4_d74b_11e9_96d3_0242ac1c0002row0_col2\" class=\"data row0 col2\" >-0.795106</td>\n",
              "            </tr>\n",
              "            <tr>\n",
              "                        <th id=\"T_6babd7e4_d74b_11e9_96d3_0242ac1c0002level0_row1\" class=\"row_heading level0 row1\" >average_ride_freq</th>\n",
              "                        <td id=\"T_6babd7e4_d74b_11e9_96d3_0242ac1c0002row1_col0\" class=\"data row1 col0\" >-0.814956</td>\n",
              "                        <td id=\"T_6babd7e4_d74b_11e9_96d3_0242ac1c0002row1_col1\" class=\"data row1 col1\" >0.799121</td>\n",
              "                        <td id=\"T_6babd7e4_d74b_11e9_96d3_0242ac1c0002row1_col2\" class=\"data row1 col2\" >-1</td>\n",
              "            </tr>\n",
              "            <tr>\n",
              "                        <th id=\"T_6babd7e4_d74b_11e9_96d3_0242ac1c0002level0_row2\" class=\"row_heading level0 row2\" >is_weekday</th>\n",
              "                        <td id=\"T_6babd7e4_d74b_11e9_96d3_0242ac1c0002row2_col0\" class=\"data row2 col0\" >0.213133</td>\n",
              "                        <td id=\"T_6babd7e4_d74b_11e9_96d3_0242ac1c0002row2_col1\" class=\"data row2 col1\" >0.127071</td>\n",
              "                        <td id=\"T_6babd7e4_d74b_11e9_96d3_0242ac1c0002row2_col2\" class=\"data row2 col2\" >-1</td>\n",
              "            </tr>\n",
              "            <tr>\n",
              "                        <th id=\"T_6babd7e4_d74b_11e9_96d3_0242ac1c0002level0_row3\" class=\"row_heading level0 row3\" >drop_requested_lag</th>\n",
              "                        <td id=\"T_6babd7e4_d74b_11e9_96d3_0242ac1c0002row3_col0\" class=\"data row3 col0\" >1</td>\n",
              "                        <td id=\"T_6babd7e4_d74b_11e9_96d3_0242ac1c0002row3_col1\" class=\"data row3 col1\" >-0.54193</td>\n",
              "                        <td id=\"T_6babd7e4_d74b_11e9_96d3_0242ac1c0002row3_col2\" class=\"data row3 col2\" >-0.419522</td>\n",
              "            </tr>\n",
              "            <tr>\n",
              "                        <th id=\"T_6babd7e4_d74b_11e9_96d3_0242ac1c0002level0_row4\" class=\"row_heading level0 row4\" >ride_prime_time</th>\n",
              "                        <td id=\"T_6babd7e4_d74b_11e9_96d3_0242ac1c0002row4_col0\" class=\"data row4 col0\" >-0.193316</td>\n",
              "                        <td id=\"T_6babd7e4_d74b_11e9_96d3_0242ac1c0002row4_col1\" class=\"data row4 col1\" >-0.140025</td>\n",
              "                        <td id=\"T_6babd7e4_d74b_11e9_96d3_0242ac1c0002row4_col2\" class=\"data row4 col2\" >1</td>\n",
              "            </tr>\n",
              "            <tr>\n",
              "                        <th id=\"T_6babd7e4_d74b_11e9_96d3_0242ac1c0002level0_row5\" class=\"row_heading level0 row5\" >pickup_window</th>\n",
              "                        <td id=\"T_6babd7e4_d74b_11e9_96d3_0242ac1c0002row5_col0\" class=\"data row5 col0\" >0.922135</td>\n",
              "                        <td id=\"T_6babd7e4_d74b_11e9_96d3_0242ac1c0002row5_col1\" class=\"data row5 col1\" >-0.869183</td>\n",
              "                        <td id=\"T_6babd7e4_d74b_11e9_96d3_0242ac1c0002row5_col2\" class=\"data row5 col2\" >1</td>\n",
              "            </tr>\n",
              "            <tr>\n",
              "                        <th id=\"T_6babd7e4_d74b_11e9_96d3_0242ac1c0002level0_row6\" class=\"row_heading level0 row6\" >unique_days</th>\n",
              "                        <td id=\"T_6babd7e4_d74b_11e9_96d3_0242ac1c0002row6_col0\" class=\"data row6 col0\" >-1</td>\n",
              "                        <td id=\"T_6babd7e4_d74b_11e9_96d3_0242ac1c0002row6_col1\" class=\"data row6 col1\" >0.787928</td>\n",
              "                        <td id=\"T_6babd7e4_d74b_11e9_96d3_0242ac1c0002row6_col2\" class=\"data row6 col2\" >-0.503915</td>\n",
              "            </tr>\n",
              "            <tr>\n",
              "                        <th id=\"T_6babd7e4_d74b_11e9_96d3_0242ac1c0002level0_row7\" class=\"row_heading level0 row7\" >is_late_ride</th>\n",
              "                        <td id=\"T_6babd7e4_d74b_11e9_96d3_0242ac1c0002row7_col0\" class=\"data row7 col0\" >-0.157209</td>\n",
              "                        <td id=\"T_6babd7e4_d74b_11e9_96d3_0242ac1c0002row7_col1\" class=\"data row7 col1\" >0.369159</td>\n",
              "                        <td id=\"T_6babd7e4_d74b_11e9_96d3_0242ac1c0002row7_col2\" class=\"data row7 col2\" >-1</td>\n",
              "            </tr>\n",
              "            <tr>\n",
              "                        <th id=\"T_6babd7e4_d74b_11e9_96d3_0242ac1c0002level0_row8\" class=\"row_heading level0 row8\" >average_ride_val</th>\n",
              "                        <td id=\"T_6babd7e4_d74b_11e9_96d3_0242ac1c0002row8_col0\" class=\"data row8 col0\" >0.457118</td>\n",
              "                        <td id=\"T_6babd7e4_d74b_11e9_96d3_0242ac1c0002row8_col1\" class=\"data row8 col1\" >-0.565206</td>\n",
              "                        <td id=\"T_6babd7e4_d74b_11e9_96d3_0242ac1c0002row8_col2\" class=\"data row8 col2\" >1</td>\n",
              "            </tr>\n",
              "            <tr>\n",
              "                        <th id=\"T_6babd7e4_d74b_11e9_96d3_0242ac1c0002level0_row9\" class=\"row_heading level0 row9\" >ltv</th>\n",
              "                        <td id=\"T_6babd7e4_d74b_11e9_96d3_0242ac1c0002row9_col0\" class=\"data row9 col0\" >-0.855384</td>\n",
              "                        <td id=\"T_6babd7e4_d74b_11e9_96d3_0242ac1c0002row9_col1\" class=\"data row9 col1\" >0.825548</td>\n",
              "                        <td id=\"T_6babd7e4_d74b_11e9_96d3_0242ac1c0002row9_col2\" class=\"data row9 col2\" >-1</td>\n",
              "            </tr>\n",
              "    </tbody></table>"
            ],
            "text/plain": [
              "<pandas.io.formats.style.Styler at 0x7f1045437d30>"
            ]
          },
          "metadata": {
            "tags": []
          },
          "execution_count": 80
        }
      ]
    },
    {
      "cell_type": "markdown",
      "metadata": {
        "id": "ttdAJMrolb9F",
        "colab_type": "text"
      },
      "source": [
        "From the table above, we can see that `fare`, `average_ride_freq`, `unique_days` and `ltv` are high in all cluster 1."
      ]
    },
    {
      "cell_type": "markdown",
      "metadata": {
        "id": "dXE3boMZNLag",
        "colab_type": "text"
      },
      "source": [
        "## Other visualizations"
      ]
    },
    {
      "cell_type": "code",
      "metadata": {
        "id": "dbSxiE_FRpPv",
        "colab_type": "code",
        "outputId": "9ad97829-66c8-478d-870d-2fd4236ffdce",
        "colab": {
          "base_uri": "https://localhost:8080/",
          "height": 536
        }
      },
      "source": [
        "corr_mat = ltv[metrics].corr()\n",
        "\n",
        "plt.figure(figsize=(8,8))\n",
        "plt.title('Correlation Heatmap between Features')\n",
        "sns.heatmap(corr_mat, vmax=.8, square=True);"
      ],
      "execution_count": 81,
      "outputs": [
        {
          "output_type": "display_data",
          "data": {
            "image/png": "[encoded data removed]",
            "text/plain": [
              "<Figure size 576x576 with 2 Axes>"
            ]
          },
          "metadata": {
            "tags": []
          }
        }
      ]
    },
    {
      "cell_type": "code",
      "metadata": {
        "id": "RnT8xaRbPHL1",
        "colab_type": "code",
        "outputId": "acad96a9-4666-49f3-b3b8-ef5738065823",
        "colab": {
          "base_uri": "https://localhost:8080/",
          "height": 565
        }
      },
      "source": [
        "plt.figure(figsize=(16,40))\n",
        "for i, m in enumerate(metrics[:-1]):\n",
        "    fig = plt.subplot(12, 3, i+1)    \n",
        "    sns.distplot(ltv[ltv['clusters']==0][m],color ='blue')\n",
        "    sns.distplot(ltv[ltv['clusters']==1][m],color ='red')\n",
        "    sns.distplot(ltv[ltv['clusters']==2][m],color ='green')    \n",
        "    plt.subplots_adjust(hspace=0.5)\n",
        "    fig.legend(labels=['mid','high','low'])\n",
        "plt.show()"
      ],
      "execution_count": 82,
      "outputs": [
        {
          "output_type": "display_data",
          "data": {
            "image/png": "[encoded data removed]",
            "text/plain": [
              "<Figure size 1152x2880 with 9 Axes>"
            ]
          },
          "metadata": {
            "tags": []
          }
        }
      ]
    },
    {
      "cell_type": "code",
      "metadata": {
        "id": "BqLVoKVnOH_a",
        "colab_type": "code",
        "outputId": "0f813c19-7382-4a1d-8b67-8f6766a20532",
        "colab": {
          "base_uri": "https://localhost:8080/",
          "height": 755
        }
      },
      "source": [
        "plt.figure(figsize=(20,40))\n",
        "for i, m in enumerate(metrics[:-1]):\n",
        "    plt.subplot(9, 3, i+1)\n",
        "    sns.scatterplot(x=ltv[m], y=ltv[metrics[-1]],\n",
        "                    hue=ltv['clusters'])\n",
        "    plt.subplots_adjust(hspace=0.5)\n",
        "    \n",
        "plt.show()"
      ],
      "execution_count": 83,
      "outputs": [
        {
          "output_type": "display_data",
          "data": {
            "image/png": "[encoded data removed]",
            "text/plain": [
              "<Figure size 1440x2880 with 9 Axes>"
            ]
          },
          "metadata": {
            "tags": []
          }
        }
      ]
    },
    {
      "cell_type": "markdown",
      "metadata": {
        "id": "A7sFLNvRW722",
        "colab_type": "text"
      },
      "source": [
        "## UMAP\n",
        "We also attempted to perform UMAP on the metrices. It seems like we are able to separate each cluster out distinctly based in 2D projections."
      ]
    },
    {
      "cell_type": "code",
      "metadata": {
        "id": "i8zX-SaSRqIi",
        "colab_type": "code",
        "outputId": "1521ba4a-ab0e-4a92-a267-10f91b5a024c",
        "colab": {
          "base_uri": "https://localhost:8080/",
          "height": 283
        }
      },
      "source": [
        "reducer = umap.UMAP()\n",
        "\n",
        "embedding = reducer.fit_transform(ltv[metrics])\n",
        "\n",
        "plt.title('UMAP on Metrics', fontsize=14)\n",
        "sns.scatterplot(x=embedding[:, 0], y=embedding[:, 1],\n",
        "                hue=ltv['clusters'])\n",
        "plt.show()"
      ],
      "execution_count": 84,
      "outputs": [
        {
          "output_type": "display_data",
          "data": {
            "image/png": "[encoded data removed]",
            "text/plain": [
              "<Figure size 432x288 with 1 Axes>"
            ]
          },
          "metadata": {
            "tags": []
          }
        }
      ]
    },
    {
      "cell_type": "code",
      "metadata": {
        "id": "LvznTy_uNdcd",
        "colab_type": "code",
        "colab": {}
      },
      "source": [
        ""
      ],
      "execution_count": 0,
      "outputs": []
    }
  ]
}