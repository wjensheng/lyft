{
  "nbformat": 4,
  "nbformat_minor": 0,
  "metadata": {
    "colab": {
      "name": "lyft_nb.ipynb",
      "version": "0.3.2",
      "provenance": [],
      "collapsed_sections": []
    },
    "kernelspec": {
      "name": "python3",
      "display_name": "Python 3"
    }
  },
  "cells": [
    {
      "cell_type": "code",
      "metadata": {
        "id": "bqwpUZL8s7TH",
        "colab_type": "code",
        "outputId": "cd5bb8c8-1ec1-494d-92b1-155f1dab6f9f",
        "colab": {
          "base_uri": "https://localhost:8080/",
          "height": 124
        }
      },
      "source": [
        "# Load the Drive helper and mount\n",
        "from google.colab import drive\n",
        "\n",
        "# This will prompt for authorization.\n",
        "drive.mount('/content/drive')"
      ],
      "execution_count": 1,
      "outputs": [
        {
          "output_type": "stream",
          "text": [
            "Go to this URL in a browser: https://accounts.google.com/o/oauth2/auth?client_id=947318989803-6bn6qk8qdgf4n4g3pfee6491hc0brc4i.apps.googleusercontent.com&redirect_uri=urn%3Aietf%3Awg%3Aoauth%3A2.0%3Aoob&scope=email%20https%3A%2F%2Fwww.googleapis.com%2Fauth%2Fdocs.test%20https%3A%2F%2Fwww.googleapis.com%2Fauth%2Fdrive%20https%3A%2F%2Fwww.googleapis.com%2Fauth%2Fdrive.photos.readonly%20https%3A%2F%2Fwww.googleapis.com%2Fauth%2Fpeopleapi.readonly&response_type=code\n",
            "\n",
            "Enter your authorization code:\n",
            "··········\n",
            "Mounted at /content/drive\n"
          ],
          "name": "stdout"
        }
      ]
    },
    {
      "cell_type": "code",
      "metadata": {
        "id": "d6MuCbuTYv-r",
        "colab_type": "code",
        "outputId": "0b1ce069-51d7-4a7e-eb69-504154d8431d",
        "colab": {
          "base_uri": "https://localhost:8080/",
          "height": 279
        }
      },
      "source": [
        "!pip install plotly_express"
      ],
      "execution_count": 2,
      "outputs": [
        {
          "output_type": "stream",
          "text": [
            "Collecting plotly_express\n",
            "  Downloading https://files.pythonhosted.org/packages/d4/d6/8a2906f51e073a4be80cab35cfa10e7a34853e60f3ed5304ac470852a08d/plotly_express-0.4.1-py2.py3-none-any.whl\n",
            "Requirement already satisfied: plotly>=4.1.0 in /usr/local/lib/python3.6/dist-packages (from plotly_express) (4.1.1)\n",
            "Requirement already satisfied: numpy>=1.11 in /usr/local/lib/python3.6/dist-packages (from plotly_express) (1.16.5)\n",
            "Requirement already satisfied: pandas>=0.20.0 in /usr/local/lib/python3.6/dist-packages (from plotly_express) (0.24.2)\n",
            "Requirement already satisfied: statsmodels>=0.9.0 in /usr/local/lib/python3.6/dist-packages (from plotly_express) (0.10.1)\n",
            "Requirement already satisfied: patsy>=0.5 in /usr/local/lib/python3.6/dist-packages (from plotly_express) (0.5.1)\n",
            "Requirement already satisfied: scipy>=0.18 in /usr/local/lib/python3.6/dist-packages (from plotly_express) (1.3.1)\n",
            "Requirement already satisfied: six in /usr/local/lib/python3.6/dist-packages (from plotly>=4.1.0->plotly_express) (1.12.0)\n",
            "Requirement already satisfied: retrying>=1.3.3 in /usr/local/lib/python3.6/dist-packages (from plotly>=4.1.0->plotly_express) (1.3.3)\n",
            "Requirement already satisfied: pytz>=2011k in /usr/local/lib/python3.6/dist-packages (from pandas>=0.20.0->plotly_express) (2018.9)\n",
            "Requirement already satisfied: python-dateutil>=2.5.0 in /usr/local/lib/python3.6/dist-packages (from pandas>=0.20.0->plotly_express) (2.5.3)\n",
            "Installing collected packages: plotly-express\n",
            "Successfully installed plotly-express-0.4.1\n"
          ],
          "name": "stdout"
        }
      ]
    },
    {
      "cell_type": "markdown",
      "metadata": {
        "id": "MWBk1DIQHUS5",
        "colab_type": "text"
      },
      "source": [
        "## Goal\n",
        "The goal of this notebook is essentially to recommend a driver's lifetime value (LTV). "
      ]
    },
    {
      "cell_type": "code",
      "metadata": {
        "id": "Sc0b20Quwzh-",
        "colab_type": "code",
        "colab": {}
      },
      "source": [
        "import os\n",
        "\n",
        "# change to path\n",
        "PATH='/content/drive/My Drive/Colab Notebooks/lyft'\n",
        "os.chdir(PATH)\n",
        "\n",
        "DATA_DIR = os.path.join(PATH, 'data')"
      ],
      "execution_count": 0,
      "outputs": []
    },
    {
      "cell_type": "code",
      "metadata": {
        "id": "7MniS3nJ06ZV",
        "colab_type": "code",
        "colab": {}
      },
      "source": [
        "import pandas as pd\n",
        "import numpy as np\n",
        "\n",
        "import matplotlib.pyplot as plt\n",
        "import seaborn as sns\n",
        "\n",
        "import plotly.graph_objects as go\n",
        "import plotly_express as px\n",
        "\n",
        "import umap\n",
        "\n",
        "from datetime import datetime\n",
        "\n",
        "import warnings\n",
        "warnings.simplefilter(action='ignore')"
      ],
      "execution_count": 0,
      "outputs": []
    },
    {
      "cell_type": "markdown",
      "metadata": {
        "id": "lrO7dc5-1y_k",
        "colab_type": "text"
      },
      "source": [
        "## Read in"
      ]
    },
    {
      "cell_type": "code",
      "metadata": {
        "id": "8qhewH_DxNYh",
        "colab_type": "code",
        "colab": {}
      },
      "source": [
        "ride_timestamps = pd.read_csv(os.path.join(DATA_DIR, 'ride_timestamps.csv'))\n",
        "ride_ids = pd.read_csv(os.path.join(DATA_DIR, 'ride_ids.csv'))\n",
        "driver_ids = pd.read_csv(os.path.join(DATA_DIR, 'driver_ids.csv'))"
      ],
      "execution_count": 0,
      "outputs": []
    },
    {
      "cell_type": "code",
      "metadata": {
        "id": "TiQ_yh3Y05ex",
        "colab_type": "code",
        "outputId": "df5753e7-b590-4a56-803b-c0c2a318de7a",
        "colab": {
          "base_uri": "https://localhost:8080/",
          "height": 198
        }
      },
      "source": [
        "ride_timestamps.head()"
      ],
      "execution_count": 6,
      "outputs": [
        {
          "output_type": "execute_result",
          "data": {
            "text/html": [
              "<div>\n",
              "<style scoped>\n",
              "    .dataframe tbody tr th:only-of-type {\n",
              "        vertical-align: middle;\n",
              "    }\n",
              "\n",
              "    .dataframe tbody tr th {\n",
              "        vertical-align: top;\n",
              "    }\n",
              "\n",
              "    .dataframe thead th {\n",
              "        text-align: right;\n",
              "    }\n",
              "</style>\n",
              "<table border=\"1\" class=\"dataframe\">\n",
              "  <thead>\n",
              "    <tr style=\"text-align: right;\">\n",
              "      <th></th>\n",
              "      <th>ride_id</th>\n",
              "      <th>event</th>\n",
              "      <th>timestamp</th>\n",
              "    </tr>\n",
              "  </thead>\n",
              "  <tbody>\n",
              "    <tr>\n",
              "      <th>0</th>\n",
              "      <td>00003037a262d9ee40e61b5c0718f7f0</td>\n",
              "      <td>requested_at</td>\n",
              "      <td>2016-06-13 09:39:19</td>\n",
              "    </tr>\n",
              "    <tr>\n",
              "      <th>1</th>\n",
              "      <td>00003037a262d9ee40e61b5c0718f7f0</td>\n",
              "      <td>accepted_at</td>\n",
              "      <td>2016-06-13 09:39:51</td>\n",
              "    </tr>\n",
              "    <tr>\n",
              "      <th>2</th>\n",
              "      <td>00003037a262d9ee40e61b5c0718f7f0</td>\n",
              "      <td>arrived_at</td>\n",
              "      <td>2016-06-13 09:44:31</td>\n",
              "    </tr>\n",
              "    <tr>\n",
              "      <th>3</th>\n",
              "      <td>00003037a262d9ee40e61b5c0718f7f0</td>\n",
              "      <td>picked_up_at</td>\n",
              "      <td>2016-06-13 09:44:33</td>\n",
              "    </tr>\n",
              "    <tr>\n",
              "      <th>4</th>\n",
              "      <td>00003037a262d9ee40e61b5c0718f7f0</td>\n",
              "      <td>dropped_off_at</td>\n",
              "      <td>2016-06-13 10:03:05</td>\n",
              "    </tr>\n",
              "  </tbody>\n",
              "</table>\n",
              "</div>"
            ],
            "text/plain": [
              "                            ride_id           event            timestamp\n",
              "0  00003037a262d9ee40e61b5c0718f7f0    requested_at  2016-06-13 09:39:19\n",
              "1  00003037a262d9ee40e61b5c0718f7f0     accepted_at  2016-06-13 09:39:51\n",
              "2  00003037a262d9ee40e61b5c0718f7f0      arrived_at  2016-06-13 09:44:31\n",
              "3  00003037a262d9ee40e61b5c0718f7f0    picked_up_at  2016-06-13 09:44:33\n",
              "4  00003037a262d9ee40e61b5c0718f7f0  dropped_off_at  2016-06-13 10:03:05"
            ]
          },
          "metadata": {
            "tags": []
          },
          "execution_count": 6
        }
      ]
    },
    {
      "cell_type": "code",
      "metadata": {
        "id": "jXyDlDMo07EH",
        "colab_type": "code",
        "outputId": "c8350deb-1548-49ce-aea2-434b547f8889",
        "colab": {
          "base_uri": "https://localhost:8080/",
          "height": 198
        }
      },
      "source": [
        "ride_ids.head()"
      ],
      "execution_count": 7,
      "outputs": [
        {
          "output_type": "execute_result",
          "data": {
            "text/html": [
              "<div>\n",
              "<style scoped>\n",
              "    .dataframe tbody tr th:only-of-type {\n",
              "        vertical-align: middle;\n",
              "    }\n",
              "\n",
              "    .dataframe tbody tr th {\n",
              "        vertical-align: top;\n",
              "    }\n",
              "\n",
              "    .dataframe thead th {\n",
              "        text-align: right;\n",
              "    }\n",
              "</style>\n",
              "<table border=\"1\" class=\"dataframe\">\n",
              "  <thead>\n",
              "    <tr style=\"text-align: right;\">\n",
              "      <th></th>\n",
              "      <th>driver_id</th>\n",
              "      <th>ride_id</th>\n",
              "      <th>ride_distance</th>\n",
              "      <th>ride_duration</th>\n",
              "      <th>ride_prime_time</th>\n",
              "    </tr>\n",
              "  </thead>\n",
              "  <tbody>\n",
              "    <tr>\n",
              "      <th>0</th>\n",
              "      <td>002be0ffdc997bd5c50703158b7c2491</td>\n",
              "      <td>006d61cf7446e682f7bc50b0f8a5bea5</td>\n",
              "      <td>1811</td>\n",
              "      <td>327</td>\n",
              "      <td>50</td>\n",
              "    </tr>\n",
              "    <tr>\n",
              "      <th>1</th>\n",
              "      <td>002be0ffdc997bd5c50703158b7c2491</td>\n",
              "      <td>01b522c5c3a756fbdb12e95e87507eda</td>\n",
              "      <td>3362</td>\n",
              "      <td>809</td>\n",
              "      <td>0</td>\n",
              "    </tr>\n",
              "    <tr>\n",
              "      <th>2</th>\n",
              "      <td>002be0ffdc997bd5c50703158b7c2491</td>\n",
              "      <td>029227c4c2971ce69ff2274dc798ef43</td>\n",
              "      <td>3282</td>\n",
              "      <td>572</td>\n",
              "      <td>0</td>\n",
              "    </tr>\n",
              "    <tr>\n",
              "      <th>3</th>\n",
              "      <td>002be0ffdc997bd5c50703158b7c2491</td>\n",
              "      <td>034e861343a63ac3c18a9ceb1ce0ac69</td>\n",
              "      <td>65283</td>\n",
              "      <td>3338</td>\n",
              "      <td>25</td>\n",
              "    </tr>\n",
              "    <tr>\n",
              "      <th>4</th>\n",
              "      <td>002be0ffdc997bd5c50703158b7c2491</td>\n",
              "      <td>034f2e614a2f9fc7f1c2f77647d1b981</td>\n",
              "      <td>4115</td>\n",
              "      <td>823</td>\n",
              "      <td>100</td>\n",
              "    </tr>\n",
              "  </tbody>\n",
              "</table>\n",
              "</div>"
            ],
            "text/plain": [
              "                          driver_id  ... ride_prime_time\n",
              "0  002be0ffdc997bd5c50703158b7c2491  ...              50\n",
              "1  002be0ffdc997bd5c50703158b7c2491  ...               0\n",
              "2  002be0ffdc997bd5c50703158b7c2491  ...               0\n",
              "3  002be0ffdc997bd5c50703158b7c2491  ...              25\n",
              "4  002be0ffdc997bd5c50703158b7c2491  ...             100\n",
              "\n",
              "[5 rows x 5 columns]"
            ]
          },
          "metadata": {
            "tags": []
          },
          "execution_count": 7
        }
      ]
    },
    {
      "cell_type": "code",
      "metadata": {
        "id": "6lHN-2Oh1wp_",
        "colab_type": "code",
        "outputId": "0294b65a-b204-4ac5-f245-b4b7a3b47f9a",
        "colab": {
          "base_uri": "https://localhost:8080/",
          "height": 198
        }
      },
      "source": [
        "driver_ids.head()"
      ],
      "execution_count": 8,
      "outputs": [
        {
          "output_type": "execute_result",
          "data": {
            "text/html": [
              "<div>\n",
              "<style scoped>\n",
              "    .dataframe tbody tr th:only-of-type {\n",
              "        vertical-align: middle;\n",
              "    }\n",
              "\n",
              "    .dataframe tbody tr th {\n",
              "        vertical-align: top;\n",
              "    }\n",
              "\n",
              "    .dataframe thead th {\n",
              "        text-align: right;\n",
              "    }\n",
              "</style>\n",
              "<table border=\"1\" class=\"dataframe\">\n",
              "  <thead>\n",
              "    <tr style=\"text-align: right;\">\n",
              "      <th></th>\n",
              "      <th>driver_id</th>\n",
              "      <th>driver_onboard_date</th>\n",
              "    </tr>\n",
              "  </thead>\n",
              "  <tbody>\n",
              "    <tr>\n",
              "      <th>0</th>\n",
              "      <td>002be0ffdc997bd5c50703158b7c2491</td>\n",
              "      <td>2016-03-29 00:00:00</td>\n",
              "    </tr>\n",
              "    <tr>\n",
              "      <th>1</th>\n",
              "      <td>007f0389f9c7b03ef97098422f902e62</td>\n",
              "      <td>2016-03-29 00:00:00</td>\n",
              "    </tr>\n",
              "    <tr>\n",
              "      <th>2</th>\n",
              "      <td>011e5c5dfc5c2c92501b8b24d47509bc</td>\n",
              "      <td>2016-04-05 00:00:00</td>\n",
              "    </tr>\n",
              "    <tr>\n",
              "      <th>3</th>\n",
              "      <td>0152a2f305e71d26cc964f8d4411add9</td>\n",
              "      <td>2016-04-23 00:00:00</td>\n",
              "    </tr>\n",
              "    <tr>\n",
              "      <th>4</th>\n",
              "      <td>01674381af7edd264113d4e6ed55ecda</td>\n",
              "      <td>2016-04-29 00:00:00</td>\n",
              "    </tr>\n",
              "  </tbody>\n",
              "</table>\n",
              "</div>"
            ],
            "text/plain": [
              "                          driver_id  driver_onboard_date\n",
              "0  002be0ffdc997bd5c50703158b7c2491  2016-03-29 00:00:00\n",
              "1  007f0389f9c7b03ef97098422f902e62  2016-03-29 00:00:00\n",
              "2  011e5c5dfc5c2c92501b8b24d47509bc  2016-04-05 00:00:00\n",
              "3  0152a2f305e71d26cc964f8d4411add9  2016-04-23 00:00:00\n",
              "4  01674381af7edd264113d4e6ed55ecda  2016-04-29 00:00:00"
            ]
          },
          "metadata": {
            "tags": []
          },
          "execution_count": 8
        }
      ]
    },
    {
      "cell_type": "markdown",
      "metadata": {
        "id": "xb0MLQFf2iOs",
        "colab_type": "text"
      },
      "source": [
        "## EDA"
      ]
    },
    {
      "cell_type": "markdown",
      "metadata": {
        "id": "2jTAlTw521ad",
        "colab_type": "text"
      },
      "source": [
        "### `drivers_ids`"
      ]
    },
    {
      "cell_type": "code",
      "metadata": {
        "id": "4oFPAodY2eB2",
        "colab_type": "code",
        "outputId": "36e25682-58df-4031-c063-ef371df27a99",
        "colab": {
          "base_uri": "https://localhost:8080/",
          "height": 35
        }
      },
      "source": [
        "driver_ids['driver_id'].nunique() # len(driver_ids)"
      ],
      "execution_count": 9,
      "outputs": [
        {
          "output_type": "execute_result",
          "data": {
            "text/plain": [
              "937"
            ]
          },
          "metadata": {
            "tags": []
          },
          "execution_count": 9
        }
      ]
    },
    {
      "cell_type": "code",
      "metadata": {
        "id": "Xo8o1Wz08x9X",
        "colab_type": "code",
        "outputId": "09feb2f6-a614-4fa9-99c9-26d79ebfe9bc",
        "colab": {
          "base_uri": "https://localhost:8080/",
          "height": 35
        }
      },
      "source": [
        "driver_ids['driver_onboard_date'].min(), driver_ids['driver_onboard_date'].max()"
      ],
      "execution_count": 10,
      "outputs": [
        {
          "output_type": "execute_result",
          "data": {
            "text/plain": [
              "('2016-03-28 00:00:00', '2016-05-15 00:00:00')"
            ]
          },
          "metadata": {
            "tags": []
          },
          "execution_count": 10
        }
      ]
    },
    {
      "cell_type": "markdown",
      "metadata": {
        "id": "ZqQ7iBVy8tXJ",
        "colab_type": "text"
      },
      "source": [
        "The file `driver_ids.csv` consists of drivers who signed up as a driver with Lyft between 2016/03/28 to 2016/05/15."
      ]
    },
    {
      "cell_type": "markdown",
      "metadata": {
        "id": "0JzldygP-ACO",
        "colab_type": "text"
      },
      "source": [
        "### `ride_timestamps`"
      ]
    },
    {
      "cell_type": "markdown",
      "metadata": {
        "id": "H72JF2EC-kv0",
        "colab_type": "text"
      },
      "source": [
        "Check whether do the rides start after all the drivers have registered."
      ]
    },
    {
      "cell_type": "code",
      "metadata": {
        "id": "aig0wTPf-MEf",
        "colab_type": "code",
        "colab": {}
      },
      "source": [
        "# convert timestamp to datetime object\n",
        "ride_timestamps['timestamp'] = pd.to_datetime(ride_timestamps['timestamp'])"
      ],
      "execution_count": 0,
      "outputs": []
    },
    {
      "cell_type": "code",
      "metadata": {
        "id": "FaIHL9lMB5ya",
        "colab_type": "code",
        "outputId": "4fbcebb3-581d-4e8b-d6ac-4aa90eb3fc99",
        "colab": {
          "base_uri": "https://localhost:8080/",
          "height": 35
        }
      },
      "source": [
        "ride_timestamps['timestamp'].min(), ride_timestamps['timestamp'].max()"
      ],
      "execution_count": 12,
      "outputs": [
        {
          "output_type": "execute_result",
          "data": {
            "text/plain": [
              "(Timestamp('2016-03-28 05:48:18'), Timestamp('2016-06-27 00:50:50'))"
            ]
          },
          "metadata": {
            "tags": []
          },
          "execution_count": 12
        }
      ]
    },
    {
      "cell_type": "markdown",
      "metadata": {
        "id": "ZXcp8u_HDdQc",
        "colab_type": "text"
      },
      "source": [
        "The dataset for rides started on 2016/03/28 and ended on 2016/06/27. We proceed to perform feature engineering on the `timestamp` of each ride."
      ]
    },
    {
      "cell_type": "code",
      "metadata": {
        "id": "KLDnMVrqKdzI",
        "colab_type": "code",
        "colab": {}
      },
      "source": [
        "# Feature engineer time features\n",
        "def add_datepart(df, fldname, drop=False, time=True):\n",
        "    \"\"\"\n",
        "    Taken from fast.ai\n",
        "    Helper function that adds columns relevant to a date.\n",
        "    \"\"\"\n",
        "    import re \n",
        "    \n",
        "    fld = df[fldname]\n",
        "    fld_dtype = fld.dtype\n",
        "    if isinstance(fld_dtype, pd.core.dtypes.dtypes.DatetimeTZDtype):\n",
        "        fld_dtype = np.datetime64\n",
        "\n",
        "    if not np.issubdtype(fld_dtype, np.datetime64):\n",
        "        df[fldname] = fld = pd.to_datetime(fld, infer_datetime_format=True)\n",
        "    targ_pre = re.sub('[Dd]ate$', '', fldname)\n",
        "    attr = ['Month', 'Week', 'Day', 'Dayofweek', 'Dayofyear']\n",
        "    if time: attr = attr + ['Hour', 'Minute']\n",
        "    for n in attr: df[targ_pre + n] = getattr(fld.dt, n.lower())\n",
        "    df[targ_pre + 'Elapsed'] = fld.astype(np.int64) // 10 ** 9\n",
        "    if drop: df.drop(fldname, axis=1, inplace=True)"
      ],
      "execution_count": 0,
      "outputs": []
    },
    {
      "cell_type": "code",
      "metadata": {
        "id": "iVYFaGqaKhAx",
        "colab_type": "code",
        "outputId": "36aa23cf-e823-4e93-8e55-0ee3503c6ec1",
        "colab": {
          "base_uri": "https://localhost:8080/",
          "height": 305
        }
      },
      "source": [
        "add_datepart(ride_timestamps, 'timestamp')\n",
        "\n",
        "ride_timestamps.head()"
      ],
      "execution_count": 14,
      "outputs": [
        {
          "output_type": "execute_result",
          "data": {
            "text/html": [
              "<div>\n",
              "<style scoped>\n",
              "    .dataframe tbody tr th:only-of-type {\n",
              "        vertical-align: middle;\n",
              "    }\n",
              "\n",
              "    .dataframe tbody tr th {\n",
              "        vertical-align: top;\n",
              "    }\n",
              "\n",
              "    .dataframe thead th {\n",
              "        text-align: right;\n",
              "    }\n",
              "</style>\n",
              "<table border=\"1\" class=\"dataframe\">\n",
              "  <thead>\n",
              "    <tr style=\"text-align: right;\">\n",
              "      <th></th>\n",
              "      <th>ride_id</th>\n",
              "      <th>event</th>\n",
              "      <th>timestamp</th>\n",
              "      <th>timestampMonth</th>\n",
              "      <th>timestampWeek</th>\n",
              "      <th>timestampDay</th>\n",
              "      <th>timestampDayofweek</th>\n",
              "      <th>timestampDayofyear</th>\n",
              "      <th>timestampHour</th>\n",
              "      <th>timestampMinute</th>\n",
              "      <th>timestampElapsed</th>\n",
              "    </tr>\n",
              "  </thead>\n",
              "  <tbody>\n",
              "    <tr>\n",
              "      <th>0</th>\n",
              "      <td>00003037a262d9ee40e61b5c0718f7f0</td>\n",
              "      <td>requested_at</td>\n",
              "      <td>2016-06-13 09:39:19</td>\n",
              "      <td>6.0</td>\n",
              "      <td>24.0</td>\n",
              "      <td>13.0</td>\n",
              "      <td>0.0</td>\n",
              "      <td>165.0</td>\n",
              "      <td>9.0</td>\n",
              "      <td>39.0</td>\n",
              "      <td>1465810759</td>\n",
              "    </tr>\n",
              "    <tr>\n",
              "      <th>1</th>\n",
              "      <td>00003037a262d9ee40e61b5c0718f7f0</td>\n",
              "      <td>accepted_at</td>\n",
              "      <td>2016-06-13 09:39:51</td>\n",
              "      <td>6.0</td>\n",
              "      <td>24.0</td>\n",
              "      <td>13.0</td>\n",
              "      <td>0.0</td>\n",
              "      <td>165.0</td>\n",
              "      <td>9.0</td>\n",
              "      <td>39.0</td>\n",
              "      <td>1465810791</td>\n",
              "    </tr>\n",
              "    <tr>\n",
              "      <th>2</th>\n",
              "      <td>00003037a262d9ee40e61b5c0718f7f0</td>\n",
              "      <td>arrived_at</td>\n",
              "      <td>2016-06-13 09:44:31</td>\n",
              "      <td>6.0</td>\n",
              "      <td>24.0</td>\n",
              "      <td>13.0</td>\n",
              "      <td>0.0</td>\n",
              "      <td>165.0</td>\n",
              "      <td>9.0</td>\n",
              "      <td>44.0</td>\n",
              "      <td>1465811071</td>\n",
              "    </tr>\n",
              "    <tr>\n",
              "      <th>3</th>\n",
              "      <td>00003037a262d9ee40e61b5c0718f7f0</td>\n",
              "      <td>picked_up_at</td>\n",
              "      <td>2016-06-13 09:44:33</td>\n",
              "      <td>6.0</td>\n",
              "      <td>24.0</td>\n",
              "      <td>13.0</td>\n",
              "      <td>0.0</td>\n",
              "      <td>165.0</td>\n",
              "      <td>9.0</td>\n",
              "      <td>44.0</td>\n",
              "      <td>1465811073</td>\n",
              "    </tr>\n",
              "    <tr>\n",
              "      <th>4</th>\n",
              "      <td>00003037a262d9ee40e61b5c0718f7f0</td>\n",
              "      <td>dropped_off_at</td>\n",
              "      <td>2016-06-13 10:03:05</td>\n",
              "      <td>6.0</td>\n",
              "      <td>24.0</td>\n",
              "      <td>13.0</td>\n",
              "      <td>0.0</td>\n",
              "      <td>165.0</td>\n",
              "      <td>10.0</td>\n",
              "      <td>3.0</td>\n",
              "      <td>1465812185</td>\n",
              "    </tr>\n",
              "  </tbody>\n",
              "</table>\n",
              "</div>"
            ],
            "text/plain": [
              "                            ride_id  ... timestampElapsed\n",
              "0  00003037a262d9ee40e61b5c0718f7f0  ...       1465810759\n",
              "1  00003037a262d9ee40e61b5c0718f7f0  ...       1465810791\n",
              "2  00003037a262d9ee40e61b5c0718f7f0  ...       1465811071\n",
              "3  00003037a262d9ee40e61b5c0718f7f0  ...       1465811073\n",
              "4  00003037a262d9ee40e61b5c0718f7f0  ...       1465812185\n",
              "\n",
              "[5 rows x 11 columns]"
            ]
          },
          "metadata": {
            "tags": []
          },
          "execution_count": 14
        }
      ]
    },
    {
      "cell_type": "markdown",
      "metadata": {
        "id": "xcDOgl3BrCYm",
        "colab_type": "text"
      },
      "source": [
        "One of the features we deem important later to perform segmenting on drivers is how long does a driver take, on average, to accept a ride. To do so, we have to calculate the time lag between a ride was requested `event == 'requested_at'` to the time the driver accepted the ride `event == 'accepted_at'`.\n",
        "\n",
        "We hypothesize that keen drivers who are more likely to have a short window between those two events. We call this new feature `pickup_window`."
      ]
    },
    {
      "cell_type": "code",
      "metadata": {
        "id": "Qlo4alhCsEFE",
        "colab_type": "code",
        "colab": {}
      },
      "source": [
        "# calculate time lag wrt to `requested_at`\n",
        "def seconds_lag(t):\n",
        "    delta_to_t0 = t - t.iloc[0]\n",
        "    return delta_to_t0"
      ],
      "execution_count": 0,
      "outputs": []
    },
    {
      "cell_type": "code",
      "metadata": {
        "id": "CZIL2Kt7DXqR",
        "colab_type": "code",
        "outputId": "8495e14c-7599-4464-bae7-491ab614bdde",
        "colab": {
          "base_uri": "https://localhost:8080/",
          "height": 52
        }
      },
      "source": [
        "%%time\n",
        "ride_timestamps['pickup_window'] = ride_timestamps.groupby('ride_id')['timestamp'].apply(seconds_lag)\n",
        "\n",
        "ride_timestamps['pickup_window'] = ride_timestamps['pickup_window'].apply(lambda o: o.total_seconds())"
      ],
      "execution_count": 16,
      "outputs": [
        {
          "output_type": "stream",
          "text": [
            "CPU times: user 2min 5s, sys: 4.21 s, total: 2min 9s\n",
            "Wall time: 2min 5s\n"
          ],
          "name": "stdout"
        }
      ]
    },
    {
      "cell_type": "code",
      "metadata": {
        "id": "rC3265liJ1s3",
        "colab_type": "code",
        "outputId": "76e25c6e-a5bb-4a81-f1d2-4406ab3ce35a",
        "colab": {
          "base_uri": "https://localhost:8080/",
          "height": 305
        }
      },
      "source": [
        "ride_timestamps.head()"
      ],
      "execution_count": 17,
      "outputs": [
        {
          "output_type": "execute_result",
          "data": {
            "text/html": [
              "<div>\n",
              "<style scoped>\n",
              "    .dataframe tbody tr th:only-of-type {\n",
              "        vertical-align: middle;\n",
              "    }\n",
              "\n",
              "    .dataframe tbody tr th {\n",
              "        vertical-align: top;\n",
              "    }\n",
              "\n",
              "    .dataframe thead th {\n",
              "        text-align: right;\n",
              "    }\n",
              "</style>\n",
              "<table border=\"1\" class=\"dataframe\">\n",
              "  <thead>\n",
              "    <tr style=\"text-align: right;\">\n",
              "      <th></th>\n",
              "      <th>ride_id</th>\n",
              "      <th>event</th>\n",
              "      <th>timestamp</th>\n",
              "      <th>timestampMonth</th>\n",
              "      <th>timestampWeek</th>\n",
              "      <th>timestampDay</th>\n",
              "      <th>timestampDayofweek</th>\n",
              "      <th>timestampDayofyear</th>\n",
              "      <th>timestampHour</th>\n",
              "      <th>timestampMinute</th>\n",
              "      <th>timestampElapsed</th>\n",
              "      <th>pickup_window</th>\n",
              "    </tr>\n",
              "  </thead>\n",
              "  <tbody>\n",
              "    <tr>\n",
              "      <th>0</th>\n",
              "      <td>00003037a262d9ee40e61b5c0718f7f0</td>\n",
              "      <td>requested_at</td>\n",
              "      <td>2016-06-13 09:39:19</td>\n",
              "      <td>6.0</td>\n",
              "      <td>24.0</td>\n",
              "      <td>13.0</td>\n",
              "      <td>0.0</td>\n",
              "      <td>165.0</td>\n",
              "      <td>9.0</td>\n",
              "      <td>39.0</td>\n",
              "      <td>1465810759</td>\n",
              "      <td>0.0</td>\n",
              "    </tr>\n",
              "    <tr>\n",
              "      <th>1</th>\n",
              "      <td>00003037a262d9ee40e61b5c0718f7f0</td>\n",
              "      <td>accepted_at</td>\n",
              "      <td>2016-06-13 09:39:51</td>\n",
              "      <td>6.0</td>\n",
              "      <td>24.0</td>\n",
              "      <td>13.0</td>\n",
              "      <td>0.0</td>\n",
              "      <td>165.0</td>\n",
              "      <td>9.0</td>\n",
              "      <td>39.0</td>\n",
              "      <td>1465810791</td>\n",
              "      <td>32.0</td>\n",
              "    </tr>\n",
              "    <tr>\n",
              "      <th>2</th>\n",
              "      <td>00003037a262d9ee40e61b5c0718f7f0</td>\n",
              "      <td>arrived_at</td>\n",
              "      <td>2016-06-13 09:44:31</td>\n",
              "      <td>6.0</td>\n",
              "      <td>24.0</td>\n",
              "      <td>13.0</td>\n",
              "      <td>0.0</td>\n",
              "      <td>165.0</td>\n",
              "      <td>9.0</td>\n",
              "      <td>44.0</td>\n",
              "      <td>1465811071</td>\n",
              "      <td>312.0</td>\n",
              "    </tr>\n",
              "    <tr>\n",
              "      <th>3</th>\n",
              "      <td>00003037a262d9ee40e61b5c0718f7f0</td>\n",
              "      <td>picked_up_at</td>\n",
              "      <td>2016-06-13 09:44:33</td>\n",
              "      <td>6.0</td>\n",
              "      <td>24.0</td>\n",
              "      <td>13.0</td>\n",
              "      <td>0.0</td>\n",
              "      <td>165.0</td>\n",
              "      <td>9.0</td>\n",
              "      <td>44.0</td>\n",
              "      <td>1465811073</td>\n",
              "      <td>314.0</td>\n",
              "    </tr>\n",
              "    <tr>\n",
              "      <th>4</th>\n",
              "      <td>00003037a262d9ee40e61b5c0718f7f0</td>\n",
              "      <td>dropped_off_at</td>\n",
              "      <td>2016-06-13 10:03:05</td>\n",
              "      <td>6.0</td>\n",
              "      <td>24.0</td>\n",
              "      <td>13.0</td>\n",
              "      <td>0.0</td>\n",
              "      <td>165.0</td>\n",
              "      <td>10.0</td>\n",
              "      <td>3.0</td>\n",
              "      <td>1465812185</td>\n",
              "      <td>1426.0</td>\n",
              "    </tr>\n",
              "  </tbody>\n",
              "</table>\n",
              "</div>"
            ],
            "text/plain": [
              "                            ride_id  ... pickup_window\n",
              "0  00003037a262d9ee40e61b5c0718f7f0  ...           0.0\n",
              "1  00003037a262d9ee40e61b5c0718f7f0  ...          32.0\n",
              "2  00003037a262d9ee40e61b5c0718f7f0  ...         312.0\n",
              "3  00003037a262d9ee40e61b5c0718f7f0  ...         314.0\n",
              "4  00003037a262d9ee40e61b5c0718f7f0  ...        1426.0\n",
              "\n",
              "[5 rows x 12 columns]"
            ]
          },
          "metadata": {
            "tags": []
          },
          "execution_count": 17
        }
      ]
    },
    {
      "cell_type": "code",
      "metadata": {
        "id": "J58pHXVorxJE",
        "colab_type": "code",
        "outputId": "23e3e40e-17c5-47d6-91aa-341b7398ff36",
        "colab": {
          "base_uri": "https://localhost:8080/",
          "height": 198
        }
      },
      "source": [
        "accepted_filter = ride_timestamps[ride_timestamps['event'] == 'accepted_at']\n",
        "\n",
        "driver_accepted_filter = pd.merge(accepted_filter, ride_ids,\n",
        "                                  on='ride_id')\n",
        "\n",
        "window_g = driver_accepted_filter.groupby('driver_id')['pickup_window'].mean()\n",
        "\n",
        "window_g = window_g.reset_index()\n",
        "\n",
        "window_g.head()"
      ],
      "execution_count": 18,
      "outputs": [
        {
          "output_type": "execute_result",
          "data": {
            "text/html": [
              "<div>\n",
              "<style scoped>\n",
              "    .dataframe tbody tr th:only-of-type {\n",
              "        vertical-align: middle;\n",
              "    }\n",
              "\n",
              "    .dataframe tbody tr th {\n",
              "        vertical-align: top;\n",
              "    }\n",
              "\n",
              "    .dataframe thead th {\n",
              "        text-align: right;\n",
              "    }\n",
              "</style>\n",
              "<table border=\"1\" class=\"dataframe\">\n",
              "  <thead>\n",
              "    <tr style=\"text-align: right;\">\n",
              "      <th></th>\n",
              "      <th>driver_id</th>\n",
              "      <th>pickup_window</th>\n",
              "    </tr>\n",
              "  </thead>\n",
              "  <tbody>\n",
              "    <tr>\n",
              "      <th>0</th>\n",
              "      <td>002be0ffdc997bd5c50703158b7c2491</td>\n",
              "      <td>8.407942</td>\n",
              "    </tr>\n",
              "    <tr>\n",
              "      <th>1</th>\n",
              "      <td>007f0389f9c7b03ef97098422f902e62</td>\n",
              "      <td>11.838710</td>\n",
              "    </tr>\n",
              "    <tr>\n",
              "      <th>2</th>\n",
              "      <td>011e5c5dfc5c2c92501b8b24d47509bc</td>\n",
              "      <td>7.294118</td>\n",
              "    </tr>\n",
              "    <tr>\n",
              "      <th>3</th>\n",
              "      <td>0152a2f305e71d26cc964f8d4411add9</td>\n",
              "      <td>14.198953</td>\n",
              "    </tr>\n",
              "    <tr>\n",
              "      <th>4</th>\n",
              "      <td>01674381af7edd264113d4e6ed55ecda</td>\n",
              "      <td>12.528000</td>\n",
              "    </tr>\n",
              "  </tbody>\n",
              "</table>\n",
              "</div>"
            ],
            "text/plain": [
              "                          driver_id  pickup_window\n",
              "0  002be0ffdc997bd5c50703158b7c2491       8.407942\n",
              "1  007f0389f9c7b03ef97098422f902e62      11.838710\n",
              "2  011e5c5dfc5c2c92501b8b24d47509bc       7.294118\n",
              "3  0152a2f305e71d26cc964f8d4411add9      14.198953\n",
              "4  01674381af7edd264113d4e6ed55ecda      12.528000"
            ]
          },
          "metadata": {
            "tags": []
          },
          "execution_count": 18
        }
      ]
    },
    {
      "cell_type": "code",
      "metadata": {
        "id": "AyJjh0sCDMjx",
        "colab_type": "code",
        "outputId": "37d5a573-b96a-4240-9f17-c45fa8fc601e",
        "colab": {
          "base_uri": "https://localhost:8080/",
          "height": 35
        }
      },
      "source": [
        "len(window_g)"
      ],
      "execution_count": 19,
      "outputs": [
        {
          "output_type": "execute_result",
          "data": {
            "text/plain": [
              "844"
            ]
          },
          "metadata": {
            "tags": []
          },
          "execution_count": 19
        }
      ]
    },
    {
      "cell_type": "code",
      "metadata": {
        "id": "LOoEN3U_ucLX",
        "colab_type": "code",
        "outputId": "6bfea8c0-8907-4b52-bd0b-ad180d981910",
        "colab": {
          "base_uri": "https://localhost:8080/",
          "height": 35
        }
      },
      "source": [
        "ride_ids['driver_id'].nunique()"
      ],
      "execution_count": 20,
      "outputs": [
        {
          "output_type": "execute_result",
          "data": {
            "text/plain": [
              "937"
            ]
          },
          "metadata": {
            "tags": []
          },
          "execution_count": 20
        }
      ]
    },
    {
      "cell_type": "code",
      "metadata": {
        "id": "wWaA8dzR13Iu",
        "colab_type": "code",
        "outputId": "d08b9b29-fa1b-427c-e6b1-3df6c241e947",
        "colab": {
          "base_uri": "https://localhost:8080/",
          "height": 35
        }
      },
      "source": [
        "d = pd.merge(ride_ids, ride_timestamps, on='ride_id', how='inner')\n",
        "\n",
        "d['driver_id'].nunique()\n",
        "\n",
        "# d[d['driver_id'].isna()]['ride_id']"
      ],
      "execution_count": 21,
      "outputs": [
        {
          "output_type": "execute_result",
          "data": {
            "text/plain": [
              "844"
            ]
          },
          "metadata": {
            "tags": []
          },
          "execution_count": 21
        }
      ]
    },
    {
      "cell_type": "markdown",
      "metadata": {
        "id": "CkLWOOpKKJ1z",
        "colab_type": "text"
      },
      "source": [
        "There are 93 drivers in `ride_ids` who do not have records in `ride_timestamps`.\n",
        "\n",
        "## `ride_ids`\n",
        "We would like to get an idea of how many rides has a driver completed over the course of the dataset. We call this feature `ride_count`. It will also be a crucial variable to calculate LTV later."
      ]
    },
    {
      "cell_type": "code",
      "metadata": {
        "id": "-DU3_v9UJxQo",
        "colab_type": "code",
        "outputId": "558558e2-456c-40a1-ed8b-3af39b484899",
        "colab": {
          "base_uri": "https://localhost:8080/",
          "height": 198
        }
      },
      "source": [
        "ride_id_g = ride_ids.groupby('driver_id')['ride_id'].count()\n",
        "\n",
        "ride_id_g = ride_id_g.reset_index()\n",
        "\n",
        "ride_id_g.rename(columns={'ride_id': 'ride_count'}, inplace=True)\n",
        "\n",
        "ride_id_g.sort_values(by='ride_count', ascending=False).head()"
      ],
      "execution_count": 22,
      "outputs": [
        {
          "output_type": "execute_result",
          "data": {
            "text/html": [
              "<div>\n",
              "<style scoped>\n",
              "    .dataframe tbody tr th:only-of-type {\n",
              "        vertical-align: middle;\n",
              "    }\n",
              "\n",
              "    .dataframe tbody tr th {\n",
              "        vertical-align: top;\n",
              "    }\n",
              "\n",
              "    .dataframe thead th {\n",
              "        text-align: right;\n",
              "    }\n",
              "</style>\n",
              "<table border=\"1\" class=\"dataframe\">\n",
              "  <thead>\n",
              "    <tr style=\"text-align: right;\">\n",
              "      <th></th>\n",
              "      <th>driver_id</th>\n",
              "      <th>ride_count</th>\n",
              "    </tr>\n",
              "  </thead>\n",
              "  <tbody>\n",
              "    <tr>\n",
              "      <th>354</th>\n",
              "      <td>5ccc0e6dc9c7475caf785cdce7b8eb7a</td>\n",
              "      <td>919</td>\n",
              "    </tr>\n",
              "    <tr>\n",
              "      <th>308</th>\n",
              "      <td>4eb382d1f7d50fae1294964263d1ce82</td>\n",
              "      <td>831</td>\n",
              "    </tr>\n",
              "    <tr>\n",
              "      <th>509</th>\n",
              "      <td>844e9be5a30d8d9c1f8e9ddb086ff717</td>\n",
              "      <td>821</td>\n",
              "    </tr>\n",
              "    <tr>\n",
              "      <th>401</th>\n",
              "      <td>689bdf87fb2de49f98bf4946cfaa5068</td>\n",
              "      <td>794</td>\n",
              "    </tr>\n",
              "    <tr>\n",
              "      <th>217</th>\n",
              "      <td>3788dc9e91f1548816ce8b5af07ddadc</td>\n",
              "      <td>783</td>\n",
              "    </tr>\n",
              "  </tbody>\n",
              "</table>\n",
              "</div>"
            ],
            "text/plain": [
              "                            driver_id  ride_count\n",
              "354  5ccc0e6dc9c7475caf785cdce7b8eb7a         919\n",
              "308  4eb382d1f7d50fae1294964263d1ce82         831\n",
              "509  844e9be5a30d8d9c1f8e9ddb086ff717         821\n",
              "401  689bdf87fb2de49f98bf4946cfaa5068         794\n",
              "217  3788dc9e91f1548816ce8b5af07ddadc         783"
            ]
          },
          "metadata": {
            "tags": []
          },
          "execution_count": 22
        }
      ]
    },
    {
      "cell_type": "code",
      "metadata": {
        "id": "8Z9mTS9IwQas",
        "colab_type": "code",
        "outputId": "44c4512d-29c6-4b4c-fa25-eb94a0a9e3f9",
        "colab": {
          "base_uri": "https://localhost:8080/",
          "height": 35
        }
      },
      "source": [
        "driver_ids['driver_id'].nunique(), ride_ids['driver_id'].nunique()"
      ],
      "execution_count": 23,
      "outputs": [
        {
          "output_type": "execute_result",
          "data": {
            "text/plain": [
              "(937, 937)"
            ]
          },
          "metadata": {
            "tags": []
          },
          "execution_count": 23
        }
      ]
    },
    {
      "cell_type": "code",
      "metadata": {
        "id": "KJHPRpeWwVMP",
        "colab_type": "code",
        "outputId": "7a6c42f5-24da-4401-877d-3f05acb8f4e2",
        "colab": {
          "base_uri": "https://localhost:8080/",
          "height": 35
        }
      },
      "source": [
        "len(set(driver_ids['driver_id'].unique().tolist()).intersection(set(ride_ids['driver_id'].unique().tolist())))"
      ],
      "execution_count": 24,
      "outputs": [
        {
          "output_type": "execute_result",
          "data": {
            "text/plain": [
              "854"
            ]
          },
          "metadata": {
            "tags": []
          },
          "execution_count": 24
        }
      ]
    },
    {
      "cell_type": "code",
      "metadata": {
        "id": "DWQNUmX0uvD9",
        "colab_type": "code",
        "outputId": "cc56f391-4c79-480b-e376-cc118a3ac951",
        "colab": {
          "base_uri": "https://localhost:8080/",
          "height": 198
        }
      },
      "source": [
        "ride_ids.head()"
      ],
      "execution_count": 25,
      "outputs": [
        {
          "output_type": "execute_result",
          "data": {
            "text/html": [
              "<div>\n",
              "<style scoped>\n",
              "    .dataframe tbody tr th:only-of-type {\n",
              "        vertical-align: middle;\n",
              "    }\n",
              "\n",
              "    .dataframe tbody tr th {\n",
              "        vertical-align: top;\n",
              "    }\n",
              "\n",
              "    .dataframe thead th {\n",
              "        text-align: right;\n",
              "    }\n",
              "</style>\n",
              "<table border=\"1\" class=\"dataframe\">\n",
              "  <thead>\n",
              "    <tr style=\"text-align: right;\">\n",
              "      <th></th>\n",
              "      <th>driver_id</th>\n",
              "      <th>ride_id</th>\n",
              "      <th>ride_distance</th>\n",
              "      <th>ride_duration</th>\n",
              "      <th>ride_prime_time</th>\n",
              "    </tr>\n",
              "  </thead>\n",
              "  <tbody>\n",
              "    <tr>\n",
              "      <th>0</th>\n",
              "      <td>002be0ffdc997bd5c50703158b7c2491</td>\n",
              "      <td>006d61cf7446e682f7bc50b0f8a5bea5</td>\n",
              "      <td>1811</td>\n",
              "      <td>327</td>\n",
              "      <td>50</td>\n",
              "    </tr>\n",
              "    <tr>\n",
              "      <th>1</th>\n",
              "      <td>002be0ffdc997bd5c50703158b7c2491</td>\n",
              "      <td>01b522c5c3a756fbdb12e95e87507eda</td>\n",
              "      <td>3362</td>\n",
              "      <td>809</td>\n",
              "      <td>0</td>\n",
              "    </tr>\n",
              "    <tr>\n",
              "      <th>2</th>\n",
              "      <td>002be0ffdc997bd5c50703158b7c2491</td>\n",
              "      <td>029227c4c2971ce69ff2274dc798ef43</td>\n",
              "      <td>3282</td>\n",
              "      <td>572</td>\n",
              "      <td>0</td>\n",
              "    </tr>\n",
              "    <tr>\n",
              "      <th>3</th>\n",
              "      <td>002be0ffdc997bd5c50703158b7c2491</td>\n",
              "      <td>034e861343a63ac3c18a9ceb1ce0ac69</td>\n",
              "      <td>65283</td>\n",
              "      <td>3338</td>\n",
              "      <td>25</td>\n",
              "    </tr>\n",
              "    <tr>\n",
              "      <th>4</th>\n",
              "      <td>002be0ffdc997bd5c50703158b7c2491</td>\n",
              "      <td>034f2e614a2f9fc7f1c2f77647d1b981</td>\n",
              "      <td>4115</td>\n",
              "      <td>823</td>\n",
              "      <td>100</td>\n",
              "    </tr>\n",
              "  </tbody>\n",
              "</table>\n",
              "</div>"
            ],
            "text/plain": [
              "                          driver_id  ... ride_prime_time\n",
              "0  002be0ffdc997bd5c50703158b7c2491  ...              50\n",
              "1  002be0ffdc997bd5c50703158b7c2491  ...               0\n",
              "2  002be0ffdc997bd5c50703158b7c2491  ...               0\n",
              "3  002be0ffdc997bd5c50703158b7c2491  ...              25\n",
              "4  002be0ffdc997bd5c50703158b7c2491  ...             100\n",
              "\n",
              "[5 rows x 5 columns]"
            ]
          },
          "metadata": {
            "tags": []
          },
          "execution_count": 25
        }
      ]
    },
    {
      "cell_type": "code",
      "metadata": {
        "id": "LgmZ0Ql1wzHK",
        "colab_type": "code",
        "outputId": "64ae53ae-a2ac-439a-faf8-77f5ccb3d1a1",
        "colab": {
          "base_uri": "https://localhost:8080/",
          "height": 35
        }
      },
      "source": [
        "len(driver_ids[~driver_ids['driver_id'].isin(ride_ids['driver_id'].unique())])"
      ],
      "execution_count": 26,
      "outputs": [
        {
          "output_type": "execute_result",
          "data": {
            "text/plain": [
              "83"
            ]
          },
          "metadata": {
            "tags": []
          },
          "execution_count": 26
        }
      ]
    },
    {
      "cell_type": "markdown",
      "metadata": {
        "id": "lh4h6KiCwgvg",
        "colab_type": "text"
      },
      "source": [
        "Interestingly, even we have 937 unique `driver_id`s for both `driver_ids` and `ride_ids`, only 854 overlap. That means, 83 drivers that appear in ride_ids do not have any record in `driver_ids`."
      ]
    },
    {
      "cell_type": "code",
      "metadata": {
        "id": "2MN45A72zy89",
        "colab_type": "code",
        "outputId": "51c16ddd-14c8-44c8-90bd-d4185e6a9cc3",
        "colab": {
          "base_uri": "https://localhost:8080/",
          "height": 35
        }
      },
      "source": [
        "ride_timestamps['ride_id'].nunique(), ride_ids['ride_id'].nunique()"
      ],
      "execution_count": 27,
      "outputs": [
        {
          "output_type": "execute_result",
          "data": {
            "text/plain": [
              "(194081, 193502)"
            ]
          },
          "metadata": {
            "tags": []
          },
          "execution_count": 27
        }
      ]
    },
    {
      "cell_type": "code",
      "metadata": {
        "id": "U1O2xHYrz1uF",
        "colab_type": "code",
        "outputId": "fc62ff53-3590-4821-d7ae-f38f792a2b7f",
        "colab": {
          "base_uri": "https://localhost:8080/",
          "height": 35
        }
      },
      "source": [
        "len(set(ride_timestamps['ride_id'].unique().tolist()).intersection(set(ride_ids['ride_id'].unique().tolist())))"
      ],
      "execution_count": 28,
      "outputs": [
        {
          "output_type": "execute_result",
          "data": {
            "text/plain": [
              "184819"
            ]
          },
          "metadata": {
            "tags": []
          },
          "execution_count": 28
        }
      ]
    },
    {
      "cell_type": "markdown",
      "metadata": {
        "id": "FjBJdgDnz0jp",
        "colab_type": "text"
      },
      "source": [
        "Only 184,819 unique `ride_id`s exist in `ride_timestamps` and `ride_ids`.\n",
        "\n",
        "To calculate the fare, we first convert the `ride_distance` from metres to mile and convert the `ride_duration` from seconds to minutes."
      ]
    },
    {
      "cell_type": "code",
      "metadata": {
        "id": "_TBlYfSjKMPg",
        "colab_type": "code",
        "colab": {}
      },
      "source": [
        "ride_ids['ride_distance'] = ride_ids['ride_distance'] / 1609.34\n",
        "\n",
        "ride_ids['ride_duration'] = ride_ids['ride_duration'] / 60"
      ],
      "execution_count": 0,
      "outputs": []
    },
    {
      "cell_type": "markdown",
      "metadata": {
        "id": "vC5Z7Tp-v2iA",
        "colab_type": "text"
      },
      "source": [
        "To calculate the fare, we employed the assumptions about the Lyft rate card in the prompt. The formula we use is as follows:\n",
        "\n",
        "(2 + 1.15 * total distance traveled + 0.22 * total time traveled) * (1 + (prime time / 100)) + 1.75\n",
        "\n",
        "After calculating the fare, we limited the lower bound of the fare to 5 USD and the upper of the fare to 400 USD."
      ]
    },
    {
      "cell_type": "code",
      "metadata": {
        "id": "QOHxvBXULKev",
        "colab_type": "code",
        "outputId": "f296289d-119d-4aa9-80b1-3349dd6a8328",
        "colab": {
          "base_uri": "https://localhost:8080/",
          "height": 173
        }
      },
      "source": [
        "ride_ids['fare'] = (2 + \n",
        "                     ride_ids['ride_distance'] * 1.15 + \n",
        "                     ride_ids['ride_duration'] * 0.22) * \\\n",
        "                    ((ride_ids['ride_prime_time'] + 100) / 100) \\\n",
        "                    + 1.75 \n",
        "\n",
        "ride_ids['fare'].describe()\n",
        "\n",
        "def limit_bound(fare):\n",
        "    return min(max(5, fare), 400)\n",
        "\n",
        "ride_ids['fare'] = ride_ids['fare'].apply(limit_bound)\n",
        "\n",
        "ride_ids['fare'].describe()"
      ],
      "execution_count": 30,
      "outputs": [
        {
          "output_type": "execute_result",
          "data": {
            "text/plain": [
              "count    193502.000000\n",
              "mean         13.536544\n",
              "std           9.881417\n",
              "min           5.000000\n",
              "25%           8.036033\n",
              "50%          10.571234\n",
              "75%          15.115603\n",
              "max         400.000000\n",
              "Name: fare, dtype: float64"
            ]
          },
          "metadata": {
            "tags": []
          },
          "execution_count": 30
        }
      ]
    },
    {
      "cell_type": "code",
      "metadata": {
        "id": "7ougAvOzBDLR",
        "colab_type": "code",
        "outputId": "48e86039-591b-4bab-f541-028d01a03644",
        "colab": {
          "base_uri": "https://localhost:8080/",
          "height": 198
        }
      },
      "source": [
        "fare_g = ride_ids.groupby('driver_id')['fare'].sum()\n",
        "\n",
        "fare_g = fare_g.reset_index()\n",
        "\n",
        "fare_g.sort_values(by='fare', ascending=False).head()"
      ],
      "execution_count": 31,
      "outputs": [
        {
          "output_type": "execute_result",
          "data": {
            "text/html": [
              "<div>\n",
              "<style scoped>\n",
              "    .dataframe tbody tr th:only-of-type {\n",
              "        vertical-align: middle;\n",
              "    }\n",
              "\n",
              "    .dataframe tbody tr th {\n",
              "        vertical-align: top;\n",
              "    }\n",
              "\n",
              "    .dataframe thead th {\n",
              "        text-align: right;\n",
              "    }\n",
              "</style>\n",
              "<table border=\"1\" class=\"dataframe\">\n",
              "  <thead>\n",
              "    <tr style=\"text-align: right;\">\n",
              "      <th></th>\n",
              "      <th>driver_id</th>\n",
              "      <th>fare</th>\n",
              "    </tr>\n",
              "  </thead>\n",
              "  <tbody>\n",
              "    <tr>\n",
              "      <th>354</th>\n",
              "      <td>5ccc0e6dc9c7475caf785cdce7b8eb7a</td>\n",
              "      <td>12350.288077</td>\n",
              "    </tr>\n",
              "    <tr>\n",
              "      <th>217</th>\n",
              "      <td>3788dc9e91f1548816ce8b5af07ddadc</td>\n",
              "      <td>12304.887351</td>\n",
              "    </tr>\n",
              "    <tr>\n",
              "      <th>308</th>\n",
              "      <td>4eb382d1f7d50fae1294964263d1ce82</td>\n",
              "      <td>10781.942344</td>\n",
              "    </tr>\n",
              "    <tr>\n",
              "      <th>412</th>\n",
              "      <td>6b65c06851e944351dd285a1eb729499</td>\n",
              "      <td>10708.943770</td>\n",
              "    </tr>\n",
              "    <tr>\n",
              "      <th>509</th>\n",
              "      <td>844e9be5a30d8d9c1f8e9ddb086ff717</td>\n",
              "      <td>10613.901682</td>\n",
              "    </tr>\n",
              "  </tbody>\n",
              "</table>\n",
              "</div>"
            ],
            "text/plain": [
              "                            driver_id          fare\n",
              "354  5ccc0e6dc9c7475caf785cdce7b8eb7a  12350.288077\n",
              "217  3788dc9e91f1548816ce8b5af07ddadc  12304.887351\n",
              "308  4eb382d1f7d50fae1294964263d1ce82  10781.942344\n",
              "412  6b65c06851e944351dd285a1eb729499  10708.943770\n",
              "509  844e9be5a30d8d9c1f8e9ddb086ff717  10613.901682"
            ]
          },
          "metadata": {
            "tags": []
          },
          "execution_count": 31
        }
      ]
    },
    {
      "cell_type": "markdown",
      "metadata": {
        "id": "W_yheZxbvurs",
        "colab_type": "text"
      },
      "source": [
        "We then calculated the sum of the fare for each driver. This will be the total income generated by the driver.\n",
        "\n",
        "The higher a driver's `ride_prime_time`, the more her or she is valuable to Lyft since they help to meet passengers' demand. This could be another important feature for segmenting drivers. Since we are only interested in the mean of the nonzero `ride_prime_time` values and we do not want 0 values to distort the `ride_prime_time` lower, we replace all zeros with `NaN`."
      ]
    },
    {
      "cell_type": "code",
      "metadata": {
        "id": "LMx_o5hyLJ9N",
        "colab_type": "code",
        "outputId": "8ddc8a88-0416-43db-9408-60c269759ac8",
        "colab": {
          "base_uri": "https://localhost:8080/",
          "height": 198
        }
      },
      "source": [
        "# make the variable NaN to calculate mean\n",
        "ride_ids['ride_prime_time'].replace(0, np.nan, inplace=True)\n",
        "\n",
        "ride_prime_time_g = ride_ids.groupby('driver_id')['ride_prime_time'].mean()\n",
        "\n",
        "ride_prime_time_g = ride_prime_time_g.reset_index()\n",
        "\n",
        "ride_prime_time_g.sort_values(by='ride_prime_time', ascending=False).head()"
      ],
      "execution_count": 32,
      "outputs": [
        {
          "output_type": "execute_result",
          "data": {
            "text/html": [
              "<div>\n",
              "<style scoped>\n",
              "    .dataframe tbody tr th:only-of-type {\n",
              "        vertical-align: middle;\n",
              "    }\n",
              "\n",
              "    .dataframe tbody tr th {\n",
              "        vertical-align: top;\n",
              "    }\n",
              "\n",
              "    .dataframe thead th {\n",
              "        text-align: right;\n",
              "    }\n",
              "</style>\n",
              "<table border=\"1\" class=\"dataframe\">\n",
              "  <thead>\n",
              "    <tr style=\"text-align: right;\">\n",
              "      <th></th>\n",
              "      <th>driver_id</th>\n",
              "      <th>ride_prime_time</th>\n",
              "    </tr>\n",
              "  </thead>\n",
              "  <tbody>\n",
              "    <tr>\n",
              "      <th>807</th>\n",
              "      <td>dae249fc394c9bdf02f7d8bb1ff55733</td>\n",
              "      <td>146.875000</td>\n",
              "    </tr>\n",
              "    <tr>\n",
              "      <th>676</th>\n",
              "      <td>b2d3f2fb171a12cac427107690c10089</td>\n",
              "      <td>105.000000</td>\n",
              "    </tr>\n",
              "    <tr>\n",
              "      <th>420</th>\n",
              "      <td>6cb35e276085548f3f095a85aa63af7b</td>\n",
              "      <td>98.076923</td>\n",
              "    </tr>\n",
              "    <tr>\n",
              "      <th>443</th>\n",
              "      <td>7419cd5c573ff9994c0f8ff5d92b4408</td>\n",
              "      <td>91.071429</td>\n",
              "    </tr>\n",
              "    <tr>\n",
              "      <th>655</th>\n",
              "      <td>acd7dc6118befb6724aa3752d1cdbea1</td>\n",
              "      <td>90.277778</td>\n",
              "    </tr>\n",
              "  </tbody>\n",
              "</table>\n",
              "</div>"
            ],
            "text/plain": [
              "                            driver_id  ride_prime_time\n",
              "807  dae249fc394c9bdf02f7d8bb1ff55733       146.875000\n",
              "676  b2d3f2fb171a12cac427107690c10089       105.000000\n",
              "420  6cb35e276085548f3f095a85aa63af7b        98.076923\n",
              "443  7419cd5c573ff9994c0f8ff5d92b4408        91.071429\n",
              "655  acd7dc6118befb6724aa3752d1cdbea1        90.277778"
            ]
          },
          "metadata": {
            "tags": []
          },
          "execution_count": 32
        }
      ]
    },
    {
      "cell_type": "code",
      "metadata": {
        "id": "zQxmmNc73i-3",
        "colab_type": "code",
        "colab": {}
      },
      "source": [
        "# change back to original value\n",
        "ride_prime_time_g['ride_prime_time'].fillna(0, inplace=True)"
      ],
      "execution_count": 0,
      "outputs": []
    },
    {
      "cell_type": "markdown",
      "metadata": {
        "id": "1Fn1Y_IaHt2Q",
        "colab_type": "text"
      },
      "source": [
        "Merge both `driver_ids` and `driver_timestamps`."
      ]
    },
    {
      "cell_type": "code",
      "metadata": {
        "id": "GwEFjfENEOkf",
        "colab_type": "code",
        "outputId": "ec0155f1-2667-48c2-cdce-9d81c716adbb",
        "colab": {
          "base_uri": "https://localhost:8080/",
          "height": 305
        }
      },
      "source": [
        "ids_timestamps = pd.merge(ride_ids, ride_timestamps,\n",
        "                          left_on='ride_id',\n",
        "                          right_on='ride_id',\n",
        "                          how='outer')\n",
        "\n",
        "ids_timestamps = ids_timestamps.sort_values(by=['driver_id', 'timestamp'])\n",
        "\n",
        "ids_timestamps.head()"
      ],
      "execution_count": 34,
      "outputs": [
        {
          "output_type": "execute_result",
          "data": {
            "text/html": [
              "<div>\n",
              "<style scoped>\n",
              "    .dataframe tbody tr th:only-of-type {\n",
              "        vertical-align: middle;\n",
              "    }\n",
              "\n",
              "    .dataframe tbody tr th {\n",
              "        vertical-align: top;\n",
              "    }\n",
              "\n",
              "    .dataframe thead th {\n",
              "        text-align: right;\n",
              "    }\n",
              "</style>\n",
              "<table border=\"1\" class=\"dataframe\">\n",
              "  <thead>\n",
              "    <tr style=\"text-align: right;\">\n",
              "      <th></th>\n",
              "      <th>driver_id</th>\n",
              "      <th>ride_id</th>\n",
              "      <th>ride_distance</th>\n",
              "      <th>ride_duration</th>\n",
              "      <th>ride_prime_time</th>\n",
              "      <th>fare</th>\n",
              "      <th>event</th>\n",
              "      <th>timestamp</th>\n",
              "      <th>timestampMonth</th>\n",
              "      <th>timestampWeek</th>\n",
              "      <th>timestampDay</th>\n",
              "      <th>timestampDayofweek</th>\n",
              "      <th>timestampDayofyear</th>\n",
              "      <th>timestampHour</th>\n",
              "      <th>timestampMinute</th>\n",
              "      <th>timestampElapsed</th>\n",
              "      <th>pickup_window</th>\n",
              "    </tr>\n",
              "  </thead>\n",
              "  <tbody>\n",
              "    <tr>\n",
              "      <th>1235</th>\n",
              "      <td>002be0ffdc997bd5c50703158b7c2491</td>\n",
              "      <td>e228d93dc13a2a9d83661321992cd48e</td>\n",
              "      <td>1.541004</td>\n",
              "      <td>5.766667</td>\n",
              "      <td>NaN</td>\n",
              "      <td>6.790822</td>\n",
              "      <td>requested_at</td>\n",
              "      <td>2016-03-29 18:46:50</td>\n",
              "      <td>3.0</td>\n",
              "      <td>13.0</td>\n",
              "      <td>29.0</td>\n",
              "      <td>1.0</td>\n",
              "      <td>89.0</td>\n",
              "      <td>18.0</td>\n",
              "      <td>46.0</td>\n",
              "      <td>1.459277e+09</td>\n",
              "      <td>0.0</td>\n",
              "    </tr>\n",
              "    <tr>\n",
              "      <th>1236</th>\n",
              "      <td>002be0ffdc997bd5c50703158b7c2491</td>\n",
              "      <td>e228d93dc13a2a9d83661321992cd48e</td>\n",
              "      <td>1.541004</td>\n",
              "      <td>5.766667</td>\n",
              "      <td>NaN</td>\n",
              "      <td>6.790822</td>\n",
              "      <td>accepted_at</td>\n",
              "      <td>2016-03-29 18:47:01</td>\n",
              "      <td>3.0</td>\n",
              "      <td>13.0</td>\n",
              "      <td>29.0</td>\n",
              "      <td>1.0</td>\n",
              "      <td>89.0</td>\n",
              "      <td>18.0</td>\n",
              "      <td>47.0</td>\n",
              "      <td>1.459277e+09</td>\n",
              "      <td>11.0</td>\n",
              "    </tr>\n",
              "    <tr>\n",
              "      <th>1237</th>\n",
              "      <td>002be0ffdc997bd5c50703158b7c2491</td>\n",
              "      <td>e228d93dc13a2a9d83661321992cd48e</td>\n",
              "      <td>1.541004</td>\n",
              "      <td>5.766667</td>\n",
              "      <td>NaN</td>\n",
              "      <td>6.790822</td>\n",
              "      <td>arrived_at</td>\n",
              "      <td>2016-03-29 18:50:00</td>\n",
              "      <td>3.0</td>\n",
              "      <td>13.0</td>\n",
              "      <td>29.0</td>\n",
              "      <td>1.0</td>\n",
              "      <td>89.0</td>\n",
              "      <td>18.0</td>\n",
              "      <td>50.0</td>\n",
              "      <td>1.459277e+09</td>\n",
              "      <td>190.0</td>\n",
              "    </tr>\n",
              "    <tr>\n",
              "      <th>1238</th>\n",
              "      <td>002be0ffdc997bd5c50703158b7c2491</td>\n",
              "      <td>e228d93dc13a2a9d83661321992cd48e</td>\n",
              "      <td>1.541004</td>\n",
              "      <td>5.766667</td>\n",
              "      <td>NaN</td>\n",
              "      <td>6.790822</td>\n",
              "      <td>picked_up_at</td>\n",
              "      <td>2016-03-29 18:50:01</td>\n",
              "      <td>3.0</td>\n",
              "      <td>13.0</td>\n",
              "      <td>29.0</td>\n",
              "      <td>1.0</td>\n",
              "      <td>89.0</td>\n",
              "      <td>18.0</td>\n",
              "      <td>50.0</td>\n",
              "      <td>1.459277e+09</td>\n",
              "      <td>191.0</td>\n",
              "    </tr>\n",
              "    <tr>\n",
              "      <th>1239</th>\n",
              "      <td>002be0ffdc997bd5c50703158b7c2491</td>\n",
              "      <td>e228d93dc13a2a9d83661321992cd48e</td>\n",
              "      <td>1.541004</td>\n",
              "      <td>5.766667</td>\n",
              "      <td>NaN</td>\n",
              "      <td>6.790822</td>\n",
              "      <td>dropped_off_at</td>\n",
              "      <td>2016-03-29 18:55:47</td>\n",
              "      <td>3.0</td>\n",
              "      <td>13.0</td>\n",
              "      <td>29.0</td>\n",
              "      <td>1.0</td>\n",
              "      <td>89.0</td>\n",
              "      <td>18.0</td>\n",
              "      <td>55.0</td>\n",
              "      <td>1.459278e+09</td>\n",
              "      <td>537.0</td>\n",
              "    </tr>\n",
              "  </tbody>\n",
              "</table>\n",
              "</div>"
            ],
            "text/plain": [
              "                             driver_id  ... pickup_window\n",
              "1235  002be0ffdc997bd5c50703158b7c2491  ...           0.0\n",
              "1236  002be0ffdc997bd5c50703158b7c2491  ...          11.0\n",
              "1237  002be0ffdc997bd5c50703158b7c2491  ...         190.0\n",
              "1238  002be0ffdc997bd5c50703158b7c2491  ...         191.0\n",
              "1239  002be0ffdc997bd5c50703158b7c2491  ...         537.0\n",
              "\n",
              "[5 rows x 17 columns]"
            ]
          },
          "metadata": {
            "tags": []
          },
          "execution_count": 34
        }
      ]
    },
    {
      "cell_type": "markdown",
      "metadata": {
        "id": "BRTQSlCIQnA6",
        "colab_type": "text"
      },
      "source": [
        "Since part-time drivers should have a lower LTV compared to full-time drivers, we hypothesize that drivers who drive mainly on weekends are part-time drivers."
      ]
    },
    {
      "cell_type": "code",
      "metadata": {
        "id": "IUJi-EnCQsV1",
        "colab_type": "code",
        "outputId": "3d766d20-ea00-4529-dac9-3283dae79ba6",
        "colab": {
          "base_uri": "https://localhost:8080/",
          "height": 198
        }
      },
      "source": [
        "# Monday 0, Sunday 6\n",
        "ids_timestamps['is_weekday'] = 0 \n",
        "ids_timestamps.loc[ids_timestamps['timestampDayofweek'] < 5, 'is_weekday'] = 1\n",
        "\n",
        "weekday_drivers_g = ids_timestamps.groupby('driver_id')['is_weekday'].mean()\n",
        "\n",
        "weekday_drivers_g = weekday_drivers_g.reset_index()\n",
        "\n",
        "weekday_drivers_g.sort_values(by='is_weekday').head()"
      ],
      "execution_count": 35,
      "outputs": [
        {
          "output_type": "execute_result",
          "data": {
            "text/html": [
              "<div>\n",
              "<style scoped>\n",
              "    .dataframe tbody tr th:only-of-type {\n",
              "        vertical-align: middle;\n",
              "    }\n",
              "\n",
              "    .dataframe tbody tr th {\n",
              "        vertical-align: top;\n",
              "    }\n",
              "\n",
              "    .dataframe thead th {\n",
              "        text-align: right;\n",
              "    }\n",
              "</style>\n",
              "<table border=\"1\" class=\"dataframe\">\n",
              "  <thead>\n",
              "    <tr style=\"text-align: right;\">\n",
              "      <th></th>\n",
              "      <th>driver_id</th>\n",
              "      <th>is_weekday</th>\n",
              "    </tr>\n",
              "  </thead>\n",
              "  <tbody>\n",
              "    <tr>\n",
              "      <th>870</th>\n",
              "      <td>ea71f79a86672486e018deeb47a545ec</td>\n",
              "      <td>0.0</td>\n",
              "    </tr>\n",
              "    <tr>\n",
              "      <th>296</th>\n",
              "      <td>4bbf15c7280e29c1df6edd7bf6dfa56a</td>\n",
              "      <td>0.0</td>\n",
              "    </tr>\n",
              "    <tr>\n",
              "      <th>108</th>\n",
              "      <td>1cf6fa07dcec364af2acf257b2d3731e</td>\n",
              "      <td>0.0</td>\n",
              "    </tr>\n",
              "    <tr>\n",
              "      <th>732</th>\n",
              "      <td>c64e642876910be4a1f0b57404dc9710</td>\n",
              "      <td>0.0</td>\n",
              "    </tr>\n",
              "    <tr>\n",
              "      <th>210</th>\n",
              "      <td>364c929f1d6535aa17df83ebcb349e87</td>\n",
              "      <td>0.0</td>\n",
              "    </tr>\n",
              "  </tbody>\n",
              "</table>\n",
              "</div>"
            ],
            "text/plain": [
              "                            driver_id  is_weekday\n",
              "870  ea71f79a86672486e018deeb47a545ec         0.0\n",
              "296  4bbf15c7280e29c1df6edd7bf6dfa56a         0.0\n",
              "108  1cf6fa07dcec364af2acf257b2d3731e         0.0\n",
              "732  c64e642876910be4a1f0b57404dc9710         0.0\n",
              "210  364c929f1d6535aa17df83ebcb349e87         0.0"
            ]
          },
          "metadata": {
            "tags": []
          },
          "execution_count": 35
        }
      ]
    },
    {
      "cell_type": "code",
      "metadata": {
        "id": "u5lTsBKnQ0so",
        "colab_type": "code",
        "outputId": "5150f449-d444-4195-f5c8-2922b324d590",
        "colab": {
          "base_uri": "https://localhost:8080/",
          "height": 35
        }
      },
      "source": [
        "ids_timestamps[ids_timestamps['driver_id'] == 'ea71f79a86672486e018deeb47a545ec']['ride_id'].nunique()"
      ],
      "execution_count": 36,
      "outputs": [
        {
          "output_type": "execute_result",
          "data": {
            "text/plain": [
              "72"
            ]
          },
          "metadata": {
            "tags": []
          },
          "execution_count": 36
        }
      ]
    },
    {
      "cell_type": "markdown",
      "metadata": {
        "id": "7lWNA4fV6gro",
        "colab_type": "text"
      },
      "source": [
        "Driver `ea71f79a86672486e018deeb47a545ec` made 72 rides in the entire dataset and all rides only happen on weekends.\n",
        "\n",
        "Next, we look into drivers who prefer to drive in the morning v.s. drivers who prefer to drive at night. We define `is_late_ride` as rides that happen between 11:00 PM and 6:00 AM."
      ]
    },
    {
      "cell_type": "code",
      "metadata": {
        "id": "Uy3ObQ-iRadF",
        "colab_type": "code",
        "outputId": "f4772b9a-c191-452a-a94c-030bf6ec9ff7",
        "colab": {
          "base_uri": "https://localhost:8080/",
          "height": 198
        }
      },
      "source": [
        "ids_timestamps['is_late_ride'] = 0 \n",
        "ids_timestamps.loc[(ids_timestamps['timestampHour'] >= 23) |\n",
        "                   (ids_timestamps['timestampHour'] <= 6), \n",
        "                   'is_late_ride'] = 1\n",
        "\n",
        "is_late_ride_g = ids_timestamps.groupby('driver_id')['is_late_ride'].mean()\n",
        "\n",
        "is_late_ride_g = is_late_ride_g.reset_index()\n",
        "\n",
        "is_late_ride_g.sort_values(by='is_late_ride', ascending=False).head()"
      ],
      "execution_count": 37,
      "outputs": [
        {
          "output_type": "execute_result",
          "data": {
            "text/html": [
              "<div>\n",
              "<style scoped>\n",
              "    .dataframe tbody tr th:only-of-type {\n",
              "        vertical-align: middle;\n",
              "    }\n",
              "\n",
              "    .dataframe tbody tr th {\n",
              "        vertical-align: top;\n",
              "    }\n",
              "\n",
              "    .dataframe thead th {\n",
              "        text-align: right;\n",
              "    }\n",
              "</style>\n",
              "<table border=\"1\" class=\"dataframe\">\n",
              "  <thead>\n",
              "    <tr style=\"text-align: right;\">\n",
              "      <th></th>\n",
              "      <th>driver_id</th>\n",
              "      <th>is_late_ride</th>\n",
              "    </tr>\n",
              "  </thead>\n",
              "  <tbody>\n",
              "    <tr>\n",
              "      <th>523</th>\n",
              "      <td>8969d175c4676642b245af55d2dba19b</td>\n",
              "      <td>0.903448</td>\n",
              "    </tr>\n",
              "    <tr>\n",
              "      <th>222</th>\n",
              "      <td>3857da988688981b67c878fc179eb0dc</td>\n",
              "      <td>0.898947</td>\n",
              "    </tr>\n",
              "    <tr>\n",
              "      <th>551</th>\n",
              "      <td>905f8007cd46415eba8b9dce088b4395</td>\n",
              "      <td>0.891892</td>\n",
              "    </tr>\n",
              "    <tr>\n",
              "      <th>466</th>\n",
              "      <td>793e2072826ee96904a5f03ae2357e96</td>\n",
              "      <td>0.873927</td>\n",
              "    </tr>\n",
              "    <tr>\n",
              "      <th>77</th>\n",
              "      <td>175540c364f94b6adbc0ce3541a3254a</td>\n",
              "      <td>0.870370</td>\n",
              "    </tr>\n",
              "  </tbody>\n",
              "</table>\n",
              "</div>"
            ],
            "text/plain": [
              "                            driver_id  is_late_ride\n",
              "523  8969d175c4676642b245af55d2dba19b      0.903448\n",
              "222  3857da988688981b67c878fc179eb0dc      0.898947\n",
              "551  905f8007cd46415eba8b9dce088b4395      0.891892\n",
              "466  793e2072826ee96904a5f03ae2357e96      0.873927\n",
              "77   175540c364f94b6adbc0ce3541a3254a      0.870370"
            ]
          },
          "metadata": {
            "tags": []
          },
          "execution_count": 37
        }
      ]
    },
    {
      "cell_type": "code",
      "metadata": {
        "id": "DKRKDmi8ScnP",
        "colab_type": "code",
        "outputId": "730227c8-9213-4713-a18a-2edea3ed45f5",
        "colab": {
          "base_uri": "https://localhost:8080/",
          "height": 35
        }
      },
      "source": [
        "ids_timestamps[ids_timestamps['driver_id'] == '3857da988688981b67c878fc179eb0dc']['ride_id'].nunique()"
      ],
      "execution_count": 38,
      "outputs": [
        {
          "output_type": "execute_result",
          "data": {
            "text/plain": [
              "190"
            ]
          },
          "metadata": {
            "tags": []
          },
          "execution_count": 38
        }
      ]
    },
    {
      "cell_type": "markdown",
      "metadata": {
        "id": "OupfKn02RZ1U",
        "colab_type": "text"
      },
      "source": [
        "Driver `3857da988688981b67c878fc179eb0dc` completed 190 rides in the entire dataset and on most of the rides are completed at night.\n",
        "\n",
        "Next, we create a feature `drop_requested_lag` to measure how fast do drivers pick up the next ride after they drop off passengers. The feature `drop_requested_lag` only considers same day pickups. So there exists a condition that a driver only picks up a passenger a day and this might lead to low `drop_requested_lag` value."
      ]
    },
    {
      "cell_type": "code",
      "metadata": {
        "id": "t3tq5PjsIPbV",
        "colab_type": "code",
        "outputId": "c98d7583-063b-484f-aa29-9061d5132c01",
        "colab": {
          "base_uri": "https://localhost:8080/",
          "height": 446
        }
      },
      "source": [
        "# shift the timestamp down 1 row\n",
        "# and subtract the timestamp_shift from timestamp\n",
        "# to measure the lag between a dropoff and request time\n",
        "# since most request time is relatively close to pickup time\n",
        "# this can be a good proxy\n",
        "ids_timestamps['timestamp_shift'] = ids_timestamps.groupby('driver_id')['timestamp'].apply(lambda o: o.shift())\n",
        "\n",
        "ids_timestamps['delta_timestamp'] = ids_timestamps['timestamp'] - ids_timestamps['timestamp_shift']\n",
        "\n",
        "ids_timestamps.head(8)"
      ],
      "execution_count": 39,
      "outputs": [
        {
          "output_type": "execute_result",
          "data": {
            "text/html": [
              "<div>\n",
              "<style scoped>\n",
              "    .dataframe tbody tr th:only-of-type {\n",
              "        vertical-align: middle;\n",
              "    }\n",
              "\n",
              "    .dataframe tbody tr th {\n",
              "        vertical-align: top;\n",
              "    }\n",
              "\n",
              "    .dataframe thead th {\n",
              "        text-align: right;\n",
              "    }\n",
              "</style>\n",
              "<table border=\"1\" class=\"dataframe\">\n",
              "  <thead>\n",
              "    <tr style=\"text-align: right;\">\n",
              "      <th></th>\n",
              "      <th>driver_id</th>\n",
              "      <th>ride_id</th>\n",
              "      <th>ride_distance</th>\n",
              "      <th>ride_duration</th>\n",
              "      <th>ride_prime_time</th>\n",
              "      <th>fare</th>\n",
              "      <th>event</th>\n",
              "      <th>timestamp</th>\n",
              "      <th>timestampMonth</th>\n",
              "      <th>timestampWeek</th>\n",
              "      <th>timestampDay</th>\n",
              "      <th>timestampDayofweek</th>\n",
              "      <th>timestampDayofyear</th>\n",
              "      <th>timestampHour</th>\n",
              "      <th>timestampMinute</th>\n",
              "      <th>timestampElapsed</th>\n",
              "      <th>pickup_window</th>\n",
              "      <th>is_weekday</th>\n",
              "      <th>is_late_ride</th>\n",
              "      <th>timestamp_shift</th>\n",
              "      <th>delta_timestamp</th>\n",
              "    </tr>\n",
              "  </thead>\n",
              "  <tbody>\n",
              "    <tr>\n",
              "      <th>1235</th>\n",
              "      <td>002be0ffdc997bd5c50703158b7c2491</td>\n",
              "      <td>e228d93dc13a2a9d83661321992cd48e</td>\n",
              "      <td>1.541004</td>\n",
              "      <td>5.766667</td>\n",
              "      <td>NaN</td>\n",
              "      <td>6.790822</td>\n",
              "      <td>requested_at</td>\n",
              "      <td>2016-03-29 18:46:50</td>\n",
              "      <td>3.0</td>\n",
              "      <td>13.0</td>\n",
              "      <td>29.0</td>\n",
              "      <td>1.0</td>\n",
              "      <td>89.0</td>\n",
              "      <td>18.0</td>\n",
              "      <td>46.0</td>\n",
              "      <td>1.459277e+09</td>\n",
              "      <td>0.0</td>\n",
              "      <td>1</td>\n",
              "      <td>0</td>\n",
              "      <td>NaT</td>\n",
              "      <td>NaT</td>\n",
              "    </tr>\n",
              "    <tr>\n",
              "      <th>1236</th>\n",
              "      <td>002be0ffdc997bd5c50703158b7c2491</td>\n",
              "      <td>e228d93dc13a2a9d83661321992cd48e</td>\n",
              "      <td>1.541004</td>\n",
              "      <td>5.766667</td>\n",
              "      <td>NaN</td>\n",
              "      <td>6.790822</td>\n",
              "      <td>accepted_at</td>\n",
              "      <td>2016-03-29 18:47:01</td>\n",
              "      <td>3.0</td>\n",
              "      <td>13.0</td>\n",
              "      <td>29.0</td>\n",
              "      <td>1.0</td>\n",
              "      <td>89.0</td>\n",
              "      <td>18.0</td>\n",
              "      <td>47.0</td>\n",
              "      <td>1.459277e+09</td>\n",
              "      <td>11.0</td>\n",
              "      <td>1</td>\n",
              "      <td>0</td>\n",
              "      <td>2016-03-29 18:46:50</td>\n",
              "      <td>00:00:11</td>\n",
              "    </tr>\n",
              "    <tr>\n",
              "      <th>1237</th>\n",
              "      <td>002be0ffdc997bd5c50703158b7c2491</td>\n",
              "      <td>e228d93dc13a2a9d83661321992cd48e</td>\n",
              "      <td>1.541004</td>\n",
              "      <td>5.766667</td>\n",
              "      <td>NaN</td>\n",
              "      <td>6.790822</td>\n",
              "      <td>arrived_at</td>\n",
              "      <td>2016-03-29 18:50:00</td>\n",
              "      <td>3.0</td>\n",
              "      <td>13.0</td>\n",
              "      <td>29.0</td>\n",
              "      <td>1.0</td>\n",
              "      <td>89.0</td>\n",
              "      <td>18.0</td>\n",
              "      <td>50.0</td>\n",
              "      <td>1.459277e+09</td>\n",
              "      <td>190.0</td>\n",
              "      <td>1</td>\n",
              "      <td>0</td>\n",
              "      <td>2016-03-29 18:47:01</td>\n",
              "      <td>00:02:59</td>\n",
              "    </tr>\n",
              "    <tr>\n",
              "      <th>1238</th>\n",
              "      <td>002be0ffdc997bd5c50703158b7c2491</td>\n",
              "      <td>e228d93dc13a2a9d83661321992cd48e</td>\n",
              "      <td>1.541004</td>\n",
              "      <td>5.766667</td>\n",
              "      <td>NaN</td>\n",
              "      <td>6.790822</td>\n",
              "      <td>picked_up_at</td>\n",
              "      <td>2016-03-29 18:50:01</td>\n",
              "      <td>3.0</td>\n",
              "      <td>13.0</td>\n",
              "      <td>29.0</td>\n",
              "      <td>1.0</td>\n",
              "      <td>89.0</td>\n",
              "      <td>18.0</td>\n",
              "      <td>50.0</td>\n",
              "      <td>1.459277e+09</td>\n",
              "      <td>191.0</td>\n",
              "      <td>1</td>\n",
              "      <td>0</td>\n",
              "      <td>2016-03-29 18:50:00</td>\n",
              "      <td>00:00:01</td>\n",
              "    </tr>\n",
              "    <tr>\n",
              "      <th>1239</th>\n",
              "      <td>002be0ffdc997bd5c50703158b7c2491</td>\n",
              "      <td>e228d93dc13a2a9d83661321992cd48e</td>\n",
              "      <td>1.541004</td>\n",
              "      <td>5.766667</td>\n",
              "      <td>NaN</td>\n",
              "      <td>6.790822</td>\n",
              "      <td>dropped_off_at</td>\n",
              "      <td>2016-03-29 18:55:47</td>\n",
              "      <td>3.0</td>\n",
              "      <td>13.0</td>\n",
              "      <td>29.0</td>\n",
              "      <td>1.0</td>\n",
              "      <td>89.0</td>\n",
              "      <td>18.0</td>\n",
              "      <td>55.0</td>\n",
              "      <td>1.459278e+09</td>\n",
              "      <td>537.0</td>\n",
              "      <td>1</td>\n",
              "      <td>0</td>\n",
              "      <td>2016-03-29 18:50:01</td>\n",
              "      <td>00:05:46</td>\n",
              "    </tr>\n",
              "    <tr>\n",
              "      <th>5</th>\n",
              "      <td>002be0ffdc997bd5c50703158b7c2491</td>\n",
              "      <td>01b522c5c3a756fbdb12e95e87507eda</td>\n",
              "      <td>2.089055</td>\n",
              "      <td>13.483333</td>\n",
              "      <td>NaN</td>\n",
              "      <td>9.118747</td>\n",
              "      <td>requested_at</td>\n",
              "      <td>2016-03-29 19:00:49</td>\n",
              "      <td>3.0</td>\n",
              "      <td>13.0</td>\n",
              "      <td>29.0</td>\n",
              "      <td>1.0</td>\n",
              "      <td>89.0</td>\n",
              "      <td>19.0</td>\n",
              "      <td>0.0</td>\n",
              "      <td>1.459278e+09</td>\n",
              "      <td>0.0</td>\n",
              "      <td>1</td>\n",
              "      <td>0</td>\n",
              "      <td>2016-03-29 18:55:47</td>\n",
              "      <td>00:05:02</td>\n",
              "    </tr>\n",
              "    <tr>\n",
              "      <th>6</th>\n",
              "      <td>002be0ffdc997bd5c50703158b7c2491</td>\n",
              "      <td>01b522c5c3a756fbdb12e95e87507eda</td>\n",
              "      <td>2.089055</td>\n",
              "      <td>13.483333</td>\n",
              "      <td>NaN</td>\n",
              "      <td>9.118747</td>\n",
              "      <td>accepted_at</td>\n",
              "      <td>2016-03-29 19:00:52</td>\n",
              "      <td>3.0</td>\n",
              "      <td>13.0</td>\n",
              "      <td>29.0</td>\n",
              "      <td>1.0</td>\n",
              "      <td>89.0</td>\n",
              "      <td>19.0</td>\n",
              "      <td>0.0</td>\n",
              "      <td>1.459278e+09</td>\n",
              "      <td>3.0</td>\n",
              "      <td>1</td>\n",
              "      <td>0</td>\n",
              "      <td>2016-03-29 19:00:49</td>\n",
              "      <td>00:00:03</td>\n",
              "    </tr>\n",
              "    <tr>\n",
              "      <th>7</th>\n",
              "      <td>002be0ffdc997bd5c50703158b7c2491</td>\n",
              "      <td>01b522c5c3a756fbdb12e95e87507eda</td>\n",
              "      <td>2.089055</td>\n",
              "      <td>13.483333</td>\n",
              "      <td>NaN</td>\n",
              "      <td>9.118747</td>\n",
              "      <td>arrived_at</td>\n",
              "      <td>2016-03-29 19:03:57</td>\n",
              "      <td>3.0</td>\n",
              "      <td>13.0</td>\n",
              "      <td>29.0</td>\n",
              "      <td>1.0</td>\n",
              "      <td>89.0</td>\n",
              "      <td>19.0</td>\n",
              "      <td>3.0</td>\n",
              "      <td>1.459278e+09</td>\n",
              "      <td>188.0</td>\n",
              "      <td>1</td>\n",
              "      <td>0</td>\n",
              "      <td>2016-03-29 19:00:52</td>\n",
              "      <td>00:03:05</td>\n",
              "    </tr>\n",
              "  </tbody>\n",
              "</table>\n",
              "</div>"
            ],
            "text/plain": [
              "                             driver_id  ... delta_timestamp\n",
              "1235  002be0ffdc997bd5c50703158b7c2491  ...             NaT\n",
              "1236  002be0ffdc997bd5c50703158b7c2491  ...        00:00:11\n",
              "1237  002be0ffdc997bd5c50703158b7c2491  ...        00:02:59\n",
              "1238  002be0ffdc997bd5c50703158b7c2491  ...        00:00:01\n",
              "1239  002be0ffdc997bd5c50703158b7c2491  ...        00:05:46\n",
              "5     002be0ffdc997bd5c50703158b7c2491  ...        00:05:02\n",
              "6     002be0ffdc997bd5c50703158b7c2491  ...        00:00:03\n",
              "7     002be0ffdc997bd5c50703158b7c2491  ...        00:03:05\n",
              "\n",
              "[8 rows x 21 columns]"
            ]
          },
          "metadata": {
            "tags": []
          },
          "execution_count": 39
        }
      ]
    },
    {
      "cell_type": "code",
      "metadata": {
        "id": "2mv33H6M5MPb",
        "colab_type": "code",
        "colab": {}
      },
      "source": [
        "ids_timestamps.loc[(ids_timestamps['event'] == 'requested_at') &\n",
        "                   (~ids_timestamps['delta_timestamp'].isna()), 'drop_requested_lag'] = 1\n",
        "\n",
        "ids_timestamps['drop_requested_lag'].fillna(0, inplace=True)\n",
        "\n",
        "ids_timestamps['drop_requested_lag'] = ids_timestamps['drop_requested_lag'] * ids_timestamps['delta_timestamp']\n",
        "\n",
        "ids_timestamps['drop_requested_lag'] = ids_timestamps['drop_requested_lag'].apply(lambda o: o.total_seconds())\n",
        "\n",
        "ids_timestamps.loc[ids_timestamps['delta_timestamp'].dt.days > 0, 'drop_requested_lag'] = np.nan"
      ],
      "execution_count": 0,
      "outputs": []
    },
    {
      "cell_type": "code",
      "metadata": {
        "id": "23A8mKhbvIVw",
        "colab_type": "code",
        "outputId": "bda196f1-1e14-4807-c9ac-4a4a7db8108c",
        "colab": {
          "base_uri": "https://localhost:8080/",
          "height": 198
        }
      },
      "source": [
        "filtered_requested_at = ids_timestamps[ids_timestamps['event'] == 'requested_at']\n",
        "\n",
        "drop_requested_lag_g = filtered_requested_at.groupby('driver_id')['drop_requested_lag'].mean()\n",
        "\n",
        "drop_requested_lag_g = drop_requested_lag_g.reset_index()\n",
        "\n",
        "drop_requested_lag_g.sort_values(by='drop_requested_lag').head()"
      ],
      "execution_count": 41,
      "outputs": [
        {
          "output_type": "execute_result",
          "data": {
            "text/html": [
              "<div>\n",
              "<style scoped>\n",
              "    .dataframe tbody tr th:only-of-type {\n",
              "        vertical-align: middle;\n",
              "    }\n",
              "\n",
              "    .dataframe tbody tr th {\n",
              "        vertical-align: top;\n",
              "    }\n",
              "\n",
              "    .dataframe thead th {\n",
              "        text-align: right;\n",
              "    }\n",
              "</style>\n",
              "<table border=\"1\" class=\"dataframe\">\n",
              "  <thead>\n",
              "    <tr style=\"text-align: right;\">\n",
              "      <th></th>\n",
              "      <th>driver_id</th>\n",
              "      <th>drop_requested_lag</th>\n",
              "    </tr>\n",
              "  </thead>\n",
              "  <tbody>\n",
              "    <tr>\n",
              "      <th>441</th>\n",
              "      <td>7ff85c5c0e9324e28d1e0d0589c364bd</td>\n",
              "      <td>181.000000</td>\n",
              "    </tr>\n",
              "    <tr>\n",
              "      <th>526</th>\n",
              "      <td>9a54684a69721c1075c2af5fc077665b</td>\n",
              "      <td>754.351351</td>\n",
              "    </tr>\n",
              "    <tr>\n",
              "      <th>495</th>\n",
              "      <td>905f8007cd46415eba8b9dce088b4395</td>\n",
              "      <td>936.774194</td>\n",
              "    </tr>\n",
              "    <tr>\n",
              "      <th>226</th>\n",
              "      <td>42256e33936dfa69088f540a720edc97</td>\n",
              "      <td>942.870968</td>\n",
              "    </tr>\n",
              "    <tr>\n",
              "      <th>313</th>\n",
              "      <td>5cf93f7d1d3a8f0cf395c84053c31b1b</td>\n",
              "      <td>976.818182</td>\n",
              "    </tr>\n",
              "  </tbody>\n",
              "</table>\n",
              "</div>"
            ],
            "text/plain": [
              "                            driver_id  drop_requested_lag\n",
              "441  7ff85c5c0e9324e28d1e0d0589c364bd          181.000000\n",
              "526  9a54684a69721c1075c2af5fc077665b          754.351351\n",
              "495  905f8007cd46415eba8b9dce088b4395          936.774194\n",
              "226  42256e33936dfa69088f540a720edc97          942.870968\n",
              "313  5cf93f7d1d3a8f0cf395c84053c31b1b          976.818182"
            ]
          },
          "metadata": {
            "tags": []
          },
          "execution_count": 41
        }
      ]
    },
    {
      "cell_type": "markdown",
      "metadata": {
        "id": "HGpx-5u03PK1",
        "colab_type": "text"
      },
      "source": [
        "Merge `ids_timestamps` with `driver_id`."
      ]
    },
    {
      "cell_type": "code",
      "metadata": {
        "id": "VPt21fowyAoe",
        "colab_type": "code",
        "colab": {}
      },
      "source": [
        "df = pd.merge(ids_timestamps, driver_ids,\n",
        "              left_on='driver_id', right_on='driver_id')"
      ],
      "execution_count": 0,
      "outputs": []
    },
    {
      "cell_type": "markdown",
      "metadata": {
        "id": "YjEL_RGl7H7X",
        "colab_type": "text"
      },
      "source": [
        "To calculate how many actual days did the driver drive, we calculate the number of unique days the driver has activity."
      ]
    },
    {
      "cell_type": "code",
      "metadata": {
        "id": "cE45wQs6Zc7f",
        "colab_type": "code",
        "outputId": "79a8484e-b110-4e90-ef3d-33b38725943e",
        "colab": {
          "base_uri": "https://localhost:8080/",
          "height": 198
        }
      },
      "source": [
        "df['date'] = df['timestamp'].dt.date\n",
        "\n",
        "unique_dates_g = df.groupby('driver_id')['date'].nunique()\n",
        "\n",
        "unique_dates_g = unique_dates_g.reset_index()\n",
        "\n",
        "unique_dates_g.rename(columns={'date': 'unique_days'}, inplace=True)\n",
        "\n",
        "unique_dates_g.head()"
      ],
      "execution_count": 43,
      "outputs": [
        {
          "output_type": "execute_result",
          "data": {
            "text/html": [
              "<div>\n",
              "<style scoped>\n",
              "    .dataframe tbody tr th:only-of-type {\n",
              "        vertical-align: middle;\n",
              "    }\n",
              "\n",
              "    .dataframe tbody tr th {\n",
              "        vertical-align: top;\n",
              "    }\n",
              "\n",
              "    .dataframe thead th {\n",
              "        text-align: right;\n",
              "    }\n",
              "</style>\n",
              "<table border=\"1\" class=\"dataframe\">\n",
              "  <thead>\n",
              "    <tr style=\"text-align: right;\">\n",
              "      <th></th>\n",
              "      <th>driver_id</th>\n",
              "      <th>unique_days</th>\n",
              "    </tr>\n",
              "  </thead>\n",
              "  <tbody>\n",
              "    <tr>\n",
              "      <th>0</th>\n",
              "      <td>002be0ffdc997bd5c50703158b7c2491</td>\n",
              "      <td>56</td>\n",
              "    </tr>\n",
              "    <tr>\n",
              "      <th>1</th>\n",
              "      <td>007f0389f9c7b03ef97098422f902e62</td>\n",
              "      <td>12</td>\n",
              "    </tr>\n",
              "    <tr>\n",
              "      <th>2</th>\n",
              "      <td>011e5c5dfc5c2c92501b8b24d47509bc</td>\n",
              "      <td>12</td>\n",
              "    </tr>\n",
              "    <tr>\n",
              "      <th>3</th>\n",
              "      <td>0152a2f305e71d26cc964f8d4411add9</td>\n",
              "      <td>42</td>\n",
              "    </tr>\n",
              "    <tr>\n",
              "      <th>4</th>\n",
              "      <td>01674381af7edd264113d4e6ed55ecda</td>\n",
              "      <td>40</td>\n",
              "    </tr>\n",
              "  </tbody>\n",
              "</table>\n",
              "</div>"
            ],
            "text/plain": [
              "                          driver_id  unique_days\n",
              "0  002be0ffdc997bd5c50703158b7c2491           56\n",
              "1  007f0389f9c7b03ef97098422f902e62           12\n",
              "2  011e5c5dfc5c2c92501b8b24d47509bc           12\n",
              "3  0152a2f305e71d26cc964f8d4411add9           42\n",
              "4  01674381af7edd264113d4e6ed55ecda           40"
            ]
          },
          "metadata": {
            "tags": []
          },
          "execution_count": 43
        }
      ]
    },
    {
      "cell_type": "markdown",
      "metadata": {
        "id": "pKoSRwy92Nlf",
        "colab_type": "text"
      },
      "source": [
        "Next, we create the feature `driving_period` to account for the duration between the last trip a driver made and the day the driver was onboard. "
      ]
    },
    {
      "cell_type": "code",
      "metadata": {
        "id": "AZ07lfwShLNr",
        "colab_type": "code",
        "colab": {}
      },
      "source": [
        "df['driving_period'] = (df.groupby('driver_id')['timestamp'].tail(1) - pd.to_datetime(df['driver_onboard_date'])).dt.days"
      ],
      "execution_count": 0,
      "outputs": []
    },
    {
      "cell_type": "markdown",
      "metadata": {
        "id": "7T4eVUdS2Py1",
        "colab_type": "text"
      },
      "source": [
        "To calculate the average churn rate, we first get the driver's last activity based on `timestamp` in `ride_timestamps`. Since the last day of the `timestamp` in `ride_timestamps` was 2016/06/27, we calculate the number of days since the driver's last activity with respect to the last day of the dataset. We assume drivers who have more than 7 days of inactivity have churned."
      ]
    },
    {
      "cell_type": "code",
      "metadata": {
        "id": "72iJkFp72RJo",
        "colab_type": "code",
        "colab": {}
      },
      "source": [
        "df['last_activity'] = (df['timestamp'].max() - df.groupby('driver_id')['timestamp'].tail(1)).dt.days\n",
        "\n",
        "last_activity_df = df.groupby('driver_id').tail(1)"
      ],
      "execution_count": 0,
      "outputs": []
    },
    {
      "cell_type": "code",
      "metadata": {
        "id": "dFbKva6fsoP6",
        "colab_type": "code",
        "outputId": "7da94a26-2a3f-4ec0-d9a1-f1e49215f2b0",
        "colab": {
          "base_uri": "https://localhost:8080/",
          "height": 35
        }
      },
      "source": [
        "len(last_activity_df[last_activity_df['last_activity'] > 7]), len(last_activity_df)"
      ],
      "execution_count": 46,
      "outputs": [
        {
          "output_type": "execute_result",
          "data": {
            "text/plain": [
              "(305, 854)"
            ]
          },
          "metadata": {
            "tags": []
          },
          "execution_count": 46
        }
      ]
    },
    {
      "cell_type": "code",
      "metadata": {
        "id": "IP6Hxa1TvgdQ",
        "colab_type": "code",
        "outputId": "3c8fc2e5-0458-4f33-bc3a-fc9213edc27f",
        "colab": {
          "base_uri": "https://localhost:8080/",
          "height": 35
        }
      },
      "source": [
        "t = pd.merge(ids_timestamps, driver_ids,\n",
        "              left_on='driver_id', right_on='driver_id', how='outer')\n",
        "\n",
        "t[t['driver_id'].isna()]['ride_id'].nunique()"
      ],
      "execution_count": 47,
      "outputs": [
        {
          "output_type": "execute_result",
          "data": {
            "text/plain": [
              "9262"
            ]
          },
          "metadata": {
            "tags": []
          },
          "execution_count": 47
        }
      ]
    },
    {
      "cell_type": "markdown",
      "metadata": {
        "id": "9oEOvPqIu0Db",
        "colab_type": "text"
      },
      "source": [
        "There are 305 drivers whose last activity was more than 7 days. Meanwhile, for the 83 drivers who have no record in `ride_timestamps`, all of them together completed 9,262 trips. We assume that they have not churned."
      ]
    },
    {
      "cell_type": "code",
      "metadata": {
        "id": "_24Psh333ZOH",
        "colab_type": "code",
        "outputId": "208e5043-bf7e-4636-a92e-78dd577e927b",
        "colab": {
          "base_uri": "https://localhost:8080/",
          "height": 35
        }
      },
      "source": [
        "churn_rate = len(last_activity_df[last_activity_df['last_activity'] > 7]) / len(last_activity_df)\n",
        "\n",
        "churn_rate"
      ],
      "execution_count": 48,
      "outputs": [
        {
          "output_type": "execute_result",
          "data": {
            "text/plain": [
              "0.35714285714285715"
            ]
          },
          "metadata": {
            "tags": []
          },
          "execution_count": 48
        }
      ]
    },
    {
      "cell_type": "markdown",
      "metadata": {
        "id": "lv0pJvb-Monh",
        "colab_type": "text"
      },
      "source": [
        "We proceed to create a bar plot of number of active drivers."
      ]
    },
    {
      "cell_type": "code",
      "metadata": {
        "id": "VFkTlpCFHOpQ",
        "colab_type": "code",
        "colab": {}
      },
      "source": [
        "first_day = ids_timestamps.groupby('driver_id')['timestamp'].min().reset_index()\n",
        "first_day.rename(columns={'timestamp': 'first_day'}, inplace=True)\n",
        "\n",
        "last_day = ids_timestamps.groupby('driver_id')['timestamp'].max().reset_index()\n",
        "last_day.rename(columns={'timestamp': 'last_day'}, inplace=True)\n",
        "\n",
        "first_last_day = pd.merge(first_day, last_day, on='driver_id')\n",
        "\n",
        "first_last_day.loc[((df['timestamp'].max() - first_last_day['last_day']).dt.days <= 7),\n",
        "                   'last_day'] = df['timestamp'].max()"
      ],
      "execution_count": 0,
      "outputs": []
    },
    {
      "cell_type": "code",
      "metadata": {
        "id": "PElwwrL1K97B",
        "colab_type": "code",
        "outputId": "e7392b5d-6fcb-41e8-890f-17bac2d4724f",
        "colab": {
          "base_uri": "https://localhost:8080/",
          "height": 198
        }
      },
      "source": [
        "first_last_day.head()"
      ],
      "execution_count": 50,
      "outputs": [
        {
          "output_type": "execute_result",
          "data": {
            "text/html": [
              "<div>\n",
              "<style scoped>\n",
              "    .dataframe tbody tr th:only-of-type {\n",
              "        vertical-align: middle;\n",
              "    }\n",
              "\n",
              "    .dataframe tbody tr th {\n",
              "        vertical-align: top;\n",
              "    }\n",
              "\n",
              "    .dataframe thead th {\n",
              "        text-align: right;\n",
              "    }\n",
              "</style>\n",
              "<table border=\"1\" class=\"dataframe\">\n",
              "  <thead>\n",
              "    <tr style=\"text-align: right;\">\n",
              "      <th></th>\n",
              "      <th>driver_id</th>\n",
              "      <th>first_day</th>\n",
              "      <th>last_day</th>\n",
              "    </tr>\n",
              "  </thead>\n",
              "  <tbody>\n",
              "    <tr>\n",
              "      <th>0</th>\n",
              "      <td>002be0ffdc997bd5c50703158b7c2491</td>\n",
              "      <td>2016-03-29 18:46:50</td>\n",
              "      <td>2016-06-27 00:50:50</td>\n",
              "    </tr>\n",
              "    <tr>\n",
              "      <th>1</th>\n",
              "      <td>007f0389f9c7b03ef97098422f902e62</td>\n",
              "      <td>2016-03-29 22:28:28</td>\n",
              "      <td>2016-06-27 00:50:50</td>\n",
              "    </tr>\n",
              "    <tr>\n",
              "      <th>2</th>\n",
              "      <td>011e5c5dfc5c2c92501b8b24d47509bc</td>\n",
              "      <td>2016-04-05 10:54:51</td>\n",
              "      <td>2016-06-12 20:30:38</td>\n",
              "    </tr>\n",
              "    <tr>\n",
              "      <th>3</th>\n",
              "      <td>0152a2f305e71d26cc964f8d4411add9</td>\n",
              "      <td>2016-04-25 15:59:20</td>\n",
              "      <td>2016-06-27 00:50:50</td>\n",
              "    </tr>\n",
              "    <tr>\n",
              "      <th>4</th>\n",
              "      <td>01674381af7edd264113d4e6ed55ecda</td>\n",
              "      <td>2016-04-29 07:50:40</td>\n",
              "      <td>2016-06-27 00:50:50</td>\n",
              "    </tr>\n",
              "  </tbody>\n",
              "</table>\n",
              "</div>"
            ],
            "text/plain": [
              "                          driver_id           first_day            last_day\n",
              "0  002be0ffdc997bd5c50703158b7c2491 2016-03-29 18:46:50 2016-06-27 00:50:50\n",
              "1  007f0389f9c7b03ef97098422f902e62 2016-03-29 22:28:28 2016-06-27 00:50:50\n",
              "2  011e5c5dfc5c2c92501b8b24d47509bc 2016-04-05 10:54:51 2016-06-12 20:30:38\n",
              "3  0152a2f305e71d26cc964f8d4411add9 2016-04-25 15:59:20 2016-06-27 00:50:50\n",
              "4  01674381af7edd264113d4e6ed55ecda 2016-04-29 07:50:40 2016-06-27 00:50:50"
            ]
          },
          "metadata": {
            "tags": []
          },
          "execution_count": 50
        }
      ]
    },
    {
      "cell_type": "code",
      "metadata": {
        "id": "sfwKcuYNJUDj",
        "colab_type": "code",
        "colab": {}
      },
      "source": [
        "from datetime import timedelta, date\n",
        "\n",
        "def daterange(start_date, end_date):\n",
        "    for n in range(int((end_date - start_date).days)):\n",
        "        yield start_date + timedelta(n)\n",
        "\n",
        "date_count = {}\n",
        "for day in daterange(first_last_day['first_day'].min(), first_last_day['last_day'].max()):\n",
        "    between = first_last_day[(first_last_day['first_day'] <= day) & (first_last_day['last_day'] >= day)]\n",
        "    date_count[day] = len(between)"
      ],
      "execution_count": 0,
      "outputs": []
    },
    {
      "cell_type": "code",
      "metadata": {
        "id": "A0IjqFY4JhwU",
        "colab_type": "code",
        "outputId": "1dff56a9-c88d-46be-844d-73b3abc23260",
        "colab": {
          "base_uri": "https://localhost:8080/",
          "height": 198
        }
      },
      "source": [
        "retention = pd.DataFrame(date_count.items())\n",
        "\n",
        "retention.rename(columns={0: 'date',\n",
        "                          1: 'num_drivers_onboard'}, inplace=True)\n",
        "\n",
        "retention['date'] = retention['date'].apply(lambda o: o.strftime('%m-%d'))\n",
        "\n",
        "retention.head()"
      ],
      "execution_count": 52,
      "outputs": [
        {
          "output_type": "execute_result",
          "data": {
            "text/html": [
              "<div>\n",
              "<style scoped>\n",
              "    .dataframe tbody tr th:only-of-type {\n",
              "        vertical-align: middle;\n",
              "    }\n",
              "\n",
              "    .dataframe tbody tr th {\n",
              "        vertical-align: top;\n",
              "    }\n",
              "\n",
              "    .dataframe thead th {\n",
              "        text-align: right;\n",
              "    }\n",
              "</style>\n",
              "<table border=\"1\" class=\"dataframe\">\n",
              "  <thead>\n",
              "    <tr style=\"text-align: right;\">\n",
              "      <th></th>\n",
              "      <th>date</th>\n",
              "      <th>num_drivers_onboard</th>\n",
              "    </tr>\n",
              "  </thead>\n",
              "  <tbody>\n",
              "    <tr>\n",
              "      <th>0</th>\n",
              "      <td>03-28</td>\n",
              "      <td>1</td>\n",
              "    </tr>\n",
              "    <tr>\n",
              "      <th>1</th>\n",
              "      <td>03-29</td>\n",
              "      <td>21</td>\n",
              "    </tr>\n",
              "    <tr>\n",
              "      <th>2</th>\n",
              "      <td>03-30</td>\n",
              "      <td>48</td>\n",
              "    </tr>\n",
              "    <tr>\n",
              "      <th>3</th>\n",
              "      <td>03-31</td>\n",
              "      <td>70</td>\n",
              "    </tr>\n",
              "    <tr>\n",
              "      <th>4</th>\n",
              "      <td>04-01</td>\n",
              "      <td>92</td>\n",
              "    </tr>\n",
              "  </tbody>\n",
              "</table>\n",
              "</div>"
            ],
            "text/plain": [
              "    date  num_drivers_onboard\n",
              "0  03-28                    1\n",
              "1  03-29                   21\n",
              "2  03-30                   48\n",
              "3  03-31                   70\n",
              "4  04-01                   92"
            ]
          },
          "metadata": {
            "tags": []
          },
          "execution_count": 52
        }
      ]
    },
    {
      "cell_type": "code",
      "metadata": {
        "id": "9NJGSSH6NCsN",
        "colab_type": "code",
        "outputId": "195ed39a-a65f-4418-c89b-11a78255dd33",
        "colab": {
          "base_uri": "https://localhost:8080/",
          "height": 424
        }
      },
      "source": [
        "plt.figure(figsize=(16,6))\n",
        "plt.title('Number of Active Drivers vs Day')\n",
        "sns.barplot(x=retention['date'],\n",
        "            y=retention['num_drivers_onboard'])\n",
        "plt.xticks(rotation=90)\n",
        "plt.show()"
      ],
      "execution_count": 53,
      "outputs": [
        {
          "output_type": "display_data",
          "data": {
            "image/png": "[encoded data removed]",
            "text/plain": [
              "<Figure size 1152x432 with 1 Axes>"
            ]
          },
          "metadata": {
            "tags": []
          }
        }
      ]
    },
    {
      "cell_type": "markdown",
      "metadata": {
        "id": "Bm1mEyj0M4wV",
        "colab_type": "text"
      },
      "source": [
        "The graph flattens out because we assumed drivers who have less than 7 days of inactivity have not churned, but rather, are taking a break.\n",
        "\n",
        "Since having days on the x-axis would be too compact, we also create a plot with week on the x-axis."
      ]
    },
    {
      "cell_type": "code",
      "metadata": {
        "id": "jB5hiEGfMGYU",
        "colab_type": "code",
        "colab": {}
      },
      "source": [
        "N = 7\n",
        "weekly_retention = retention.groupby(retention.index // N).mean()"
      ],
      "execution_count": 0,
      "outputs": []
    },
    {
      "cell_type": "code",
      "metadata": {
        "id": "AF4mHXSaJ50f",
        "colab_type": "code",
        "outputId": "a1015a59-674f-45e9-ddd7-42188d8ae513",
        "colab": {
          "base_uri": "https://localhost:8080/",
          "height": 390
        }
      },
      "source": [
        "plt.figure(figsize=(8,6))\n",
        "plt.title('Average Number of Drivers vs Week')\n",
        "sns.barplot(x=np.arange(len(weekly_retention)),\n",
        "            y=weekly_retention['num_drivers_onboard'])\n",
        "plt.show()"
      ],
      "execution_count": 55,
      "outputs": [
        {
          "output_type": "display_data",
          "data": {
            "image/png": "[encoded data removed]",
            "text/plain": [
              "<Figure size 576x432 with 1 Axes>"
            ]
          },
          "metadata": {
            "tags": []
          }
        }
      ]
    },
    {
      "cell_type": "code",
      "metadata": {
        "id": "wHrpXhjr29Eh",
        "colab_type": "code",
        "outputId": "5d4ba4fe-89e9-473b-9166-632d820a96f8",
        "colab": {
          "base_uri": "https://localhost:8080/",
          "height": 198
        }
      },
      "source": [
        "onboard_period = df[~df['driving_period'].isna()]\n",
        "\n",
        "onboard_period = onboard_period[['driver_id', 'driving_period']].copy()\n",
        "\n",
        "onboard_period.sort_values('driving_period').head()"
      ],
      "execution_count": 56,
      "outputs": [
        {
          "output_type": "execute_result",
          "data": {
            "text/html": [
              "<div>\n",
              "<style scoped>\n",
              "    .dataframe tbody tr th:only-of-type {\n",
              "        vertical-align: middle;\n",
              "    }\n",
              "\n",
              "    .dataframe tbody tr th {\n",
              "        vertical-align: top;\n",
              "    }\n",
              "\n",
              "    .dataframe thead th {\n",
              "        text-align: right;\n",
              "    }\n",
              "</style>\n",
              "<table border=\"1\" class=\"dataframe\">\n",
              "  <thead>\n",
              "    <tr style=\"text-align: right;\">\n",
              "      <th></th>\n",
              "      <th>driver_id</th>\n",
              "      <th>driving_period</th>\n",
              "    </tr>\n",
              "  </thead>\n",
              "  <tbody>\n",
              "    <tr>\n",
              "      <th>715947</th>\n",
              "      <td>bd057e02f75c92917389d90bb215fe91</td>\n",
              "      <td>1.0</td>\n",
              "    </tr>\n",
              "    <tr>\n",
              "      <th>404840</th>\n",
              "      <td>68b546b2f4102641d6774c1ce4f57457</td>\n",
              "      <td>1.0</td>\n",
              "    </tr>\n",
              "    <tr>\n",
              "      <th>429430</th>\n",
              "      <td>6eb2e0f41fc9f1fbb70e7751035fdf87</td>\n",
              "      <td>1.0</td>\n",
              "    </tr>\n",
              "    <tr>\n",
              "      <th>609573</th>\n",
              "      <td>a2334fdb829cf96fbae920df0cce1587</td>\n",
              "      <td>2.0</td>\n",
              "    </tr>\n",
              "    <tr>\n",
              "      <th>841116</th>\n",
              "      <td>e4f3a9d5cf57b9b518136afd9757f76d</td>\n",
              "      <td>3.0</td>\n",
              "    </tr>\n",
              "  </tbody>\n",
              "</table>\n",
              "</div>"
            ],
            "text/plain": [
              "                               driver_id  driving_period\n",
              "715947  bd057e02f75c92917389d90bb215fe91             1.0\n",
              "404840  68b546b2f4102641d6774c1ce4f57457             1.0\n",
              "429430  6eb2e0f41fc9f1fbb70e7751035fdf87             1.0\n",
              "609573  a2334fdb829cf96fbae920df0cce1587             2.0\n",
              "841116  e4f3a9d5cf57b9b518136afd9757f76d             3.0"
            ]
          },
          "metadata": {
            "tags": []
          },
          "execution_count": 56
        }
      ]
    },
    {
      "cell_type": "markdown",
      "metadata": {
        "id": "dGhl7Yfj2cKc",
        "colab_type": "text"
      },
      "source": [
        "## LTV\n",
        "We next calculate the LTV for drivers."
      ]
    },
    {
      "cell_type": "code",
      "metadata": {
        "id": "6ZUEkP8R3i9q",
        "colab_type": "code",
        "colab": {}
      },
      "source": [
        "ltv = ride_id_g\n",
        "\n",
        "to_merge = (drop_requested_lag_g, ride_prime_time_g, fare_g, \n",
        "            onboard_period, window_g, unique_dates_g,\n",
        "            weekday_drivers_g, is_late_ride_g)\n",
        "\n",
        "for ser in to_merge:\n",
        "    ltv = pd.merge(ltv, ser, on='driver_id', how='outer')"
      ],
      "execution_count": 0,
      "outputs": []
    },
    {
      "cell_type": "code",
      "metadata": {
        "id": "TYhRRdkTCBlt",
        "colab_type": "code",
        "outputId": "2e983831-7c3b-445c-ebd7-ca24045ec335",
        "colab": {
          "base_uri": "https://localhost:8080/",
          "height": 207
        }
      },
      "source": [
        "ltv.isna().sum()"
      ],
      "execution_count": 58,
      "outputs": [
        {
          "output_type": "execute_result",
          "data": {
            "text/plain": [
              "driver_id               0\n",
              "ride_count              0\n",
              "drop_requested_lag     94\n",
              "ride_prime_time         0\n",
              "fare                    0\n",
              "driving_period        101\n",
              "pickup_window          93\n",
              "unique_days            83\n",
              "is_weekday              0\n",
              "is_late_ride            0\n",
              "dtype: int64"
            ]
          },
          "metadata": {
            "tags": []
          },
          "execution_count": 58
        }
      ]
    },
    {
      "cell_type": "markdown",
      "metadata": {
        "id": "bJvQidifHuep",
        "colab_type": "text"
      },
      "source": [
        "It is hard to decide a driver's `drop_requested_lag` if he or she does not have any record of ride in `ride_timestamps`. Hence, we decide to impute the `drop_requested_lag`'s `NaN`s as the mean of all `drop_requested_lag`. Same goes for all features that require entries in `ride_timestamps` for calculation."
      ]
    },
    {
      "cell_type": "code",
      "metadata": {
        "id": "0loZNjfLFzDf",
        "colab_type": "code",
        "colab": {}
      },
      "source": [
        "ltv['driving_period'].fillna(ltv['driving_period'], inplace=True)\n",
        "\n",
        "ltv['drop_requested_lag'].fillna(ltv['drop_requested_lag'], inplace=True)\n",
        "\n",
        "ltv['pickup_window'].fillna(ltv['pickup_window'], inplace=True)\n",
        "\n",
        "ltv['unique_days'].fillna(ltv['unique_days'].mean(), inplace=True)\n",
        "ltv['unique_days'].replace(0, ltv['unique_days'].mean(), inplace=True)\n",
        "\n",
        "ltv['drop_requested_lag'].fillna(ltv['drop_requested_lag'].mean(), inplace=True)\n",
        "\n",
        "ltv['driving_period'].fillna(ltv['driving_period'].mean(), inplace=True)\n",
        "\n",
        "ltv['pickup_window'].fillna(ltv['pickup_window'].mean(), inplace=True)"
      ],
      "execution_count": 0,
      "outputs": []
    },
    {
      "cell_type": "code",
      "metadata": {
        "id": "dv05oHGQIaKv",
        "colab_type": "code",
        "outputId": "552e8a5f-e24b-4dde-d66a-b98cc73c1d39",
        "colab": {
          "base_uri": "https://localhost:8080/",
          "height": 218
        }
      },
      "source": [
        "ltv.head()"
      ],
      "execution_count": 60,
      "outputs": [
        {
          "output_type": "execute_result",
          "data": {
            "text/html": [
              "<div>\n",
              "<style scoped>\n",
              "    .dataframe tbody tr th:only-of-type {\n",
              "        vertical-align: middle;\n",
              "    }\n",
              "\n",
              "    .dataframe tbody tr th {\n",
              "        vertical-align: top;\n",
              "    }\n",
              "\n",
              "    .dataframe thead th {\n",
              "        text-align: right;\n",
              "    }\n",
              "</style>\n",
              "<table border=\"1\" class=\"dataframe\">\n",
              "  <thead>\n",
              "    <tr style=\"text-align: right;\">\n",
              "      <th></th>\n",
              "      <th>driver_id</th>\n",
              "      <th>ride_count</th>\n",
              "      <th>drop_requested_lag</th>\n",
              "      <th>ride_prime_time</th>\n",
              "      <th>fare</th>\n",
              "      <th>driving_period</th>\n",
              "      <th>pickup_window</th>\n",
              "      <th>unique_days</th>\n",
              "      <th>is_weekday</th>\n",
              "      <th>is_late_ride</th>\n",
              "    </tr>\n",
              "  </thead>\n",
              "  <tbody>\n",
              "    <tr>\n",
              "      <th>0</th>\n",
              "      <td>002be0ffdc997bd5c50703158b7c2491</td>\n",
              "      <td>277</td>\n",
              "      <td>6594.516129</td>\n",
              "      <td>48.863636</td>\n",
              "      <td>3560.926071</td>\n",
              "      <td>86.0</td>\n",
              "      <td>8.407942</td>\n",
              "      <td>56.0</td>\n",
              "      <td>0.769675</td>\n",
              "      <td>0.238989</td>\n",
              "    </tr>\n",
              "    <tr>\n",
              "      <th>1</th>\n",
              "      <td>007f0389f9c7b03ef97098422f902e62</td>\n",
              "      <td>31</td>\n",
              "      <td>4615.550000</td>\n",
              "      <td>52.083333</td>\n",
              "      <td>321.494948</td>\n",
              "      <td>85.0</td>\n",
              "      <td>11.838710</td>\n",
              "      <td>12.0</td>\n",
              "      <td>0.709677</td>\n",
              "      <td>0.000000</td>\n",
              "    </tr>\n",
              "    <tr>\n",
              "      <th>2</th>\n",
              "      <td>011e5c5dfc5c2c92501b8b24d47509bc</td>\n",
              "      <td>34</td>\n",
              "      <td>7185.041667</td>\n",
              "      <td>42.187500</td>\n",
              "      <td>482.428390</td>\n",
              "      <td>68.0</td>\n",
              "      <td>7.294118</td>\n",
              "      <td>12.0</td>\n",
              "      <td>0.529412</td>\n",
              "      <td>0.058824</td>\n",
              "    </tr>\n",
              "    <tr>\n",
              "      <th>3</th>\n",
              "      <td>0152a2f305e71d26cc964f8d4411add9</td>\n",
              "      <td>191</td>\n",
              "      <td>10028.796610</td>\n",
              "      <td>42.708333</td>\n",
              "      <td>2610.871561</td>\n",
              "      <td>64.0</td>\n",
              "      <td>14.198953</td>\n",
              "      <td>42.0</td>\n",
              "      <td>0.796859</td>\n",
              "      <td>0.459686</td>\n",
              "    </tr>\n",
              "    <tr>\n",
              "      <th>4</th>\n",
              "      <td>01674381af7edd264113d4e6ed55ecda</td>\n",
              "      <td>375</td>\n",
              "      <td>6633.404372</td>\n",
              "      <td>47.474747</td>\n",
              "      <td>5381.097539</td>\n",
              "      <td>56.0</td>\n",
              "      <td>12.528000</td>\n",
              "      <td>40.0</td>\n",
              "      <td>1.000000</td>\n",
              "      <td>0.054933</td>\n",
              "    </tr>\n",
              "  </tbody>\n",
              "</table>\n",
              "</div>"
            ],
            "text/plain": [
              "                          driver_id  ride_count  ...  is_weekday  is_late_ride\n",
              "0  002be0ffdc997bd5c50703158b7c2491         277  ...    0.769675      0.238989\n",
              "1  007f0389f9c7b03ef97098422f902e62          31  ...    0.709677      0.000000\n",
              "2  011e5c5dfc5c2c92501b8b24d47509bc          34  ...    0.529412      0.058824\n",
              "3  0152a2f305e71d26cc964f8d4411add9         191  ...    0.796859      0.459686\n",
              "4  01674381af7edd264113d4e6ed55ecda         375  ...    1.000000      0.054933\n",
              "\n",
              "[5 rows x 10 columns]"
            ]
          },
          "metadata": {
            "tags": []
          },
          "execution_count": 60
        }
      ]
    },
    {
      "cell_type": "markdown",
      "metadata": {
        "id": "ruGWlve4I1zA",
        "colab_type": "text"
      },
      "source": [
        "## Questions\n",
        "* What are the main factors that affect a driver's lifetime value?\n",
        "* What is the average projected lifetime of a driver? That is, once a driver is\n",
        "onboarded, how long do they typically continue driving with Lyft?\n",
        "* Do all drivers act alike? Are there specific segments of drivers that generate more\n",
        "value for Lyft than the average driver?\n",
        "* What actionable recommendations are there for the business?"
      ]
    },
    {
      "cell_type": "code",
      "metadata": {
        "id": "CuKEFGL7MCCe",
        "colab_type": "code",
        "colab": {}
      },
      "source": [
        "# https://blog.hubspot.com/service/how-to-calculate-customer-lifetime-value\n",
        "ltv['average_ride_val'] = ltv['fare'] / ltv['ride_count']\n",
        "\n",
        "ltv['average_ride_freq'] = ltv['ride_count'] / ltv['unique_days']\n",
        "\n",
        "ltv['average_val'] = ltv['average_ride_val'] * ltv['average_ride_freq']\n",
        "\n",
        "ltv['ltv'] = ltv['average_val'] * 365 / churn_rate"
      ],
      "execution_count": 0,
      "outputs": []
    },
    {
      "cell_type": "code",
      "metadata": {
        "id": "_cO93Rokd9Ml",
        "colab_type": "code",
        "outputId": "40dbf017-9320-483b-a06c-f40780b3e953",
        "colab": {
          "base_uri": "https://localhost:8080/",
          "height": 198
        }
      },
      "source": [
        "base_metrics = ['ride_count', 'fare', 'unique_days', 'ltv']\n",
        "\n",
        "ltv[['driver_id'] + base_metrics].sort_values(by='ltv', ascending=False).head()"
      ],
      "execution_count": 62,
      "outputs": [
        {
          "output_type": "execute_result",
          "data": {
            "text/html": [
              "<div>\n",
              "<style scoped>\n",
              "    .dataframe tbody tr th:only-of-type {\n",
              "        vertical-align: middle;\n",
              "    }\n",
              "\n",
              "    .dataframe tbody tr th {\n",
              "        vertical-align: top;\n",
              "    }\n",
              "\n",
              "    .dataframe thead th {\n",
              "        text-align: right;\n",
              "    }\n",
              "</style>\n",
              "<table border=\"1\" class=\"dataframe\">\n",
              "  <thead>\n",
              "    <tr style=\"text-align: right;\">\n",
              "      <th></th>\n",
              "      <th>driver_id</th>\n",
              "      <th>ride_count</th>\n",
              "      <th>fare</th>\n",
              "      <th>unique_days</th>\n",
              "      <th>ltv</th>\n",
              "    </tr>\n",
              "  </thead>\n",
              "  <tbody>\n",
              "    <tr>\n",
              "      <th>412</th>\n",
              "      <td>6b65c06851e944351dd285a1eb729499</td>\n",
              "      <td>718</td>\n",
              "      <td>10708.943770</td>\n",
              "      <td>45.0</td>\n",
              "      <td>243212.011849</td>\n",
              "    </tr>\n",
              "    <tr>\n",
              "      <th>217</th>\n",
              "      <td>3788dc9e91f1548816ce8b5af07ddadc</td>\n",
              "      <td>783</td>\n",
              "      <td>12304.887351</td>\n",
              "      <td>56.0</td>\n",
              "      <td>224564.194153</td>\n",
              "    </tr>\n",
              "    <tr>\n",
              "      <th>156</th>\n",
              "      <td>297e507cc9f1da096e51c2223657255b</td>\n",
              "      <td>588</td>\n",
              "      <td>8657.558363</td>\n",
              "      <td>40.0</td>\n",
              "      <td>221200.616165</td>\n",
              "    </tr>\n",
              "    <tr>\n",
              "      <th>318</th>\n",
              "      <td>51b528390e8e7780595f6009b1f4cf72</td>\n",
              "      <td>240</td>\n",
              "      <td>3018.980483</td>\n",
              "      <td>14.0</td>\n",
              "      <td>220385.575245</td>\n",
              "    </tr>\n",
              "    <tr>\n",
              "      <th>426</th>\n",
              "      <td>6eb2e0f41fc9f1fbb70e7751035fdf87</td>\n",
              "      <td>35</td>\n",
              "      <td>421.815299</td>\n",
              "      <td>2.0</td>\n",
              "      <td>215547.617792</td>\n",
              "    </tr>\n",
              "  </tbody>\n",
              "</table>\n",
              "</div>"
            ],
            "text/plain": [
              "                            driver_id  ride_count  ...  unique_days            ltv\n",
              "412  6b65c06851e944351dd285a1eb729499         718  ...         45.0  243212.011849\n",
              "217  3788dc9e91f1548816ce8b5af07ddadc         783  ...         56.0  224564.194153\n",
              "156  297e507cc9f1da096e51c2223657255b         588  ...         40.0  221200.616165\n",
              "318  51b528390e8e7780595f6009b1f4cf72         240  ...         14.0  220385.575245\n",
              "426  6eb2e0f41fc9f1fbb70e7751035fdf87          35  ...          2.0  215547.617792\n",
              "\n",
              "[5 rows x 5 columns]"
            ]
          },
          "metadata": {
            "tags": []
          },
          "execution_count": 62
        }
      ]
    },
    {
      "cell_type": "markdown",
      "metadata": {
        "id": "BdM5hvFVfo2Q",
        "colab_type": "text"
      },
      "source": [
        "The main factors that affect lifetime value (LTV) are the number of rides a driver has completed, `ride_count`, total revenue generated by the driver, `fare` and the number of days the driver worked, `unique_days`."
      ]
    },
    {
      "cell_type": "code",
      "metadata": {
        "id": "8v-jsg8NceFR",
        "colab_type": "code",
        "outputId": "d32fd90a-0a7b-4517-dc9a-8299ed7137ed",
        "colab": {
          "base_uri": "https://localhost:8080/",
          "height": 35
        }
      },
      "source": [
        "1 / churn_rate"
      ],
      "execution_count": 63,
      "outputs": [
        {
          "output_type": "execute_result",
          "data": {
            "text/plain": [
              "2.8"
            ]
          },
          "metadata": {
            "tags": []
          },
          "execution_count": 63
        }
      ]
    },
    {
      "cell_type": "markdown",
      "metadata": {
        "id": "IYK2gpdmnYSN",
        "colab_type": "text"
      },
      "source": [
        "We take average lifetime as the inverse of churn rate. Hence, we predict the average lifetime for drivers is approximately 2.8 years.\n",
        "\n",
        "## KMeans Clustering\n",
        "We performing KMeans Clustering to segment the drivers. Silhoutte score is then used to find the optimal K, in our case, where K=3 produces the best result. To test whether do our engineered features, such as `is_weekday`, `is_late_ride`, and others work later, we only fit KMeans to the `base_metrics`, which are `ride_count`, `fare`, `unique_days`, and `ltv`."
      ]
    },
    {
      "cell_type": "code",
      "metadata": {
        "id": "6rREyPj-BEby",
        "colab_type": "code",
        "colab": {}
      },
      "source": [
        "from sklearn.cluster import KMeans\n",
        "from sklearn.metrics import silhouette_score"
      ],
      "execution_count": 0,
      "outputs": []
    },
    {
      "cell_type": "code",
      "metadata": {
        "id": "tV_5ubkShCCu",
        "colab_type": "code",
        "outputId": "2e20771f-f1d2-4ce8-fceb-c131ab04ad32",
        "colab": {
          "base_uri": "https://localhost:8080/",
          "height": 35
        }
      },
      "source": [
        "# only fit base_metrics for KMeans\n",
        "lvt_matrix = ltv[base_metrics].values\n",
        "\n",
        "CLUSTERS = 3\n",
        "\n",
        "kmeans = KMeans(n_clusters=CLUSTERS, init='k-means++', n_init=40)\n",
        "kmeans.fit(lvt_matrix)\n",
        "\n",
        "clusters = kmeans.predict(lvt_matrix)\n",
        "\n",
        "print(\"The average silhouette_score is: {:.4f}\".format(silhouette_score(lvt_matrix, clusters)))"
      ],
      "execution_count": 65,
      "outputs": [
        {
          "output_type": "stream",
          "text": [
            "The average silhouette_score is: 0.5643\n"
          ],
          "name": "stdout"
        }
      ]
    },
    {
      "cell_type": "code",
      "metadata": {
        "id": "C6VQ5JpVBWJR",
        "colab_type": "code",
        "colab": {}
      },
      "source": [
        "clusters_df = pd.Series(clusters).value_counts().reset_index()\n",
        "\n",
        "clusters_df.rename(columns={'index': 'cluster', 0: 'count'}, inplace=True)"
      ],
      "execution_count": 0,
      "outputs": []
    },
    {
      "cell_type": "code",
      "metadata": {
        "id": "HgJTRm320lQV",
        "colab_type": "code",
        "outputId": "e0b1a964-ba6a-491b-ab45-b7a5ad0c13a0",
        "colab": {
          "base_uri": "https://localhost:8080/",
          "height": 295
        }
      },
      "source": [
        "plt.figure(figsize=(6,4))\n",
        "sns.barplot(x=clusters_df['cluster'], y=clusters_df['count'])\n",
        "plt.title('Count vs Cluster')\n",
        "plt.show()"
      ],
      "execution_count": 67,
      "outputs": [
        {
          "output_type": "display_data",
          "data": {
            "image/png": "[encoded data removed]",
            "text/plain": [
              "<Figure size 432x288 with 1 Axes>"
            ]
          },
          "metadata": {
            "tags": []
          }
        }
      ]
    },
    {
      "cell_type": "markdown",
      "metadata": {
        "id": "dF1YjdmAWhJK",
        "colab_type": "text"
      },
      "source": [
        "To further perform an anlysis on the other features we created, we create a list of `metrics` as follows."
      ]
    },
    {
      "cell_type": "code",
      "metadata": {
        "id": "9H-u3pUSVrv1",
        "colab_type": "code",
        "outputId": "bc605095-91af-4030-f38b-14a9115236ef",
        "colab": {
          "base_uri": "https://localhost:8080/",
          "height": 190
        }
      },
      "source": [
        "exclude = ['driver_id', 'ride_count', 'driving_period', 'average_val']\n",
        "metrics = [col for col in ltv.columns if col not in exclude]\n",
        "\n",
        "metrics"
      ],
      "execution_count": 68,
      "outputs": [
        {
          "output_type": "execute_result",
          "data": {
            "text/plain": [
              "['drop_requested_lag',\n",
              " 'ride_prime_time',\n",
              " 'fare',\n",
              " 'pickup_window',\n",
              " 'unique_days',\n",
              " 'is_weekday',\n",
              " 'is_late_ride',\n",
              " 'average_ride_val',\n",
              " 'average_ride_freq',\n",
              " 'ltv']"
            ]
          },
          "metadata": {
            "tags": []
          },
          "execution_count": 68
        }
      ]
    },
    {
      "cell_type": "markdown",
      "metadata": {
        "id": "38A7-wAAU-o3",
        "colab_type": "text"
      },
      "source": [
        "## Radar chart\n",
        "The maximum value for each feature is calculated to scale our radar chart."
      ]
    },
    {
      "cell_type": "code",
      "metadata": {
        "id": "2pg9QZLVdWdz",
        "colab_type": "code",
        "outputId": "81c2c545-41c6-4dce-bef2-ff40f957117a",
        "colab": {
          "base_uri": "https://localhost:8080/",
          "height": 69
        }
      },
      "source": [
        "ltv['clusters'] = clusters\n",
        "\n",
        "scale_max = ltv[metrics].max().values\n",
        "\n",
        "scale_max"
      ],
      "execution_count": 69,
      "outputs": [
        {
          "output_type": "execute_result",
          "data": {
            "text/plain": [
              "array([3.85809615e+04, 1.46875000e+02, 1.23502881e+04, 4.12500000e+01,\n",
              "       8.10000000e+01, 1.00000000e+00, 9.03448276e-01, 2.59015036e+01,\n",
              "       1.75000000e+01, 2.43212012e+05])"
            ]
          },
          "metadata": {
            "tags": []
          },
          "execution_count": 69
        }
      ]
    },
    {
      "cell_type": "code",
      "metadata": {
        "id": "xWZA-bi4-3n0",
        "colab_type": "code",
        "outputId": "a432b4d2-bf9f-4f51-8935-3bacf915f608",
        "colab": {
          "base_uri": "https://localhost:8080/",
          "height": 295
        }
      },
      "source": [
        "plt.title('Distribution of LTV')\n",
        "# sns.distplot(ltv['ltv'])\n",
        "fig = plt.subplot()\n",
        "sns.distplot(ltv[ltv['clusters']==0]['ltv'],color ='purple')\n",
        "sns.distplot(ltv[ltv['clusters']==1]['ltv'],color ='red')\n",
        "sns.distplot(ltv[ltv['clusters']==2]['ltv'],color ='green')    \n",
        "fig.legend(labels=['0','1', '2'])\n",
        "plt.show()"
      ],
      "execution_count": 70,
      "outputs": [
        {
          "output_type": "display_data",
          "data": {
            "image/png": "[encoded data removed]",
            "text/plain": [
              "<Figure size 432x288 with 1 Axes>"
            ]
          },
          "metadata": {
            "tags": []
          }
        }
      ]
    },
    {
      "cell_type": "code",
      "metadata": {
        "id": "5BVx9EW3SNfL",
        "colab_type": "code",
        "colab": {}
      },
      "source": [
        "def radar_cluster(i):\n",
        "    radar = pd.DataFrame(ltv[ltv['clusters'] == i][metrics].mean()).reset_index()\n",
        "\n",
        "    radar['r'] = radar.loc[:, 0] / scale_max\n",
        "\n",
        "    radar.rename(columns={'index': 'theta'}, inplace=True)\n",
        "\n",
        "    return radar"
      ],
      "execution_count": 0,
      "outputs": []
    },
    {
      "cell_type": "markdown",
      "metadata": {
        "id": "fPsrAYvIXDUS",
        "colab_type": "text"
      },
      "source": [
        "Plot the radar chart."
      ]
    },
    {
      "cell_type": "code",
      "metadata": {
        "id": "ufO9cHrONcbt",
        "colab_type": "code",
        "outputId": "4c52cf4f-b96f-4b32-d485-5bab7421c706",
        "colab": {
          "base_uri": "https://localhost:8080/",
          "height": 542
        }
      },
      "source": [
        "fig = go.Figure()\n",
        "\n",
        "fig.add_trace(go.Scatterpolar(\n",
        "      r=radar_cluster(0)['r'],\n",
        "      theta=radar_cluster(0)['theta'],\n",
        "      fill='toself',\n",
        "      name='Cluster 0'\n",
        "))\n",
        "fig.add_trace(go.Scatterpolar(\n",
        "      r=radar_cluster(1)['r'],\n",
        "      theta=radar_cluster(1)['theta'],\n",
        "      fill='toself',\n",
        "      name='Cluster 1'\n",
        "))\n",
        "fig.add_trace(go.Scatterpolar(\n",
        "      r=radar_cluster(2)['r'],\n",
        "      theta=radar_cluster(2)['theta'],\n",
        "      fill='toself',\n",
        "      name='Cluster 2'\n",
        "))\n",
        "\n",
        "\n",
        "fig.update_layout(\n",
        "  polar=dict(\n",
        "    radialaxis=dict(\n",
        "      visible=True,\n",
        "      range=[0, 0.8]\n",
        "    )),\n",
        "  showlegend=False,\n",
        "  title='Segment of drivers'\n",
        ")\n",
        "\n",
        "fig.show()"
      ],
      "execution_count": 72,
      "outputs": [
        {
          "output_type": "display_data",
          "data": {
            "text/html": [
              "<html>\n",
              "<head><meta charset=\"utf-8\" /></head>\n",
              "<body>\n",
              "    <div>\n",
              "            <script src=\"https://cdnjs.cloudflare.com/ajax/libs/mathjax/2.7.5/MathJax.js?config=TeX-AMS-MML_SVG\"></script><script type=\"text/javascript\">if (window.MathJax) {MathJax.Hub.Config({SVG: {font: \"STIX-Web\"}});}</script>\n",
              "                <script type=\"text/javascript\">window.PlotlyConfig = {MathJaxConfig: 'local'};</script>\n",
              "        <script src=\"https://cdn.plot.ly/plotly-latest.min.js\"></script>    \n",
              "            <div id=\"959298e4-9325-45fd-8923-4665c24e1ee1\" class=\"plotly-graph-div\" style=\"height:525px; width:100%;\"></div>\n",
              "            <script type=\"text/javascript\">\n",
              "                \n",
              "                    window.PLOTLYENV=window.PLOTLYENV || {};\n",
              "                    \n",
              "                if (document.getElementById(\"959298e4-9325-45fd-8923-4665c24e1ee1\")) {\n",
              "                    Plotly.newPlot(\n",
              "                        '959298e4-9325-45fd-8923-4665c24e1ee1',\n",
              "                        [{\"fill\": \"toself\", \"name\": \"Cluster 0\", \"r\": [0.2625274621359687, 0.3298891146346294, 0.08589783875138497, 0.29563437713288204, 0.2761811318697794, 0.5563217569752564, 0.13527806653522087, 0.5207874904826814, 0.1993894581002244, 0.1950973386663264], \"theta\": [\"drop_requested_lag\", \"ride_prime_time\", \"fare\", \"pickup_window\", \"unique_days\", \"is_weekday\", \"is_late_ride\", \"average_ride_val\", \"average_ride_freq\", \"ltv\"], \"type\": \"scatterpolar\"}, {\"fill\": \"toself\", \"name\": \"Cluster 1\", \"r\": [0.19020455530727048, 0.3341012793446954, 0.2761255800251974, 0.2850406811582237, 0.4575397692774742, 0.7025847518441483, 0.17711420066284259, 0.5258359567927369, 0.3865664102900483, 0.38158075959716764], \"theta\": [\"drop_requested_lag\", \"ride_prime_time\", \"fare\", \"pickup_window\", \"unique_days\", \"is_weekday\", \"is_late_ride\", \"average_ride_val\", \"average_ride_freq\", \"ltv\"], \"type\": \"scatterpolar\"}, {\"fill\": \"toself\", \"name\": \"Cluster 2\", \"r\": [0.14362997369542482, 0.3359684176801301, 0.4602230762465475, 0.27810488068816575, 0.4962042788129745, 0.7007401524098498, 0.18525345349160116, 0.5358789278380374, 0.5950815519337361, 0.5997969334826256], \"theta\": [\"drop_requested_lag\", \"ride_prime_time\", \"fare\", \"pickup_window\", \"unique_days\", \"is_weekday\", \"is_late_ride\", \"average_ride_val\", \"average_ride_freq\", \"ltv\"], \"type\": \"scatterpolar\"}],\n",
              "                        {\"polar\": {\"radialaxis\": {\"range\": [0, 0.8], \"visible\": true}}, \"showlegend\": false, \"template\": {\"data\": {\"bar\": [{\"error_x\": {\"color\": \"#2a3f5f\"}, \"error_y\": {\"color\": \"#2a3f5f\"}, \"marker\": {\"line\": {\"color\": \"#E5ECF6\", \"width\": 0.5}}, \"type\": \"bar\"}], \"barpolar\": [{\"marker\": {\"line\": {\"color\": \"#E5ECF6\", \"width\": 0.5}}, \"type\": \"barpolar\"}], \"carpet\": [{\"aaxis\": {\"endlinecolor\": \"#2a3f5f\", \"gridcolor\": \"white\", \"linecolor\": \"white\", \"minorgridcolor\": \"white\", \"startlinecolor\": \"#2a3f5f\"}, \"baxis\": {\"endlinecolor\": \"#2a3f5f\", \"gridcolor\": \"white\", \"linecolor\": \"white\", \"minorgridcolor\": \"white\", \"startlinecolor\": \"#2a3f5f\"}, \"type\": \"carpet\"}], \"choropleth\": [{\"colorbar\": {\"outlinewidth\": 0, \"ticks\": \"\"}, \"type\": \"choropleth\"}], \"contour\": [{\"colorbar\": {\"outlinewidth\": 0, \"ticks\": \"\"}, \"colorscale\": [[0.0, \"#0d0887\"], [0.1111111111111111, \"#46039f\"], [0.2222222222222222, \"#7201a8\"], [0.3333333333333333, \"#9c179e\"], [0.4444444444444444, \"#bd3786\"], [0.5555555555555556, \"#d8576b\"], [0.6666666666666666, \"#ed7953\"], [0.7777777777777778, \"#fb9f3a\"], [0.8888888888888888, \"#fdca26\"], [1.0, \"#f0f921\"]], \"type\": \"contour\"}], \"contourcarpet\": [{\"colorbar\": {\"outlinewidth\": 0, \"ticks\": \"\"}, \"type\": \"contourcarpet\"}], \"heatmap\": [{\"colorbar\": {\"outlinewidth\": 0, \"ticks\": \"\"}, \"colorscale\": [[0.0, \"#0d0887\"], [0.1111111111111111, \"#46039f\"], [0.2222222222222222, \"#7201a8\"], [0.3333333333333333, \"#9c179e\"], [0.4444444444444444, \"#bd3786\"], [0.5555555555555556, \"#d8576b\"], [0.6666666666666666, \"#ed7953\"], [0.7777777777777778, \"#fb9f3a\"], [0.8888888888888888, \"#fdca26\"], [1.0, \"#f0f921\"]], \"type\": \"heatmap\"}], \"heatmapgl\": [{\"colorbar\": {\"outlinewidth\": 0, \"ticks\": \"\"}, \"colorscale\": [[0.0, \"#0d0887\"], [0.1111111111111111, \"#46039f\"], [0.2222222222222222, \"#7201a8\"], [0.3333333333333333, \"#9c179e\"], [0.4444444444444444, \"#bd3786\"], [0.5555555555555556, \"#d8576b\"], [0.6666666666666666, \"#ed7953\"], [0.7777777777777778, \"#fb9f3a\"], [0.8888888888888888, \"#fdca26\"], [1.0, \"#f0f921\"]], \"type\": \"heatmapgl\"}], \"histogram\": [{\"marker\": {\"colorbar\": {\"outlinewidth\": 0, \"ticks\": \"\"}}, \"type\": \"histogram\"}], \"histogram2d\": [{\"colorbar\": {\"outlinewidth\": 0, \"ticks\": \"\"}, \"colorscale\": [[0.0, \"#0d0887\"], [0.1111111111111111, \"#46039f\"], [0.2222222222222222, \"#7201a8\"], [0.3333333333333333, \"#9c179e\"], [0.4444444444444444, \"#bd3786\"], [0.5555555555555556, \"#d8576b\"], [0.6666666666666666, \"#ed7953\"], [0.7777777777777778, \"#fb9f3a\"], [0.8888888888888888, \"#fdca26\"], [1.0, \"#f0f921\"]], \"type\": \"histogram2d\"}], \"histogram2dcontour\": [{\"colorbar\": {\"outlinewidth\": 0, \"ticks\": \"\"}, \"colorscale\": [[0.0, \"#0d0887\"], [0.1111111111111111, \"#46039f\"], [0.2222222222222222, \"#7201a8\"], [0.3333333333333333, \"#9c179e\"], [0.4444444444444444, \"#bd3786\"], [0.5555555555555556, \"#d8576b\"], [0.6666666666666666, \"#ed7953\"], [0.7777777777777778, \"#fb9f3a\"], [0.8888888888888888, \"#fdca26\"], [1.0, \"#f0f921\"]], \"type\": \"histogram2dcontour\"}], \"mesh3d\": [{\"colorbar\": {\"outlinewidth\": 0, \"ticks\": \"\"}, \"type\": \"mesh3d\"}], \"parcoords\": [{\"line\": {\"colorbar\": {\"outlinewidth\": 0, \"ticks\": \"\"}}, \"type\": \"parcoords\"}], \"scatter\": [{\"marker\": {\"colorbar\": {\"outlinewidth\": 0, \"ticks\": \"\"}}, \"type\": \"scatter\"}], \"scatter3d\": [{\"line\": {\"colorbar\": {\"outlinewidth\": 0, \"ticks\": \"\"}}, \"marker\": {\"colorbar\": {\"outlinewidth\": 0, \"ticks\": \"\"}}, \"type\": \"scatter3d\"}], \"scattercarpet\": [{\"marker\": {\"colorbar\": {\"outlinewidth\": 0, \"ticks\": \"\"}}, \"type\": \"scattercarpet\"}], \"scattergeo\": [{\"marker\": {\"colorbar\": {\"outlinewidth\": 0, \"ticks\": \"\"}}, \"type\": \"scattergeo\"}], \"scattergl\": [{\"marker\": {\"colorbar\": {\"outlinewidth\": 0, \"ticks\": \"\"}}, \"type\": \"scattergl\"}], \"scattermapbox\": [{\"marker\": {\"colorbar\": {\"outlinewidth\": 0, \"ticks\": \"\"}}, \"type\": \"scattermapbox\"}], \"scatterpolar\": [{\"marker\": {\"colorbar\": {\"outlinewidth\": 0, \"ticks\": \"\"}}, \"type\": \"scatterpolar\"}], \"scatterpolargl\": [{\"marker\": {\"colorbar\": {\"outlinewidth\": 0, \"ticks\": \"\"}}, \"type\": \"scatterpolargl\"}], \"scatterternary\": [{\"marker\": {\"colorbar\": {\"outlinewidth\": 0, \"ticks\": \"\"}}, \"type\": \"scatterternary\"}], \"surface\": [{\"colorbar\": {\"outlinewidth\": 0, \"ticks\": \"\"}, \"colorscale\": [[0.0, \"#0d0887\"], [0.1111111111111111, \"#46039f\"], [0.2222222222222222, \"#7201a8\"], [0.3333333333333333, \"#9c179e\"], [0.4444444444444444, \"#bd3786\"], [0.5555555555555556, \"#d8576b\"], [0.6666666666666666, \"#ed7953\"], [0.7777777777777778, \"#fb9f3a\"], [0.8888888888888888, \"#fdca26\"], [1.0, \"#f0f921\"]], \"type\": \"surface\"}], \"table\": [{\"cells\": {\"fill\": {\"color\": \"#EBF0F8\"}, \"line\": {\"color\": \"white\"}}, \"header\": {\"fill\": {\"color\": \"#C8D4E3\"}, \"line\": {\"color\": \"white\"}}, \"type\": \"table\"}]}, \"layout\": {\"annotationdefaults\": {\"arrowcolor\": \"#2a3f5f\", \"arrowhead\": 0, \"arrowwidth\": 1}, \"colorscale\": {\"diverging\": [[0, \"#8e0152\"], [0.1, \"#c51b7d\"], [0.2, \"#de77ae\"], [0.3, \"#f1b6da\"], [0.4, \"#fde0ef\"], [0.5, \"#f7f7f7\"], [0.6, \"#e6f5d0\"], [0.7, \"#b8e186\"], [0.8, \"#7fbc41\"], [0.9, \"#4d9221\"], [1, \"#276419\"]], \"sequential\": [[0.0, \"#0d0887\"], [0.1111111111111111, \"#46039f\"], [0.2222222222222222, \"#7201a8\"], [0.3333333333333333, \"#9c179e\"], [0.4444444444444444, \"#bd3786\"], [0.5555555555555556, \"#d8576b\"], [0.6666666666666666, \"#ed7953\"], [0.7777777777777778, \"#fb9f3a\"], [0.8888888888888888, \"#fdca26\"], [1.0, \"#f0f921\"]], \"sequentialminus\": [[0.0, \"#0d0887\"], [0.1111111111111111, \"#46039f\"], [0.2222222222222222, \"#7201a8\"], [0.3333333333333333, \"#9c179e\"], [0.4444444444444444, \"#bd3786\"], [0.5555555555555556, \"#d8576b\"], [0.6666666666666666, \"#ed7953\"], [0.7777777777777778, \"#fb9f3a\"], [0.8888888888888888, \"#fdca26\"], [1.0, \"#f0f921\"]]}, \"colorway\": [\"#636efa\", \"#EF553B\", \"#00cc96\", \"#ab63fa\", \"#FFA15A\", \"#19d3f3\", \"#FF6692\", \"#B6E880\", \"#FF97FF\", \"#FECB52\"], \"font\": {\"color\": \"#2a3f5f\"}, \"geo\": {\"bgcolor\": \"white\", \"lakecolor\": \"white\", \"landcolor\": \"#E5ECF6\", \"showlakes\": true, \"showland\": true, \"subunitcolor\": \"white\"}, \"hoverlabel\": {\"align\": \"left\"}, \"hovermode\": \"closest\", \"mapbox\": {\"style\": \"light\"}, \"paper_bgcolor\": \"white\", \"plot_bgcolor\": \"#E5ECF6\", \"polar\": {\"angularaxis\": {\"gridcolor\": \"white\", \"linecolor\": \"white\", \"ticks\": \"\"}, \"bgcolor\": \"#E5ECF6\", \"radialaxis\": {\"gridcolor\": \"white\", \"linecolor\": \"white\", \"ticks\": \"\"}}, \"scene\": {\"xaxis\": {\"backgroundcolor\": \"#E5ECF6\", \"gridcolor\": \"white\", \"gridwidth\": 2, \"linecolor\": \"white\", \"showbackground\": true, \"ticks\": \"\", \"zerolinecolor\": \"white\"}, \"yaxis\": {\"backgroundcolor\": \"#E5ECF6\", \"gridcolor\": \"white\", \"gridwidth\": 2, \"linecolor\": \"white\", \"showbackground\": true, \"ticks\": \"\", \"zerolinecolor\": \"white\"}, \"zaxis\": {\"backgroundcolor\": \"#E5ECF6\", \"gridcolor\": \"white\", \"gridwidth\": 2, \"linecolor\": \"white\", \"showbackground\": true, \"ticks\": \"\", \"zerolinecolor\": \"white\"}}, \"shapedefaults\": {\"line\": {\"color\": \"#2a3f5f\"}}, \"ternary\": {\"aaxis\": {\"gridcolor\": \"white\", \"linecolor\": \"white\", \"ticks\": \"\"}, \"baxis\": {\"gridcolor\": \"white\", \"linecolor\": \"white\", \"ticks\": \"\"}, \"bgcolor\": \"#E5ECF6\", \"caxis\": {\"gridcolor\": \"white\", \"linecolor\": \"white\", \"ticks\": \"\"}}, \"title\": {\"x\": 0.05}, \"xaxis\": {\"automargin\": true, \"gridcolor\": \"white\", \"linecolor\": \"white\", \"ticks\": \"\", \"zerolinecolor\": \"white\", \"zerolinewidth\": 2}, \"yaxis\": {\"automargin\": true, \"gridcolor\": \"white\", \"linecolor\": \"white\", \"ticks\": \"\", \"zerolinecolor\": \"white\", \"zerolinewidth\": 2}}}, \"title\": {\"text\": \"Segment of drivers\"}},\n",
              "                        {\"responsive\": true}\n",
              "                    ).then(function(){\n",
              "                            \n",
              "var gd = document.getElementById('959298e4-9325-45fd-8923-4665c24e1ee1');\n",
              "var x = new MutationObserver(function (mutations, observer) {{\n",
              "        var display = window.getComputedStyle(gd).display;\n",
              "        if (!display || display === 'none') {{\n",
              "            console.log([gd, 'removed!']);\n",
              "            Plotly.purge(gd);\n",
              "            observer.disconnect();\n",
              "        }}\n",
              "}});\n",
              "\n",
              "// Listen for the removal of the full notebook cells\n",
              "var notebookContainer = gd.closest('#notebook-container');\n",
              "if (notebookContainer) {{\n",
              "    x.observe(notebookContainer, {childList: true});\n",
              "}}\n",
              "\n",
              "// Listen for the clearing of the current output cell\n",
              "var outputEl = gd.closest('.output');\n",
              "if (outputEl) {{\n",
              "    x.observe(outputEl, {childList: true});\n",
              "}}\n",
              "\n",
              "                        })\n",
              "                };\n",
              "                \n",
              "            </script>\n",
              "        </div>\n",
              "</body>\n",
              "</html>"
            ]
          },
          "metadata": {
            "tags": []
          }
        }
      ]
    },
    {
      "cell_type": "markdown",
      "metadata": {
        "id": "ydrSWB-nXISI",
        "colab_type": "text"
      },
      "source": [
        "From this radar chart, we observe that even we only fitted KMeans with the 4 base metrics: `ride_count`, `fare`, `unique_days`, and `ltv` to get 3 clusters, other feature such as `is_weekday` is fairly distinct for the clusters above. We then conclude that `is_weekday` might be a useful feature to help segmenting drivers.\n",
        "\n",
        "## Other metrics\n",
        "Showing that using `base_metrics` already allows other features to help us predict which segment a driver will fall into, we proceed to fit the `metrics` to the KMeans algorithm."
      ]
    },
    {
      "cell_type": "code",
      "metadata": {
        "id": "m1jlskemuOzf",
        "colab_type": "code",
        "colab": {
          "base_uri": "https://localhost:8080/",
          "height": 218
        },
        "outputId": "cabc01d4-c2bb-46f4-f953-b52e23dce5b6"
      },
      "source": [
        "from sklearn.preprocessing import MinMaxScaler\n",
        "\n",
        "scaler = MinMaxScaler()\n",
        "\n",
        "scaled_ltv = ltv.copy()\n",
        "\n",
        "scaled_ltv[metrics] = scaler.fit_transform(ltv[metrics])\n",
        "\n",
        "scaled_ltv.head()"
      ],
      "execution_count": 73,
      "outputs": [
        {
          "output_type": "execute_result",
          "data": {
            "text/html": [
              "<div>\n",
              "<style scoped>\n",
              "    .dataframe tbody tr th:only-of-type {\n",
              "        vertical-align: middle;\n",
              "    }\n",
              "\n",
              "    .dataframe tbody tr th {\n",
              "        vertical-align: top;\n",
              "    }\n",
              "\n",
              "    .dataframe thead th {\n",
              "        text-align: right;\n",
              "    }\n",
              "</style>\n",
              "<table border=\"1\" class=\"dataframe\">\n",
              "  <thead>\n",
              "    <tr style=\"text-align: right;\">\n",
              "      <th></th>\n",
              "      <th>driver_id</th>\n",
              "      <th>ride_count</th>\n",
              "      <th>drop_requested_lag</th>\n",
              "      <th>ride_prime_time</th>\n",
              "      <th>fare</th>\n",
              "      <th>driving_period</th>\n",
              "      <th>pickup_window</th>\n",
              "      <th>unique_days</th>\n",
              "      <th>is_weekday</th>\n",
              "      <th>is_late_ride</th>\n",
              "      <th>average_ride_val</th>\n",
              "      <th>average_ride_freq</th>\n",
              "      <th>average_val</th>\n",
              "      <th>ltv</th>\n",
              "      <th>clusters</th>\n",
              "    </tr>\n",
              "  </thead>\n",
              "  <tbody>\n",
              "    <tr>\n",
              "      <th>0</th>\n",
              "      <td>002be0ffdc997bd5c50703158b7c2491</td>\n",
              "      <td>277</td>\n",
              "      <td>0.167019</td>\n",
              "      <td>0.332689</td>\n",
              "      <td>0.286844</td>\n",
              "      <td>86.0</td>\n",
              "      <td>0.092900</td>\n",
              "      <td>0.683544</td>\n",
              "      <td>0.769675</td>\n",
              "      <td>0.264530</td>\n",
              "      <td>0.247527</td>\n",
              "      <td>0.239177</td>\n",
              "      <td>63.587966</td>\n",
              "      <td>0.239848</td>\n",
              "      <td>0</td>\n",
              "    </tr>\n",
              "    <tr>\n",
              "      <th>1</th>\n",
              "      <td>007f0389f9c7b03ef97098422f902e62</td>\n",
              "      <td>31</td>\n",
              "      <td>0.115483</td>\n",
              "      <td>0.354610</td>\n",
              "      <td>0.024001</td>\n",
              "      <td>85.0</td>\n",
              "      <td>0.187658</td>\n",
              "      <td>0.126582</td>\n",
              "      <td>0.709677</td>\n",
              "      <td>0.000000</td>\n",
              "      <td>0.104225</td>\n",
              "      <td>0.095960</td>\n",
              "      <td>26.791246</td>\n",
              "      <td>0.079453</td>\n",
              "      <td>0</td>\n",
              "    </tr>\n",
              "    <tr>\n",
              "      <th>2</th>\n",
              "      <td>011e5c5dfc5c2c92501b8b24d47509bc</td>\n",
              "      <td>34</td>\n",
              "      <td>0.182397</td>\n",
              "      <td>0.287234</td>\n",
              "      <td>0.037059</td>\n",
              "      <td>68.0</td>\n",
              "      <td>0.062136</td>\n",
              "      <td>0.126582</td>\n",
              "      <td>0.529412</td>\n",
              "      <td>0.065110</td>\n",
              "      <td>0.324454</td>\n",
              "      <td>0.111111</td>\n",
              "      <td>40.202366</td>\n",
              "      <td>0.137911</td>\n",
              "      <td>0</td>\n",
              "    </tr>\n",
              "    <tr>\n",
              "      <th>3</th>\n",
              "      <td>0152a2f305e71d26cc964f8d4411add9</td>\n",
              "      <td>191</td>\n",
              "      <td>0.256453</td>\n",
              "      <td>0.290780</td>\n",
              "      <td>0.209758</td>\n",
              "      <td>64.0</td>\n",
              "      <td>0.252848</td>\n",
              "      <td>0.506329</td>\n",
              "      <td>0.796859</td>\n",
              "      <td>0.508813</td>\n",
              "      <td>0.294486</td>\n",
              "      <td>0.215007</td>\n",
              "      <td>62.163609</td>\n",
              "      <td>0.233639</td>\n",
              "      <td>0</td>\n",
              "    </tr>\n",
              "    <tr>\n",
              "      <th>4</th>\n",
              "      <td>01674381af7edd264113d4e6ed55ecda</td>\n",
              "      <td>375</td>\n",
              "      <td>0.168032</td>\n",
              "      <td>0.323232</td>\n",
              "      <td>0.434530</td>\n",
              "      <td>56.0</td>\n",
              "      <td>0.206696</td>\n",
              "      <td>0.481013</td>\n",
              "      <td>1.000000</td>\n",
              "      <td>0.060804</td>\n",
              "      <td>0.333713</td>\n",
              "      <td>0.507576</td>\n",
              "      <td>134.527438</td>\n",
              "      <td>0.549070</td>\n",
              "      <td>2</td>\n",
              "    </tr>\n",
              "  </tbody>\n",
              "</table>\n",
              "</div>"
            ],
            "text/plain": [
              "                          driver_id  ride_count  ...       ltv  clusters\n",
              "0  002be0ffdc997bd5c50703158b7c2491         277  ...  0.239848         0\n",
              "1  007f0389f9c7b03ef97098422f902e62          31  ...  0.079453         0\n",
              "2  011e5c5dfc5c2c92501b8b24d47509bc          34  ...  0.137911         0\n",
              "3  0152a2f305e71d26cc964f8d4411add9         191  ...  0.233639         0\n",
              "4  01674381af7edd264113d4e6ed55ecda         375  ...  0.549070         2\n",
              "\n",
              "[5 rows x 15 columns]"
            ]
          },
          "metadata": {
            "tags": []
          },
          "execution_count": 73
        }
      ]
    },
    {
      "cell_type": "code",
      "metadata": {
        "id": "zig1h5XAtBHV",
        "colab_type": "code",
        "colab": {
          "base_uri": "https://localhost:8080/",
          "height": 35
        },
        "outputId": "47e66ff7-37ff-4480-ab48-d4b9a9c06018"
      },
      "source": [
        "CLUSTERS = 3\n",
        "\n",
        "matrix = scaled_ltv[metrics].values\n",
        "\n",
        "kmeans = KMeans(n_clusters=CLUSTERS, init='k-means++', n_init=40)\n",
        "kmeans.fit(matrix)\n",
        "\n",
        "clusters = kmeans.predict(matrix)\n",
        "\n",
        "print(\"The average silhouette_score is: {:.4f}\".format(silhouette_score(matrix, clusters)))"
      ],
      "execution_count": 74,
      "outputs": [
        {
          "output_type": "stream",
          "text": [
            "The average silhouette_score is: 0.3475\n"
          ],
          "name": "stdout"
        }
      ]
    },
    {
      "cell_type": "markdown",
      "metadata": {
        "id": "n-hXk7MGwEcg",
        "colab_type": "text"
      },
      "source": [
        "## Indexing\n",
        "Credits to Françoise Provencher's talk at Montréal-Python 71."
      ]
    },
    {
      "cell_type": "code",
      "metadata": {
        "id": "R6EOQoS0tHee",
        "colab_type": "code",
        "colab": {
          "base_uri": "https://localhost:8080/",
          "height": 188
        },
        "outputId": "e276bf47-255a-4a44-df35-ec4ad95d2158"
      },
      "source": [
        "scaled_ltv['all_feats_clusters'] = clusters\n",
        "\n",
        "# map back to original clusters\n",
        "scaled_ltv['all_feats_clusters'] = scaled_ltv['all_feats_clusters'].map({0: 1,\n",
        "                                                                         1: 2, \n",
        "                                                                         2: 0})\n",
        "\n",
        "indexed = scaled_ltv.groupby('all_feats_clusters').mean()\n",
        "\n",
        "indexed = indexed[metrics].copy()\n",
        "\n",
        "indexed"
      ],
      "execution_count": 75,
      "outputs": [
        {
          "output_type": "execute_result",
          "data": {
            "text/html": [
              "<div>\n",
              "<style scoped>\n",
              "    .dataframe tbody tr th:only-of-type {\n",
              "        vertical-align: middle;\n",
              "    }\n",
              "\n",
              "    .dataframe tbody tr th {\n",
              "        vertical-align: top;\n",
              "    }\n",
              "\n",
              "    .dataframe thead th {\n",
              "        text-align: right;\n",
              "    }\n",
              "</style>\n",
              "<table border=\"1\" class=\"dataframe\">\n",
              "  <thead>\n",
              "    <tr style=\"text-align: right;\">\n",
              "      <th></th>\n",
              "      <th>drop_requested_lag</th>\n",
              "      <th>ride_prime_time</th>\n",
              "      <th>fare</th>\n",
              "      <th>pickup_window</th>\n",
              "      <th>unique_days</th>\n",
              "      <th>is_weekday</th>\n",
              "      <th>is_late_ride</th>\n",
              "      <th>average_ride_val</th>\n",
              "      <th>average_ride_freq</th>\n",
              "      <th>ltv</th>\n",
              "    </tr>\n",
              "    <tr>\n",
              "      <th>all_feats_clusters</th>\n",
              "      <th></th>\n",
              "      <th></th>\n",
              "      <th></th>\n",
              "      <th></th>\n",
              "      <th></th>\n",
              "      <th></th>\n",
              "      <th></th>\n",
              "      <th></th>\n",
              "      <th></th>\n",
              "      <th></th>\n",
              "    </tr>\n",
              "  </thead>\n",
              "  <tbody>\n",
              "    <tr>\n",
              "      <th>0</th>\n",
              "      <td>0.190114</td>\n",
              "      <td>0.331381</td>\n",
              "      <td>0.374537</td>\n",
              "      <td>0.183542</td>\n",
              "      <td>0.544666</td>\n",
              "      <td>0.712459</td>\n",
              "      <td>0.187223</td>\n",
              "      <td>0.286181</td>\n",
              "      <td>0.411789</td>\n",
              "      <td>0.420008</td>\n",
              "    </tr>\n",
              "    <tr>\n",
              "      <th>1</th>\n",
              "      <td>0.195848</td>\n",
              "      <td>0.337646</td>\n",
              "      <td>0.087958</td>\n",
              "      <td>0.190502</td>\n",
              "      <td>0.300034</td>\n",
              "      <td>0.051257</td>\n",
              "      <td>0.077502</td>\n",
              "      <td>0.292403</td>\n",
              "      <td>0.146534</td>\n",
              "      <td>0.166936</td>\n",
              "    </tr>\n",
              "    <tr>\n",
              "      <th>2</th>\n",
              "      <td>0.243823</td>\n",
              "      <td>0.332564</td>\n",
              "      <td>0.050992</td>\n",
              "      <td>0.197340</td>\n",
              "      <td>0.136165</td>\n",
              "      <td>0.755016</td>\n",
              "      <td>0.152247</td>\n",
              "      <td>0.297674</td>\n",
              "      <td>0.197040</td>\n",
              "      <td>0.212036</td>\n",
              "    </tr>\n",
              "  </tbody>\n",
              "</table>\n",
              "</div>"
            ],
            "text/plain": [
              "                    drop_requested_lag  ...       ltv\n",
              "all_feats_clusters                      ...          \n",
              "0                             0.190114  ...  0.420008\n",
              "1                             0.195848  ...  0.166936\n",
              "2                             0.243823  ...  0.212036\n",
              "\n",
              "[3 rows x 10 columns]"
            ]
          },
          "metadata": {
            "tags": []
          },
          "execution_count": 75
        }
      ]
    },
    {
      "cell_type": "code",
      "metadata": {
        "id": "YMqS14XWtb_g",
        "colab_type": "code",
        "colab": {}
      },
      "source": [
        "for metric in metrics:\n",
        "    indexed[metric] = indexed[metric] - scaled_ltv[metric].mean()\n",
        "    indexed[metric] = indexed[metric] / indexed[metric].abs().max()"
      ],
      "execution_count": 0,
      "outputs": []
    },
    {
      "cell_type": "code",
      "metadata": {
        "id": "kSEICz7UtuRl",
        "colab_type": "code",
        "colab": {
          "base_uri": "https://localhost:8080/",
          "height": 249
        },
        "outputId": "80da8bce-895c-4925-9e5e-243dd8b0158f"
      },
      "source": [
        "def coloring(val):\n",
        "    if val < -0.5:\n",
        "        color = '#d65f5f'\n",
        "    elif val > 0.5:\n",
        "        color = '#5fba7d'\n",
        "    else:\n",
        "        color = 'white'\n",
        "    return 'background: %s' % color\n",
        "\n",
        "table = indexed.T.style.applymap(coloring)\n",
        "\n",
        "table"
      ],
      "execution_count": 77,
      "outputs": [
        {
          "output_type": "execute_result",
          "data": {
            "text/html": [
              "<style  type=\"text/css\" >\n",
              "    #T_dfdb9cda_d430_11e9_aa94_0242ac1c0002row0_col0 {\n",
              "            background:  #d65f5f;\n",
              "        }    #T_dfdb9cda_d430_11e9_aa94_0242ac1c0002row0_col1 {\n",
              "            background:  white;\n",
              "        }    #T_dfdb9cda_d430_11e9_aa94_0242ac1c0002row0_col2 {\n",
              "            background:  #5fba7d;\n",
              "        }    #T_dfdb9cda_d430_11e9_aa94_0242ac1c0002row1_col0 {\n",
              "            background:  white;\n",
              "        }    #T_dfdb9cda_d430_11e9_aa94_0242ac1c0002row1_col1 {\n",
              "            background:  #5fba7d;\n",
              "        }    #T_dfdb9cda_d430_11e9_aa94_0242ac1c0002row1_col2 {\n",
              "            background:  white;\n",
              "        }    #T_dfdb9cda_d430_11e9_aa94_0242ac1c0002row2_col0 {\n",
              "            background:  #5fba7d;\n",
              "        }    #T_dfdb9cda_d430_11e9_aa94_0242ac1c0002row2_col1 {\n",
              "            background:  #d65f5f;\n",
              "        }    #T_dfdb9cda_d430_11e9_aa94_0242ac1c0002row2_col2 {\n",
              "            background:  #d65f5f;\n",
              "        }    #T_dfdb9cda_d430_11e9_aa94_0242ac1c0002row3_col0 {\n",
              "            background:  #d65f5f;\n",
              "        }    #T_dfdb9cda_d430_11e9_aa94_0242ac1c0002row3_col1 {\n",
              "            background:  white;\n",
              "        }    #T_dfdb9cda_d430_11e9_aa94_0242ac1c0002row3_col2 {\n",
              "            background:  #5fba7d;\n",
              "        }    #T_dfdb9cda_d430_11e9_aa94_0242ac1c0002row4_col0 {\n",
              "            background:  #5fba7d;\n",
              "        }    #T_dfdb9cda_d430_11e9_aa94_0242ac1c0002row4_col1 {\n",
              "            background:  white;\n",
              "        }    #T_dfdb9cda_d430_11e9_aa94_0242ac1c0002row4_col2 {\n",
              "            background:  #d65f5f;\n",
              "        }    #T_dfdb9cda_d430_11e9_aa94_0242ac1c0002row5_col0 {\n",
              "            background:  white;\n",
              "        }    #T_dfdb9cda_d430_11e9_aa94_0242ac1c0002row5_col1 {\n",
              "            background:  #d65f5f;\n",
              "        }    #T_dfdb9cda_d430_11e9_aa94_0242ac1c0002row5_col2 {\n",
              "            background:  white;\n",
              "        }    #T_dfdb9cda_d430_11e9_aa94_0242ac1c0002row6_col0 {\n",
              "            background:  white;\n",
              "        }    #T_dfdb9cda_d430_11e9_aa94_0242ac1c0002row6_col1 {\n",
              "            background:  #d65f5f;\n",
              "        }    #T_dfdb9cda_d430_11e9_aa94_0242ac1c0002row6_col2 {\n",
              "            background:  white;\n",
              "        }    #T_dfdb9cda_d430_11e9_aa94_0242ac1c0002row7_col0 {\n",
              "            background:  #d65f5f;\n",
              "        }    #T_dfdb9cda_d430_11e9_aa94_0242ac1c0002row7_col1 {\n",
              "            background:  white;\n",
              "        }    #T_dfdb9cda_d430_11e9_aa94_0242ac1c0002row7_col2 {\n",
              "            background:  #5fba7d;\n",
              "        }    #T_dfdb9cda_d430_11e9_aa94_0242ac1c0002row8_col0 {\n",
              "            background:  #5fba7d;\n",
              "        }    #T_dfdb9cda_d430_11e9_aa94_0242ac1c0002row8_col1 {\n",
              "            background:  #d65f5f;\n",
              "        }    #T_dfdb9cda_d430_11e9_aa94_0242ac1c0002row8_col2 {\n",
              "            background:  #d65f5f;\n",
              "        }    #T_dfdb9cda_d430_11e9_aa94_0242ac1c0002row9_col0 {\n",
              "            background:  #5fba7d;\n",
              "        }    #T_dfdb9cda_d430_11e9_aa94_0242ac1c0002row9_col1 {\n",
              "            background:  #d65f5f;\n",
              "        }    #T_dfdb9cda_d430_11e9_aa94_0242ac1c0002row9_col2 {\n",
              "            background:  #d65f5f;\n",
              "        }</style><table id=\"T_dfdb9cda_d430_11e9_aa94_0242ac1c0002\" ><thead>    <tr>        <th class=\"index_name level0\" >all_feats_clusters</th>        <th class=\"col_heading level0 col0\" >0</th>        <th class=\"col_heading level0 col1\" >1</th>        <th class=\"col_heading level0 col2\" >2</th>    </tr></thead><tbody>\n",
              "                <tr>\n",
              "                        <th id=\"T_dfdb9cda_d430_11e9_aa94_0242ac1c0002level0_row0\" class=\"row_heading level0 row0\" >drop_requested_lag</th>\n",
              "                        <td id=\"T_dfdb9cda_d430_11e9_aa94_0242ac1c0002row0_col0\" class=\"data row0 col0\" >-0.562289</td>\n",
              "                        <td id=\"T_dfdb9cda_d430_11e9_aa94_0242ac1c0002row0_col1\" class=\"data row0 col1\" >-0.39549</td>\n",
              "                        <td id=\"T_dfdb9cda_d430_11e9_aa94_0242ac1c0002row0_col2\" class=\"data row0 col2\" >1</td>\n",
              "            </tr>\n",
              "            <tr>\n",
              "                        <th id=\"T_dfdb9cda_d430_11e9_aa94_0242ac1c0002level0_row1\" class=\"row_heading level0 row1\" >ride_prime_time</th>\n",
              "                        <td id=\"T_dfdb9cda_d430_11e9_aa94_0242ac1c0002row1_col0\" class=\"data row1 col0\" >-0.246306</td>\n",
              "                        <td id=\"T_dfdb9cda_d430_11e9_aa94_0242ac1c0002row1_col1\" class=\"data row1 col1\" >1</td>\n",
              "                        <td id=\"T_dfdb9cda_d430_11e9_aa94_0242ac1c0002row1_col2\" class=\"data row1 col2\" >-0.0109757</td>\n",
              "            </tr>\n",
              "            <tr>\n",
              "                        <th id=\"T_dfdb9cda_d430_11e9_aa94_0242ac1c0002level0_row2\" class=\"row_heading level0 row2\" >fare</th>\n",
              "                        <td id=\"T_dfdb9cda_d430_11e9_aa94_0242ac1c0002row2_col0\" class=\"data row2 col0\" >0.862204</td>\n",
              "                        <td id=\"T_dfdb9cda_d430_11e9_aa94_0242ac1c0002row2_col1\" class=\"data row2 col1\" >-0.787238</td>\n",
              "                        <td id=\"T_dfdb9cda_d430_11e9_aa94_0242ac1c0002row2_col2\" class=\"data row2 col2\" >-1</td>\n",
              "            </tr>\n",
              "            <tr>\n",
              "                        <th id=\"T_dfdb9cda_d430_11e9_aa94_0242ac1c0002level0_row3\" class=\"row_heading level0 row3\" >pickup_window</th>\n",
              "                        <td id=\"T_dfdb9cda_d430_11e9_aa94_0242ac1c0002row3_col0\" class=\"data row3 col0\" >-0.702237</td>\n",
              "                        <td id=\"T_dfdb9cda_d430_11e9_aa94_0242ac1c0002row3_col1\" class=\"data row3 col1\" >0.156404</td>\n",
              "                        <td id=\"T_dfdb9cda_d430_11e9_aa94_0242ac1c0002row3_col2\" class=\"data row3 col2\" >1</td>\n",
              "            </tr>\n",
              "            <tr>\n",
              "                        <th id=\"T_dfdb9cda_d430_11e9_aa94_0242ac1c0002level0_row4\" class=\"row_heading level0 row4\" >unique_days</th>\n",
              "                        <td id=\"T_dfdb9cda_d430_11e9_aa94_0242ac1c0002row4_col0\" class=\"data row4 col0\" >0.739236</td>\n",
              "                        <td id=\"T_dfdb9cda_d430_11e9_aa94_0242ac1c0002row4_col1\" class=\"data row4 col1\" >-0.302311</td>\n",
              "                        <td id=\"T_dfdb9cda_d430_11e9_aa94_0242ac1c0002row4_col2\" class=\"data row4 col2\" >-1</td>\n",
              "            </tr>\n",
              "            <tr>\n",
              "                        <th id=\"T_dfdb9cda_d430_11e9_aa94_0242ac1c0002level0_row5\" class=\"row_heading level0 row5\" >is_weekday</th>\n",
              "                        <td id=\"T_dfdb9cda_d430_11e9_aa94_0242ac1c0002row5_col0\" class=\"data row5 col0\" >0.123698</td>\n",
              "                        <td id=\"T_dfdb9cda_d430_11e9_aa94_0242ac1c0002row5_col1\" class=\"data row5 col1\" >-1</td>\n",
              "                        <td id=\"T_dfdb9cda_d430_11e9_aa94_0242ac1c0002row5_col2\" class=\"data row5 col2\" >0.196024</td>\n",
              "            </tr>\n",
              "            <tr>\n",
              "                        <th id=\"T_dfdb9cda_d430_11e9_aa94_0242ac1c0002level0_row6\" class=\"row_heading level0 row6\" >is_late_ride</th>\n",
              "                        <td id=\"T_dfdb9cda_d430_11e9_aa94_0242ac1c0002row6_col0\" class=\"data row6 col0\" >0.32024</td>\n",
              "                        <td id=\"T_dfdb9cda_d430_11e9_aa94_0242ac1c0002row6_col1\" class=\"data row6 col1\" >-1</td>\n",
              "                        <td id=\"T_dfdb9cda_d430_11e9_aa94_0242ac1c0002row6_col2\" class=\"data row6 col2\" >-0.100609</td>\n",
              "            </tr>\n",
              "            <tr>\n",
              "                        <th id=\"T_dfdb9cda_d430_11e9_aa94_0242ac1c0002level0_row7\" class=\"row_heading level0 row7\" >average_ride_val</th>\n",
              "                        <td id=\"T_dfdb9cda_d430_11e9_aa94_0242ac1c0002row7_col0\" class=\"data row7 col0\" >-0.716548</td>\n",
              "                        <td id=\"T_dfdb9cda_d430_11e9_aa94_0242ac1c0002row7_col1\" class=\"data row7 col1\" >0.212839</td>\n",
              "                        <td id=\"T_dfdb9cda_d430_11e9_aa94_0242ac1c0002row7_col2\" class=\"data row7 col2\" >1</td>\n",
              "            </tr>\n",
              "            <tr>\n",
              "                        <th id=\"T_dfdb9cda_d430_11e9_aa94_0242ac1c0002level0_row8\" class=\"row_heading level0 row8\" >average_ride_freq</th>\n",
              "                        <td id=\"T_dfdb9cda_d430_11e9_aa94_0242ac1c0002row8_col0\" class=\"data row8 col0\" >0.701498</td>\n",
              "                        <td id=\"T_dfdb9cda_d430_11e9_aa94_0242ac1c0002row8_col1\" class=\"data row8 col1\" >-1</td>\n",
              "                        <td id=\"T_dfdb9cda_d430_11e9_aa94_0242ac1c0002row8_col2\" class=\"data row8 col2\" >-0.676026</td>\n",
              "            </tr>\n",
              "            <tr>\n",
              "                        <th id=\"T_dfdb9cda_d430_11e9_aa94_0242ac1c0002level0_row9\" class=\"row_heading level0 row9\" >ltv</th>\n",
              "                        <td id=\"T_dfdb9cda_d430_11e9_aa94_0242ac1c0002row9_col0\" class=\"data row9 col0\" >0.713795</td>\n",
              "                        <td id=\"T_dfdb9cda_d430_11e9_aa94_0242ac1c0002row9_col1\" class=\"data row9 col1\" >-1</td>\n",
              "                        <td id=\"T_dfdb9cda_d430_11e9_aa94_0242ac1c0002row9_col2\" class=\"data row9 col2\" >-0.694586</td>\n",
              "            </tr>\n",
              "    </tbody></table>"
            ],
            "text/plain": [
              "<pandas.io.formats.style.Styler at 0x7f08cc482b00>"
            ]
          },
          "metadata": {
            "tags": []
          },
          "execution_count": 77
        }
      ]
    },
    {
      "cell_type": "markdown",
      "metadata": {
        "id": "dXE3boMZNLag",
        "colab_type": "text"
      },
      "source": [
        "## Other visualizations"
      ]
    },
    {
      "cell_type": "code",
      "metadata": {
        "id": "dbSxiE_FRpPv",
        "colab_type": "code",
        "outputId": "b0f00d4f-62ff-4067-f115-2107c8088a7b",
        "colab": {
          "base_uri": "https://localhost:8080/",
          "height": 536
        }
      },
      "source": [
        "corr_mat = ltv[metrics].corr()\n",
        "\n",
        "plt.figure(figsize=(8,8))\n",
        "plt.title('Correlation Heatmap between Features')\n",
        "sns.heatmap(corr_mat, vmax=.8, square=True);"
      ],
      "execution_count": 78,
      "outputs": [
        {
          "output_type": "display_data",
          "data": {
            "image/png": "[encoded data removed]",
            "text/plain": [
              "<Figure size 576x576 with 2 Axes>"
            ]
          },
          "metadata": {
            "tags": []
          }
        }
      ]
    },
    {
      "cell_type": "code",
      "metadata": {
        "id": "RnT8xaRbPHL1",
        "colab_type": "code",
        "outputId": "b26c3cac-1110-4284-88a0-ee860fdd5835",
        "colab": {
          "base_uri": "https://localhost:8080/",
          "height": 564
        }
      },
      "source": [
        "plt.figure(figsize=(16,40))\n",
        "for i, m in enumerate(metrics[:-1]):\n",
        "    fig = plt.subplot(12, 3, i+1)\n",
        "    sns.distplot(ltv[ltv['clusters']==0][m],color ='purple')\n",
        "    sns.distplot(ltv[ltv['clusters']==1][m],color ='red')\n",
        "    sns.distplot(ltv[ltv['clusters']==2][m],color ='green')    \n",
        "    plt.subplots_adjust(hspace=0.5)\n",
        "    fig.legend(labels=[0,1,2])\n",
        "plt.show()"
      ],
      "execution_count": 82,
      "outputs": [
        {
          "output_type": "display_data",
          "data": {
            "image/png": "[encoded data removed]",
            "text/plain": [
              "<Figure size 1152x2880 with 9 Axes>"
            ]
          },
          "metadata": {
            "tags": []
          }
        }
      ]
    },
    {
      "cell_type": "code",
      "metadata": {
        "id": "BqLVoKVnOH_a",
        "colab_type": "code",
        "outputId": "c62d6128-3192-4cbf-e00b-d1806b406610",
        "colab": {
          "base_uri": "https://localhost:8080/",
          "height": 755
        }
      },
      "source": [
        "plt.figure(figsize=(20,40))\n",
        "for i, m in enumerate(metrics[:-1]):\n",
        "    plt.subplot(9, 3, i+1)\n",
        "    sns.scatterplot(x=ltv[m], y=ltv[metrics[-1]],\n",
        "                    hue=ltv['clusters'])\n",
        "    plt.subplots_adjust(hspace=0.5)\n",
        "    \n",
        "plt.show()"
      ],
      "execution_count": 80,
      "outputs": [
        {
          "output_type": "display_data",
          "data": {
            "image/png": "[encoded data removed]",
            "text/plain": [
              "<Figure size 1440x2880 with 9 Axes>"
            ]
          },
          "metadata": {
            "tags": []
          }
        }
      ]
    },
    {
      "cell_type": "markdown",
      "metadata": {
        "id": "A7sFLNvRW722",
        "colab_type": "text"
      },
      "source": [
        "## UMAP\n",
        "We also attempted to perform UMAP on the metrices. It seems like we are able to separate each cluster out distinctly based in 2D projections."
      ]
    },
    {
      "cell_type": "code",
      "metadata": {
        "id": "i8zX-SaSRqIi",
        "colab_type": "code",
        "outputId": "452585c3-221e-4d4f-8443-4eb04b5e1c79",
        "colab": {
          "base_uri": "https://localhost:8080/",
          "height": 283
        }
      },
      "source": [
        "reducer = umap.UMAP()\n",
        "\n",
        "embedding = reducer.fit_transform(ltv[metrics])\n",
        "\n",
        "plt.title('UMAP on Metrics', fontsize=14)\n",
        "sns.scatterplot(x=embedding[:, 0], y=embedding[:, 1],\n",
        "                hue=ltv['clusters'])\n",
        "plt.show()"
      ],
      "execution_count": 81,
      "outputs": [
        {
          "output_type": "display_data",
          "data": {
            "image/png": "[encoded data removed]",
            "text/plain": [
              "<Figure size 432x288 with 1 Axes>"
            ]
          },
          "metadata": {
            "tags": []
          }
        }
      ]
    },
    {
      "cell_type": "code",
      "metadata": {
        "id": "LvznTy_uNdcd",
        "colab_type": "code",
        "colab": {}
      },
      "source": [
        ""
      ],
      "execution_count": 0,
      "outputs": []
    }
  ]
}